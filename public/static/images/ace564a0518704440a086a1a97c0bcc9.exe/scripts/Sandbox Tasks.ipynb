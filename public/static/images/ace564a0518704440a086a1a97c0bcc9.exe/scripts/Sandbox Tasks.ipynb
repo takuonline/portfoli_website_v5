{
 "cells": [
  {
   "cell_type": "code",
   "execution_count": 37,
   "metadata": {
    "ExecuteTime": {
     "end_time": "2019-05-30T07:30:17.994829Z",
     "start_time": "2019-05-30T07:30:17.991419Z"
    }
   },
   "outputs": [],
   "source": [
    "import requests\n",
    "import collections"
   ]
  },
  {
   "cell_type": "code",
   "execution_count": 65,
   "metadata": {
    "ExecuteTime": {
     "end_time": "2019-05-30T07:58:21.522837Z",
     "start_time": "2019-05-30T07:58:13.533134Z"
    }
   },
   "outputs": [],
   "source": [
    "tasks = requests.get('https://sandbox.yandex-team.ru/api/v1.0/task', params={'limit': 500, \"created\": \"2019-05-29T00:00:00..2019-05-30T00:00:00\", \"tags\": \"CLOUD_ANALYTICS,PRODUCTION\", \"all_tags\": \"true\"})"
   ]
  },
  {
   "cell_type": "code",
   "execution_count": 66,
   "metadata": {
    "ExecuteTime": {
     "end_time": "2019-05-30T07:58:22.832662Z",
     "start_time": "2019-05-30T07:58:22.811468Z"
    }
   },
   "outputs": [],
   "source": [
    "df = [dict(Task=t['input_parameters']['juggler_service_name'], Start=t['time']['created'], Finish=t['time']['updated']) for t in tasks.json()['items']]"
   ]
  },
  {
   "cell_type": "code",
   "execution_count": 67,
   "metadata": {
    "ExecuteTime": {
     "end_time": "2019-05-30T07:58:24.522056Z",
     "start_time": "2019-05-30T07:58:23.878882Z"
    }
   },
   "outputs": [
    {
     "data": {
      "text/html": [
       "<script>requirejs.config({paths: { 'plotly': ['https://cdn.plot.ly/plotly-latest.min']},});if(!window.Plotly) {{require(['plotly'],function(plotly) {window.Plotly=plotly;});}}</script>"
      ],
      "text/vnd.plotly.v1+html": [
       "<script>requirejs.config({paths: { 'plotly': ['https://cdn.plot.ly/plotly-latest.min']},});if(!window.Plotly) {{require(['plotly'],function(plotly) {window.Plotly=plotly;});}}</script>"
      ]
     },
     "metadata": {},
     "output_type": "display_data"
    },
    {
     "data": {
      "application/vnd.plotly.v1+json": {
       "data": [
        {
         "marker": {
          "color": "white"
         },
         "name": "",
         "type": "scatter",
         "x": [
          "2019-05-29T23:55:38.106000Z",
          "2019-05-30T00:03:22.140000Z"
         ],
         "y": [
          21,
          21
         ]
        },
        {
         "marker": {
          "color": "white"
         },
         "name": "",
         "type": "scatter",
         "x": [
          "2019-05-29T23:49:07.513000Z",
          "2019-05-29T23:56:08.024000Z"
         ],
         "y": [
          20,
          20
         ]
        },
        {
         "marker": {
          "color": "white"
         },
         "name": "",
         "type": "scatter",
         "x": [
          "2019-05-29T23:44:38.121000Z",
          "2019-05-29T23:51:58.914000Z"
         ],
         "y": [
          19,
          19
         ]
        },
        {
         "marker": {
          "color": "white"
         },
         "name": "",
         "type": "scatter",
         "x": [
          "2019-05-29T23:40:07.889000Z",
          "2019-05-29T23:47:18.188000Z"
         ],
         "y": [
          21,
          21
         ]
        },
        {
         "marker": {
          "color": "white"
         },
         "name": "",
         "type": "scatter",
         "x": [
          "2019-05-29T23:40:07.382000Z",
          "2019-05-29T23:48:02.724000Z"
         ],
         "y": [
          18,
          18
         ]
        },
        {
         "marker": {
          "color": "white"
         },
         "name": "",
         "type": "scatter",
         "x": [
          "2019-05-29T23:25:37.502000Z",
          "2019-05-29T23:41:31.206000Z"
         ],
         "y": [
          17,
          17
         ]
        },
        {
         "marker": {
          "color": "white"
         },
         "name": "",
         "type": "scatter",
         "x": [
          "2019-05-29T23:24:37.490000Z",
          "2019-05-29T23:31:30.095000Z"
         ],
         "y": [
          21,
          21
         ]
        },
        {
         "marker": {
          "color": "white"
         },
         "name": "",
         "type": "scatter",
         "x": [
          "2019-05-29T23:18:37.667000Z",
          "2019-05-29T23:25:47.528000Z"
         ],
         "y": [
          20,
          20
         ]
        },
        {
         "marker": {
          "color": "white"
         },
         "name": "",
         "type": "scatter",
         "x": [
          "2019-05-29T23:10:26.735000Z",
          "2019-05-29T23:18:08.058000Z"
         ],
         "y": [
          18,
          18
         ]
        },
        {
         "marker": {
          "color": "white"
         },
         "name": "",
         "type": "scatter",
         "x": [
          "2019-05-29T23:09:27.799000Z",
          "2019-05-29T23:16:43.766000Z"
         ],
         "y": [
          21,
          21
         ]
        },
        {
         "marker": {
          "color": "white"
         },
         "name": "",
         "type": "scatter",
         "x": [
          "2019-05-29T23:01:11.969000Z",
          "2019-05-29T23:14:08.110000Z"
         ],
         "y": [
          16,
          16
         ]
        },
        {
         "marker": {
          "color": "white"
         },
         "name": "",
         "type": "scatter",
         "x": [
          "2019-05-29T23:01:11.690000Z",
          "2019-05-29T23:08:26.085000Z"
         ],
         "y": [
          15,
          15
         ]
        },
        {
         "marker": {
          "color": "white"
         },
         "name": "",
         "type": "scatter",
         "x": [
          "2019-05-29T23:01:11.647000Z",
          "2019-05-29T23:19:33.341000Z"
         ],
         "y": [
          14,
          14
         ]
        },
        {
         "marker": {
          "color": "white"
         },
         "name": "",
         "type": "scatter",
         "x": [
          "2019-05-29T23:00:42.793000Z",
          "2019-05-29T23:02:44.818000Z"
         ],
         "y": [
          13,
          13
         ]
        },
        {
         "marker": {
          "color": "white"
         },
         "name": "",
         "type": "scatter",
         "x": [
          "2019-05-29T23:00:42.153000Z",
          "2019-05-29T23:08:05.251000Z"
         ],
         "y": [
          12,
          12
         ]
        },
        {
         "marker": {
          "color": "white"
         },
         "name": "",
         "type": "scatter",
         "x": [
          "2019-05-29T23:00:41.999000Z",
          "2019-05-29T23:08:07.735000Z"
         ],
         "y": [
          11,
          11
         ]
        },
        {
         "marker": {
          "color": "white"
         },
         "name": "",
         "type": "scatter",
         "x": [
          "2019-05-29T22:58:25.658000Z",
          "2019-05-29T23:45:00.138000Z"
         ],
         "y": [
          17,
          17
         ]
        },
        {
         "marker": {
          "color": "white"
         },
         "name": "",
         "type": "scatter",
         "x": [
          "2019-05-29T22:53:55.955000Z",
          "2019-05-29T23:01:05.235000Z"
         ],
         "y": [
          21,
          21
         ]
        },
        {
         "marker": {
          "color": "white"
         },
         "name": "",
         "type": "scatter",
         "x": [
          "2019-05-29T22:48:25.346000Z",
          "2019-05-29T22:55:36.297000Z"
         ],
         "y": [
          20,
          20
         ]
        },
        {
         "marker": {
          "color": "white"
         },
         "name": "",
         "type": "scatter",
         "x": [
          "2019-05-29T22:44:26.416000Z",
          "2019-05-29T22:51:42.391000Z"
         ],
         "y": [
          19,
          19
         ]
        },
        {
         "marker": {
          "color": "white"
         },
         "name": "",
         "type": "scatter",
         "x": [
          "2019-05-29T22:40:20.361000Z",
          "2019-05-29T22:48:08.365000Z"
         ],
         "y": [
          18,
          18
         ]
        },
        {
         "marker": {
          "color": "white"
         },
         "name": "",
         "type": "scatter",
         "x": [
          "2019-05-29T22:38:49.877000Z",
          "2019-05-29T22:46:07.279000Z"
         ],
         "y": [
          21,
          21
         ]
        },
        {
         "marker": {
          "color": "white"
         },
         "name": "",
         "type": "scatter",
         "x": [
          "2019-05-29T22:23:28.856000Z",
          "2019-05-29T22:31:21.307000Z"
         ],
         "y": [
          21,
          21
         ]
        },
        {
         "marker": {
          "color": "white"
         },
         "name": "",
         "type": "scatter",
         "x": [
          "2019-05-29T22:18:20.571000Z",
          "2019-05-29T22:26:10.778000Z"
         ],
         "y": [
          20,
          20
         ]
        },
        {
         "marker": {
          "color": "white"
         },
         "name": "",
         "type": "scatter",
         "x": [
          "2019-05-29T22:10:03.810000Z",
          "2019-05-29T22:18:13.468000Z"
         ],
         "y": [
          18,
          18
         ]
        },
        {
         "marker": {
          "color": "white"
         },
         "name": "",
         "type": "scatter",
         "x": [
          "2019-05-29T22:08:11.456000Z",
          "2019-05-29T22:16:22.500000Z"
         ],
         "y": [
          21,
          21
         ]
        },
        {
         "marker": {
          "color": "white"
         },
         "name": "",
         "type": "scatter",
         "x": [
          "2019-05-29T22:00:43.346000Z",
          "2019-05-29T22:38:17.510000Z"
         ],
         "y": [
          10,
          10
         ]
        },
        {
         "marker": {
          "color": "white"
         },
         "name": "",
         "type": "scatter",
         "x": [
          "2019-05-29T22:00:43.295000Z",
          "2019-05-29T22:20:21.966000Z"
         ],
         "y": [
          9,
          9
         ]
        },
        {
         "marker": {
          "color": "white"
         },
         "name": "",
         "type": "scatter",
         "x": [
          "2019-05-29T21:54:43.055000Z",
          "2019-05-29T22:19:59.233000Z"
         ],
         "y": [
          8,
          8
         ]
        },
        {
         "marker": {
          "color": "white"
         },
         "name": "",
         "type": "scatter",
         "x": [
          "2019-05-29T21:52:43.244000Z",
          "2019-05-29T21:59:51.592000Z"
         ],
         "y": [
          21,
          21
         ]
        },
        {
         "marker": {
          "color": "white"
         },
         "name": "",
         "type": "scatter",
         "x": [
          "2019-05-29T21:48:13.326000Z",
          "2019-05-29T22:05:56.389000Z"
         ],
         "y": [
          7,
          7
         ]
        },
        {
         "marker": {
          "color": "white"
         },
         "name": "",
         "type": "scatter",
         "x": [
          "2019-05-29T21:47:42.992000Z",
          "2019-05-29T21:54:56.759000Z"
         ],
         "y": [
          20,
          20
         ]
        },
        {
         "marker": {
          "color": "white"
         },
         "name": "",
         "type": "scatter",
         "x": [
          "2019-05-29T21:44:42.752000Z",
          "2019-05-29T21:57:10.373000Z"
         ],
         "y": [
          6,
          6
         ]
        },
        {
         "marker": {
          "color": "white"
         },
         "name": "",
         "type": "scatter",
         "x": [
          "2019-05-29T21:44:13.163000Z",
          "2019-05-29T21:51:31.945000Z"
         ],
         "y": [
          19,
          19
         ]
        },
        {
         "marker": {
          "color": "white"
         },
         "name": "",
         "type": "scatter",
         "x": [
          "2019-05-29T21:40:13.364000Z",
          "2019-05-29T21:48:00.662000Z"
         ],
         "y": [
          18,
          18
         ]
        },
        {
         "marker": {
          "color": "white"
         },
         "name": "",
         "type": "scatter",
         "x": [
          "2019-05-29T21:37:15.802000Z",
          "2019-05-29T21:44:26.092000Z"
         ],
         "y": [
          21,
          21
         ]
        },
        {
         "marker": {
          "color": "white"
         },
         "name": "",
         "type": "scatter",
         "x": [
          "2019-05-29T21:22:10.452000Z",
          "2019-05-29T21:29:34.106000Z"
         ],
         "y": [
          21,
          21
         ]
        },
        {
         "marker": {
          "color": "white"
         },
         "name": "",
         "type": "scatter",
         "x": [
          "2019-05-29T21:17:37.891000Z",
          "2019-05-29T21:25:09.409000Z"
         ],
         "y": [
          20,
          20
         ]
        },
        {
         "marker": {
          "color": "white"
         },
         "name": "",
         "type": "scatter",
         "x": [
          "2019-05-29T21:15:08.295000Z",
          "2019-05-29T21:16:10.341000Z"
         ],
         "y": [
          5,
          5
         ]
        },
        {
         "marker": {
          "color": "white"
         },
         "name": "",
         "type": "scatter",
         "x": [
          "2019-05-29T21:10:09.191000Z",
          "2019-05-29T21:18:11.425000Z"
         ],
         "y": [
          18,
          18
         ]
        },
        {
         "marker": {
          "color": "white"
         },
         "name": "",
         "type": "scatter",
         "x": [
          "2019-05-29T21:07:08.492000Z",
          "2019-05-29T21:14:23.257000Z"
         ],
         "y": [
          21,
          21
         ]
        },
        {
         "marker": {
          "color": "white"
         },
         "name": "",
         "type": "scatter",
         "x": [
          "2019-05-29T20:52:05.038000Z",
          "2019-05-29T20:59:31.612000Z"
         ],
         "y": [
          21,
          21
         ]
        },
        {
         "marker": {
          "color": "white"
         },
         "name": "",
         "type": "scatter",
         "x": [
          "2019-05-29T20:47:32.882000Z",
          "2019-05-29T20:54:58.644000Z"
         ],
         "y": [
          20,
          20
         ]
        },
        {
         "marker": {
          "color": "white"
         },
         "name": "",
         "type": "scatter",
         "x": [
          "2019-05-29T20:44:02.020000Z",
          "2019-05-29T20:51:21.153000Z"
         ],
         "y": [
          19,
          19
         ]
        },
        {
         "marker": {
          "color": "white"
         },
         "name": "",
         "type": "scatter",
         "x": [
          "2019-05-29T20:40:01.256000Z",
          "2019-05-29T20:47:36.394000Z"
         ],
         "y": [
          18,
          18
         ]
        },
        {
         "marker": {
          "color": "white"
         },
         "name": "",
         "type": "scatter",
         "x": [
          "2019-05-29T20:37:01.198000Z",
          "2019-05-29T20:44:29.318000Z"
         ],
         "y": [
          21,
          21
         ]
        },
        {
         "marker": {
          "color": "white"
         },
         "name": "",
         "type": "scatter",
         "x": [
          "2019-05-29T20:25:34.387000Z",
          "2019-05-29T20:42:28.218000Z"
         ],
         "y": [
          17,
          17
         ]
        },
        {
         "marker": {
          "color": "white"
         },
         "name": "",
         "type": "scatter",
         "x": [
          "2019-05-29T20:21:34.587000Z",
          "2019-05-29T20:28:40.538000Z"
         ],
         "y": [
          21,
          21
         ]
        },
        {
         "marker": {
          "color": "white"
         },
         "name": "",
         "type": "scatter",
         "x": [
          "2019-05-29T20:17:04.587000Z",
          "2019-05-29T20:24:18.492000Z"
         ],
         "y": [
          20,
          20
         ]
        },
        {
         "marker": {
          "color": "white"
         },
         "name": "",
         "type": "scatter",
         "x": [
          "2019-05-29T20:10:02.488000Z",
          "2019-05-29T20:17:29.640000Z"
         ],
         "y": [
          18,
          18
         ]
        },
        {
         "marker": {
          "color": "white"
         },
         "name": "",
         "type": "scatter",
         "x": [
          "2019-05-29T20:06:32.745000Z",
          "2019-05-29T20:13:44.445000Z"
         ],
         "y": [
          21,
          21
         ]
        },
        {
         "marker": {
          "color": "white"
         },
         "name": "",
         "type": "scatter",
         "x": [
          "2019-05-29T20:00:32.450000Z",
          "2019-05-29T20:49:33.081000Z"
         ],
         "y": [
          4,
          4
         ]
        },
        {
         "marker": {
          "color": "white"
         },
         "name": "",
         "type": "scatter",
         "x": [
          "2019-05-29T19:51:02.287000Z",
          "2019-05-29T19:58:21.778000Z"
         ],
         "y": [
          21,
          21
         ]
        },
        {
         "marker": {
          "color": "white"
         },
         "name": "",
         "type": "scatter",
         "x": [
          "2019-05-29T19:47:01.757000Z",
          "2019-05-29T19:54:12.469000Z"
         ],
         "y": [
          20,
          20
         ]
        },
        {
         "marker": {
          "color": "white"
         },
         "name": "",
         "type": "scatter",
         "x": [
          "2019-05-29T19:43:32.295000Z",
          "2019-05-29T19:50:50.011000Z"
         ],
         "y": [
          19,
          19
         ]
        },
        {
         "marker": {
          "color": "white"
         },
         "name": "",
         "type": "scatter",
         "x": [
          "2019-05-29T19:40:02.430000Z",
          "2019-05-29T19:48:09.056000Z"
         ],
         "y": [
          18,
          18
         ]
        },
        {
         "marker": {
          "color": "white"
         },
         "name": "",
         "type": "scatter",
         "x": [
          "2019-05-29T19:35:32.247000Z",
          "2019-05-29T19:43:28.606000Z"
         ],
         "y": [
          21,
          21
         ]
        },
        {
         "marker": {
          "color": "white"
         },
         "name": "",
         "type": "scatter",
         "x": [
          "2019-05-29T19:20:01.800000Z",
          "2019-05-29T19:26:58.143000Z"
         ],
         "y": [
          21,
          21
         ]
        },
        {
         "marker": {
          "color": "white"
         },
         "name": "",
         "type": "scatter",
         "x": [
          "2019-05-29T19:16:31.780000Z",
          "2019-05-29T19:24:03.939000Z"
         ],
         "y": [
          20,
          20
         ]
        },
        {
         "marker": {
          "color": "white"
         },
         "name": "",
         "type": "scatter",
         "x": [
          "2019-05-29T19:10:01.669000Z",
          "2019-05-29T19:17:31.178000Z"
         ],
         "y": [
          18,
          18
         ]
        },
        {
         "marker": {
          "color": "white"
         },
         "name": "",
         "type": "scatter",
         "x": [
          "2019-05-29T19:04:31.790000Z",
          "2019-05-29T19:11:36.597000Z"
         ],
         "y": [
          21,
          21
         ]
        },
        {
         "marker": {
          "color": "white"
         },
         "name": "",
         "type": "scatter",
         "x": [
          "2019-05-29T18:49:01.821000Z",
          "2019-05-29T18:56:25.212000Z"
         ],
         "y": [
          21,
          21
         ]
        },
        {
         "marker": {
          "color": "white"
         },
         "name": "",
         "type": "scatter",
         "x": [
          "2019-05-29T18:48:01.505000Z",
          "2019-05-29T19:05:38.671000Z"
         ],
         "y": [
          7,
          7
         ]
        },
        {
         "marker": {
          "color": "white"
         },
         "name": "",
         "type": "scatter",
         "x": [
          "2019-05-29T18:46:01.567000Z",
          "2019-05-29T18:53:20.950000Z"
         ],
         "y": [
          20,
          20
         ]
        },
        {
         "marker": {
          "color": "white"
         },
         "name": "",
         "type": "scatter",
         "x": [
          "2019-05-29T18:44:31.718000Z",
          "2019-05-29T18:51:40.358000Z"
         ],
         "y": [
          6,
          6
         ]
        },
        {
         "marker": {
          "color": "white"
         },
         "name": "",
         "type": "scatter",
         "x": [
          "2019-05-29T18:43:01.736000Z",
          "2019-05-29T18:50:11.681000Z"
         ],
         "y": [
          19,
          19
         ]
        },
        {
         "marker": {
          "color": "white"
         },
         "name": "",
         "type": "scatter",
         "x": [
          "2019-05-29T18:40:01.313000Z",
          "2019-05-29T18:47:39.786000Z"
         ],
         "y": [
          18,
          18
         ]
        },
        {
         "marker": {
          "color": "white"
         },
         "name": "",
         "type": "scatter",
         "x": [
          "2019-05-29T18:33:31.531000Z",
          "2019-05-29T18:40:43.054000Z"
         ],
         "y": [
          21,
          21
         ]
        },
        {
         "marker": {
          "color": "white"
         },
         "name": "",
         "type": "scatter",
         "x": [
          "2019-05-29T18:18:20.805000Z",
          "2019-05-29T18:25:43.344000Z"
         ],
         "y": [
          21,
          21
         ]
        },
        {
         "marker": {
          "color": "white"
         },
         "name": "",
         "type": "scatter",
         "x": [
          "2019-05-29T18:15:50.641000Z",
          "2019-05-29T18:23:08.598000Z"
         ],
         "y": [
          20,
          20
         ]
        },
        {
         "marker": {
          "color": "white"
         },
         "name": "",
         "type": "scatter",
         "x": [
          "2019-05-29T18:10:28.470000Z",
          "2019-05-29T18:18:08.776000Z"
         ],
         "y": [
          18,
          18
         ]
        },
        {
         "marker": {
          "color": "white"
         },
         "name": "",
         "type": "scatter",
         "x": [
          "2019-05-29T18:02:57.790000Z",
          "2019-05-29T18:10:20.431000Z"
         ],
         "y": [
          21,
          21
         ]
        },
        {
         "marker": {
          "color": "white"
         },
         "name": "",
         "type": "scatter",
         "x": [
          "2019-05-29T18:00:57.385000Z",
          "2019-05-29T18:09:34.604000Z"
         ],
         "y": [
          3,
          3
         ]
        },
        {
         "marker": {
          "color": "white"
         },
         "name": "",
         "type": "scatter",
         "x": [
          "2019-05-29T17:57:58.139000Z",
          "2019-05-29T18:47:59.919000Z"
         ],
         "y": [
          17,
          17
         ]
        },
        {
         "marker": {
          "color": "white"
         },
         "name": "",
         "type": "scatter",
         "x": [
          "2019-05-29T17:47:40.238000Z",
          "2019-05-29T17:54:56.144000Z"
         ],
         "y": [
          21,
          21
         ]
        },
        {
         "marker": {
          "color": "white"
         },
         "name": "",
         "type": "scatter",
         "x": [
          "2019-05-29T17:45:33.339000Z",
          "2019-05-29T17:52:56.787000Z"
         ],
         "y": [
          20,
          20
         ]
        },
        {
         "marker": {
          "color": "white"
         },
         "name": "",
         "type": "scatter",
         "x": [
          "2019-05-29T17:42:33.994000Z",
          "2019-05-29T17:50:05.888000Z"
         ],
         "y": [
          19,
          19
         ]
        },
        {
         "marker": {
          "color": "white"
         },
         "name": "",
         "type": "scatter",
         "x": [
          "2019-05-29T17:40:04.662000Z",
          "2019-05-29T17:47:44.378000Z"
         ],
         "y": [
          18,
          18
         ]
        },
        {
         "marker": {
          "color": "white"
         },
         "name": "",
         "type": "scatter",
         "x": [
          "2019-05-29T17:32:33.421000Z",
          "2019-05-29T17:41:18.443000Z"
         ],
         "y": [
          21,
          21
         ]
        },
        {
         "marker": {
          "color": "white"
         },
         "name": "",
         "type": "scatter",
         "x": [
          "2019-05-29T17:25:17.151000Z",
          "2019-05-29T17:43:28.778000Z"
         ],
         "y": [
          17,
          17
         ]
        },
        {
         "marker": {
          "color": "white"
         },
         "name": "",
         "type": "scatter",
         "x": [
          "2019-05-29T17:17:18.507000Z",
          "2019-05-29T17:25:02.324000Z"
         ],
         "y": [
          21,
          21
         ]
        },
        {
         "marker": {
          "color": "white"
         },
         "name": "",
         "type": "scatter",
         "x": [
          "2019-05-29T17:15:17.817000Z",
          "2019-05-29T17:22:52.325000Z"
         ],
         "y": [
          20,
          20
         ]
        },
        {
         "marker": {
          "color": "white"
         },
         "name": "",
         "type": "scatter",
         "x": [
          "2019-05-29T17:10:05.708000Z",
          "2019-05-29T17:18:13.033000Z"
         ],
         "y": [
          18,
          18
         ]
        },
        {
         "marker": {
          "color": "white"
         },
         "name": "",
         "type": "scatter",
         "x": [
          "2019-05-29T17:01:56.513000Z",
          "2019-05-29T17:09:36.700000Z"
         ],
         "y": [
          21,
          21
         ]
        },
        {
         "marker": {
          "color": "white"
         },
         "name": "",
         "type": "scatter",
         "x": [
          "2019-05-29T17:00:53.489000Z",
          "2019-05-29T17:35:34.432000Z"
         ],
         "y": [
          10,
          10
         ]
        },
        {
         "marker": {
          "color": "white"
         },
         "name": "",
         "type": "scatter",
         "x": [
          "2019-05-29T16:46:47.006000Z",
          "2019-05-29T16:54:38.334000Z"
         ],
         "y": [
          21,
          21
         ]
        },
        {
         "marker": {
          "color": "white"
         },
         "name": "",
         "type": "scatter",
         "x": [
          "2019-05-29T16:44:41.770000Z",
          "2019-05-29T16:52:28.580000Z"
         ],
         "y": [
          20,
          20
         ]
        },
        {
         "marker": {
          "color": "white"
         },
         "name": "",
         "type": "scatter",
         "x": [
          "2019-05-29T16:42:30.627000Z",
          "2019-05-29T16:50:20.351000Z"
         ],
         "y": [
          19,
          19
         ]
        },
        {
         "marker": {
          "color": "white"
         },
         "name": "",
         "type": "scatter",
         "x": [
          "2019-05-29T16:40:15.563000Z",
          "2019-05-29T16:48:24.453000Z"
         ],
         "y": [
          18,
          18
         ]
        },
        {
         "marker": {
          "color": "white"
         },
         "name": "",
         "type": "scatter",
         "x": [
          "2019-05-29T16:31:34.117000Z",
          "2019-05-29T16:39:55.747000Z"
         ],
         "y": [
          21,
          21
         ]
        },
        {
         "marker": {
          "color": "white"
         },
         "name": "",
         "type": "scatter",
         "x": [
          "2019-05-29T16:16:14.340000Z",
          "2019-05-29T16:24:29.736000Z"
         ],
         "y": [
          21,
          21
         ]
        },
        {
         "marker": {
          "color": "white"
         },
         "name": "",
         "type": "scatter",
         "x": [
          "2019-05-29T16:14:18.272000Z",
          "2019-05-29T16:21:58.514000Z"
         ],
         "y": [
          20,
          20
         ]
        },
        {
         "marker": {
          "color": "white"
         },
         "name": "",
         "type": "scatter",
         "x": [
          "2019-05-29T16:10:25.422000Z",
          "2019-05-29T16:19:57.543000Z"
         ],
         "y": [
          18,
          18
         ]
        },
        {
         "marker": {
          "color": "white"
         },
         "name": "",
         "type": "scatter",
         "x": [
          "2019-05-29T16:00:17.888000Z",
          "2019-05-29T16:08:00.092000Z"
         ],
         "y": [
          21,
          21
         ]
        },
        {
         "marker": {
          "color": "white"
         },
         "name": "",
         "type": "scatter",
         "x": [
          "2019-05-29T15:54:34.428000Z",
          "2019-05-29T16:15:54.507000Z"
         ],
         "y": [
          8,
          8
         ]
        },
        {
         "marker": {
          "color": "white"
         },
         "name": "",
         "type": "scatter",
         "x": [
          "2019-05-29T15:47:40.920000Z",
          "2019-05-29T16:04:49.654000Z"
         ],
         "y": [
          7,
          7
         ]
        },
        {
         "marker": {
          "color": "white"
         },
         "name": "",
         "type": "scatter",
         "x": [
          "2019-05-29T15:45:11.010000Z",
          "2019-05-29T15:52:52.364000Z"
         ],
         "y": [
          21,
          21
         ]
        },
        {
         "marker": {
          "color": "white"
         },
         "name": "",
         "type": "scatter",
         "x": [
          "2019-05-29T15:44:09.288000Z",
          "2019-05-29T15:51:45.474000Z"
         ],
         "y": [
          20,
          20
         ]
        },
        {
         "marker": {
          "color": "white"
         },
         "name": "",
         "type": "scatter",
         "x": [
          "2019-05-29T15:44:08.809000Z",
          "2019-05-29T15:52:17.860000Z"
         ],
         "y": [
          6,
          6
         ]
        },
        {
         "marker": {
          "color": "white"
         },
         "name": "",
         "type": "scatter",
         "x": [
          "2019-05-29T15:42:07.602000Z",
          "2019-05-29T15:50:16.193000Z"
         ],
         "y": [
          19,
          19
         ]
        },
        {
         "marker": {
          "color": "white"
         },
         "name": "",
         "type": "scatter",
         "x": [
          "2019-05-29T15:40:05.860000Z",
          "2019-05-29T15:48:48.836000Z"
         ],
         "y": [
          18,
          18
         ]
        },
        {
         "marker": {
          "color": "white"
         },
         "name": "",
         "type": "scatter",
         "x": [
          "2019-05-29T15:29:50.808000Z",
          "2019-05-29T15:37:40.665000Z"
         ],
         "y": [
          21,
          21
         ]
        },
        {
         "marker": {
          "color": "white"
         },
         "name": "",
         "type": "scatter",
         "x": [
          "2019-05-29T15:15:05.975000Z",
          "2019-05-29T15:16:35.808000Z"
         ],
         "y": [
          5,
          5
         ]
        },
        {
         "marker": {
          "color": "white"
         },
         "name": "",
         "type": "scatter",
         "x": [
          "2019-05-29T15:14:37.371000Z",
          "2019-05-29T15:22:41.798000Z"
         ],
         "y": [
          21,
          21
         ]
        },
        {
         "marker": {
          "color": "white"
         },
         "name": "",
         "type": "scatter",
         "x": [
          "2019-05-29T15:13:46.017000Z",
          "2019-05-29T15:21:49.446000Z"
         ],
         "y": [
          20,
          20
         ]
        },
        {
         "marker": {
          "color": "white"
         },
         "name": "",
         "type": "scatter",
         "x": [
          "2019-05-29T15:10:05.465000Z",
          "2019-05-29T15:18:40Z"
         ],
         "y": [
          18,
          18
         ]
        },
        {
         "marker": {
          "color": "white"
         },
         "name": "",
         "type": "scatter",
         "x": [
          "2019-05-29T14:58:59.100000Z",
          "2019-05-29T15:08:39.432000Z"
         ],
         "y": [
          21,
          21
         ]
        },
        {
         "marker": {
          "color": "white"
         },
         "name": "",
         "type": "scatter",
         "x": [
          "2019-05-29T14:43:53.147000Z",
          "2019-05-29T14:52:50.658000Z"
         ],
         "y": [
          21,
          21
         ]
        },
        {
         "marker": {
          "color": "white"
         },
         "name": "",
         "type": "scatter",
         "x": [
          "2019-05-29T14:43:21.739000Z",
          "2019-05-29T14:51:58.491000Z"
         ],
         "y": [
          20,
          20
         ]
        },
        {
         "marker": {
          "color": "white"
         },
         "name": "",
         "type": "scatter",
         "x": [
          "2019-05-29T14:41:50.659000Z",
          "2019-05-29T14:51:25.202000Z"
         ],
         "y": [
          19,
          19
         ]
        },
        {
         "marker": {
          "color": "white"
         },
         "name": "",
         "type": "scatter",
         "x": [
          "2019-05-29T14:40:12.625000Z",
          "2019-05-29T14:50:58.218000Z"
         ],
         "y": [
          18,
          18
         ]
        },
        {
         "marker": {
          "color": "white"
         },
         "name": "",
         "type": "scatter",
         "x": [
          "2019-05-29T14:28:40.035000Z",
          "2019-05-29T14:37:46.466000Z"
         ],
         "y": [
          21,
          21
         ]
        },
        {
         "marker": {
          "color": "white"
         },
         "name": "",
         "type": "scatter",
         "x": [
          "2019-05-29T14:24:44.860000Z",
          "2019-05-29T14:41:36.054000Z"
         ],
         "y": [
          17,
          17
         ]
        },
        {
         "marker": {
          "color": "white"
         },
         "name": "",
         "type": "scatter",
         "x": [
          "2019-05-29T14:13:31.758000Z",
          "2019-05-29T14:21:51.170000Z"
         ],
         "y": [
          21,
          21
         ]
        },
        {
         "marker": {
          "color": "white"
         },
         "name": "",
         "type": "scatter",
         "x": [
          "2019-05-29T14:13:16.134000Z",
          "2019-05-29T14:22:05.375000Z"
         ],
         "y": [
          20,
          20
         ]
        },
        {
         "marker": {
          "color": "white"
         },
         "name": "",
         "type": "scatter",
         "x": [
          "2019-05-29T14:10:29.206000Z",
          "2019-05-29T14:19:28.235000Z"
         ],
         "y": [
          18,
          18
         ]
        },
        {
         "marker": {
          "color": "white"
         },
         "name": "",
         "type": "scatter",
         "x": [
          "2019-05-29T13:57:23.191000Z",
          "2019-05-29T14:06:30.778000Z"
         ],
         "y": [
          21,
          21
         ]
        },
        {
         "marker": {
          "color": "white"
         },
         "name": "",
         "type": "scatter",
         "x": [
          "2019-05-29T13:42:51.655000Z",
          "2019-05-29T13:50:51.547000Z"
         ],
         "y": [
          20,
          20
         ]
        },
        {
         "marker": {
          "color": "white"
         },
         "name": "",
         "type": "scatter",
         "x": [
          "2019-05-29T13:42:16.654000Z",
          "2019-05-29T13:50:31.366000Z"
         ],
         "y": [
          21,
          21
         ]
        },
        {
         "marker": {
          "color": "white"
         },
         "name": "",
         "type": "scatter",
         "x": [
          "2019-05-29T13:41:43.955000Z",
          "2019-05-29T13:50:02.334000Z"
         ],
         "y": [
          19,
          19
         ]
        },
        {
         "marker": {
          "color": "white"
         },
         "name": "",
         "type": "scatter",
         "x": [
          "2019-05-29T13:40:31.039000Z",
          "2019-05-29T13:49:08.040000Z"
         ],
         "y": [
          18,
          18
         ]
        },
        {
         "marker": {
          "color": "white"
         },
         "name": "",
         "type": "scatter",
         "x": [
          "2019-05-29T13:27:12.982000Z",
          "2019-05-29T13:35:43.848000Z"
         ],
         "y": [
          21,
          21
         ]
        },
        {
         "marker": {
          "color": "white"
         },
         "name": "",
         "type": "scatter",
         "x": [
          "2019-05-29T13:12:45.143000Z",
          "2019-05-29T13:22:00.923000Z"
         ],
         "y": [
          20,
          20
         ]
        },
        {
         "marker": {
          "color": "white"
         },
         "name": "",
         "type": "scatter",
         "x": [
          "2019-05-29T13:12:09.074000Z",
          "2019-05-29T13:21:58.432000Z"
         ],
         "y": [
          21,
          21
         ]
        },
        {
         "marker": {
          "color": "white"
         },
         "name": "",
         "type": "scatter",
         "x": [
          "2019-05-29T13:10:25.694000Z",
          "2019-05-29T13:19:56.944000Z"
         ],
         "y": [
          18,
          18
         ]
        },
        {
         "marker": {
          "color": "white"
         },
         "name": "",
         "type": "scatter",
         "x": [
          "2019-05-29T13:00:51.706000Z",
          "2019-05-29T13:24:57.478000Z"
         ],
         "y": [
          2,
          2
         ]
        },
        {
         "marker": {
          "color": "white"
         },
         "name": "",
         "type": "scatter",
         "x": [
          "2019-05-29T12:57:21.774000Z",
          "2019-05-29T16:09:47.414000Z"
         ],
         "y": [
          17,
          17
         ]
        },
        {
         "marker": {
          "color": "white"
         },
         "name": "",
         "type": "scatter",
         "x": [
          "2019-05-29T12:56:21.805000Z",
          "2019-05-29T13:01:17.870000Z"
         ],
         "y": [
          21,
          21
         ]
        },
        {
         "marker": {
          "color": "white"
         },
         "name": "",
         "type": "scatter",
         "x": [
          "2019-05-29T12:47:38.269000Z",
          "2019-05-29T13:11:18.748000Z"
         ],
         "y": [
          7,
          7
         ]
        },
        {
         "marker": {
          "color": "white"
         },
         "name": "",
         "type": "scatter",
         "x": [
          "2019-05-29T12:44:05.867000Z",
          "2019-05-29T12:56:19.638000Z"
         ],
         "y": [
          6,
          6
         ]
        },
        {
         "marker": {
          "color": "white"
         },
         "name": "",
         "type": "scatter",
         "x": [
          "2019-05-29T12:42:23.799000Z",
          "2019-05-29T12:56:15.612000Z"
         ],
         "y": [
          20,
          20
         ]
        },
        {
         "marker": {
          "color": "white"
         },
         "name": "",
         "type": "scatter",
         "x": [
          "2019-05-29T12:41:22.476000Z",
          "2019-05-29T12:56:20.962000Z"
         ],
         "y": [
          18,
          18
         ]
        },
        {
         "marker": {
          "color": "white"
         },
         "name": "",
         "type": "scatter",
         "x": [
          "2019-05-29T12:41:17.610000Z",
          "2019-05-29T12:56:04.640000Z"
         ],
         "y": [
          19,
          19
         ]
        },
        {
         "marker": {
          "color": "white"
         },
         "name": "",
         "type": "scatter",
         "x": [
          "2019-05-29T12:40:13.430000Z",
          "2019-05-29T12:55:00.261000Z"
         ],
         "y": [
          21,
          21
         ]
        },
        {
         "marker": {
          "color": "white"
         },
         "name": "",
         "type": "scatter",
         "x": [
          "2019-05-29T12:22:19.154000Z",
          "2019-05-29T12:30:57.690000Z"
         ],
         "y": [
          21,
          21
         ]
        },
        {
         "marker": {
          "color": "white"
         },
         "name": "",
         "type": "scatter",
         "x": [
          "2019-05-29T12:12:13.384000Z",
          "2019-05-29T12:19:48.799000Z"
         ],
         "y": [
          20,
          20
         ]
        },
        {
         "marker": {
          "color": "white"
         },
         "name": "",
         "type": "scatter",
         "x": [
          "2019-05-29T12:10:34.970000Z",
          "2019-05-29T12:18:45.704000Z"
         ],
         "y": [
          18,
          18
         ]
        },
        {
         "marker": {
          "color": "white"
         },
         "name": "",
         "type": "scatter",
         "x": [
          "2019-05-29T12:06:49.419000Z",
          "2019-05-29T12:15:04.619000Z"
         ],
         "y": [
          21,
          21
         ]
        },
        {
         "marker": {
          "color": "white"
         },
         "name": "",
         "type": "scatter",
         "x": [
          "2019-05-29T12:01:18.581000Z",
          "2019-05-29T12:11:31.530000Z"
         ],
         "y": [
          3,
          3
         ]
        },
        {
         "marker": {
          "color": "white"
         },
         "name": "",
         "type": "scatter",
         "x": [
          "2019-05-29T12:00:47.289000Z",
          "2019-05-29T12:32:24.708000Z"
         ],
         "y": [
          10,
          10
         ]
        },
        {
         "marker": {
          "color": "white"
         },
         "name": "",
         "type": "scatter",
         "x": [
          "2019-05-29T11:51:39.601000Z",
          "2019-05-29T11:59:42.673000Z"
         ],
         "y": [
          21,
          21
         ]
        },
        {
         "marker": {
          "color": "white"
         },
         "name": "",
         "type": "scatter",
         "x": [
          "2019-05-29T11:41:59.868000Z",
          "2019-05-29T11:49:33.929000Z"
         ],
         "y": [
          20,
          20
         ]
        },
        {
         "marker": {
          "color": "white"
         },
         "name": "",
         "type": "scatter",
         "x": [
          "2019-05-29T11:40:28.477000Z",
          "2019-05-29T11:48:33.831000Z"
         ],
         "y": [
          18,
          18
         ]
        },
        {
         "marker": {
          "color": "white"
         },
         "name": "",
         "type": "scatter",
         "x": [
          "2019-05-29T11:40:28.443000Z",
          "2019-05-29T11:48:28.968000Z"
         ],
         "y": [
          19,
          19
         ]
        },
        {
         "marker": {
          "color": "white"
         },
         "name": "",
         "type": "scatter",
         "x": [
          "2019-05-29T11:36:27.509000Z",
          "2019-05-29T11:44:06.704000Z"
         ],
         "y": [
          21,
          21
         ]
        },
        {
         "marker": {
          "color": "white"
         },
         "name": "",
         "type": "scatter",
         "x": [
          "2019-05-29T11:24:35.532000Z",
          "2019-05-29T11:41:17.906000Z"
         ],
         "y": [
          17,
          17
         ]
        },
        {
         "marker": {
          "color": "white"
         },
         "name": "",
         "type": "scatter",
         "x": [
          "2019-05-29T11:21:05.381000Z",
          "2019-05-29T11:28:38.100000Z"
         ],
         "y": [
          21,
          21
         ]
        },
        {
         "marker": {
          "color": "white"
         },
         "name": "",
         "type": "scatter",
         "x": [
          "2019-05-29T11:11:43.804000Z",
          "2019-05-29T11:19:51.375000Z"
         ],
         "y": [
          20,
          20
         ]
        },
        {
         "marker": {
          "color": "white"
         },
         "name": "",
         "type": "scatter",
         "x": [
          "2019-05-29T11:10:15.376000Z",
          "2019-05-29T11:18:36.993000Z"
         ],
         "y": [
          18,
          18
         ]
        },
        {
         "marker": {
          "color": "white"
         },
         "name": "",
         "type": "scatter",
         "x": [
          "2019-05-29T11:05:45.311000Z",
          "2019-05-29T11:13:22.170000Z"
         ],
         "y": [
          21,
          21
         ]
        },
        {
         "marker": {
          "color": "white"
         },
         "name": "",
         "type": "scatter",
         "x": [
          "2019-05-29T10:50:14.905000Z",
          "2019-05-29T10:58:10.173000Z"
         ],
         "y": [
          21,
          21
         ]
        },
        {
         "marker": {
          "color": "white"
         },
         "name": "",
         "type": "scatter",
         "x": [
          "2019-05-29T10:41:21.975000Z",
          "2019-05-29T10:49:40.227000Z"
         ],
         "y": [
          20,
          20
         ]
        },
        {
         "marker": {
          "color": "white"
         },
         "name": "",
         "type": "scatter",
         "x": [
          "2019-05-29T10:40:22.811000Z",
          "2019-05-29T10:48:17.624000Z"
         ],
         "y": [
          18,
          18
         ]
        },
        {
         "marker": {
          "color": "white"
         },
         "name": "",
         "type": "scatter",
         "x": [
          "2019-05-29T10:40:21.848000Z",
          "2019-05-29T10:47:52.418000Z"
         ],
         "y": [
          19,
          19
         ]
        },
        {
         "marker": {
          "color": "white"
         },
         "name": "",
         "type": "scatter",
         "x": [
          "2019-05-29T10:34:51.136000Z",
          "2019-05-29T10:43:06.016000Z"
         ],
         "y": [
          21,
          21
         ]
        },
        {
         "marker": {
          "color": "white"
         },
         "name": "",
         "type": "scatter",
         "x": [
          "2019-05-29T10:19:49.128000Z",
          "2019-05-29T10:28:03.159000Z"
         ],
         "y": [
          21,
          21
         ]
        },
        {
         "marker": {
          "color": "white"
         },
         "name": "",
         "type": "scatter",
         "x": [
          "2019-05-29T10:18:37.177000Z",
          "2019-05-29T10:26:21.468000Z"
         ],
         "y": [
          11,
          11
         ]
        },
        {
         "marker": {
          "color": "white"
         },
         "name": "",
         "type": "scatter",
         "x": [
          "2019-05-29T10:11:10.661000Z",
          "2019-05-29T10:18:21.704000Z"
         ],
         "y": [
          20,
          20
         ]
        },
        {
         "marker": {
          "color": "white"
         },
         "name": "",
         "type": "scatter",
         "x": [
          "2019-05-29T10:10:14.345000Z",
          "2019-05-29T10:17:39.029000Z"
         ],
         "y": [
          18,
          18
         ]
        },
        {
         "marker": {
          "color": "white"
         },
         "name": "",
         "type": "scatter",
         "x": [
          "2019-05-29T10:04:41.818000Z",
          "2019-05-29T10:12:28.552000Z"
         ],
         "y": [
          21,
          21
         ]
        },
        {
         "marker": {
          "color": "white"
         },
         "name": "",
         "type": "scatter",
         "x": [
          "2019-05-29T09:54:21.463000Z",
          "2019-05-29T10:14:12.887000Z"
         ],
         "y": [
          8,
          8
         ]
        },
        {
         "marker": {
          "color": "white"
         },
         "name": "",
         "type": "scatter",
         "x": [
          "2019-05-29T09:49:24.684000Z",
          "2019-05-29T09:57:25.634000Z"
         ],
         "y": [
          21,
          21
         ]
        },
        {
         "marker": {
          "color": "white"
         },
         "name": "",
         "type": "scatter",
         "x": [
          "2019-05-29T09:45:48.923000Z",
          "2019-05-29T10:05:19.724000Z"
         ],
         "y": [
          7,
          7
         ]
        },
        {
         "marker": {
          "color": "white"
         },
         "name": "",
         "type": "scatter",
         "x": [
          "2019-05-29T09:43:17.437000Z",
          "2019-05-29T09:56:54.242000Z"
         ],
         "y": [
          6,
          6
         ]
        },
        {
         "marker": {
          "color": "white"
         },
         "name": "",
         "type": "scatter",
         "x": [
          "2019-05-29T09:41:01.378000Z",
          "2019-05-29T09:49:28.326000Z"
         ],
         "y": [
          20,
          20
         ]
        },
        {
         "marker": {
          "color": "white"
         },
         "name": "",
         "type": "scatter",
         "x": [
          "2019-05-29T09:40:30.117000Z",
          "2019-05-29T09:49:00.130000Z"
         ],
         "y": [
          18,
          18
         ]
        },
        {
         "marker": {
          "color": "white"
         },
         "name": "",
         "type": "scatter",
         "x": [
          "2019-05-29T09:39:52.316000Z",
          "2019-05-29T09:47:57.352000Z"
         ],
         "y": [
          19,
          19
         ]
        },
        {
         "marker": {
          "color": "white"
         },
         "name": "",
         "type": "scatter",
         "x": [
          "2019-05-29T09:33:51.124000Z",
          "2019-05-29T09:41:50.628000Z"
         ],
         "y": [
          21,
          21
         ]
        },
        {
         "marker": {
          "color": "white"
         },
         "name": "",
         "type": "scatter",
         "x": [
          "2019-05-29T09:18:24.431000Z",
          "2019-05-29T09:25:44.111000Z"
         ],
         "y": [
          21,
          21
         ]
        },
        {
         "marker": {
          "color": "white"
         },
         "name": "",
         "type": "scatter",
         "x": [
          "2019-05-29T09:14:54.767000Z",
          "2019-05-29T10:03:17.593000Z"
         ],
         "y": [
          4,
          4
         ]
        },
        {
         "marker": {
          "color": "white"
         },
         "name": "",
         "type": "scatter",
         "x": [
          "2019-05-29T09:14:50.495000Z",
          "2019-05-29T09:15:50.785000Z"
         ],
         "y": [
          5,
          5
         ]
        },
        {
         "marker": {
          "color": "white"
         },
         "name": "",
         "type": "scatter",
         "x": [
          "2019-05-29T09:10:50.947000Z",
          "2019-05-29T09:18:36.276000Z"
         ],
         "y": [
          20,
          20
         ]
        },
        {
         "marker": {
          "color": "white"
         },
         "name": "",
         "type": "scatter",
         "x": [
          "2019-05-29T09:10:20.591000Z",
          "2019-05-29T09:18:27.813000Z"
         ],
         "y": [
          18,
          18
         ]
        },
        {
         "marker": {
          "color": "white"
         },
         "name": "",
         "type": "scatter",
         "x": [
          "2019-05-29T09:02:53.189000Z",
          "2019-05-29T09:11:06.302000Z"
         ],
         "y": [
          21,
          21
         ]
        },
        {
         "marker": {
          "color": "white"
         },
         "name": "",
         "type": "scatter",
         "x": [
          "2019-05-29T08:47:26.196000Z",
          "2019-05-29T08:54:54.393000Z"
         ],
         "y": [
          21,
          21
         ]
        },
        {
         "marker": {
          "color": "white"
         },
         "name": "",
         "type": "scatter",
         "x": [
          "2019-05-29T08:40:39.561000Z",
          "2019-05-29T08:49:13.594000Z"
         ],
         "y": [
          20,
          20
         ]
        },
        {
         "marker": {
          "color": "white"
         },
         "name": "",
         "type": "scatter",
         "x": [
          "2019-05-29T08:40:09.821000Z",
          "2019-05-29T08:47:44.027000Z"
         ],
         "y": [
          18,
          18
         ]
        },
        {
         "marker": {
          "color": "white"
         },
         "name": "",
         "type": "scatter",
         "x": [
          "2019-05-29T08:39:39.537000Z",
          "2019-05-29T08:48:09.622000Z"
         ],
         "y": [
          19,
          19
         ]
        },
        {
         "marker": {
          "color": "white"
         },
         "name": "",
         "type": "scatter",
         "x": [
          "2019-05-29T08:32:09.585000Z",
          "2019-05-29T08:39:40.060000Z"
         ],
         "y": [
          21,
          21
         ]
        },
        {
         "marker": {
          "color": "white"
         },
         "name": "",
         "type": "scatter",
         "x": [
          "2019-05-29T08:24:09.420000Z",
          "2019-05-29T08:42:01.913000Z"
         ],
         "y": [
          17,
          17
         ]
        },
        {
         "marker": {
          "color": "white"
         },
         "name": "",
         "type": "scatter",
         "x": [
          "2019-05-29T08:17:05.209000Z",
          "2019-05-29T08:24:30.638000Z"
         ],
         "y": [
          21,
          21
         ]
        },
        {
         "marker": {
          "color": "white"
         },
         "name": "",
         "type": "scatter",
         "x": [
          "2019-05-29T08:10:35.308000Z",
          "2019-05-29T08:18:11.215000Z"
         ],
         "y": [
          20,
          20
         ]
        },
        {
         "marker": {
          "color": "white"
         },
         "name": "",
         "type": "scatter",
         "x": [
          "2019-05-29T08:10:04.814000Z",
          "2019-05-29T08:18:00.720000Z"
         ],
         "y": [
          18,
          18
         ]
        },
        {
         "marker": {
          "color": "white"
         },
         "name": "",
         "type": "scatter",
         "x": [
          "2019-05-29T08:01:35.475000Z",
          "2019-05-29T08:10:26.137000Z"
         ],
         "y": [
          21,
          21
         ]
        },
        {
         "marker": {
          "color": "white"
         },
         "name": "",
         "type": "scatter",
         "x": [
          "2019-05-29T07:56:53.115000Z",
          "2019-05-29T08:42:08.808000Z"
         ],
         "y": [
          17,
          17
         ]
        },
        {
         "marker": {
          "color": "white"
         },
         "name": "",
         "type": "scatter",
         "x": [
          "2019-05-29T07:46:21.779000Z",
          "2019-05-29T07:53:44.567000Z"
         ],
         "y": [
          21,
          21
         ]
        },
        {
         "marker": {
          "color": "white"
         },
         "name": "",
         "type": "scatter",
         "x": [
          "2019-05-29T07:46:21.773000Z",
          "2019-05-29T07:47:08.199000Z"
         ],
         "y": [
          1,
          1
         ]
        },
        {
         "marker": {
          "color": "white"
         },
         "name": "",
         "type": "scatter",
         "x": [
          "2019-05-29T07:40:21.737000Z",
          "2019-05-29T07:47:33.218000Z"
         ],
         "y": [
          20,
          20
         ]
        },
        {
         "marker": {
          "color": "white"
         },
         "name": "",
         "type": "scatter",
         "x": [
          "2019-05-29T07:40:21.729000Z",
          "2019-05-29T07:47:42.972000Z"
         ],
         "y": [
          18,
          18
         ]
        },
        {
         "marker": {
          "color": "white"
         },
         "name": "",
         "type": "scatter",
         "x": [
          "2019-05-29T07:39:22.390000Z",
          "2019-05-29T07:46:36.618000Z"
         ],
         "y": [
          19,
          19
         ]
        },
        {
         "marker": {
          "color": "white"
         },
         "name": "",
         "type": "scatter",
         "x": [
          "2019-05-29T07:30:51.865000Z",
          "2019-05-29T07:38:07.312000Z"
         ],
         "y": [
          21,
          21
         ]
        },
        {
         "marker": {
          "color": "white"
         },
         "name": "",
         "type": "scatter",
         "x": [
          "2019-05-29T07:15:42.528000Z",
          "2019-05-29T07:22:55.534000Z"
         ],
         "y": [
          21,
          21
         ]
        },
        {
         "marker": {
          "color": "white"
         },
         "name": "",
         "type": "scatter",
         "x": [
          "2019-05-29T07:10:12.732000Z",
          "2019-05-29T07:18:00.351000Z"
         ],
         "y": [
          18,
          18
         ]
        },
        {
         "marker": {
          "color": "white"
         },
         "name": "",
         "type": "scatter",
         "x": [
          "2019-05-29T07:10:12.525000Z",
          "2019-05-29T07:17:19.672000Z"
         ],
         "y": [
          20,
          20
         ]
        },
        {
         "marker": {
          "color": "white"
         },
         "name": "",
         "type": "scatter",
         "x": [
          "2019-05-29T07:00:53.896000Z",
          "2019-05-29T07:31:04.430000Z"
         ],
         "y": [
          10,
          10
         ]
        },
        {
         "marker": {
          "color": "white"
         },
         "name": "",
         "type": "scatter",
         "x": [
          "2019-05-29T07:00:25.820000Z",
          "2019-05-29T07:07:43.222000Z"
         ],
         "y": [
          21,
          21
         ]
        },
        {
         "marker": {
          "color": "white"
         },
         "name": "",
         "type": "scatter",
         "x": [
          "2019-05-29T07:00:23.896000Z",
          "2019-05-29T07:25:50.711000Z"
         ],
         "y": [
          2,
          2
         ]
        },
        {
         "marker": {
          "color": "white"
         },
         "name": "",
         "type": "scatter",
         "x": [
          "2019-05-29T06:45:09.580000Z",
          "2019-05-29T06:52:21.611000Z"
         ],
         "y": [
          21,
          21
         ]
        },
        {
         "marker": {
          "color": "white"
         },
         "name": "",
         "type": "scatter",
         "x": [
          "2019-05-29T06:45:09.413000Z",
          "2019-05-29T07:02:31.129000Z"
         ],
         "y": [
          7,
          7
         ]
        },
        {
         "marker": {
          "color": "white"
         },
         "name": "",
         "type": "scatter",
         "x": [
          "2019-05-29T06:42:39.042000Z",
          "2019-05-29T06:49:39.981000Z"
         ],
         "y": [
          6,
          6
         ]
        },
        {
         "marker": {
          "color": "white"
         },
         "name": "",
         "type": "scatter",
         "x": [
          "2019-05-29T06:40:09.510000Z",
          "2019-05-29T06:47:25.035000Z"
         ],
         "y": [
          20,
          20
         ]
        },
        {
         "marker": {
          "color": "white"
         },
         "name": "",
         "type": "scatter",
         "x": [
          "2019-05-29T06:40:09.502000Z",
          "2019-05-29T06:47:43.988000Z"
         ],
         "y": [
          18,
          18
         ]
        },
        {
         "marker": {
          "color": "white"
         },
         "name": "",
         "type": "scatter",
         "x": [
          "2019-05-29T06:39:09.251000Z",
          "2019-05-29T06:46:07.144000Z"
         ],
         "y": [
          19,
          19
         ]
        },
        {
         "marker": {
          "color": "white"
         },
         "name": "",
         "type": "scatter",
         "x": [
          "2019-05-29T06:29:39.489000Z",
          "2019-05-29T06:36:48.528000Z"
         ],
         "y": [
          21,
          21
         ]
        },
        {
         "marker": {
          "color": "white"
         },
         "name": "",
         "type": "scatter",
         "x": [
          "2019-05-29T06:14:09.073000Z",
          "2019-05-29T06:21:38.634000Z"
         ],
         "y": [
          21,
          21
         ]
        },
        {
         "marker": {
          "color": "white"
         },
         "name": "",
         "type": "scatter",
         "x": [
          "2019-05-29T06:10:09.196000Z",
          "2019-05-29T06:17:29.622000Z"
         ],
         "y": [
          18,
          18
         ]
        },
        {
         "marker": {
          "color": "white"
         },
         "name": "",
         "type": "scatter",
         "x": [
          "2019-05-29T06:09:39.301000Z",
          "2019-05-29T06:16:54.762000Z"
         ],
         "y": [
          20,
          20
         ]
        },
        {
         "marker": {
          "color": "white"
         },
         "name": "",
         "type": "scatter",
         "x": [
          "2019-05-29T06:01:10.253000Z",
          "2019-05-29T06:14:26.672000Z"
         ],
         "y": [
          3,
          3
         ]
        },
        {
         "marker": {
          "color": "white"
         },
         "name": "",
         "type": "scatter",
         "x": [
          "2019-05-29T05:58:39.017000Z",
          "2019-05-29T06:05:58.404000Z"
         ],
         "y": [
          21,
          21
         ]
        },
        {
         "marker": {
          "color": "white"
         },
         "name": "",
         "type": "scatter",
         "x": [
          "2019-05-29T05:43:09.344000Z",
          "2019-05-29T05:50:24.028000Z"
         ],
         "y": [
          21,
          21
         ]
        },
        {
         "marker": {
          "color": "white"
         },
         "name": "",
         "type": "scatter",
         "x": [
          "2019-05-29T05:40:09.336000Z",
          "2019-05-29T05:47:50.637000Z"
         ],
         "y": [
          18,
          18
         ]
        },
        {
         "marker": {
          "color": "white"
         },
         "name": "",
         "type": "scatter",
         "x": [
          "2019-05-29T05:39:09.358000Z",
          "2019-05-29T05:46:21.752000Z"
         ],
         "y": [
          20,
          20
         ]
        },
        {
         "marker": {
          "color": "white"
         },
         "name": "",
         "type": "scatter",
         "x": [
          "2019-05-29T05:38:39.321000Z",
          "2019-05-29T05:45:54.508000Z"
         ],
         "y": [
          19,
          19
         ]
        },
        {
         "marker": {
          "color": "white"
         },
         "name": "",
         "type": "scatter",
         "x": [
          "2019-05-29T05:27:39.180000Z",
          "2019-05-29T05:34:55.840000Z"
         ],
         "y": [
          21,
          21
         ]
        },
        {
         "marker": {
          "color": "white"
         },
         "name": "",
         "type": "scatter",
         "x": [
          "2019-05-29T05:23:39.167000Z",
          "2019-05-29T05:41:02.365000Z"
         ],
         "y": [
          17,
          17
         ]
        },
        {
         "marker": {
          "color": "white"
         },
         "name": "",
         "type": "scatter",
         "x": [
          "2019-05-29T05:12:08.847000Z",
          "2019-05-29T05:19:12.735000Z"
         ],
         "y": [
          21,
          21
         ]
        },
        {
         "marker": {
          "color": "white"
         },
         "name": "",
         "type": "scatter",
         "x": [
          "2019-05-29T05:10:08.993000Z",
          "2019-05-29T05:17:33.761000Z"
         ],
         "y": [
          18,
          18
         ]
        },
        {
         "marker": {
          "color": "white"
         },
         "name": "",
         "type": "scatter",
         "x": [
          "2019-05-29T05:08:39.224000Z",
          "2019-05-29T05:15:48.966000Z"
         ],
         "y": [
          20,
          20
         ]
        },
        {
         "marker": {
          "color": "white"
         },
         "name": "",
         "type": "scatter",
         "x": [
          "2019-05-29T04:56:52.598000Z",
          "2019-05-29T05:04:14.860000Z"
         ],
         "y": [
          21,
          21
         ]
        },
        {
         "marker": {
          "color": "white"
         },
         "name": "",
         "type": "scatter",
         "x": [
          "2019-05-29T04:41:45.253000Z",
          "2019-05-29T04:48:52.661000Z"
         ],
         "y": [
          21,
          21
         ]
        },
        {
         "marker": {
          "color": "white"
         },
         "name": "",
         "type": "scatter",
         "x": [
          "2019-05-29T04:40:15.853000Z",
          "2019-05-29T04:48:00.386000Z"
         ],
         "y": [
          18,
          18
         ]
        },
        {
         "marker": {
          "color": "white"
         },
         "name": "",
         "type": "scatter",
         "x": [
          "2019-05-29T04:38:16.311000Z",
          "2019-05-29T04:45:49.822000Z"
         ],
         "y": [
          20,
          20
         ]
        },
        {
         "marker": {
          "color": "white"
         },
         "name": "",
         "type": "scatter",
         "x": [
          "2019-05-29T04:38:15.360000Z",
          "2019-05-29T04:45:33.816000Z"
         ],
         "y": [
          19,
          19
         ]
        },
        {
         "marker": {
          "color": "white"
         },
         "name": "",
         "type": "scatter",
         "x": [
          "2019-05-29T04:26:15.179000Z",
          "2019-05-29T04:33:24.116000Z"
         ],
         "y": [
          21,
          21
         ]
        },
        {
         "marker": {
          "color": "white"
         },
         "name": "",
         "type": "scatter",
         "x": [
          "2019-05-29T04:10:45.150000Z",
          "2019-05-29T04:17:49.081000Z"
         ],
         "y": [
          21,
          21
         ]
        },
        {
         "marker": {
          "color": "white"
         },
         "name": "",
         "type": "scatter",
         "x": [
          "2019-05-29T04:10:15.139000Z",
          "2019-05-29T04:17:42.699000Z"
         ],
         "y": [
          18,
          18
         ]
        },
        {
         "marker": {
          "color": "white"
         },
         "name": "",
         "type": "scatter",
         "x": [
          "2019-05-29T04:07:45.163000Z",
          "2019-05-29T04:14:54.145000Z"
         ],
         "y": [
          20,
          20
         ]
        },
        {
         "marker": {
          "color": "white"
         },
         "name": "",
         "type": "scatter",
         "x": [
          "2019-05-29T03:55:15.426000Z",
          "2019-05-29T04:02:29.237000Z"
         ],
         "y": [
          21,
          21
         ]
        },
        {
         "marker": {
          "color": "white"
         },
         "name": "",
         "type": "scatter",
         "x": [
          "2019-05-29T03:54:15.058000Z",
          "2019-05-29T04:14:43.433000Z"
         ],
         "y": [
          8,
          8
         ]
        },
        {
         "marker": {
          "color": "white"
         },
         "name": "",
         "type": "scatter",
         "x": [
          "2019-05-29T03:44:47.539000Z",
          "2019-05-29T04:03:47.678000Z"
         ],
         "y": [
          7,
          7
         ]
        },
        {
         "marker": {
          "color": "white"
         },
         "name": "",
         "type": "scatter",
         "x": [
          "2019-05-29T03:42:15.770000Z",
          "2019-05-29T03:49:38.492000Z"
         ],
         "y": [
          6,
          6
         ]
        },
        {
         "marker": {
          "color": "white"
         },
         "name": "",
         "type": "scatter",
         "x": [
          "2019-05-29T03:40:15.837000Z",
          "2019-05-29T03:48:21.007000Z"
         ],
         "y": [
          18,
          18
         ]
        },
        {
         "marker": {
          "color": "white"
         },
         "name": "",
         "type": "scatter",
         "x": [
          "2019-05-29T03:39:45.557000Z",
          "2019-05-29T03:47:02.949000Z"
         ],
         "y": [
          21,
          21
         ]
        },
        {
         "marker": {
          "color": "white"
         },
         "name": "",
         "type": "scatter",
         "x": [
          "2019-05-29T03:37:45.354000Z",
          "2019-05-29T03:45:04.341000Z"
         ],
         "y": [
          19,
          19
         ]
        },
        {
         "marker": {
          "color": "white"
         },
         "name": "",
         "type": "scatter",
         "x": [
          "2019-05-29T03:37:16.176000Z",
          "2019-05-29T03:44:16.312000Z"
         ],
         "y": [
          20,
          20
         ]
        },
        {
         "marker": {
          "color": "white"
         },
         "name": "",
         "type": "scatter",
         "x": [
          "2019-05-29T03:24:16.217000Z",
          "2019-05-29T03:31:47.325000Z"
         ],
         "y": [
          21,
          21
         ]
        },
        {
         "marker": {
          "color": "white"
         },
         "name": "",
         "type": "scatter",
         "x": [
          "2019-05-29T03:14:45.326000Z",
          "2019-05-29T03:15:56.941000Z"
         ],
         "y": [
          5,
          5
         ]
        },
        {
         "marker": {
          "color": "white"
         },
         "name": "",
         "type": "scatter",
         "x": [
          "2019-05-29T03:10:15.379000Z",
          "2019-05-29T03:17:51.825000Z"
         ],
         "y": [
          18,
          18
         ]
        },
        {
         "marker": {
          "color": "white"
         },
         "name": "",
         "type": "scatter",
         "x": [
          "2019-05-29T03:08:46.178000Z",
          "2019-05-29T03:15:56.852000Z"
         ],
         "y": [
          21,
          21
         ]
        },
        {
         "marker": {
          "color": "white"
         },
         "name": "",
         "type": "scatter",
         "x": [
          "2019-05-29T03:06:45.830000Z",
          "2019-05-29T03:13:52.442000Z"
         ],
         "y": [
          20,
          20
         ]
        },
        {
         "marker": {
          "color": "white"
         },
         "name": "",
         "type": "scatter",
         "x": [
          "2019-05-29T02:56:45.254000Z",
          "2019-05-29T03:37:35.841000Z"
         ],
         "y": [
          17,
          17
         ]
        },
        {
         "marker": {
          "color": "white"
         },
         "name": "",
         "type": "scatter",
         "x": [
          "2019-05-29T02:53:15.497000Z",
          "2019-05-29T03:00:34.876000Z"
         ],
         "y": [
          21,
          21
         ]
        },
        {
         "marker": {
          "color": "white"
         },
         "name": "",
         "type": "scatter",
         "x": [
          "2019-05-29T02:40:15.319000Z",
          "2019-05-29T02:47:58.782000Z"
         ],
         "y": [
          18,
          18
         ]
        },
        {
         "marker": {
          "color": "white"
         },
         "name": "",
         "type": "scatter",
         "x": [
          "2019-05-29T02:37:45.375000Z",
          "2019-05-29T02:45:03.490000Z"
         ],
         "y": [
          21,
          21
         ]
        },
        {
         "marker": {
          "color": "white"
         },
         "name": "",
         "type": "scatter",
         "x": [
          "2019-05-29T02:37:15.407000Z",
          "2019-05-29T02:44:34.689000Z"
         ],
         "y": [
          19,
          19
         ]
        },
        {
         "marker": {
          "color": "white"
         },
         "name": "",
         "type": "scatter",
         "x": [
          "2019-05-29T02:36:16.436000Z",
          "2019-05-29T02:43:19.610000Z"
         ],
         "y": [
          20,
          20
         ]
        },
        {
         "marker": {
          "color": "white"
         },
         "name": "",
         "type": "scatter",
         "x": [
          "2019-05-29T02:23:15.230000Z",
          "2019-05-29T03:00:28.026000Z"
         ],
         "y": [
          17,
          17
         ]
        },
        {
         "marker": {
          "color": "white"
         },
         "name": "",
         "type": "scatter",
         "x": [
          "2019-05-29T02:22:16.512000Z",
          "2019-05-29T02:29:18.992000Z"
         ],
         "y": [
          21,
          21
         ]
        },
        {
         "marker": {
          "color": "white"
         },
         "name": "",
         "type": "scatter",
         "x": [
          "2019-05-29T02:10:15.359000Z",
          "2019-05-29T02:17:55.993000Z"
         ],
         "y": [
          18,
          18
         ]
        },
        {
         "marker": {
          "color": "white"
         },
         "name": "",
         "type": "scatter",
         "x": [
          "2019-05-29T02:06:45.701000Z",
          "2019-05-29T02:14:02.057000Z"
         ],
         "y": [
          21,
          21
         ]
        },
        {
         "marker": {
          "color": "white"
         },
         "name": "",
         "type": "scatter",
         "x": [
          "2019-05-29T02:05:45.475000Z",
          "2019-05-29T02:13:05.904000Z"
         ],
         "y": [
          20,
          20
         ]
        },
        {
         "marker": {
          "color": "white"
         },
         "name": "",
         "type": "scatter",
         "x": [
          "2019-05-29T02:00:47.760000Z",
          "2019-05-29T02:29:31.879000Z"
         ],
         "y": [
          10,
          10
         ]
        },
        {
         "marker": {
          "color": "white"
         },
         "name": "",
         "type": "scatter",
         "x": [
          "2019-05-29T01:51:15.358000Z",
          "2019-05-29T01:58:35.847000Z"
         ],
         "y": [
          21,
          21
         ]
        },
        {
         "marker": {
          "color": "white"
         },
         "name": "",
         "type": "scatter",
         "x": [
          "2019-05-29T01:40:14.761000Z",
          "2019-05-29T01:47:53.988000Z"
         ],
         "y": [
          18,
          18
         ]
        },
        {
         "marker": {
          "color": "white"
         },
         "name": "",
         "type": "scatter",
         "x": [
          "2019-05-29T01:36:45.169000Z",
          "2019-05-29T01:43:44.295000Z"
         ],
         "y": [
          19,
          19
         ]
        },
        {
         "marker": {
          "color": "white"
         },
         "name": "",
         "type": "scatter",
         "x": [
          "2019-05-29T01:35:45.957000Z",
          "2019-05-29T01:43:14.010000Z"
         ],
         "y": [
          21,
          21
         ]
        },
        {
         "marker": {
          "color": "white"
         },
         "name": "",
         "type": "scatter",
         "x": [
          "2019-05-29T01:35:15.448000Z",
          "2019-05-29T01:42:27.634000Z"
         ],
         "y": [
          20,
          20
         ]
        },
        {
         "marker": {
          "color": "white"
         },
         "name": "",
         "type": "scatter",
         "x": [
          "2019-05-29T01:20:15.203000Z",
          "2019-05-29T01:27:28.555000Z"
         ],
         "y": [
          21,
          21
         ]
        },
        {
         "marker": {
          "color": "white"
         },
         "name": "",
         "type": "scatter",
         "x": [
          "2019-05-29T01:10:15.062000Z",
          "2019-05-29T01:17:38.485000Z"
         ],
         "y": [
          18,
          18
         ]
        },
        {
         "marker": {
          "color": "white"
         },
         "name": "",
         "type": "scatter",
         "x": [
          "2019-05-29T01:04:45.034000Z",
          "2019-05-29T01:12:02.840000Z"
         ],
         "y": [
          20,
          20
         ]
        },
        {
         "marker": {
          "color": "white"
         },
         "name": "",
         "type": "scatter",
         "x": [
          "2019-05-29T01:04:44.997000Z",
          "2019-05-29T01:11:56.304000Z"
         ],
         "y": [
          21,
          21
         ]
        },
        {
         "marker": {
          "color": "white"
         },
         "name": "",
         "type": "scatter",
         "x": [
          "2019-05-29T01:00:44.957000Z",
          "2019-05-29T01:07:59.931000Z"
         ],
         "y": [
          0,
          0
         ]
        },
        {
         "marker": {
          "color": "white"
         },
         "name": "",
         "type": "scatter",
         "x": [
          "2019-05-29T01:00:15.393000Z",
          "2019-05-29T01:19:36.219000Z"
         ],
         "y": [
          2,
          2
         ]
        },
        {
         "marker": {
          "color": "white"
         },
         "name": "",
         "type": "scatter",
         "x": [
          "2019-05-29T00:49:14.973000Z",
          "2019-05-29T00:56:52.323000Z"
         ],
         "y": [
          21,
          21
         ]
        },
        {
         "marker": {
          "color": "white"
         },
         "name": "",
         "type": "scatter",
         "x": [
          "2019-05-29T00:44:15.017000Z",
          "2019-05-29T01:03:15.558000Z"
         ],
         "y": [
          7,
          7
         ]
        },
        {
         "marker": {
          "color": "white"
         },
         "name": "",
         "type": "scatter",
         "x": [
          "2019-05-29T00:41:45.268000Z",
          "2019-05-29T00:54:41.796000Z"
         ],
         "y": [
          6,
          6
         ]
        },
        {
         "marker": {
          "color": "white"
         },
         "name": "",
         "type": "scatter",
         "x": [
          "2019-05-29T00:40:15.229000Z",
          "2019-05-29T00:47:49.491000Z"
         ],
         "y": [
          18,
          18
         ]
        },
        {
         "marker": {
          "color": "white"
         },
         "name": "",
         "type": "scatter",
         "x": [
          "2019-05-29T00:36:15.668000Z",
          "2019-05-29T00:43:26.235000Z"
         ],
         "y": [
          19,
          19
         ]
        },
        {
         "marker": {
          "color": "white"
         },
         "name": "",
         "type": "scatter",
         "x": [
          "2019-05-29T00:34:16.965000Z",
          "2019-05-29T00:41:25.467000Z"
         ],
         "y": [
          20,
          20
         ]
        },
        {
         "marker": {
          "color": "white"
         },
         "name": "",
         "type": "scatter",
         "x": [
          "2019-05-29T00:33:45.223000Z",
          "2019-05-29T00:41:06.582000Z"
         ],
         "y": [
          21,
          21
         ]
        },
        {
         "marker": {
          "color": "white"
         },
         "name": "",
         "type": "scatter",
         "x": [
          "2019-05-29T00:18:15.548000Z",
          "2019-05-29T00:25:41.309000Z"
         ],
         "y": [
          21,
          21
         ]
        },
        {
         "marker": {
          "color": "white"
         },
         "name": "",
         "type": "scatter",
         "x": [
          "2019-05-29T00:10:15.230000Z",
          "2019-05-29T00:17:55.589000Z"
         ],
         "y": [
          18,
          18
         ]
        },
        {
         "marker": {
          "color": "white"
         },
         "name": "",
         "type": "scatter",
         "x": [
          "2019-05-29T00:04:15.497000Z",
          "2019-05-29T00:11:35.638000Z"
         ],
         "y": [
          20,
          20
         ]
        },
        {
         "marker": {
          "color": "white"
         },
         "name": "",
         "type": "scatter",
         "x": [
          "2019-05-29T00:03:13.575000Z",
          "2019-05-29T00:10:36.859000Z"
         ],
         "y": [
          21,
          21
         ]
        },
        {
         "marker": {
          "color": "white"
         },
         "name": "",
         "type": "scatter",
         "x": [
          "2019-05-29T00:01:15.384000Z",
          "2019-05-29T00:10:50.299000Z"
         ],
         "y": [
          3,
          3
         ]
        }
       ],
       "layout": {
        "height": 600,
        "hovermode": "closest",
        "shapes": [
         {
          "fillcolor": "rgb(31, 119, 180)",
          "line": {
           "width": 0
          },
          "opacity": 1,
          "type": "rect",
          "x0": "2019-05-29T23:55:38.106000Z",
          "x1": "2019-05-30T00:03:22.140000Z",
          "xref": "x",
          "y0": 20.8,
          "y1": 21.2,
          "yref": "y"
         },
         {
          "fillcolor": "rgb(255, 127, 14)",
          "line": {
           "width": 0
          },
          "opacity": 1,
          "type": "rect",
          "x0": "2019-05-29T23:49:07.513000Z",
          "x1": "2019-05-29T23:56:08.024000Z",
          "xref": "x",
          "y0": 19.8,
          "y1": 20.2,
          "yref": "y"
         },
         {
          "fillcolor": "rgb(44, 160, 44)",
          "line": {
           "width": 0
          },
          "opacity": 1,
          "type": "rect",
          "x0": "2019-05-29T23:44:38.121000Z",
          "x1": "2019-05-29T23:51:58.914000Z",
          "xref": "x",
          "y0": 18.8,
          "y1": 19.2,
          "yref": "y"
         },
         {
          "fillcolor": "rgb(214, 39, 40)",
          "line": {
           "width": 0
          },
          "opacity": 1,
          "type": "rect",
          "x0": "2019-05-29T23:40:07.889000Z",
          "x1": "2019-05-29T23:47:18.188000Z",
          "xref": "x",
          "y0": 20.8,
          "y1": 21.2,
          "yref": "y"
         },
         {
          "fillcolor": "rgb(148, 103, 189)",
          "line": {
           "width": 0
          },
          "opacity": 1,
          "type": "rect",
          "x0": "2019-05-29T23:40:07.382000Z",
          "x1": "2019-05-29T23:48:02.724000Z",
          "xref": "x",
          "y0": 17.8,
          "y1": 18.2,
          "yref": "y"
         },
         {
          "fillcolor": "rgb(140, 86, 75)",
          "line": {
           "width": 0
          },
          "opacity": 1,
          "type": "rect",
          "x0": "2019-05-29T23:25:37.502000Z",
          "x1": "2019-05-29T23:41:31.206000Z",
          "xref": "x",
          "y0": 16.8,
          "y1": 17.2,
          "yref": "y"
         },
         {
          "fillcolor": "rgb(227, 119, 194)",
          "line": {
           "width": 0
          },
          "opacity": 1,
          "type": "rect",
          "x0": "2019-05-29T23:24:37.490000Z",
          "x1": "2019-05-29T23:31:30.095000Z",
          "xref": "x",
          "y0": 20.8,
          "y1": 21.2,
          "yref": "y"
         },
         {
          "fillcolor": "rgb(127, 127, 127)",
          "line": {
           "width": 0
          },
          "opacity": 1,
          "type": "rect",
          "x0": "2019-05-29T23:18:37.667000Z",
          "x1": "2019-05-29T23:25:47.528000Z",
          "xref": "x",
          "y0": 19.8,
          "y1": 20.2,
          "yref": "y"
         },
         {
          "fillcolor": "rgb(188, 189, 34)",
          "line": {
           "width": 0
          },
          "opacity": 1,
          "type": "rect",
          "x0": "2019-05-29T23:10:26.735000Z",
          "x1": "2019-05-29T23:18:08.058000Z",
          "xref": "x",
          "y0": 17.8,
          "y1": 18.2,
          "yref": "y"
         },
         {
          "fillcolor": "rgb(23, 190, 207)",
          "line": {
           "width": 0
          },
          "opacity": 1,
          "type": "rect",
          "x0": "2019-05-29T23:09:27.799000Z",
          "x1": "2019-05-29T23:16:43.766000Z",
          "xref": "x",
          "y0": 20.8,
          "y1": 21.2,
          "yref": "y"
         },
         {
          "fillcolor": "rgb(31, 119, 180)",
          "line": {
           "width": 0
          },
          "opacity": 1,
          "type": "rect",
          "x0": "2019-05-29T23:01:11.969000Z",
          "x1": "2019-05-29T23:14:08.110000Z",
          "xref": "x",
          "y0": 15.8,
          "y1": 16.2,
          "yref": "y"
         },
         {
          "fillcolor": "rgb(255, 127, 14)",
          "line": {
           "width": 0
          },
          "opacity": 1,
          "type": "rect",
          "x0": "2019-05-29T23:01:11.690000Z",
          "x1": "2019-05-29T23:08:26.085000Z",
          "xref": "x",
          "y0": 14.8,
          "y1": 15.2,
          "yref": "y"
         },
         {
          "fillcolor": "rgb(44, 160, 44)",
          "line": {
           "width": 0
          },
          "opacity": 1,
          "type": "rect",
          "x0": "2019-05-29T23:01:11.647000Z",
          "x1": "2019-05-29T23:19:33.341000Z",
          "xref": "x",
          "y0": 13.8,
          "y1": 14.2,
          "yref": "y"
         },
         {
          "fillcolor": "rgb(214, 39, 40)",
          "line": {
           "width": 0
          },
          "opacity": 1,
          "type": "rect",
          "x0": "2019-05-29T23:00:42.793000Z",
          "x1": "2019-05-29T23:02:44.818000Z",
          "xref": "x",
          "y0": 12.8,
          "y1": 13.2,
          "yref": "y"
         },
         {
          "fillcolor": "rgb(148, 103, 189)",
          "line": {
           "width": 0
          },
          "opacity": 1,
          "type": "rect",
          "x0": "2019-05-29T23:00:42.153000Z",
          "x1": "2019-05-29T23:08:05.251000Z",
          "xref": "x",
          "y0": 11.8,
          "y1": 12.2,
          "yref": "y"
         },
         {
          "fillcolor": "rgb(140, 86, 75)",
          "line": {
           "width": 0
          },
          "opacity": 1,
          "type": "rect",
          "x0": "2019-05-29T23:00:41.999000Z",
          "x1": "2019-05-29T23:08:07.735000Z",
          "xref": "x",
          "y0": 10.8,
          "y1": 11.2,
          "yref": "y"
         },
         {
          "fillcolor": "rgb(227, 119, 194)",
          "line": {
           "width": 0
          },
          "opacity": 1,
          "type": "rect",
          "x0": "2019-05-29T22:58:25.658000Z",
          "x1": "2019-05-29T23:45:00.138000Z",
          "xref": "x",
          "y0": 16.8,
          "y1": 17.2,
          "yref": "y"
         },
         {
          "fillcolor": "rgb(127, 127, 127)",
          "line": {
           "width": 0
          },
          "opacity": 1,
          "type": "rect",
          "x0": "2019-05-29T22:53:55.955000Z",
          "x1": "2019-05-29T23:01:05.235000Z",
          "xref": "x",
          "y0": 20.8,
          "y1": 21.2,
          "yref": "y"
         },
         {
          "fillcolor": "rgb(188, 189, 34)",
          "line": {
           "width": 0
          },
          "opacity": 1,
          "type": "rect",
          "x0": "2019-05-29T22:48:25.346000Z",
          "x1": "2019-05-29T22:55:36.297000Z",
          "xref": "x",
          "y0": 19.8,
          "y1": 20.2,
          "yref": "y"
         },
         {
          "fillcolor": "rgb(23, 190, 207)",
          "line": {
           "width": 0
          },
          "opacity": 1,
          "type": "rect",
          "x0": "2019-05-29T22:44:26.416000Z",
          "x1": "2019-05-29T22:51:42.391000Z",
          "xref": "x",
          "y0": 18.8,
          "y1": 19.2,
          "yref": "y"
         },
         {
          "fillcolor": "rgb(31, 119, 180)",
          "line": {
           "width": 0
          },
          "opacity": 1,
          "type": "rect",
          "x0": "2019-05-29T22:40:20.361000Z",
          "x1": "2019-05-29T22:48:08.365000Z",
          "xref": "x",
          "y0": 17.8,
          "y1": 18.2,
          "yref": "y"
         },
         {
          "fillcolor": "rgb(255, 127, 14)",
          "line": {
           "width": 0
          },
          "opacity": 1,
          "type": "rect",
          "x0": "2019-05-29T22:38:49.877000Z",
          "x1": "2019-05-29T22:46:07.279000Z",
          "xref": "x",
          "y0": 20.8,
          "y1": 21.2,
          "yref": "y"
         },
         {
          "fillcolor": "rgb(44, 160, 44)",
          "line": {
           "width": 0
          },
          "opacity": 1,
          "type": "rect",
          "x0": "2019-05-29T22:23:28.856000Z",
          "x1": "2019-05-29T22:31:21.307000Z",
          "xref": "x",
          "y0": 20.8,
          "y1": 21.2,
          "yref": "y"
         },
         {
          "fillcolor": "rgb(214, 39, 40)",
          "line": {
           "width": 0
          },
          "opacity": 1,
          "type": "rect",
          "x0": "2019-05-29T22:18:20.571000Z",
          "x1": "2019-05-29T22:26:10.778000Z",
          "xref": "x",
          "y0": 19.8,
          "y1": 20.2,
          "yref": "y"
         },
         {
          "fillcolor": "rgb(148, 103, 189)",
          "line": {
           "width": 0
          },
          "opacity": 1,
          "type": "rect",
          "x0": "2019-05-29T22:10:03.810000Z",
          "x1": "2019-05-29T22:18:13.468000Z",
          "xref": "x",
          "y0": 17.8,
          "y1": 18.2,
          "yref": "y"
         },
         {
          "fillcolor": "rgb(140, 86, 75)",
          "line": {
           "width": 0
          },
          "opacity": 1,
          "type": "rect",
          "x0": "2019-05-29T22:08:11.456000Z",
          "x1": "2019-05-29T22:16:22.500000Z",
          "xref": "x",
          "y0": 20.8,
          "y1": 21.2,
          "yref": "y"
         },
         {
          "fillcolor": "rgb(227, 119, 194)",
          "line": {
           "width": 0
          },
          "opacity": 1,
          "type": "rect",
          "x0": "2019-05-29T22:00:43.346000Z",
          "x1": "2019-05-29T22:38:17.510000Z",
          "xref": "x",
          "y0": 9.8,
          "y1": 10.2,
          "yref": "y"
         },
         {
          "fillcolor": "rgb(127, 127, 127)",
          "line": {
           "width": 0
          },
          "opacity": 1,
          "type": "rect",
          "x0": "2019-05-29T22:00:43.295000Z",
          "x1": "2019-05-29T22:20:21.966000Z",
          "xref": "x",
          "y0": 8.8,
          "y1": 9.2,
          "yref": "y"
         },
         {
          "fillcolor": "rgb(188, 189, 34)",
          "line": {
           "width": 0
          },
          "opacity": 1,
          "type": "rect",
          "x0": "2019-05-29T21:54:43.055000Z",
          "x1": "2019-05-29T22:19:59.233000Z",
          "xref": "x",
          "y0": 7.8,
          "y1": 8.2,
          "yref": "y"
         },
         {
          "fillcolor": "rgb(23, 190, 207)",
          "line": {
           "width": 0
          },
          "opacity": 1,
          "type": "rect",
          "x0": "2019-05-29T21:52:43.244000Z",
          "x1": "2019-05-29T21:59:51.592000Z",
          "xref": "x",
          "y0": 20.8,
          "y1": 21.2,
          "yref": "y"
         },
         {
          "fillcolor": "rgb(31, 119, 180)",
          "line": {
           "width": 0
          },
          "opacity": 1,
          "type": "rect",
          "x0": "2019-05-29T21:48:13.326000Z",
          "x1": "2019-05-29T22:05:56.389000Z",
          "xref": "x",
          "y0": 6.8,
          "y1": 7.2,
          "yref": "y"
         },
         {
          "fillcolor": "rgb(255, 127, 14)",
          "line": {
           "width": 0
          },
          "opacity": 1,
          "type": "rect",
          "x0": "2019-05-29T21:47:42.992000Z",
          "x1": "2019-05-29T21:54:56.759000Z",
          "xref": "x",
          "y0": 19.8,
          "y1": 20.2,
          "yref": "y"
         },
         {
          "fillcolor": "rgb(44, 160, 44)",
          "line": {
           "width": 0
          },
          "opacity": 1,
          "type": "rect",
          "x0": "2019-05-29T21:44:42.752000Z",
          "x1": "2019-05-29T21:57:10.373000Z",
          "xref": "x",
          "y0": 5.8,
          "y1": 6.2,
          "yref": "y"
         },
         {
          "fillcolor": "rgb(214, 39, 40)",
          "line": {
           "width": 0
          },
          "opacity": 1,
          "type": "rect",
          "x0": "2019-05-29T21:44:13.163000Z",
          "x1": "2019-05-29T21:51:31.945000Z",
          "xref": "x",
          "y0": 18.8,
          "y1": 19.2,
          "yref": "y"
         },
         {
          "fillcolor": "rgb(148, 103, 189)",
          "line": {
           "width": 0
          },
          "opacity": 1,
          "type": "rect",
          "x0": "2019-05-29T21:40:13.364000Z",
          "x1": "2019-05-29T21:48:00.662000Z",
          "xref": "x",
          "y0": 17.8,
          "y1": 18.2,
          "yref": "y"
         },
         {
          "fillcolor": "rgb(140, 86, 75)",
          "line": {
           "width": 0
          },
          "opacity": 1,
          "type": "rect",
          "x0": "2019-05-29T21:37:15.802000Z",
          "x1": "2019-05-29T21:44:26.092000Z",
          "xref": "x",
          "y0": 20.8,
          "y1": 21.2,
          "yref": "y"
         },
         {
          "fillcolor": "rgb(227, 119, 194)",
          "line": {
           "width": 0
          },
          "opacity": 1,
          "type": "rect",
          "x0": "2019-05-29T21:22:10.452000Z",
          "x1": "2019-05-29T21:29:34.106000Z",
          "xref": "x",
          "y0": 20.8,
          "y1": 21.2,
          "yref": "y"
         },
         {
          "fillcolor": "rgb(127, 127, 127)",
          "line": {
           "width": 0
          },
          "opacity": 1,
          "type": "rect",
          "x0": "2019-05-29T21:17:37.891000Z",
          "x1": "2019-05-29T21:25:09.409000Z",
          "xref": "x",
          "y0": 19.8,
          "y1": 20.2,
          "yref": "y"
         },
         {
          "fillcolor": "rgb(188, 189, 34)",
          "line": {
           "width": 0
          },
          "opacity": 1,
          "type": "rect",
          "x0": "2019-05-29T21:15:08.295000Z",
          "x1": "2019-05-29T21:16:10.341000Z",
          "xref": "x",
          "y0": 4.8,
          "y1": 5.2,
          "yref": "y"
         },
         {
          "fillcolor": "rgb(23, 190, 207)",
          "line": {
           "width": 0
          },
          "opacity": 1,
          "type": "rect",
          "x0": "2019-05-29T21:10:09.191000Z",
          "x1": "2019-05-29T21:18:11.425000Z",
          "xref": "x",
          "y0": 17.8,
          "y1": 18.2,
          "yref": "y"
         },
         {
          "fillcolor": "rgb(31, 119, 180)",
          "line": {
           "width": 0
          },
          "opacity": 1,
          "type": "rect",
          "x0": "2019-05-29T21:07:08.492000Z",
          "x1": "2019-05-29T21:14:23.257000Z",
          "xref": "x",
          "y0": 20.8,
          "y1": 21.2,
          "yref": "y"
         },
         {
          "fillcolor": "rgb(255, 127, 14)",
          "line": {
           "width": 0
          },
          "opacity": 1,
          "type": "rect",
          "x0": "2019-05-29T20:52:05.038000Z",
          "x1": "2019-05-29T20:59:31.612000Z",
          "xref": "x",
          "y0": 20.8,
          "y1": 21.2,
          "yref": "y"
         },
         {
          "fillcolor": "rgb(44, 160, 44)",
          "line": {
           "width": 0
          },
          "opacity": 1,
          "type": "rect",
          "x0": "2019-05-29T20:47:32.882000Z",
          "x1": "2019-05-29T20:54:58.644000Z",
          "xref": "x",
          "y0": 19.8,
          "y1": 20.2,
          "yref": "y"
         },
         {
          "fillcolor": "rgb(214, 39, 40)",
          "line": {
           "width": 0
          },
          "opacity": 1,
          "type": "rect",
          "x0": "2019-05-29T20:44:02.020000Z",
          "x1": "2019-05-29T20:51:21.153000Z",
          "xref": "x",
          "y0": 18.8,
          "y1": 19.2,
          "yref": "y"
         },
         {
          "fillcolor": "rgb(148, 103, 189)",
          "line": {
           "width": 0
          },
          "opacity": 1,
          "type": "rect",
          "x0": "2019-05-29T20:40:01.256000Z",
          "x1": "2019-05-29T20:47:36.394000Z",
          "xref": "x",
          "y0": 17.8,
          "y1": 18.2,
          "yref": "y"
         },
         {
          "fillcolor": "rgb(140, 86, 75)",
          "line": {
           "width": 0
          },
          "opacity": 1,
          "type": "rect",
          "x0": "2019-05-29T20:37:01.198000Z",
          "x1": "2019-05-29T20:44:29.318000Z",
          "xref": "x",
          "y0": 20.8,
          "y1": 21.2,
          "yref": "y"
         },
         {
          "fillcolor": "rgb(227, 119, 194)",
          "line": {
           "width": 0
          },
          "opacity": 1,
          "type": "rect",
          "x0": "2019-05-29T20:25:34.387000Z",
          "x1": "2019-05-29T20:42:28.218000Z",
          "xref": "x",
          "y0": 16.8,
          "y1": 17.2,
          "yref": "y"
         },
         {
          "fillcolor": "rgb(127, 127, 127)",
          "line": {
           "width": 0
          },
          "opacity": 1,
          "type": "rect",
          "x0": "2019-05-29T20:21:34.587000Z",
          "x1": "2019-05-29T20:28:40.538000Z",
          "xref": "x",
          "y0": 20.8,
          "y1": 21.2,
          "yref": "y"
         },
         {
          "fillcolor": "rgb(188, 189, 34)",
          "line": {
           "width": 0
          },
          "opacity": 1,
          "type": "rect",
          "x0": "2019-05-29T20:17:04.587000Z",
          "x1": "2019-05-29T20:24:18.492000Z",
          "xref": "x",
          "y0": 19.8,
          "y1": 20.2,
          "yref": "y"
         },
         {
          "fillcolor": "rgb(23, 190, 207)",
          "line": {
           "width": 0
          },
          "opacity": 1,
          "type": "rect",
          "x0": "2019-05-29T20:10:02.488000Z",
          "x1": "2019-05-29T20:17:29.640000Z",
          "xref": "x",
          "y0": 17.8,
          "y1": 18.2,
          "yref": "y"
         },
         {
          "fillcolor": "rgb(31, 119, 180)",
          "line": {
           "width": 0
          },
          "opacity": 1,
          "type": "rect",
          "x0": "2019-05-29T20:06:32.745000Z",
          "x1": "2019-05-29T20:13:44.445000Z",
          "xref": "x",
          "y0": 20.8,
          "y1": 21.2,
          "yref": "y"
         },
         {
          "fillcolor": "rgb(255, 127, 14)",
          "line": {
           "width": 0
          },
          "opacity": 1,
          "type": "rect",
          "x0": "2019-05-29T20:00:32.450000Z",
          "x1": "2019-05-29T20:49:33.081000Z",
          "xref": "x",
          "y0": 3.8,
          "y1": 4.2,
          "yref": "y"
         },
         {
          "fillcolor": "rgb(44, 160, 44)",
          "line": {
           "width": 0
          },
          "opacity": 1,
          "type": "rect",
          "x0": "2019-05-29T19:51:02.287000Z",
          "x1": "2019-05-29T19:58:21.778000Z",
          "xref": "x",
          "y0": 20.8,
          "y1": 21.2,
          "yref": "y"
         },
         {
          "fillcolor": "rgb(214, 39, 40)",
          "line": {
           "width": 0
          },
          "opacity": 1,
          "type": "rect",
          "x0": "2019-05-29T19:47:01.757000Z",
          "x1": "2019-05-29T19:54:12.469000Z",
          "xref": "x",
          "y0": 19.8,
          "y1": 20.2,
          "yref": "y"
         },
         {
          "fillcolor": "rgb(148, 103, 189)",
          "line": {
           "width": 0
          },
          "opacity": 1,
          "type": "rect",
          "x0": "2019-05-29T19:43:32.295000Z",
          "x1": "2019-05-29T19:50:50.011000Z",
          "xref": "x",
          "y0": 18.8,
          "y1": 19.2,
          "yref": "y"
         },
         {
          "fillcolor": "rgb(140, 86, 75)",
          "line": {
           "width": 0
          },
          "opacity": 1,
          "type": "rect",
          "x0": "2019-05-29T19:40:02.430000Z",
          "x1": "2019-05-29T19:48:09.056000Z",
          "xref": "x",
          "y0": 17.8,
          "y1": 18.2,
          "yref": "y"
         },
         {
          "fillcolor": "rgb(227, 119, 194)",
          "line": {
           "width": 0
          },
          "opacity": 1,
          "type": "rect",
          "x0": "2019-05-29T19:35:32.247000Z",
          "x1": "2019-05-29T19:43:28.606000Z",
          "xref": "x",
          "y0": 20.8,
          "y1": 21.2,
          "yref": "y"
         },
         {
          "fillcolor": "rgb(127, 127, 127)",
          "line": {
           "width": 0
          },
          "opacity": 1,
          "type": "rect",
          "x0": "2019-05-29T19:20:01.800000Z",
          "x1": "2019-05-29T19:26:58.143000Z",
          "xref": "x",
          "y0": 20.8,
          "y1": 21.2,
          "yref": "y"
         },
         {
          "fillcolor": "rgb(188, 189, 34)",
          "line": {
           "width": 0
          },
          "opacity": 1,
          "type": "rect",
          "x0": "2019-05-29T19:16:31.780000Z",
          "x1": "2019-05-29T19:24:03.939000Z",
          "xref": "x",
          "y0": 19.8,
          "y1": 20.2,
          "yref": "y"
         },
         {
          "fillcolor": "rgb(23, 190, 207)",
          "line": {
           "width": 0
          },
          "opacity": 1,
          "type": "rect",
          "x0": "2019-05-29T19:10:01.669000Z",
          "x1": "2019-05-29T19:17:31.178000Z",
          "xref": "x",
          "y0": 17.8,
          "y1": 18.2,
          "yref": "y"
         },
         {
          "fillcolor": "rgb(31, 119, 180)",
          "line": {
           "width": 0
          },
          "opacity": 1,
          "type": "rect",
          "x0": "2019-05-29T19:04:31.790000Z",
          "x1": "2019-05-29T19:11:36.597000Z",
          "xref": "x",
          "y0": 20.8,
          "y1": 21.2,
          "yref": "y"
         },
         {
          "fillcolor": "rgb(255, 127, 14)",
          "line": {
           "width": 0
          },
          "opacity": 1,
          "type": "rect",
          "x0": "2019-05-29T18:49:01.821000Z",
          "x1": "2019-05-29T18:56:25.212000Z",
          "xref": "x",
          "y0": 20.8,
          "y1": 21.2,
          "yref": "y"
         },
         {
          "fillcolor": "rgb(44, 160, 44)",
          "line": {
           "width": 0
          },
          "opacity": 1,
          "type": "rect",
          "x0": "2019-05-29T18:48:01.505000Z",
          "x1": "2019-05-29T19:05:38.671000Z",
          "xref": "x",
          "y0": 6.8,
          "y1": 7.2,
          "yref": "y"
         },
         {
          "fillcolor": "rgb(214, 39, 40)",
          "line": {
           "width": 0
          },
          "opacity": 1,
          "type": "rect",
          "x0": "2019-05-29T18:46:01.567000Z",
          "x1": "2019-05-29T18:53:20.950000Z",
          "xref": "x",
          "y0": 19.8,
          "y1": 20.2,
          "yref": "y"
         },
         {
          "fillcolor": "rgb(148, 103, 189)",
          "line": {
           "width": 0
          },
          "opacity": 1,
          "type": "rect",
          "x0": "2019-05-29T18:44:31.718000Z",
          "x1": "2019-05-29T18:51:40.358000Z",
          "xref": "x",
          "y0": 5.8,
          "y1": 6.2,
          "yref": "y"
         },
         {
          "fillcolor": "rgb(140, 86, 75)",
          "line": {
           "width": 0
          },
          "opacity": 1,
          "type": "rect",
          "x0": "2019-05-29T18:43:01.736000Z",
          "x1": "2019-05-29T18:50:11.681000Z",
          "xref": "x",
          "y0": 18.8,
          "y1": 19.2,
          "yref": "y"
         },
         {
          "fillcolor": "rgb(227, 119, 194)",
          "line": {
           "width": 0
          },
          "opacity": 1,
          "type": "rect",
          "x0": "2019-05-29T18:40:01.313000Z",
          "x1": "2019-05-29T18:47:39.786000Z",
          "xref": "x",
          "y0": 17.8,
          "y1": 18.2,
          "yref": "y"
         },
         {
          "fillcolor": "rgb(127, 127, 127)",
          "line": {
           "width": 0
          },
          "opacity": 1,
          "type": "rect",
          "x0": "2019-05-29T18:33:31.531000Z",
          "x1": "2019-05-29T18:40:43.054000Z",
          "xref": "x",
          "y0": 20.8,
          "y1": 21.2,
          "yref": "y"
         },
         {
          "fillcolor": "rgb(188, 189, 34)",
          "line": {
           "width": 0
          },
          "opacity": 1,
          "type": "rect",
          "x0": "2019-05-29T18:18:20.805000Z",
          "x1": "2019-05-29T18:25:43.344000Z",
          "xref": "x",
          "y0": 20.8,
          "y1": 21.2,
          "yref": "y"
         },
         {
          "fillcolor": "rgb(23, 190, 207)",
          "line": {
           "width": 0
          },
          "opacity": 1,
          "type": "rect",
          "x0": "2019-05-29T18:15:50.641000Z",
          "x1": "2019-05-29T18:23:08.598000Z",
          "xref": "x",
          "y0": 19.8,
          "y1": 20.2,
          "yref": "y"
         },
         {
          "fillcolor": "rgb(31, 119, 180)",
          "line": {
           "width": 0
          },
          "opacity": 1,
          "type": "rect",
          "x0": "2019-05-29T18:10:28.470000Z",
          "x1": "2019-05-29T18:18:08.776000Z",
          "xref": "x",
          "y0": 17.8,
          "y1": 18.2,
          "yref": "y"
         },
         {
          "fillcolor": "rgb(255, 127, 14)",
          "line": {
           "width": 0
          },
          "opacity": 1,
          "type": "rect",
          "x0": "2019-05-29T18:02:57.790000Z",
          "x1": "2019-05-29T18:10:20.431000Z",
          "xref": "x",
          "y0": 20.8,
          "y1": 21.2,
          "yref": "y"
         },
         {
          "fillcolor": "rgb(44, 160, 44)",
          "line": {
           "width": 0
          },
          "opacity": 1,
          "type": "rect",
          "x0": "2019-05-29T18:00:57.385000Z",
          "x1": "2019-05-29T18:09:34.604000Z",
          "xref": "x",
          "y0": 2.8,
          "y1": 3.2,
          "yref": "y"
         },
         {
          "fillcolor": "rgb(214, 39, 40)",
          "line": {
           "width": 0
          },
          "opacity": 1,
          "type": "rect",
          "x0": "2019-05-29T17:57:58.139000Z",
          "x1": "2019-05-29T18:47:59.919000Z",
          "xref": "x",
          "y0": 16.8,
          "y1": 17.2,
          "yref": "y"
         },
         {
          "fillcolor": "rgb(148, 103, 189)",
          "line": {
           "width": 0
          },
          "opacity": 1,
          "type": "rect",
          "x0": "2019-05-29T17:47:40.238000Z",
          "x1": "2019-05-29T17:54:56.144000Z",
          "xref": "x",
          "y0": 20.8,
          "y1": 21.2,
          "yref": "y"
         },
         {
          "fillcolor": "rgb(140, 86, 75)",
          "line": {
           "width": 0
          },
          "opacity": 1,
          "type": "rect",
          "x0": "2019-05-29T17:45:33.339000Z",
          "x1": "2019-05-29T17:52:56.787000Z",
          "xref": "x",
          "y0": 19.8,
          "y1": 20.2,
          "yref": "y"
         },
         {
          "fillcolor": "rgb(227, 119, 194)",
          "line": {
           "width": 0
          },
          "opacity": 1,
          "type": "rect",
          "x0": "2019-05-29T17:42:33.994000Z",
          "x1": "2019-05-29T17:50:05.888000Z",
          "xref": "x",
          "y0": 18.8,
          "y1": 19.2,
          "yref": "y"
         },
         {
          "fillcolor": "rgb(127, 127, 127)",
          "line": {
           "width": 0
          },
          "opacity": 1,
          "type": "rect",
          "x0": "2019-05-29T17:40:04.662000Z",
          "x1": "2019-05-29T17:47:44.378000Z",
          "xref": "x",
          "y0": 17.8,
          "y1": 18.2,
          "yref": "y"
         },
         {
          "fillcolor": "rgb(188, 189, 34)",
          "line": {
           "width": 0
          },
          "opacity": 1,
          "type": "rect",
          "x0": "2019-05-29T17:32:33.421000Z",
          "x1": "2019-05-29T17:41:18.443000Z",
          "xref": "x",
          "y0": 20.8,
          "y1": 21.2,
          "yref": "y"
         },
         {
          "fillcolor": "rgb(23, 190, 207)",
          "line": {
           "width": 0
          },
          "opacity": 1,
          "type": "rect",
          "x0": "2019-05-29T17:25:17.151000Z",
          "x1": "2019-05-29T17:43:28.778000Z",
          "xref": "x",
          "y0": 16.8,
          "y1": 17.2,
          "yref": "y"
         },
         {
          "fillcolor": "rgb(31, 119, 180)",
          "line": {
           "width": 0
          },
          "opacity": 1,
          "type": "rect",
          "x0": "2019-05-29T17:17:18.507000Z",
          "x1": "2019-05-29T17:25:02.324000Z",
          "xref": "x",
          "y0": 20.8,
          "y1": 21.2,
          "yref": "y"
         },
         {
          "fillcolor": "rgb(255, 127, 14)",
          "line": {
           "width": 0
          },
          "opacity": 1,
          "type": "rect",
          "x0": "2019-05-29T17:15:17.817000Z",
          "x1": "2019-05-29T17:22:52.325000Z",
          "xref": "x",
          "y0": 19.8,
          "y1": 20.2,
          "yref": "y"
         },
         {
          "fillcolor": "rgb(44, 160, 44)",
          "line": {
           "width": 0
          },
          "opacity": 1,
          "type": "rect",
          "x0": "2019-05-29T17:10:05.708000Z",
          "x1": "2019-05-29T17:18:13.033000Z",
          "xref": "x",
          "y0": 17.8,
          "y1": 18.2,
          "yref": "y"
         },
         {
          "fillcolor": "rgb(214, 39, 40)",
          "line": {
           "width": 0
          },
          "opacity": 1,
          "type": "rect",
          "x0": "2019-05-29T17:01:56.513000Z",
          "x1": "2019-05-29T17:09:36.700000Z",
          "xref": "x",
          "y0": 20.8,
          "y1": 21.2,
          "yref": "y"
         },
         {
          "fillcolor": "rgb(148, 103, 189)",
          "line": {
           "width": 0
          },
          "opacity": 1,
          "type": "rect",
          "x0": "2019-05-29T17:00:53.489000Z",
          "x1": "2019-05-29T17:35:34.432000Z",
          "xref": "x",
          "y0": 9.8,
          "y1": 10.2,
          "yref": "y"
         },
         {
          "fillcolor": "rgb(140, 86, 75)",
          "line": {
           "width": 0
          },
          "opacity": 1,
          "type": "rect",
          "x0": "2019-05-29T16:46:47.006000Z",
          "x1": "2019-05-29T16:54:38.334000Z",
          "xref": "x",
          "y0": 20.8,
          "y1": 21.2,
          "yref": "y"
         },
         {
          "fillcolor": "rgb(227, 119, 194)",
          "line": {
           "width": 0
          },
          "opacity": 1,
          "type": "rect",
          "x0": "2019-05-29T16:44:41.770000Z",
          "x1": "2019-05-29T16:52:28.580000Z",
          "xref": "x",
          "y0": 19.8,
          "y1": 20.2,
          "yref": "y"
         },
         {
          "fillcolor": "rgb(127, 127, 127)",
          "line": {
           "width": 0
          },
          "opacity": 1,
          "type": "rect",
          "x0": "2019-05-29T16:42:30.627000Z",
          "x1": "2019-05-29T16:50:20.351000Z",
          "xref": "x",
          "y0": 18.8,
          "y1": 19.2,
          "yref": "y"
         },
         {
          "fillcolor": "rgb(188, 189, 34)",
          "line": {
           "width": 0
          },
          "opacity": 1,
          "type": "rect",
          "x0": "2019-05-29T16:40:15.563000Z",
          "x1": "2019-05-29T16:48:24.453000Z",
          "xref": "x",
          "y0": 17.8,
          "y1": 18.2,
          "yref": "y"
         },
         {
          "fillcolor": "rgb(23, 190, 207)",
          "line": {
           "width": 0
          },
          "opacity": 1,
          "type": "rect",
          "x0": "2019-05-29T16:31:34.117000Z",
          "x1": "2019-05-29T16:39:55.747000Z",
          "xref": "x",
          "y0": 20.8,
          "y1": 21.2,
          "yref": "y"
         },
         {
          "fillcolor": "rgb(31, 119, 180)",
          "line": {
           "width": 0
          },
          "opacity": 1,
          "type": "rect",
          "x0": "2019-05-29T16:16:14.340000Z",
          "x1": "2019-05-29T16:24:29.736000Z",
          "xref": "x",
          "y0": 20.8,
          "y1": 21.2,
          "yref": "y"
         },
         {
          "fillcolor": "rgb(255, 127, 14)",
          "line": {
           "width": 0
          },
          "opacity": 1,
          "type": "rect",
          "x0": "2019-05-29T16:14:18.272000Z",
          "x1": "2019-05-29T16:21:58.514000Z",
          "xref": "x",
          "y0": 19.8,
          "y1": 20.2,
          "yref": "y"
         },
         {
          "fillcolor": "rgb(44, 160, 44)",
          "line": {
           "width": 0
          },
          "opacity": 1,
          "type": "rect",
          "x0": "2019-05-29T16:10:25.422000Z",
          "x1": "2019-05-29T16:19:57.543000Z",
          "xref": "x",
          "y0": 17.8,
          "y1": 18.2,
          "yref": "y"
         },
         {
          "fillcolor": "rgb(214, 39, 40)",
          "line": {
           "width": 0
          },
          "opacity": 1,
          "type": "rect",
          "x0": "2019-05-29T16:00:17.888000Z",
          "x1": "2019-05-29T16:08:00.092000Z",
          "xref": "x",
          "y0": 20.8,
          "y1": 21.2,
          "yref": "y"
         },
         {
          "fillcolor": "rgb(148, 103, 189)",
          "line": {
           "width": 0
          },
          "opacity": 1,
          "type": "rect",
          "x0": "2019-05-29T15:54:34.428000Z",
          "x1": "2019-05-29T16:15:54.507000Z",
          "xref": "x",
          "y0": 7.8,
          "y1": 8.2,
          "yref": "y"
         },
         {
          "fillcolor": "rgb(140, 86, 75)",
          "line": {
           "width": 0
          },
          "opacity": 1,
          "type": "rect",
          "x0": "2019-05-29T15:47:40.920000Z",
          "x1": "2019-05-29T16:04:49.654000Z",
          "xref": "x",
          "y0": 6.8,
          "y1": 7.2,
          "yref": "y"
         },
         {
          "fillcolor": "rgb(227, 119, 194)",
          "line": {
           "width": 0
          },
          "opacity": 1,
          "type": "rect",
          "x0": "2019-05-29T15:45:11.010000Z",
          "x1": "2019-05-29T15:52:52.364000Z",
          "xref": "x",
          "y0": 20.8,
          "y1": 21.2,
          "yref": "y"
         },
         {
          "fillcolor": "rgb(127, 127, 127)",
          "line": {
           "width": 0
          },
          "opacity": 1,
          "type": "rect",
          "x0": "2019-05-29T15:44:09.288000Z",
          "x1": "2019-05-29T15:51:45.474000Z",
          "xref": "x",
          "y0": 19.8,
          "y1": 20.2,
          "yref": "y"
         },
         {
          "fillcolor": "rgb(188, 189, 34)",
          "line": {
           "width": 0
          },
          "opacity": 1,
          "type": "rect",
          "x0": "2019-05-29T15:44:08.809000Z",
          "x1": "2019-05-29T15:52:17.860000Z",
          "xref": "x",
          "y0": 5.8,
          "y1": 6.2,
          "yref": "y"
         },
         {
          "fillcolor": "rgb(23, 190, 207)",
          "line": {
           "width": 0
          },
          "opacity": 1,
          "type": "rect",
          "x0": "2019-05-29T15:42:07.602000Z",
          "x1": "2019-05-29T15:50:16.193000Z",
          "xref": "x",
          "y0": 18.8,
          "y1": 19.2,
          "yref": "y"
         },
         {
          "fillcolor": "rgb(31, 119, 180)",
          "line": {
           "width": 0
          },
          "opacity": 1,
          "type": "rect",
          "x0": "2019-05-29T15:40:05.860000Z",
          "x1": "2019-05-29T15:48:48.836000Z",
          "xref": "x",
          "y0": 17.8,
          "y1": 18.2,
          "yref": "y"
         },
         {
          "fillcolor": "rgb(255, 127, 14)",
          "line": {
           "width": 0
          },
          "opacity": 1,
          "type": "rect",
          "x0": "2019-05-29T15:29:50.808000Z",
          "x1": "2019-05-29T15:37:40.665000Z",
          "xref": "x",
          "y0": 20.8,
          "y1": 21.2,
          "yref": "y"
         },
         {
          "fillcolor": "rgb(44, 160, 44)",
          "line": {
           "width": 0
          },
          "opacity": 1,
          "type": "rect",
          "x0": "2019-05-29T15:15:05.975000Z",
          "x1": "2019-05-29T15:16:35.808000Z",
          "xref": "x",
          "y0": 4.8,
          "y1": 5.2,
          "yref": "y"
         },
         {
          "fillcolor": "rgb(214, 39, 40)",
          "line": {
           "width": 0
          },
          "opacity": 1,
          "type": "rect",
          "x0": "2019-05-29T15:14:37.371000Z",
          "x1": "2019-05-29T15:22:41.798000Z",
          "xref": "x",
          "y0": 20.8,
          "y1": 21.2,
          "yref": "y"
         },
         {
          "fillcolor": "rgb(148, 103, 189)",
          "line": {
           "width": 0
          },
          "opacity": 1,
          "type": "rect",
          "x0": "2019-05-29T15:13:46.017000Z",
          "x1": "2019-05-29T15:21:49.446000Z",
          "xref": "x",
          "y0": 19.8,
          "y1": 20.2,
          "yref": "y"
         },
         {
          "fillcolor": "rgb(140, 86, 75)",
          "line": {
           "width": 0
          },
          "opacity": 1,
          "type": "rect",
          "x0": "2019-05-29T15:10:05.465000Z",
          "x1": "2019-05-29T15:18:40Z",
          "xref": "x",
          "y0": 17.8,
          "y1": 18.2,
          "yref": "y"
         },
         {
          "fillcolor": "rgb(227, 119, 194)",
          "line": {
           "width": 0
          },
          "opacity": 1,
          "type": "rect",
          "x0": "2019-05-29T14:58:59.100000Z",
          "x1": "2019-05-29T15:08:39.432000Z",
          "xref": "x",
          "y0": 20.8,
          "y1": 21.2,
          "yref": "y"
         },
         {
          "fillcolor": "rgb(127, 127, 127)",
          "line": {
           "width": 0
          },
          "opacity": 1,
          "type": "rect",
          "x0": "2019-05-29T14:43:53.147000Z",
          "x1": "2019-05-29T14:52:50.658000Z",
          "xref": "x",
          "y0": 20.8,
          "y1": 21.2,
          "yref": "y"
         },
         {
          "fillcolor": "rgb(188, 189, 34)",
          "line": {
           "width": 0
          },
          "opacity": 1,
          "type": "rect",
          "x0": "2019-05-29T14:43:21.739000Z",
          "x1": "2019-05-29T14:51:58.491000Z",
          "xref": "x",
          "y0": 19.8,
          "y1": 20.2,
          "yref": "y"
         },
         {
          "fillcolor": "rgb(23, 190, 207)",
          "line": {
           "width": 0
          },
          "opacity": 1,
          "type": "rect",
          "x0": "2019-05-29T14:41:50.659000Z",
          "x1": "2019-05-29T14:51:25.202000Z",
          "xref": "x",
          "y0": 18.8,
          "y1": 19.2,
          "yref": "y"
         },
         {
          "fillcolor": "rgb(31, 119, 180)",
          "line": {
           "width": 0
          },
          "opacity": 1,
          "type": "rect",
          "x0": "2019-05-29T14:40:12.625000Z",
          "x1": "2019-05-29T14:50:58.218000Z",
          "xref": "x",
          "y0": 17.8,
          "y1": 18.2,
          "yref": "y"
         },
         {
          "fillcolor": "rgb(255, 127, 14)",
          "line": {
           "width": 0
          },
          "opacity": 1,
          "type": "rect",
          "x0": "2019-05-29T14:28:40.035000Z",
          "x1": "2019-05-29T14:37:46.466000Z",
          "xref": "x",
          "y0": 20.8,
          "y1": 21.2,
          "yref": "y"
         },
         {
          "fillcolor": "rgb(44, 160, 44)",
          "line": {
           "width": 0
          },
          "opacity": 1,
          "type": "rect",
          "x0": "2019-05-29T14:24:44.860000Z",
          "x1": "2019-05-29T14:41:36.054000Z",
          "xref": "x",
          "y0": 16.8,
          "y1": 17.2,
          "yref": "y"
         },
         {
          "fillcolor": "rgb(214, 39, 40)",
          "line": {
           "width": 0
          },
          "opacity": 1,
          "type": "rect",
          "x0": "2019-05-29T14:13:31.758000Z",
          "x1": "2019-05-29T14:21:51.170000Z",
          "xref": "x",
          "y0": 20.8,
          "y1": 21.2,
          "yref": "y"
         },
         {
          "fillcolor": "rgb(148, 103, 189)",
          "line": {
           "width": 0
          },
          "opacity": 1,
          "type": "rect",
          "x0": "2019-05-29T14:13:16.134000Z",
          "x1": "2019-05-29T14:22:05.375000Z",
          "xref": "x",
          "y0": 19.8,
          "y1": 20.2,
          "yref": "y"
         },
         {
          "fillcolor": "rgb(140, 86, 75)",
          "line": {
           "width": 0
          },
          "opacity": 1,
          "type": "rect",
          "x0": "2019-05-29T14:10:29.206000Z",
          "x1": "2019-05-29T14:19:28.235000Z",
          "xref": "x",
          "y0": 17.8,
          "y1": 18.2,
          "yref": "y"
         },
         {
          "fillcolor": "rgb(227, 119, 194)",
          "line": {
           "width": 0
          },
          "opacity": 1,
          "type": "rect",
          "x0": "2019-05-29T13:57:23.191000Z",
          "x1": "2019-05-29T14:06:30.778000Z",
          "xref": "x",
          "y0": 20.8,
          "y1": 21.2,
          "yref": "y"
         },
         {
          "fillcolor": "rgb(127, 127, 127)",
          "line": {
           "width": 0
          },
          "opacity": 1,
          "type": "rect",
          "x0": "2019-05-29T13:42:51.655000Z",
          "x1": "2019-05-29T13:50:51.547000Z",
          "xref": "x",
          "y0": 19.8,
          "y1": 20.2,
          "yref": "y"
         },
         {
          "fillcolor": "rgb(188, 189, 34)",
          "line": {
           "width": 0
          },
          "opacity": 1,
          "type": "rect",
          "x0": "2019-05-29T13:42:16.654000Z",
          "x1": "2019-05-29T13:50:31.366000Z",
          "xref": "x",
          "y0": 20.8,
          "y1": 21.2,
          "yref": "y"
         },
         {
          "fillcolor": "rgb(23, 190, 207)",
          "line": {
           "width": 0
          },
          "opacity": 1,
          "type": "rect",
          "x0": "2019-05-29T13:41:43.955000Z",
          "x1": "2019-05-29T13:50:02.334000Z",
          "xref": "x",
          "y0": 18.8,
          "y1": 19.2,
          "yref": "y"
         },
         {
          "fillcolor": "rgb(31, 119, 180)",
          "line": {
           "width": 0
          },
          "opacity": 1,
          "type": "rect",
          "x0": "2019-05-29T13:40:31.039000Z",
          "x1": "2019-05-29T13:49:08.040000Z",
          "xref": "x",
          "y0": 17.8,
          "y1": 18.2,
          "yref": "y"
         },
         {
          "fillcolor": "rgb(255, 127, 14)",
          "line": {
           "width": 0
          },
          "opacity": 1,
          "type": "rect",
          "x0": "2019-05-29T13:27:12.982000Z",
          "x1": "2019-05-29T13:35:43.848000Z",
          "xref": "x",
          "y0": 20.8,
          "y1": 21.2,
          "yref": "y"
         },
         {
          "fillcolor": "rgb(44, 160, 44)",
          "line": {
           "width": 0
          },
          "opacity": 1,
          "type": "rect",
          "x0": "2019-05-29T13:12:45.143000Z",
          "x1": "2019-05-29T13:22:00.923000Z",
          "xref": "x",
          "y0": 19.8,
          "y1": 20.2,
          "yref": "y"
         },
         {
          "fillcolor": "rgb(214, 39, 40)",
          "line": {
           "width": 0
          },
          "opacity": 1,
          "type": "rect",
          "x0": "2019-05-29T13:12:09.074000Z",
          "x1": "2019-05-29T13:21:58.432000Z",
          "xref": "x",
          "y0": 20.8,
          "y1": 21.2,
          "yref": "y"
         },
         {
          "fillcolor": "rgb(148, 103, 189)",
          "line": {
           "width": 0
          },
          "opacity": 1,
          "type": "rect",
          "x0": "2019-05-29T13:10:25.694000Z",
          "x1": "2019-05-29T13:19:56.944000Z",
          "xref": "x",
          "y0": 17.8,
          "y1": 18.2,
          "yref": "y"
         },
         {
          "fillcolor": "rgb(140, 86, 75)",
          "line": {
           "width": 0
          },
          "opacity": 1,
          "type": "rect",
          "x0": "2019-05-29T13:00:51.706000Z",
          "x1": "2019-05-29T13:24:57.478000Z",
          "xref": "x",
          "y0": 1.8,
          "y1": 2.2,
          "yref": "y"
         },
         {
          "fillcolor": "rgb(227, 119, 194)",
          "line": {
           "width": 0
          },
          "opacity": 1,
          "type": "rect",
          "x0": "2019-05-29T12:57:21.774000Z",
          "x1": "2019-05-29T16:09:47.414000Z",
          "xref": "x",
          "y0": 16.8,
          "y1": 17.2,
          "yref": "y"
         },
         {
          "fillcolor": "rgb(127, 127, 127)",
          "line": {
           "width": 0
          },
          "opacity": 1,
          "type": "rect",
          "x0": "2019-05-29T12:56:21.805000Z",
          "x1": "2019-05-29T13:01:17.870000Z",
          "xref": "x",
          "y0": 20.8,
          "y1": 21.2,
          "yref": "y"
         },
         {
          "fillcolor": "rgb(188, 189, 34)",
          "line": {
           "width": 0
          },
          "opacity": 1,
          "type": "rect",
          "x0": "2019-05-29T12:47:38.269000Z",
          "x1": "2019-05-29T13:11:18.748000Z",
          "xref": "x",
          "y0": 6.8,
          "y1": 7.2,
          "yref": "y"
         },
         {
          "fillcolor": "rgb(23, 190, 207)",
          "line": {
           "width": 0
          },
          "opacity": 1,
          "type": "rect",
          "x0": "2019-05-29T12:44:05.867000Z",
          "x1": "2019-05-29T12:56:19.638000Z",
          "xref": "x",
          "y0": 5.8,
          "y1": 6.2,
          "yref": "y"
         },
         {
          "fillcolor": "rgb(31, 119, 180)",
          "line": {
           "width": 0
          },
          "opacity": 1,
          "type": "rect",
          "x0": "2019-05-29T12:42:23.799000Z",
          "x1": "2019-05-29T12:56:15.612000Z",
          "xref": "x",
          "y0": 19.8,
          "y1": 20.2,
          "yref": "y"
         },
         {
          "fillcolor": "rgb(255, 127, 14)",
          "line": {
           "width": 0
          },
          "opacity": 1,
          "type": "rect",
          "x0": "2019-05-29T12:41:22.476000Z",
          "x1": "2019-05-29T12:56:20.962000Z",
          "xref": "x",
          "y0": 17.8,
          "y1": 18.2,
          "yref": "y"
         },
         {
          "fillcolor": "rgb(44, 160, 44)",
          "line": {
           "width": 0
          },
          "opacity": 1,
          "type": "rect",
          "x0": "2019-05-29T12:41:17.610000Z",
          "x1": "2019-05-29T12:56:04.640000Z",
          "xref": "x",
          "y0": 18.8,
          "y1": 19.2,
          "yref": "y"
         },
         {
          "fillcolor": "rgb(214, 39, 40)",
          "line": {
           "width": 0
          },
          "opacity": 1,
          "type": "rect",
          "x0": "2019-05-29T12:40:13.430000Z",
          "x1": "2019-05-29T12:55:00.261000Z",
          "xref": "x",
          "y0": 20.8,
          "y1": 21.2,
          "yref": "y"
         },
         {
          "fillcolor": "rgb(148, 103, 189)",
          "line": {
           "width": 0
          },
          "opacity": 1,
          "type": "rect",
          "x0": "2019-05-29T12:22:19.154000Z",
          "x1": "2019-05-29T12:30:57.690000Z",
          "xref": "x",
          "y0": 20.8,
          "y1": 21.2,
          "yref": "y"
         },
         {
          "fillcolor": "rgb(140, 86, 75)",
          "line": {
           "width": 0
          },
          "opacity": 1,
          "type": "rect",
          "x0": "2019-05-29T12:12:13.384000Z",
          "x1": "2019-05-29T12:19:48.799000Z",
          "xref": "x",
          "y0": 19.8,
          "y1": 20.2,
          "yref": "y"
         },
         {
          "fillcolor": "rgb(227, 119, 194)",
          "line": {
           "width": 0
          },
          "opacity": 1,
          "type": "rect",
          "x0": "2019-05-29T12:10:34.970000Z",
          "x1": "2019-05-29T12:18:45.704000Z",
          "xref": "x",
          "y0": 17.8,
          "y1": 18.2,
          "yref": "y"
         },
         {
          "fillcolor": "rgb(127, 127, 127)",
          "line": {
           "width": 0
          },
          "opacity": 1,
          "type": "rect",
          "x0": "2019-05-29T12:06:49.419000Z",
          "x1": "2019-05-29T12:15:04.619000Z",
          "xref": "x",
          "y0": 20.8,
          "y1": 21.2,
          "yref": "y"
         },
         {
          "fillcolor": "rgb(188, 189, 34)",
          "line": {
           "width": 0
          },
          "opacity": 1,
          "type": "rect",
          "x0": "2019-05-29T12:01:18.581000Z",
          "x1": "2019-05-29T12:11:31.530000Z",
          "xref": "x",
          "y0": 2.8,
          "y1": 3.2,
          "yref": "y"
         },
         {
          "fillcolor": "rgb(23, 190, 207)",
          "line": {
           "width": 0
          },
          "opacity": 1,
          "type": "rect",
          "x0": "2019-05-29T12:00:47.289000Z",
          "x1": "2019-05-29T12:32:24.708000Z",
          "xref": "x",
          "y0": 9.8,
          "y1": 10.2,
          "yref": "y"
         },
         {
          "fillcolor": "rgb(31, 119, 180)",
          "line": {
           "width": 0
          },
          "opacity": 1,
          "type": "rect",
          "x0": "2019-05-29T11:51:39.601000Z",
          "x1": "2019-05-29T11:59:42.673000Z",
          "xref": "x",
          "y0": 20.8,
          "y1": 21.2,
          "yref": "y"
         },
         {
          "fillcolor": "rgb(255, 127, 14)",
          "line": {
           "width": 0
          },
          "opacity": 1,
          "type": "rect",
          "x0": "2019-05-29T11:41:59.868000Z",
          "x1": "2019-05-29T11:49:33.929000Z",
          "xref": "x",
          "y0": 19.8,
          "y1": 20.2,
          "yref": "y"
         },
         {
          "fillcolor": "rgb(44, 160, 44)",
          "line": {
           "width": 0
          },
          "opacity": 1,
          "type": "rect",
          "x0": "2019-05-29T11:40:28.477000Z",
          "x1": "2019-05-29T11:48:33.831000Z",
          "xref": "x",
          "y0": 17.8,
          "y1": 18.2,
          "yref": "y"
         },
         {
          "fillcolor": "rgb(214, 39, 40)",
          "line": {
           "width": 0
          },
          "opacity": 1,
          "type": "rect",
          "x0": "2019-05-29T11:40:28.443000Z",
          "x1": "2019-05-29T11:48:28.968000Z",
          "xref": "x",
          "y0": 18.8,
          "y1": 19.2,
          "yref": "y"
         },
         {
          "fillcolor": "rgb(148, 103, 189)",
          "line": {
           "width": 0
          },
          "opacity": 1,
          "type": "rect",
          "x0": "2019-05-29T11:36:27.509000Z",
          "x1": "2019-05-29T11:44:06.704000Z",
          "xref": "x",
          "y0": 20.8,
          "y1": 21.2,
          "yref": "y"
         },
         {
          "fillcolor": "rgb(140, 86, 75)",
          "line": {
           "width": 0
          },
          "opacity": 1,
          "type": "rect",
          "x0": "2019-05-29T11:24:35.532000Z",
          "x1": "2019-05-29T11:41:17.906000Z",
          "xref": "x",
          "y0": 16.8,
          "y1": 17.2,
          "yref": "y"
         },
         {
          "fillcolor": "rgb(227, 119, 194)",
          "line": {
           "width": 0
          },
          "opacity": 1,
          "type": "rect",
          "x0": "2019-05-29T11:21:05.381000Z",
          "x1": "2019-05-29T11:28:38.100000Z",
          "xref": "x",
          "y0": 20.8,
          "y1": 21.2,
          "yref": "y"
         },
         {
          "fillcolor": "rgb(127, 127, 127)",
          "line": {
           "width": 0
          },
          "opacity": 1,
          "type": "rect",
          "x0": "2019-05-29T11:11:43.804000Z",
          "x1": "2019-05-29T11:19:51.375000Z",
          "xref": "x",
          "y0": 19.8,
          "y1": 20.2,
          "yref": "y"
         },
         {
          "fillcolor": "rgb(188, 189, 34)",
          "line": {
           "width": 0
          },
          "opacity": 1,
          "type": "rect",
          "x0": "2019-05-29T11:10:15.376000Z",
          "x1": "2019-05-29T11:18:36.993000Z",
          "xref": "x",
          "y0": 17.8,
          "y1": 18.2,
          "yref": "y"
         },
         {
          "fillcolor": "rgb(23, 190, 207)",
          "line": {
           "width": 0
          },
          "opacity": 1,
          "type": "rect",
          "x0": "2019-05-29T11:05:45.311000Z",
          "x1": "2019-05-29T11:13:22.170000Z",
          "xref": "x",
          "y0": 20.8,
          "y1": 21.2,
          "yref": "y"
         },
         {
          "fillcolor": "rgb(31, 119, 180)",
          "line": {
           "width": 0
          },
          "opacity": 1,
          "type": "rect",
          "x0": "2019-05-29T10:50:14.905000Z",
          "x1": "2019-05-29T10:58:10.173000Z",
          "xref": "x",
          "y0": 20.8,
          "y1": 21.2,
          "yref": "y"
         },
         {
          "fillcolor": "rgb(255, 127, 14)",
          "line": {
           "width": 0
          },
          "opacity": 1,
          "type": "rect",
          "x0": "2019-05-29T10:41:21.975000Z",
          "x1": "2019-05-29T10:49:40.227000Z",
          "xref": "x",
          "y0": 19.8,
          "y1": 20.2,
          "yref": "y"
         },
         {
          "fillcolor": "rgb(44, 160, 44)",
          "line": {
           "width": 0
          },
          "opacity": 1,
          "type": "rect",
          "x0": "2019-05-29T10:40:22.811000Z",
          "x1": "2019-05-29T10:48:17.624000Z",
          "xref": "x",
          "y0": 17.8,
          "y1": 18.2,
          "yref": "y"
         },
         {
          "fillcolor": "rgb(214, 39, 40)",
          "line": {
           "width": 0
          },
          "opacity": 1,
          "type": "rect",
          "x0": "2019-05-29T10:40:21.848000Z",
          "x1": "2019-05-29T10:47:52.418000Z",
          "xref": "x",
          "y0": 18.8,
          "y1": 19.2,
          "yref": "y"
         },
         {
          "fillcolor": "rgb(148, 103, 189)",
          "line": {
           "width": 0
          },
          "opacity": 1,
          "type": "rect",
          "x0": "2019-05-29T10:34:51.136000Z",
          "x1": "2019-05-29T10:43:06.016000Z",
          "xref": "x",
          "y0": 20.8,
          "y1": 21.2,
          "yref": "y"
         },
         {
          "fillcolor": "rgb(140, 86, 75)",
          "line": {
           "width": 0
          },
          "opacity": 1,
          "type": "rect",
          "x0": "2019-05-29T10:19:49.128000Z",
          "x1": "2019-05-29T10:28:03.159000Z",
          "xref": "x",
          "y0": 20.8,
          "y1": 21.2,
          "yref": "y"
         },
         {
          "fillcolor": "rgb(227, 119, 194)",
          "line": {
           "width": 0
          },
          "opacity": 1,
          "type": "rect",
          "x0": "2019-05-29T10:18:37.177000Z",
          "x1": "2019-05-29T10:26:21.468000Z",
          "xref": "x",
          "y0": 10.8,
          "y1": 11.2,
          "yref": "y"
         },
         {
          "fillcolor": "rgb(127, 127, 127)",
          "line": {
           "width": 0
          },
          "opacity": 1,
          "type": "rect",
          "x0": "2019-05-29T10:11:10.661000Z",
          "x1": "2019-05-29T10:18:21.704000Z",
          "xref": "x",
          "y0": 19.8,
          "y1": 20.2,
          "yref": "y"
         },
         {
          "fillcolor": "rgb(188, 189, 34)",
          "line": {
           "width": 0
          },
          "opacity": 1,
          "type": "rect",
          "x0": "2019-05-29T10:10:14.345000Z",
          "x1": "2019-05-29T10:17:39.029000Z",
          "xref": "x",
          "y0": 17.8,
          "y1": 18.2,
          "yref": "y"
         },
         {
          "fillcolor": "rgb(23, 190, 207)",
          "line": {
           "width": 0
          },
          "opacity": 1,
          "type": "rect",
          "x0": "2019-05-29T10:04:41.818000Z",
          "x1": "2019-05-29T10:12:28.552000Z",
          "xref": "x",
          "y0": 20.8,
          "y1": 21.2,
          "yref": "y"
         },
         {
          "fillcolor": "rgb(31, 119, 180)",
          "line": {
           "width": 0
          },
          "opacity": 1,
          "type": "rect",
          "x0": "2019-05-29T09:54:21.463000Z",
          "x1": "2019-05-29T10:14:12.887000Z",
          "xref": "x",
          "y0": 7.8,
          "y1": 8.2,
          "yref": "y"
         },
         {
          "fillcolor": "rgb(255, 127, 14)",
          "line": {
           "width": 0
          },
          "opacity": 1,
          "type": "rect",
          "x0": "2019-05-29T09:49:24.684000Z",
          "x1": "2019-05-29T09:57:25.634000Z",
          "xref": "x",
          "y0": 20.8,
          "y1": 21.2,
          "yref": "y"
         },
         {
          "fillcolor": "rgb(44, 160, 44)",
          "line": {
           "width": 0
          },
          "opacity": 1,
          "type": "rect",
          "x0": "2019-05-29T09:45:48.923000Z",
          "x1": "2019-05-29T10:05:19.724000Z",
          "xref": "x",
          "y0": 6.8,
          "y1": 7.2,
          "yref": "y"
         },
         {
          "fillcolor": "rgb(214, 39, 40)",
          "line": {
           "width": 0
          },
          "opacity": 1,
          "type": "rect",
          "x0": "2019-05-29T09:43:17.437000Z",
          "x1": "2019-05-29T09:56:54.242000Z",
          "xref": "x",
          "y0": 5.8,
          "y1": 6.2,
          "yref": "y"
         },
         {
          "fillcolor": "rgb(148, 103, 189)",
          "line": {
           "width": 0
          },
          "opacity": 1,
          "type": "rect",
          "x0": "2019-05-29T09:41:01.378000Z",
          "x1": "2019-05-29T09:49:28.326000Z",
          "xref": "x",
          "y0": 19.8,
          "y1": 20.2,
          "yref": "y"
         },
         {
          "fillcolor": "rgb(140, 86, 75)",
          "line": {
           "width": 0
          },
          "opacity": 1,
          "type": "rect",
          "x0": "2019-05-29T09:40:30.117000Z",
          "x1": "2019-05-29T09:49:00.130000Z",
          "xref": "x",
          "y0": 17.8,
          "y1": 18.2,
          "yref": "y"
         },
         {
          "fillcolor": "rgb(227, 119, 194)",
          "line": {
           "width": 0
          },
          "opacity": 1,
          "type": "rect",
          "x0": "2019-05-29T09:39:52.316000Z",
          "x1": "2019-05-29T09:47:57.352000Z",
          "xref": "x",
          "y0": 18.8,
          "y1": 19.2,
          "yref": "y"
         },
         {
          "fillcolor": "rgb(127, 127, 127)",
          "line": {
           "width": 0
          },
          "opacity": 1,
          "type": "rect",
          "x0": "2019-05-29T09:33:51.124000Z",
          "x1": "2019-05-29T09:41:50.628000Z",
          "xref": "x",
          "y0": 20.8,
          "y1": 21.2,
          "yref": "y"
         },
         {
          "fillcolor": "rgb(188, 189, 34)",
          "line": {
           "width": 0
          },
          "opacity": 1,
          "type": "rect",
          "x0": "2019-05-29T09:18:24.431000Z",
          "x1": "2019-05-29T09:25:44.111000Z",
          "xref": "x",
          "y0": 20.8,
          "y1": 21.2,
          "yref": "y"
         },
         {
          "fillcolor": "rgb(23, 190, 207)",
          "line": {
           "width": 0
          },
          "opacity": 1,
          "type": "rect",
          "x0": "2019-05-29T09:14:54.767000Z",
          "x1": "2019-05-29T10:03:17.593000Z",
          "xref": "x",
          "y0": 3.8,
          "y1": 4.2,
          "yref": "y"
         },
         {
          "fillcolor": "rgb(31, 119, 180)",
          "line": {
           "width": 0
          },
          "opacity": 1,
          "type": "rect",
          "x0": "2019-05-29T09:14:50.495000Z",
          "x1": "2019-05-29T09:15:50.785000Z",
          "xref": "x",
          "y0": 4.8,
          "y1": 5.2,
          "yref": "y"
         },
         {
          "fillcolor": "rgb(255, 127, 14)",
          "line": {
           "width": 0
          },
          "opacity": 1,
          "type": "rect",
          "x0": "2019-05-29T09:10:50.947000Z",
          "x1": "2019-05-29T09:18:36.276000Z",
          "xref": "x",
          "y0": 19.8,
          "y1": 20.2,
          "yref": "y"
         },
         {
          "fillcolor": "rgb(44, 160, 44)",
          "line": {
           "width": 0
          },
          "opacity": 1,
          "type": "rect",
          "x0": "2019-05-29T09:10:20.591000Z",
          "x1": "2019-05-29T09:18:27.813000Z",
          "xref": "x",
          "y0": 17.8,
          "y1": 18.2,
          "yref": "y"
         },
         {
          "fillcolor": "rgb(214, 39, 40)",
          "line": {
           "width": 0
          },
          "opacity": 1,
          "type": "rect",
          "x0": "2019-05-29T09:02:53.189000Z",
          "x1": "2019-05-29T09:11:06.302000Z",
          "xref": "x",
          "y0": 20.8,
          "y1": 21.2,
          "yref": "y"
         },
         {
          "fillcolor": "rgb(148, 103, 189)",
          "line": {
           "width": 0
          },
          "opacity": 1,
          "type": "rect",
          "x0": "2019-05-29T08:47:26.196000Z",
          "x1": "2019-05-29T08:54:54.393000Z",
          "xref": "x",
          "y0": 20.8,
          "y1": 21.2,
          "yref": "y"
         },
         {
          "fillcolor": "rgb(140, 86, 75)",
          "line": {
           "width": 0
          },
          "opacity": 1,
          "type": "rect",
          "x0": "2019-05-29T08:40:39.561000Z",
          "x1": "2019-05-29T08:49:13.594000Z",
          "xref": "x",
          "y0": 19.8,
          "y1": 20.2,
          "yref": "y"
         },
         {
          "fillcolor": "rgb(227, 119, 194)",
          "line": {
           "width": 0
          },
          "opacity": 1,
          "type": "rect",
          "x0": "2019-05-29T08:40:09.821000Z",
          "x1": "2019-05-29T08:47:44.027000Z",
          "xref": "x",
          "y0": 17.8,
          "y1": 18.2,
          "yref": "y"
         },
         {
          "fillcolor": "rgb(127, 127, 127)",
          "line": {
           "width": 0
          },
          "opacity": 1,
          "type": "rect",
          "x0": "2019-05-29T08:39:39.537000Z",
          "x1": "2019-05-29T08:48:09.622000Z",
          "xref": "x",
          "y0": 18.8,
          "y1": 19.2,
          "yref": "y"
         },
         {
          "fillcolor": "rgb(188, 189, 34)",
          "line": {
           "width": 0
          },
          "opacity": 1,
          "type": "rect",
          "x0": "2019-05-29T08:32:09.585000Z",
          "x1": "2019-05-29T08:39:40.060000Z",
          "xref": "x",
          "y0": 20.8,
          "y1": 21.2,
          "yref": "y"
         },
         {
          "fillcolor": "rgb(23, 190, 207)",
          "line": {
           "width": 0
          },
          "opacity": 1,
          "type": "rect",
          "x0": "2019-05-29T08:24:09.420000Z",
          "x1": "2019-05-29T08:42:01.913000Z",
          "xref": "x",
          "y0": 16.8,
          "y1": 17.2,
          "yref": "y"
         },
         {
          "fillcolor": "rgb(31, 119, 180)",
          "line": {
           "width": 0
          },
          "opacity": 1,
          "type": "rect",
          "x0": "2019-05-29T08:17:05.209000Z",
          "x1": "2019-05-29T08:24:30.638000Z",
          "xref": "x",
          "y0": 20.8,
          "y1": 21.2,
          "yref": "y"
         },
         {
          "fillcolor": "rgb(255, 127, 14)",
          "line": {
           "width": 0
          },
          "opacity": 1,
          "type": "rect",
          "x0": "2019-05-29T08:10:35.308000Z",
          "x1": "2019-05-29T08:18:11.215000Z",
          "xref": "x",
          "y0": 19.8,
          "y1": 20.2,
          "yref": "y"
         },
         {
          "fillcolor": "rgb(44, 160, 44)",
          "line": {
           "width": 0
          },
          "opacity": 1,
          "type": "rect",
          "x0": "2019-05-29T08:10:04.814000Z",
          "x1": "2019-05-29T08:18:00.720000Z",
          "xref": "x",
          "y0": 17.8,
          "y1": 18.2,
          "yref": "y"
         },
         {
          "fillcolor": "rgb(214, 39, 40)",
          "line": {
           "width": 0
          },
          "opacity": 1,
          "type": "rect",
          "x0": "2019-05-29T08:01:35.475000Z",
          "x1": "2019-05-29T08:10:26.137000Z",
          "xref": "x",
          "y0": 20.8,
          "y1": 21.2,
          "yref": "y"
         },
         {
          "fillcolor": "rgb(148, 103, 189)",
          "line": {
           "width": 0
          },
          "opacity": 1,
          "type": "rect",
          "x0": "2019-05-29T07:56:53.115000Z",
          "x1": "2019-05-29T08:42:08.808000Z",
          "xref": "x",
          "y0": 16.8,
          "y1": 17.2,
          "yref": "y"
         },
         {
          "fillcolor": "rgb(140, 86, 75)",
          "line": {
           "width": 0
          },
          "opacity": 1,
          "type": "rect",
          "x0": "2019-05-29T07:46:21.779000Z",
          "x1": "2019-05-29T07:53:44.567000Z",
          "xref": "x",
          "y0": 20.8,
          "y1": 21.2,
          "yref": "y"
         },
         {
          "fillcolor": "rgb(227, 119, 194)",
          "line": {
           "width": 0
          },
          "opacity": 1,
          "type": "rect",
          "x0": "2019-05-29T07:46:21.773000Z",
          "x1": "2019-05-29T07:47:08.199000Z",
          "xref": "x",
          "y0": 0.8,
          "y1": 1.2,
          "yref": "y"
         },
         {
          "fillcolor": "rgb(127, 127, 127)",
          "line": {
           "width": 0
          },
          "opacity": 1,
          "type": "rect",
          "x0": "2019-05-29T07:40:21.737000Z",
          "x1": "2019-05-29T07:47:33.218000Z",
          "xref": "x",
          "y0": 19.8,
          "y1": 20.2,
          "yref": "y"
         },
         {
          "fillcolor": "rgb(188, 189, 34)",
          "line": {
           "width": 0
          },
          "opacity": 1,
          "type": "rect",
          "x0": "2019-05-29T07:40:21.729000Z",
          "x1": "2019-05-29T07:47:42.972000Z",
          "xref": "x",
          "y0": 17.8,
          "y1": 18.2,
          "yref": "y"
         },
         {
          "fillcolor": "rgb(23, 190, 207)",
          "line": {
           "width": 0
          },
          "opacity": 1,
          "type": "rect",
          "x0": "2019-05-29T07:39:22.390000Z",
          "x1": "2019-05-29T07:46:36.618000Z",
          "xref": "x",
          "y0": 18.8,
          "y1": 19.2,
          "yref": "y"
         },
         {
          "fillcolor": "rgb(31, 119, 180)",
          "line": {
           "width": 0
          },
          "opacity": 1,
          "type": "rect",
          "x0": "2019-05-29T07:30:51.865000Z",
          "x1": "2019-05-29T07:38:07.312000Z",
          "xref": "x",
          "y0": 20.8,
          "y1": 21.2,
          "yref": "y"
         },
         {
          "fillcolor": "rgb(255, 127, 14)",
          "line": {
           "width": 0
          },
          "opacity": 1,
          "type": "rect",
          "x0": "2019-05-29T07:15:42.528000Z",
          "x1": "2019-05-29T07:22:55.534000Z",
          "xref": "x",
          "y0": 20.8,
          "y1": 21.2,
          "yref": "y"
         },
         {
          "fillcolor": "rgb(44, 160, 44)",
          "line": {
           "width": 0
          },
          "opacity": 1,
          "type": "rect",
          "x0": "2019-05-29T07:10:12.732000Z",
          "x1": "2019-05-29T07:18:00.351000Z",
          "xref": "x",
          "y0": 17.8,
          "y1": 18.2,
          "yref": "y"
         },
         {
          "fillcolor": "rgb(214, 39, 40)",
          "line": {
           "width": 0
          },
          "opacity": 1,
          "type": "rect",
          "x0": "2019-05-29T07:10:12.525000Z",
          "x1": "2019-05-29T07:17:19.672000Z",
          "xref": "x",
          "y0": 19.8,
          "y1": 20.2,
          "yref": "y"
         },
         {
          "fillcolor": "rgb(148, 103, 189)",
          "line": {
           "width": 0
          },
          "opacity": 1,
          "type": "rect",
          "x0": "2019-05-29T07:00:53.896000Z",
          "x1": "2019-05-29T07:31:04.430000Z",
          "xref": "x",
          "y0": 9.8,
          "y1": 10.2,
          "yref": "y"
         },
         {
          "fillcolor": "rgb(140, 86, 75)",
          "line": {
           "width": 0
          },
          "opacity": 1,
          "type": "rect",
          "x0": "2019-05-29T07:00:25.820000Z",
          "x1": "2019-05-29T07:07:43.222000Z",
          "xref": "x",
          "y0": 20.8,
          "y1": 21.2,
          "yref": "y"
         },
         {
          "fillcolor": "rgb(227, 119, 194)",
          "line": {
           "width": 0
          },
          "opacity": 1,
          "type": "rect",
          "x0": "2019-05-29T07:00:23.896000Z",
          "x1": "2019-05-29T07:25:50.711000Z",
          "xref": "x",
          "y0": 1.8,
          "y1": 2.2,
          "yref": "y"
         },
         {
          "fillcolor": "rgb(127, 127, 127)",
          "line": {
           "width": 0
          },
          "opacity": 1,
          "type": "rect",
          "x0": "2019-05-29T06:45:09.580000Z",
          "x1": "2019-05-29T06:52:21.611000Z",
          "xref": "x",
          "y0": 20.8,
          "y1": 21.2,
          "yref": "y"
         },
         {
          "fillcolor": "rgb(188, 189, 34)",
          "line": {
           "width": 0
          },
          "opacity": 1,
          "type": "rect",
          "x0": "2019-05-29T06:45:09.413000Z",
          "x1": "2019-05-29T07:02:31.129000Z",
          "xref": "x",
          "y0": 6.8,
          "y1": 7.2,
          "yref": "y"
         },
         {
          "fillcolor": "rgb(23, 190, 207)",
          "line": {
           "width": 0
          },
          "opacity": 1,
          "type": "rect",
          "x0": "2019-05-29T06:42:39.042000Z",
          "x1": "2019-05-29T06:49:39.981000Z",
          "xref": "x",
          "y0": 5.8,
          "y1": 6.2,
          "yref": "y"
         },
         {
          "fillcolor": "rgb(31, 119, 180)",
          "line": {
           "width": 0
          },
          "opacity": 1,
          "type": "rect",
          "x0": "2019-05-29T06:40:09.510000Z",
          "x1": "2019-05-29T06:47:25.035000Z",
          "xref": "x",
          "y0": 19.8,
          "y1": 20.2,
          "yref": "y"
         },
         {
          "fillcolor": "rgb(255, 127, 14)",
          "line": {
           "width": 0
          },
          "opacity": 1,
          "type": "rect",
          "x0": "2019-05-29T06:40:09.502000Z",
          "x1": "2019-05-29T06:47:43.988000Z",
          "xref": "x",
          "y0": 17.8,
          "y1": 18.2,
          "yref": "y"
         },
         {
          "fillcolor": "rgb(44, 160, 44)",
          "line": {
           "width": 0
          },
          "opacity": 1,
          "type": "rect",
          "x0": "2019-05-29T06:39:09.251000Z",
          "x1": "2019-05-29T06:46:07.144000Z",
          "xref": "x",
          "y0": 18.8,
          "y1": 19.2,
          "yref": "y"
         },
         {
          "fillcolor": "rgb(214, 39, 40)",
          "line": {
           "width": 0
          },
          "opacity": 1,
          "type": "rect",
          "x0": "2019-05-29T06:29:39.489000Z",
          "x1": "2019-05-29T06:36:48.528000Z",
          "xref": "x",
          "y0": 20.8,
          "y1": 21.2,
          "yref": "y"
         },
         {
          "fillcolor": "rgb(148, 103, 189)",
          "line": {
           "width": 0
          },
          "opacity": 1,
          "type": "rect",
          "x0": "2019-05-29T06:14:09.073000Z",
          "x1": "2019-05-29T06:21:38.634000Z",
          "xref": "x",
          "y0": 20.8,
          "y1": 21.2,
          "yref": "y"
         },
         {
          "fillcolor": "rgb(140, 86, 75)",
          "line": {
           "width": 0
          },
          "opacity": 1,
          "type": "rect",
          "x0": "2019-05-29T06:10:09.196000Z",
          "x1": "2019-05-29T06:17:29.622000Z",
          "xref": "x",
          "y0": 17.8,
          "y1": 18.2,
          "yref": "y"
         },
         {
          "fillcolor": "rgb(227, 119, 194)",
          "line": {
           "width": 0
          },
          "opacity": 1,
          "type": "rect",
          "x0": "2019-05-29T06:09:39.301000Z",
          "x1": "2019-05-29T06:16:54.762000Z",
          "xref": "x",
          "y0": 19.8,
          "y1": 20.2,
          "yref": "y"
         },
         {
          "fillcolor": "rgb(127, 127, 127)",
          "line": {
           "width": 0
          },
          "opacity": 1,
          "type": "rect",
          "x0": "2019-05-29T06:01:10.253000Z",
          "x1": "2019-05-29T06:14:26.672000Z",
          "xref": "x",
          "y0": 2.8,
          "y1": 3.2,
          "yref": "y"
         },
         {
          "fillcolor": "rgb(188, 189, 34)",
          "line": {
           "width": 0
          },
          "opacity": 1,
          "type": "rect",
          "x0": "2019-05-29T05:58:39.017000Z",
          "x1": "2019-05-29T06:05:58.404000Z",
          "xref": "x",
          "y0": 20.8,
          "y1": 21.2,
          "yref": "y"
         },
         {
          "fillcolor": "rgb(23, 190, 207)",
          "line": {
           "width": 0
          },
          "opacity": 1,
          "type": "rect",
          "x0": "2019-05-29T05:43:09.344000Z",
          "x1": "2019-05-29T05:50:24.028000Z",
          "xref": "x",
          "y0": 20.8,
          "y1": 21.2,
          "yref": "y"
         },
         {
          "fillcolor": "rgb(31, 119, 180)",
          "line": {
           "width": 0
          },
          "opacity": 1,
          "type": "rect",
          "x0": "2019-05-29T05:40:09.336000Z",
          "x1": "2019-05-29T05:47:50.637000Z",
          "xref": "x",
          "y0": 17.8,
          "y1": 18.2,
          "yref": "y"
         },
         {
          "fillcolor": "rgb(255, 127, 14)",
          "line": {
           "width": 0
          },
          "opacity": 1,
          "type": "rect",
          "x0": "2019-05-29T05:39:09.358000Z",
          "x1": "2019-05-29T05:46:21.752000Z",
          "xref": "x",
          "y0": 19.8,
          "y1": 20.2,
          "yref": "y"
         },
         {
          "fillcolor": "rgb(44, 160, 44)",
          "line": {
           "width": 0
          },
          "opacity": 1,
          "type": "rect",
          "x0": "2019-05-29T05:38:39.321000Z",
          "x1": "2019-05-29T05:45:54.508000Z",
          "xref": "x",
          "y0": 18.8,
          "y1": 19.2,
          "yref": "y"
         },
         {
          "fillcolor": "rgb(214, 39, 40)",
          "line": {
           "width": 0
          },
          "opacity": 1,
          "type": "rect",
          "x0": "2019-05-29T05:27:39.180000Z",
          "x1": "2019-05-29T05:34:55.840000Z",
          "xref": "x",
          "y0": 20.8,
          "y1": 21.2,
          "yref": "y"
         },
         {
          "fillcolor": "rgb(148, 103, 189)",
          "line": {
           "width": 0
          },
          "opacity": 1,
          "type": "rect",
          "x0": "2019-05-29T05:23:39.167000Z",
          "x1": "2019-05-29T05:41:02.365000Z",
          "xref": "x",
          "y0": 16.8,
          "y1": 17.2,
          "yref": "y"
         },
         {
          "fillcolor": "rgb(140, 86, 75)",
          "line": {
           "width": 0
          },
          "opacity": 1,
          "type": "rect",
          "x0": "2019-05-29T05:12:08.847000Z",
          "x1": "2019-05-29T05:19:12.735000Z",
          "xref": "x",
          "y0": 20.8,
          "y1": 21.2,
          "yref": "y"
         },
         {
          "fillcolor": "rgb(227, 119, 194)",
          "line": {
           "width": 0
          },
          "opacity": 1,
          "type": "rect",
          "x0": "2019-05-29T05:10:08.993000Z",
          "x1": "2019-05-29T05:17:33.761000Z",
          "xref": "x",
          "y0": 17.8,
          "y1": 18.2,
          "yref": "y"
         },
         {
          "fillcolor": "rgb(127, 127, 127)",
          "line": {
           "width": 0
          },
          "opacity": 1,
          "type": "rect",
          "x0": "2019-05-29T05:08:39.224000Z",
          "x1": "2019-05-29T05:15:48.966000Z",
          "xref": "x",
          "y0": 19.8,
          "y1": 20.2,
          "yref": "y"
         },
         {
          "fillcolor": "rgb(188, 189, 34)",
          "line": {
           "width": 0
          },
          "opacity": 1,
          "type": "rect",
          "x0": "2019-05-29T04:56:52.598000Z",
          "x1": "2019-05-29T05:04:14.860000Z",
          "xref": "x",
          "y0": 20.8,
          "y1": 21.2,
          "yref": "y"
         },
         {
          "fillcolor": "rgb(23, 190, 207)",
          "line": {
           "width": 0
          },
          "opacity": 1,
          "type": "rect",
          "x0": "2019-05-29T04:41:45.253000Z",
          "x1": "2019-05-29T04:48:52.661000Z",
          "xref": "x",
          "y0": 20.8,
          "y1": 21.2,
          "yref": "y"
         },
         {
          "fillcolor": "rgb(31, 119, 180)",
          "line": {
           "width": 0
          },
          "opacity": 1,
          "type": "rect",
          "x0": "2019-05-29T04:40:15.853000Z",
          "x1": "2019-05-29T04:48:00.386000Z",
          "xref": "x",
          "y0": 17.8,
          "y1": 18.2,
          "yref": "y"
         },
         {
          "fillcolor": "rgb(255, 127, 14)",
          "line": {
           "width": 0
          },
          "opacity": 1,
          "type": "rect",
          "x0": "2019-05-29T04:38:16.311000Z",
          "x1": "2019-05-29T04:45:49.822000Z",
          "xref": "x",
          "y0": 19.8,
          "y1": 20.2,
          "yref": "y"
         },
         {
          "fillcolor": "rgb(44, 160, 44)",
          "line": {
           "width": 0
          },
          "opacity": 1,
          "type": "rect",
          "x0": "2019-05-29T04:38:15.360000Z",
          "x1": "2019-05-29T04:45:33.816000Z",
          "xref": "x",
          "y0": 18.8,
          "y1": 19.2,
          "yref": "y"
         },
         {
          "fillcolor": "rgb(214, 39, 40)",
          "line": {
           "width": 0
          },
          "opacity": 1,
          "type": "rect",
          "x0": "2019-05-29T04:26:15.179000Z",
          "x1": "2019-05-29T04:33:24.116000Z",
          "xref": "x",
          "y0": 20.8,
          "y1": 21.2,
          "yref": "y"
         },
         {
          "fillcolor": "rgb(148, 103, 189)",
          "line": {
           "width": 0
          },
          "opacity": 1,
          "type": "rect",
          "x0": "2019-05-29T04:10:45.150000Z",
          "x1": "2019-05-29T04:17:49.081000Z",
          "xref": "x",
          "y0": 20.8,
          "y1": 21.2,
          "yref": "y"
         },
         {
          "fillcolor": "rgb(140, 86, 75)",
          "line": {
           "width": 0
          },
          "opacity": 1,
          "type": "rect",
          "x0": "2019-05-29T04:10:15.139000Z",
          "x1": "2019-05-29T04:17:42.699000Z",
          "xref": "x",
          "y0": 17.8,
          "y1": 18.2,
          "yref": "y"
         },
         {
          "fillcolor": "rgb(227, 119, 194)",
          "line": {
           "width": 0
          },
          "opacity": 1,
          "type": "rect",
          "x0": "2019-05-29T04:07:45.163000Z",
          "x1": "2019-05-29T04:14:54.145000Z",
          "xref": "x",
          "y0": 19.8,
          "y1": 20.2,
          "yref": "y"
         },
         {
          "fillcolor": "rgb(127, 127, 127)",
          "line": {
           "width": 0
          },
          "opacity": 1,
          "type": "rect",
          "x0": "2019-05-29T03:55:15.426000Z",
          "x1": "2019-05-29T04:02:29.237000Z",
          "xref": "x",
          "y0": 20.8,
          "y1": 21.2,
          "yref": "y"
         },
         {
          "fillcolor": "rgb(188, 189, 34)",
          "line": {
           "width": 0
          },
          "opacity": 1,
          "type": "rect",
          "x0": "2019-05-29T03:54:15.058000Z",
          "x1": "2019-05-29T04:14:43.433000Z",
          "xref": "x",
          "y0": 7.8,
          "y1": 8.2,
          "yref": "y"
         },
         {
          "fillcolor": "rgb(23, 190, 207)",
          "line": {
           "width": 0
          },
          "opacity": 1,
          "type": "rect",
          "x0": "2019-05-29T03:44:47.539000Z",
          "x1": "2019-05-29T04:03:47.678000Z",
          "xref": "x",
          "y0": 6.8,
          "y1": 7.2,
          "yref": "y"
         },
         {
          "fillcolor": "rgb(31, 119, 180)",
          "line": {
           "width": 0
          },
          "opacity": 1,
          "type": "rect",
          "x0": "2019-05-29T03:42:15.770000Z",
          "x1": "2019-05-29T03:49:38.492000Z",
          "xref": "x",
          "y0": 5.8,
          "y1": 6.2,
          "yref": "y"
         },
         {
          "fillcolor": "rgb(255, 127, 14)",
          "line": {
           "width": 0
          },
          "opacity": 1,
          "type": "rect",
          "x0": "2019-05-29T03:40:15.837000Z",
          "x1": "2019-05-29T03:48:21.007000Z",
          "xref": "x",
          "y0": 17.8,
          "y1": 18.2,
          "yref": "y"
         },
         {
          "fillcolor": "rgb(44, 160, 44)",
          "line": {
           "width": 0
          },
          "opacity": 1,
          "type": "rect",
          "x0": "2019-05-29T03:39:45.557000Z",
          "x1": "2019-05-29T03:47:02.949000Z",
          "xref": "x",
          "y0": 20.8,
          "y1": 21.2,
          "yref": "y"
         },
         {
          "fillcolor": "rgb(214, 39, 40)",
          "line": {
           "width": 0
          },
          "opacity": 1,
          "type": "rect",
          "x0": "2019-05-29T03:37:45.354000Z",
          "x1": "2019-05-29T03:45:04.341000Z",
          "xref": "x",
          "y0": 18.8,
          "y1": 19.2,
          "yref": "y"
         },
         {
          "fillcolor": "rgb(148, 103, 189)",
          "line": {
           "width": 0
          },
          "opacity": 1,
          "type": "rect",
          "x0": "2019-05-29T03:37:16.176000Z",
          "x1": "2019-05-29T03:44:16.312000Z",
          "xref": "x",
          "y0": 19.8,
          "y1": 20.2,
          "yref": "y"
         },
         {
          "fillcolor": "rgb(140, 86, 75)",
          "line": {
           "width": 0
          },
          "opacity": 1,
          "type": "rect",
          "x0": "2019-05-29T03:24:16.217000Z",
          "x1": "2019-05-29T03:31:47.325000Z",
          "xref": "x",
          "y0": 20.8,
          "y1": 21.2,
          "yref": "y"
         },
         {
          "fillcolor": "rgb(227, 119, 194)",
          "line": {
           "width": 0
          },
          "opacity": 1,
          "type": "rect",
          "x0": "2019-05-29T03:14:45.326000Z",
          "x1": "2019-05-29T03:15:56.941000Z",
          "xref": "x",
          "y0": 4.8,
          "y1": 5.2,
          "yref": "y"
         },
         {
          "fillcolor": "rgb(127, 127, 127)",
          "line": {
           "width": 0
          },
          "opacity": 1,
          "type": "rect",
          "x0": "2019-05-29T03:10:15.379000Z",
          "x1": "2019-05-29T03:17:51.825000Z",
          "xref": "x",
          "y0": 17.8,
          "y1": 18.2,
          "yref": "y"
         },
         {
          "fillcolor": "rgb(188, 189, 34)",
          "line": {
           "width": 0
          },
          "opacity": 1,
          "type": "rect",
          "x0": "2019-05-29T03:08:46.178000Z",
          "x1": "2019-05-29T03:15:56.852000Z",
          "xref": "x",
          "y0": 20.8,
          "y1": 21.2,
          "yref": "y"
         },
         {
          "fillcolor": "rgb(23, 190, 207)",
          "line": {
           "width": 0
          },
          "opacity": 1,
          "type": "rect",
          "x0": "2019-05-29T03:06:45.830000Z",
          "x1": "2019-05-29T03:13:52.442000Z",
          "xref": "x",
          "y0": 19.8,
          "y1": 20.2,
          "yref": "y"
         },
         {
          "fillcolor": "rgb(31, 119, 180)",
          "line": {
           "width": 0
          },
          "opacity": 1,
          "type": "rect",
          "x0": "2019-05-29T02:56:45.254000Z",
          "x1": "2019-05-29T03:37:35.841000Z",
          "xref": "x",
          "y0": 16.8,
          "y1": 17.2,
          "yref": "y"
         },
         {
          "fillcolor": "rgb(255, 127, 14)",
          "line": {
           "width": 0
          },
          "opacity": 1,
          "type": "rect",
          "x0": "2019-05-29T02:53:15.497000Z",
          "x1": "2019-05-29T03:00:34.876000Z",
          "xref": "x",
          "y0": 20.8,
          "y1": 21.2,
          "yref": "y"
         },
         {
          "fillcolor": "rgb(44, 160, 44)",
          "line": {
           "width": 0
          },
          "opacity": 1,
          "type": "rect",
          "x0": "2019-05-29T02:40:15.319000Z",
          "x1": "2019-05-29T02:47:58.782000Z",
          "xref": "x",
          "y0": 17.8,
          "y1": 18.2,
          "yref": "y"
         },
         {
          "fillcolor": "rgb(214, 39, 40)",
          "line": {
           "width": 0
          },
          "opacity": 1,
          "type": "rect",
          "x0": "2019-05-29T02:37:45.375000Z",
          "x1": "2019-05-29T02:45:03.490000Z",
          "xref": "x",
          "y0": 20.8,
          "y1": 21.2,
          "yref": "y"
         },
         {
          "fillcolor": "rgb(148, 103, 189)",
          "line": {
           "width": 0
          },
          "opacity": 1,
          "type": "rect",
          "x0": "2019-05-29T02:37:15.407000Z",
          "x1": "2019-05-29T02:44:34.689000Z",
          "xref": "x",
          "y0": 18.8,
          "y1": 19.2,
          "yref": "y"
         },
         {
          "fillcolor": "rgb(140, 86, 75)",
          "line": {
           "width": 0
          },
          "opacity": 1,
          "type": "rect",
          "x0": "2019-05-29T02:36:16.436000Z",
          "x1": "2019-05-29T02:43:19.610000Z",
          "xref": "x",
          "y0": 19.8,
          "y1": 20.2,
          "yref": "y"
         },
         {
          "fillcolor": "rgb(227, 119, 194)",
          "line": {
           "width": 0
          },
          "opacity": 1,
          "type": "rect",
          "x0": "2019-05-29T02:23:15.230000Z",
          "x1": "2019-05-29T03:00:28.026000Z",
          "xref": "x",
          "y0": 16.8,
          "y1": 17.2,
          "yref": "y"
         },
         {
          "fillcolor": "rgb(127, 127, 127)",
          "line": {
           "width": 0
          },
          "opacity": 1,
          "type": "rect",
          "x0": "2019-05-29T02:22:16.512000Z",
          "x1": "2019-05-29T02:29:18.992000Z",
          "xref": "x",
          "y0": 20.8,
          "y1": 21.2,
          "yref": "y"
         },
         {
          "fillcolor": "rgb(188, 189, 34)",
          "line": {
           "width": 0
          },
          "opacity": 1,
          "type": "rect",
          "x0": "2019-05-29T02:10:15.359000Z",
          "x1": "2019-05-29T02:17:55.993000Z",
          "xref": "x",
          "y0": 17.8,
          "y1": 18.2,
          "yref": "y"
         },
         {
          "fillcolor": "rgb(23, 190, 207)",
          "line": {
           "width": 0
          },
          "opacity": 1,
          "type": "rect",
          "x0": "2019-05-29T02:06:45.701000Z",
          "x1": "2019-05-29T02:14:02.057000Z",
          "xref": "x",
          "y0": 20.8,
          "y1": 21.2,
          "yref": "y"
         },
         {
          "fillcolor": "rgb(31, 119, 180)",
          "line": {
           "width": 0
          },
          "opacity": 1,
          "type": "rect",
          "x0": "2019-05-29T02:05:45.475000Z",
          "x1": "2019-05-29T02:13:05.904000Z",
          "xref": "x",
          "y0": 19.8,
          "y1": 20.2,
          "yref": "y"
         },
         {
          "fillcolor": "rgb(255, 127, 14)",
          "line": {
           "width": 0
          },
          "opacity": 1,
          "type": "rect",
          "x0": "2019-05-29T02:00:47.760000Z",
          "x1": "2019-05-29T02:29:31.879000Z",
          "xref": "x",
          "y0": 9.8,
          "y1": 10.2,
          "yref": "y"
         },
         {
          "fillcolor": "rgb(44, 160, 44)",
          "line": {
           "width": 0
          },
          "opacity": 1,
          "type": "rect",
          "x0": "2019-05-29T01:51:15.358000Z",
          "x1": "2019-05-29T01:58:35.847000Z",
          "xref": "x",
          "y0": 20.8,
          "y1": 21.2,
          "yref": "y"
         },
         {
          "fillcolor": "rgb(214, 39, 40)",
          "line": {
           "width": 0
          },
          "opacity": 1,
          "type": "rect",
          "x0": "2019-05-29T01:40:14.761000Z",
          "x1": "2019-05-29T01:47:53.988000Z",
          "xref": "x",
          "y0": 17.8,
          "y1": 18.2,
          "yref": "y"
         },
         {
          "fillcolor": "rgb(148, 103, 189)",
          "line": {
           "width": 0
          },
          "opacity": 1,
          "type": "rect",
          "x0": "2019-05-29T01:36:45.169000Z",
          "x1": "2019-05-29T01:43:44.295000Z",
          "xref": "x",
          "y0": 18.8,
          "y1": 19.2,
          "yref": "y"
         },
         {
          "fillcolor": "rgb(140, 86, 75)",
          "line": {
           "width": 0
          },
          "opacity": 1,
          "type": "rect",
          "x0": "2019-05-29T01:35:45.957000Z",
          "x1": "2019-05-29T01:43:14.010000Z",
          "xref": "x",
          "y0": 20.8,
          "y1": 21.2,
          "yref": "y"
         },
         {
          "fillcolor": "rgb(227, 119, 194)",
          "line": {
           "width": 0
          },
          "opacity": 1,
          "type": "rect",
          "x0": "2019-05-29T01:35:15.448000Z",
          "x1": "2019-05-29T01:42:27.634000Z",
          "xref": "x",
          "y0": 19.8,
          "y1": 20.2,
          "yref": "y"
         },
         {
          "fillcolor": "rgb(127, 127, 127)",
          "line": {
           "width": 0
          },
          "opacity": 1,
          "type": "rect",
          "x0": "2019-05-29T01:20:15.203000Z",
          "x1": "2019-05-29T01:27:28.555000Z",
          "xref": "x",
          "y0": 20.8,
          "y1": 21.2,
          "yref": "y"
         },
         {
          "fillcolor": "rgb(188, 189, 34)",
          "line": {
           "width": 0
          },
          "opacity": 1,
          "type": "rect",
          "x0": "2019-05-29T01:10:15.062000Z",
          "x1": "2019-05-29T01:17:38.485000Z",
          "xref": "x",
          "y0": 17.8,
          "y1": 18.2,
          "yref": "y"
         },
         {
          "fillcolor": "rgb(23, 190, 207)",
          "line": {
           "width": 0
          },
          "opacity": 1,
          "type": "rect",
          "x0": "2019-05-29T01:04:45.034000Z",
          "x1": "2019-05-29T01:12:02.840000Z",
          "xref": "x",
          "y0": 19.8,
          "y1": 20.2,
          "yref": "y"
         },
         {
          "fillcolor": "rgb(31, 119, 180)",
          "line": {
           "width": 0
          },
          "opacity": 1,
          "type": "rect",
          "x0": "2019-05-29T01:04:44.997000Z",
          "x1": "2019-05-29T01:11:56.304000Z",
          "xref": "x",
          "y0": 20.8,
          "y1": 21.2,
          "yref": "y"
         },
         {
          "fillcolor": "rgb(255, 127, 14)",
          "line": {
           "width": 0
          },
          "opacity": 1,
          "type": "rect",
          "x0": "2019-05-29T01:00:44.957000Z",
          "x1": "2019-05-29T01:07:59.931000Z",
          "xref": "x",
          "y0": -0.2,
          "y1": 0.2,
          "yref": "y"
         },
         {
          "fillcolor": "rgb(44, 160, 44)",
          "line": {
           "width": 0
          },
          "opacity": 1,
          "type": "rect",
          "x0": "2019-05-29T01:00:15.393000Z",
          "x1": "2019-05-29T01:19:36.219000Z",
          "xref": "x",
          "y0": 1.8,
          "y1": 2.2,
          "yref": "y"
         },
         {
          "fillcolor": "rgb(214, 39, 40)",
          "line": {
           "width": 0
          },
          "opacity": 1,
          "type": "rect",
          "x0": "2019-05-29T00:49:14.973000Z",
          "x1": "2019-05-29T00:56:52.323000Z",
          "xref": "x",
          "y0": 20.8,
          "y1": 21.2,
          "yref": "y"
         },
         {
          "fillcolor": "rgb(148, 103, 189)",
          "line": {
           "width": 0
          },
          "opacity": 1,
          "type": "rect",
          "x0": "2019-05-29T00:44:15.017000Z",
          "x1": "2019-05-29T01:03:15.558000Z",
          "xref": "x",
          "y0": 6.8,
          "y1": 7.2,
          "yref": "y"
         },
         {
          "fillcolor": "rgb(140, 86, 75)",
          "line": {
           "width": 0
          },
          "opacity": 1,
          "type": "rect",
          "x0": "2019-05-29T00:41:45.268000Z",
          "x1": "2019-05-29T00:54:41.796000Z",
          "xref": "x",
          "y0": 5.8,
          "y1": 6.2,
          "yref": "y"
         },
         {
          "fillcolor": "rgb(227, 119, 194)",
          "line": {
           "width": 0
          },
          "opacity": 1,
          "type": "rect",
          "x0": "2019-05-29T00:40:15.229000Z",
          "x1": "2019-05-29T00:47:49.491000Z",
          "xref": "x",
          "y0": 17.8,
          "y1": 18.2,
          "yref": "y"
         },
         {
          "fillcolor": "rgb(127, 127, 127)",
          "line": {
           "width": 0
          },
          "opacity": 1,
          "type": "rect",
          "x0": "2019-05-29T00:36:15.668000Z",
          "x1": "2019-05-29T00:43:26.235000Z",
          "xref": "x",
          "y0": 18.8,
          "y1": 19.2,
          "yref": "y"
         },
         {
          "fillcolor": "rgb(188, 189, 34)",
          "line": {
           "width": 0
          },
          "opacity": 1,
          "type": "rect",
          "x0": "2019-05-29T00:34:16.965000Z",
          "x1": "2019-05-29T00:41:25.467000Z",
          "xref": "x",
          "y0": 19.8,
          "y1": 20.2,
          "yref": "y"
         },
         {
          "fillcolor": "rgb(23, 190, 207)",
          "line": {
           "width": 0
          },
          "opacity": 1,
          "type": "rect",
          "x0": "2019-05-29T00:33:45.223000Z",
          "x1": "2019-05-29T00:41:06.582000Z",
          "xref": "x",
          "y0": 20.8,
          "y1": 21.2,
          "yref": "y"
         },
         {
          "fillcolor": "rgb(31, 119, 180)",
          "line": {
           "width": 0
          },
          "opacity": 1,
          "type": "rect",
          "x0": "2019-05-29T00:18:15.548000Z",
          "x1": "2019-05-29T00:25:41.309000Z",
          "xref": "x",
          "y0": 20.8,
          "y1": 21.2,
          "yref": "y"
         },
         {
          "fillcolor": "rgb(255, 127, 14)",
          "line": {
           "width": 0
          },
          "opacity": 1,
          "type": "rect",
          "x0": "2019-05-29T00:10:15.230000Z",
          "x1": "2019-05-29T00:17:55.589000Z",
          "xref": "x",
          "y0": 17.8,
          "y1": 18.2,
          "yref": "y"
         },
         {
          "fillcolor": "rgb(44, 160, 44)",
          "line": {
           "width": 0
          },
          "opacity": 1,
          "type": "rect",
          "x0": "2019-05-29T00:04:15.497000Z",
          "x1": "2019-05-29T00:11:35.638000Z",
          "xref": "x",
          "y0": 19.8,
          "y1": 20.2,
          "yref": "y"
         },
         {
          "fillcolor": "rgb(214, 39, 40)",
          "line": {
           "width": 0
          },
          "opacity": 1,
          "type": "rect",
          "x0": "2019-05-29T00:03:13.575000Z",
          "x1": "2019-05-29T00:10:36.859000Z",
          "xref": "x",
          "y0": 20.8,
          "y1": 21.2,
          "yref": "y"
         },
         {
          "fillcolor": "rgb(148, 103, 189)",
          "line": {
           "width": 0
          },
          "opacity": 1,
          "type": "rect",
          "x0": "2019-05-29T00:01:15.384000Z",
          "x1": "2019-05-29T00:10:50.299000Z",
          "xref": "x",
          "y0": 2.8,
          "y1": 3.2,
          "yref": "y"
         }
        ],
        "showlegend": false,
        "title": "Gantt Chart",
        "width": 900,
        "xaxis": {
         "rangeselector": {
          "buttons": [
           {
            "count": 7,
            "label": "1w",
            "step": "day",
            "stepmode": "backward"
           },
           {
            "count": 1,
            "label": "1m",
            "step": "month",
            "stepmode": "backward"
           },
           {
            "count": 6,
            "label": "6m",
            "step": "month",
            "stepmode": "backward"
           },
           {
            "count": 1,
            "label": "YTD",
            "step": "year",
            "stepmode": "todate"
           },
           {
            "count": 1,
            "label": "1y",
            "step": "year",
            "stepmode": "backward"
           },
           {
            "step": "all"
           }
          ]
         },
         "showgrid": false,
         "type": "date",
         "zeroline": false
        },
        "yaxis": {
         "automargin": true,
         "autorange": false,
         "range": [
          -1,
          23
         ],
         "showgrid": false,
         "ticktext": [
          "archive-solomon-imports",
          "promo-events-from-st-to-yt",
          "crm-export-mql",
          "solomon-to-yt",
          "iam-to-yt",
          "crm-leads-to-dyn-table",
          "passport-uid-ba",
          "ba-to-ch",
          "funel-events-to-ch",
          "marketo-export-leads",
          "consumption-dashboard",
          "marketo-export-ya-fill-out-form",
          "marketo-export-ya-click-email",
          "marketo-export-ya-send-email",
          "marketo-export-ya-consumption-daily",
          "marketo-export-ya-open-email",
          "marketo-export-ya-visit-webpage",
          "consumption-daily-cumulative-to-ch",
          "crm-export-sales",
          "crm-suspended-accounts",
          "import-consulting-requests",
          "crm-export-consulting-requests"
         ],
         "tickvals": [
          0,
          1,
          2,
          3,
          4,
          5,
          6,
          7,
          8,
          9,
          10,
          11,
          12,
          13,
          14,
          15,
          16,
          17,
          18,
          19,
          20,
          21
         ],
         "zeroline": false
        }
       }
      },
      "text/html": [
       "<div id=\"8636262d-53c2-4bea-9051-493057e506a6\" style=\"height: 600px; width: 900px;\" class=\"plotly-graph-div\"></div><script type=\"text/javascript\">require([\"plotly\"], function(Plotly) { window.PLOTLYENV=window.PLOTLYENV || {};window.PLOTLYENV.BASE_URL=\"https://plot.ly\";Plotly.newPlot(\"8636262d-53c2-4bea-9051-493057e506a6\", [{\"type\": \"scatter\", \"marker\": {\"color\": \"white\"}, \"name\": \"\", \"x\": [\"2019-05-29T23:55:38.106000Z\", \"2019-05-30T00:03:22.140000Z\"], \"y\": [21, 21]}, {\"type\": \"scatter\", \"marker\": {\"color\": \"white\"}, \"name\": \"\", \"x\": [\"2019-05-29T23:49:07.513000Z\", \"2019-05-29T23:56:08.024000Z\"], \"y\": [20, 20]}, {\"type\": \"scatter\", \"marker\": {\"color\": \"white\"}, \"name\": \"\", \"x\": [\"2019-05-29T23:44:38.121000Z\", \"2019-05-29T23:51:58.914000Z\"], \"y\": [19, 19]}, {\"type\": \"scatter\", \"marker\": {\"color\": \"white\"}, \"name\": \"\", \"x\": [\"2019-05-29T23:40:07.889000Z\", \"2019-05-29T23:47:18.188000Z\"], \"y\": [21, 21]}, {\"type\": \"scatter\", \"marker\": {\"color\": \"white\"}, \"name\": \"\", \"x\": [\"2019-05-29T23:40:07.382000Z\", \"2019-05-29T23:48:02.724000Z\"], \"y\": [18, 18]}, {\"type\": \"scatter\", \"marker\": {\"color\": \"white\"}, \"name\": \"\", \"x\": [\"2019-05-29T23:25:37.502000Z\", \"2019-05-29T23:41:31.206000Z\"], \"y\": [17, 17]}, {\"type\": \"scatter\", \"marker\": {\"color\": \"white\"}, \"name\": \"\", \"x\": [\"2019-05-29T23:24:37.490000Z\", \"2019-05-29T23:31:30.095000Z\"], \"y\": [21, 21]}, {\"type\": \"scatter\", \"marker\": {\"color\": \"white\"}, \"name\": \"\", \"x\": [\"2019-05-29T23:18:37.667000Z\", \"2019-05-29T23:25:47.528000Z\"], \"y\": [20, 20]}, {\"type\": \"scatter\", \"marker\": {\"color\": \"white\"}, \"name\": \"\", \"x\": [\"2019-05-29T23:10:26.735000Z\", \"2019-05-29T23:18:08.058000Z\"], \"y\": [18, 18]}, {\"type\": \"scatter\", \"marker\": {\"color\": \"white\"}, \"name\": \"\", \"x\": [\"2019-05-29T23:09:27.799000Z\", \"2019-05-29T23:16:43.766000Z\"], \"y\": [21, 21]}, {\"type\": \"scatter\", \"marker\": {\"color\": \"white\"}, \"name\": \"\", \"x\": [\"2019-05-29T23:01:11.969000Z\", \"2019-05-29T23:14:08.110000Z\"], \"y\": [16, 16]}, {\"type\": \"scatter\", \"marker\": {\"color\": \"white\"}, \"name\": \"\", \"x\": [\"2019-05-29T23:01:11.690000Z\", \"2019-05-29T23:08:26.085000Z\"], \"y\": [15, 15]}, {\"type\": \"scatter\", \"marker\": {\"color\": \"white\"}, \"name\": \"\", \"x\": [\"2019-05-29T23:01:11.647000Z\", \"2019-05-29T23:19:33.341000Z\"], \"y\": [14, 14]}, {\"type\": \"scatter\", \"marker\": {\"color\": \"white\"}, \"name\": \"\", \"x\": [\"2019-05-29T23:00:42.793000Z\", \"2019-05-29T23:02:44.818000Z\"], \"y\": [13, 13]}, {\"type\": \"scatter\", \"marker\": {\"color\": \"white\"}, \"name\": \"\", \"x\": [\"2019-05-29T23:00:42.153000Z\", \"2019-05-29T23:08:05.251000Z\"], \"y\": [12, 12]}, {\"type\": \"scatter\", \"marker\": {\"color\": \"white\"}, \"name\": \"\", \"x\": [\"2019-05-29T23:00:41.999000Z\", \"2019-05-29T23:08:07.735000Z\"], \"y\": [11, 11]}, {\"type\": \"scatter\", \"marker\": {\"color\": \"white\"}, \"name\": \"\", \"x\": [\"2019-05-29T22:58:25.658000Z\", \"2019-05-29T23:45:00.138000Z\"], \"y\": [17, 17]}, {\"type\": \"scatter\", \"marker\": {\"color\": \"white\"}, \"name\": \"\", \"x\": [\"2019-05-29T22:53:55.955000Z\", \"2019-05-29T23:01:05.235000Z\"], \"y\": [21, 21]}, {\"type\": \"scatter\", \"marker\": {\"color\": \"white\"}, \"name\": \"\", \"x\": [\"2019-05-29T22:48:25.346000Z\", \"2019-05-29T22:55:36.297000Z\"], \"y\": [20, 20]}, {\"type\": \"scatter\", \"marker\": {\"color\": \"white\"}, \"name\": \"\", \"x\": [\"2019-05-29T22:44:26.416000Z\", \"2019-05-29T22:51:42.391000Z\"], \"y\": [19, 19]}, {\"type\": \"scatter\", \"marker\": {\"color\": \"white\"}, \"name\": \"\", \"x\": [\"2019-05-29T22:40:20.361000Z\", \"2019-05-29T22:48:08.365000Z\"], \"y\": [18, 18]}, {\"type\": \"scatter\", \"marker\": {\"color\": \"white\"}, \"name\": \"\", \"x\": [\"2019-05-29T22:38:49.877000Z\", \"2019-05-29T22:46:07.279000Z\"], \"y\": [21, 21]}, {\"type\": \"scatter\", \"marker\": {\"color\": \"white\"}, \"name\": \"\", \"x\": [\"2019-05-29T22:23:28.856000Z\", \"2019-05-29T22:31:21.307000Z\"], \"y\": [21, 21]}, {\"type\": \"scatter\", \"marker\": {\"color\": \"white\"}, \"name\": \"\", \"x\": [\"2019-05-29T22:18:20.571000Z\", \"2019-05-29T22:26:10.778000Z\"], \"y\": [20, 20]}, {\"type\": \"scatter\", \"marker\": {\"color\": \"white\"}, \"name\": \"\", \"x\": [\"2019-05-29T22:10:03.810000Z\", \"2019-05-29T22:18:13.468000Z\"], \"y\": [18, 18]}, {\"type\": \"scatter\", \"marker\": {\"color\": \"white\"}, \"name\": \"\", \"x\": [\"2019-05-29T22:08:11.456000Z\", \"2019-05-29T22:16:22.500000Z\"], \"y\": [21, 21]}, {\"type\": \"scatter\", \"marker\": {\"color\": \"white\"}, \"name\": \"\", \"x\": [\"2019-05-29T22:00:43.346000Z\", \"2019-05-29T22:38:17.510000Z\"], \"y\": [10, 10]}, {\"type\": \"scatter\", \"marker\": {\"color\": \"white\"}, \"name\": \"\", \"x\": [\"2019-05-29T22:00:43.295000Z\", \"2019-05-29T22:20:21.966000Z\"], \"y\": [9, 9]}, {\"type\": \"scatter\", \"marker\": {\"color\": \"white\"}, \"name\": \"\", \"x\": [\"2019-05-29T21:54:43.055000Z\", \"2019-05-29T22:19:59.233000Z\"], \"y\": [8, 8]}, {\"type\": \"scatter\", \"marker\": {\"color\": \"white\"}, \"name\": \"\", \"x\": [\"2019-05-29T21:52:43.244000Z\", \"2019-05-29T21:59:51.592000Z\"], \"y\": [21, 21]}, {\"type\": \"scatter\", \"marker\": {\"color\": \"white\"}, \"name\": \"\", \"x\": [\"2019-05-29T21:48:13.326000Z\", \"2019-05-29T22:05:56.389000Z\"], \"y\": [7, 7]}, {\"type\": \"scatter\", \"marker\": {\"color\": \"white\"}, \"name\": \"\", \"x\": [\"2019-05-29T21:47:42.992000Z\", \"2019-05-29T21:54:56.759000Z\"], \"y\": [20, 20]}, {\"type\": \"scatter\", \"marker\": {\"color\": \"white\"}, \"name\": \"\", \"x\": [\"2019-05-29T21:44:42.752000Z\", \"2019-05-29T21:57:10.373000Z\"], \"y\": [6, 6]}, {\"type\": \"scatter\", \"marker\": {\"color\": \"white\"}, \"name\": \"\", \"x\": [\"2019-05-29T21:44:13.163000Z\", \"2019-05-29T21:51:31.945000Z\"], \"y\": [19, 19]}, {\"type\": \"scatter\", \"marker\": {\"color\": \"white\"}, \"name\": \"\", \"x\": [\"2019-05-29T21:40:13.364000Z\", \"2019-05-29T21:48:00.662000Z\"], \"y\": [18, 18]}, {\"type\": \"scatter\", \"marker\": {\"color\": \"white\"}, \"name\": \"\", \"x\": [\"2019-05-29T21:37:15.802000Z\", \"2019-05-29T21:44:26.092000Z\"], \"y\": [21, 21]}, {\"type\": \"scatter\", \"marker\": {\"color\": \"white\"}, \"name\": \"\", \"x\": [\"2019-05-29T21:22:10.452000Z\", \"2019-05-29T21:29:34.106000Z\"], \"y\": [21, 21]}, {\"type\": \"scatter\", \"marker\": {\"color\": \"white\"}, \"name\": \"\", \"x\": [\"2019-05-29T21:17:37.891000Z\", \"2019-05-29T21:25:09.409000Z\"], \"y\": [20, 20]}, {\"type\": \"scatter\", \"marker\": {\"color\": \"white\"}, \"name\": \"\", \"x\": [\"2019-05-29T21:15:08.295000Z\", \"2019-05-29T21:16:10.341000Z\"], \"y\": [5, 5]}, {\"type\": \"scatter\", \"marker\": {\"color\": \"white\"}, \"name\": \"\", \"x\": [\"2019-05-29T21:10:09.191000Z\", \"2019-05-29T21:18:11.425000Z\"], \"y\": [18, 18]}, {\"type\": \"scatter\", \"marker\": {\"color\": \"white\"}, \"name\": \"\", \"x\": [\"2019-05-29T21:07:08.492000Z\", \"2019-05-29T21:14:23.257000Z\"], \"y\": [21, 21]}, {\"type\": \"scatter\", \"marker\": {\"color\": \"white\"}, \"name\": \"\", \"x\": [\"2019-05-29T20:52:05.038000Z\", \"2019-05-29T20:59:31.612000Z\"], \"y\": [21, 21]}, {\"type\": \"scatter\", \"marker\": {\"color\": \"white\"}, \"name\": \"\", \"x\": [\"2019-05-29T20:47:32.882000Z\", \"2019-05-29T20:54:58.644000Z\"], \"y\": [20, 20]}, {\"type\": \"scatter\", \"marker\": {\"color\": \"white\"}, \"name\": \"\", \"x\": [\"2019-05-29T20:44:02.020000Z\", \"2019-05-29T20:51:21.153000Z\"], \"y\": [19, 19]}, {\"type\": \"scatter\", \"marker\": {\"color\": \"white\"}, \"name\": \"\", \"x\": [\"2019-05-29T20:40:01.256000Z\", \"2019-05-29T20:47:36.394000Z\"], \"y\": [18, 18]}, {\"type\": \"scatter\", \"marker\": {\"color\": \"white\"}, \"name\": \"\", \"x\": [\"2019-05-29T20:37:01.198000Z\", \"2019-05-29T20:44:29.318000Z\"], \"y\": [21, 21]}, {\"type\": \"scatter\", \"marker\": {\"color\": \"white\"}, \"name\": \"\", \"x\": [\"2019-05-29T20:25:34.387000Z\", \"2019-05-29T20:42:28.218000Z\"], \"y\": [17, 17]}, {\"type\": \"scatter\", \"marker\": {\"color\": \"white\"}, \"name\": \"\", \"x\": [\"2019-05-29T20:21:34.587000Z\", \"2019-05-29T20:28:40.538000Z\"], \"y\": [21, 21]}, {\"type\": \"scatter\", \"marker\": {\"color\": \"white\"}, \"name\": \"\", \"x\": [\"2019-05-29T20:17:04.587000Z\", \"2019-05-29T20:24:18.492000Z\"], \"y\": [20, 20]}, {\"type\": \"scatter\", \"marker\": {\"color\": \"white\"}, \"name\": \"\", \"x\": [\"2019-05-29T20:10:02.488000Z\", \"2019-05-29T20:17:29.640000Z\"], \"y\": [18, 18]}, {\"type\": \"scatter\", \"marker\": {\"color\": \"white\"}, \"name\": \"\", \"x\": [\"2019-05-29T20:06:32.745000Z\", \"2019-05-29T20:13:44.445000Z\"], \"y\": [21, 21]}, {\"type\": \"scatter\", \"marker\": {\"color\": \"white\"}, \"name\": \"\", \"x\": [\"2019-05-29T20:00:32.450000Z\", \"2019-05-29T20:49:33.081000Z\"], \"y\": [4, 4]}, {\"type\": \"scatter\", \"marker\": {\"color\": \"white\"}, \"name\": \"\", \"x\": [\"2019-05-29T19:51:02.287000Z\", \"2019-05-29T19:58:21.778000Z\"], \"y\": [21, 21]}, {\"type\": \"scatter\", \"marker\": {\"color\": \"white\"}, \"name\": \"\", \"x\": [\"2019-05-29T19:47:01.757000Z\", \"2019-05-29T19:54:12.469000Z\"], \"y\": [20, 20]}, {\"type\": \"scatter\", \"marker\": {\"color\": \"white\"}, \"name\": \"\", \"x\": [\"2019-05-29T19:43:32.295000Z\", \"2019-05-29T19:50:50.011000Z\"], \"y\": [19, 19]}, {\"type\": \"scatter\", \"marker\": {\"color\": \"white\"}, \"name\": \"\", \"x\": [\"2019-05-29T19:40:02.430000Z\", \"2019-05-29T19:48:09.056000Z\"], \"y\": [18, 18]}, {\"type\": \"scatter\", \"marker\": {\"color\": \"white\"}, \"name\": \"\", \"x\": [\"2019-05-29T19:35:32.247000Z\", \"2019-05-29T19:43:28.606000Z\"], \"y\": [21, 21]}, {\"type\": \"scatter\", \"marker\": {\"color\": \"white\"}, \"name\": \"\", \"x\": [\"2019-05-29T19:20:01.800000Z\", \"2019-05-29T19:26:58.143000Z\"], \"y\": [21, 21]}, {\"type\": \"scatter\", \"marker\": {\"color\": \"white\"}, \"name\": \"\", \"x\": [\"2019-05-29T19:16:31.780000Z\", \"2019-05-29T19:24:03.939000Z\"], \"y\": [20, 20]}, {\"type\": \"scatter\", \"marker\": {\"color\": \"white\"}, \"name\": \"\", \"x\": [\"2019-05-29T19:10:01.669000Z\", \"2019-05-29T19:17:31.178000Z\"], \"y\": [18, 18]}, {\"type\": \"scatter\", \"marker\": {\"color\": \"white\"}, \"name\": \"\", \"x\": [\"2019-05-29T19:04:31.790000Z\", \"2019-05-29T19:11:36.597000Z\"], \"y\": [21, 21]}, {\"type\": \"scatter\", \"marker\": {\"color\": \"white\"}, \"name\": \"\", \"x\": [\"2019-05-29T18:49:01.821000Z\", \"2019-05-29T18:56:25.212000Z\"], \"y\": [21, 21]}, {\"type\": \"scatter\", \"marker\": {\"color\": \"white\"}, \"name\": \"\", \"x\": [\"2019-05-29T18:48:01.505000Z\", \"2019-05-29T19:05:38.671000Z\"], \"y\": [7, 7]}, {\"type\": \"scatter\", \"marker\": {\"color\": \"white\"}, \"name\": \"\", \"x\": [\"2019-05-29T18:46:01.567000Z\", \"2019-05-29T18:53:20.950000Z\"], \"y\": [20, 20]}, {\"type\": \"scatter\", \"marker\": {\"color\": \"white\"}, \"name\": \"\", \"x\": [\"2019-05-29T18:44:31.718000Z\", \"2019-05-29T18:51:40.358000Z\"], \"y\": [6, 6]}, {\"type\": \"scatter\", \"marker\": {\"color\": \"white\"}, \"name\": \"\", \"x\": [\"2019-05-29T18:43:01.736000Z\", \"2019-05-29T18:50:11.681000Z\"], \"y\": [19, 19]}, {\"type\": \"scatter\", \"marker\": {\"color\": \"white\"}, \"name\": \"\", \"x\": [\"2019-05-29T18:40:01.313000Z\", \"2019-05-29T18:47:39.786000Z\"], \"y\": [18, 18]}, {\"type\": \"scatter\", \"marker\": {\"color\": \"white\"}, \"name\": \"\", \"x\": [\"2019-05-29T18:33:31.531000Z\", \"2019-05-29T18:40:43.054000Z\"], \"y\": [21, 21]}, {\"type\": \"scatter\", \"marker\": {\"color\": \"white\"}, \"name\": \"\", \"x\": [\"2019-05-29T18:18:20.805000Z\", \"2019-05-29T18:25:43.344000Z\"], \"y\": [21, 21]}, {\"type\": \"scatter\", \"marker\": {\"color\": \"white\"}, \"name\": \"\", \"x\": [\"2019-05-29T18:15:50.641000Z\", \"2019-05-29T18:23:08.598000Z\"], \"y\": [20, 20]}, {\"type\": \"scatter\", \"marker\": {\"color\": \"white\"}, \"name\": \"\", \"x\": [\"2019-05-29T18:10:28.470000Z\", \"2019-05-29T18:18:08.776000Z\"], \"y\": [18, 18]}, {\"type\": \"scatter\", \"marker\": {\"color\": \"white\"}, \"name\": \"\", \"x\": [\"2019-05-29T18:02:57.790000Z\", \"2019-05-29T18:10:20.431000Z\"], \"y\": [21, 21]}, {\"type\": \"scatter\", \"marker\": {\"color\": \"white\"}, \"name\": \"\", \"x\": [\"2019-05-29T18:00:57.385000Z\", \"2019-05-29T18:09:34.604000Z\"], \"y\": [3, 3]}, {\"type\": \"scatter\", \"marker\": {\"color\": \"white\"}, \"name\": \"\", \"x\": [\"2019-05-29T17:57:58.139000Z\", \"2019-05-29T18:47:59.919000Z\"], \"y\": [17, 17]}, {\"type\": \"scatter\", \"marker\": {\"color\": \"white\"}, \"name\": \"\", \"x\": [\"2019-05-29T17:47:40.238000Z\", \"2019-05-29T17:54:56.144000Z\"], \"y\": [21, 21]}, {\"type\": \"scatter\", \"marker\": {\"color\": \"white\"}, \"name\": \"\", \"x\": [\"2019-05-29T17:45:33.339000Z\", \"2019-05-29T17:52:56.787000Z\"], \"y\": [20, 20]}, {\"type\": \"scatter\", \"marker\": {\"color\": \"white\"}, \"name\": \"\", \"x\": [\"2019-05-29T17:42:33.994000Z\", \"2019-05-29T17:50:05.888000Z\"], \"y\": [19, 19]}, {\"type\": \"scatter\", \"marker\": {\"color\": \"white\"}, \"name\": \"\", \"x\": [\"2019-05-29T17:40:04.662000Z\", \"2019-05-29T17:47:44.378000Z\"], \"y\": [18, 18]}, {\"type\": \"scatter\", \"marker\": {\"color\": \"white\"}, \"name\": \"\", \"x\": [\"2019-05-29T17:32:33.421000Z\", \"2019-05-29T17:41:18.443000Z\"], \"y\": [21, 21]}, {\"type\": \"scatter\", \"marker\": {\"color\": \"white\"}, \"name\": \"\", \"x\": [\"2019-05-29T17:25:17.151000Z\", \"2019-05-29T17:43:28.778000Z\"], \"y\": [17, 17]}, {\"type\": \"scatter\", \"marker\": {\"color\": \"white\"}, \"name\": \"\", \"x\": [\"2019-05-29T17:17:18.507000Z\", \"2019-05-29T17:25:02.324000Z\"], \"y\": [21, 21]}, {\"type\": \"scatter\", \"marker\": {\"color\": \"white\"}, \"name\": \"\", \"x\": [\"2019-05-29T17:15:17.817000Z\", \"2019-05-29T17:22:52.325000Z\"], \"y\": [20, 20]}, {\"type\": \"scatter\", \"marker\": {\"color\": \"white\"}, \"name\": \"\", \"x\": [\"2019-05-29T17:10:05.708000Z\", \"2019-05-29T17:18:13.033000Z\"], \"y\": [18, 18]}, {\"type\": \"scatter\", \"marker\": {\"color\": \"white\"}, \"name\": \"\", \"x\": [\"2019-05-29T17:01:56.513000Z\", \"2019-05-29T17:09:36.700000Z\"], \"y\": [21, 21]}, {\"type\": \"scatter\", \"marker\": {\"color\": \"white\"}, \"name\": \"\", \"x\": [\"2019-05-29T17:00:53.489000Z\", \"2019-05-29T17:35:34.432000Z\"], \"y\": [10, 10]}, {\"type\": \"scatter\", \"marker\": {\"color\": \"white\"}, \"name\": \"\", \"x\": [\"2019-05-29T16:46:47.006000Z\", \"2019-05-29T16:54:38.334000Z\"], \"y\": [21, 21]}, {\"type\": \"scatter\", \"marker\": {\"color\": \"white\"}, \"name\": \"\", \"x\": [\"2019-05-29T16:44:41.770000Z\", \"2019-05-29T16:52:28.580000Z\"], \"y\": [20, 20]}, {\"type\": \"scatter\", \"marker\": {\"color\": \"white\"}, \"name\": \"\", \"x\": [\"2019-05-29T16:42:30.627000Z\", \"2019-05-29T16:50:20.351000Z\"], \"y\": [19, 19]}, {\"type\": \"scatter\", \"marker\": {\"color\": \"white\"}, \"name\": \"\", \"x\": [\"2019-05-29T16:40:15.563000Z\", \"2019-05-29T16:48:24.453000Z\"], \"y\": [18, 18]}, {\"type\": \"scatter\", \"marker\": {\"color\": \"white\"}, \"name\": \"\", \"x\": [\"2019-05-29T16:31:34.117000Z\", \"2019-05-29T16:39:55.747000Z\"], \"y\": [21, 21]}, {\"type\": \"scatter\", \"marker\": {\"color\": \"white\"}, \"name\": \"\", \"x\": [\"2019-05-29T16:16:14.340000Z\", \"2019-05-29T16:24:29.736000Z\"], \"y\": [21, 21]}, {\"type\": \"scatter\", \"marker\": {\"color\": \"white\"}, \"name\": \"\", \"x\": [\"2019-05-29T16:14:18.272000Z\", \"2019-05-29T16:21:58.514000Z\"], \"y\": [20, 20]}, {\"type\": \"scatter\", \"marker\": {\"color\": \"white\"}, \"name\": \"\", \"x\": [\"2019-05-29T16:10:25.422000Z\", \"2019-05-29T16:19:57.543000Z\"], \"y\": [18, 18]}, {\"type\": \"scatter\", \"marker\": {\"color\": \"white\"}, \"name\": \"\", \"x\": [\"2019-05-29T16:00:17.888000Z\", \"2019-05-29T16:08:00.092000Z\"], \"y\": [21, 21]}, {\"type\": \"scatter\", \"marker\": {\"color\": \"white\"}, \"name\": \"\", \"x\": [\"2019-05-29T15:54:34.428000Z\", \"2019-05-29T16:15:54.507000Z\"], \"y\": [8, 8]}, {\"type\": \"scatter\", \"marker\": {\"color\": \"white\"}, \"name\": \"\", \"x\": [\"2019-05-29T15:47:40.920000Z\", \"2019-05-29T16:04:49.654000Z\"], \"y\": [7, 7]}, {\"type\": \"scatter\", \"marker\": {\"color\": \"white\"}, \"name\": \"\", \"x\": [\"2019-05-29T15:45:11.010000Z\", \"2019-05-29T15:52:52.364000Z\"], \"y\": [21, 21]}, {\"type\": \"scatter\", \"marker\": {\"color\": \"white\"}, \"name\": \"\", \"x\": [\"2019-05-29T15:44:09.288000Z\", \"2019-05-29T15:51:45.474000Z\"], \"y\": [20, 20]}, {\"type\": \"scatter\", \"marker\": {\"color\": \"white\"}, \"name\": \"\", \"x\": [\"2019-05-29T15:44:08.809000Z\", \"2019-05-29T15:52:17.860000Z\"], \"y\": [6, 6]}, {\"type\": \"scatter\", \"marker\": {\"color\": \"white\"}, \"name\": \"\", \"x\": [\"2019-05-29T15:42:07.602000Z\", \"2019-05-29T15:50:16.193000Z\"], \"y\": [19, 19]}, {\"type\": \"scatter\", \"marker\": {\"color\": \"white\"}, \"name\": \"\", \"x\": [\"2019-05-29T15:40:05.860000Z\", \"2019-05-29T15:48:48.836000Z\"], \"y\": [18, 18]}, {\"type\": \"scatter\", \"marker\": {\"color\": \"white\"}, \"name\": \"\", \"x\": [\"2019-05-29T15:29:50.808000Z\", \"2019-05-29T15:37:40.665000Z\"], \"y\": [21, 21]}, {\"type\": \"scatter\", \"marker\": {\"color\": \"white\"}, \"name\": \"\", \"x\": [\"2019-05-29T15:15:05.975000Z\", \"2019-05-29T15:16:35.808000Z\"], \"y\": [5, 5]}, {\"type\": \"scatter\", \"marker\": {\"color\": \"white\"}, \"name\": \"\", \"x\": [\"2019-05-29T15:14:37.371000Z\", \"2019-05-29T15:22:41.798000Z\"], \"y\": [21, 21]}, {\"type\": \"scatter\", \"marker\": {\"color\": \"white\"}, \"name\": \"\", \"x\": [\"2019-05-29T15:13:46.017000Z\", \"2019-05-29T15:21:49.446000Z\"], \"y\": [20, 20]}, {\"type\": \"scatter\", \"marker\": {\"color\": \"white\"}, \"name\": \"\", \"x\": [\"2019-05-29T15:10:05.465000Z\", \"2019-05-29T15:18:40Z\"], \"y\": [18, 18]}, {\"type\": \"scatter\", \"marker\": {\"color\": \"white\"}, \"name\": \"\", \"x\": [\"2019-05-29T14:58:59.100000Z\", \"2019-05-29T15:08:39.432000Z\"], \"y\": [21, 21]}, {\"type\": \"scatter\", \"marker\": {\"color\": \"white\"}, \"name\": \"\", \"x\": [\"2019-05-29T14:43:53.147000Z\", \"2019-05-29T14:52:50.658000Z\"], \"y\": [21, 21]}, {\"type\": \"scatter\", \"marker\": {\"color\": \"white\"}, \"name\": \"\", \"x\": [\"2019-05-29T14:43:21.739000Z\", \"2019-05-29T14:51:58.491000Z\"], \"y\": [20, 20]}, {\"type\": \"scatter\", \"marker\": {\"color\": \"white\"}, \"name\": \"\", \"x\": [\"2019-05-29T14:41:50.659000Z\", \"2019-05-29T14:51:25.202000Z\"], \"y\": [19, 19]}, {\"type\": \"scatter\", \"marker\": {\"color\": \"white\"}, \"name\": \"\", \"x\": [\"2019-05-29T14:40:12.625000Z\", \"2019-05-29T14:50:58.218000Z\"], \"y\": [18, 18]}, {\"type\": \"scatter\", \"marker\": {\"color\": \"white\"}, \"name\": \"\", \"x\": [\"2019-05-29T14:28:40.035000Z\", \"2019-05-29T14:37:46.466000Z\"], \"y\": [21, 21]}, {\"type\": \"scatter\", \"marker\": {\"color\": \"white\"}, \"name\": \"\", \"x\": [\"2019-05-29T14:24:44.860000Z\", \"2019-05-29T14:41:36.054000Z\"], \"y\": [17, 17]}, {\"type\": \"scatter\", \"marker\": {\"color\": \"white\"}, \"name\": \"\", \"x\": [\"2019-05-29T14:13:31.758000Z\", \"2019-05-29T14:21:51.170000Z\"], \"y\": [21, 21]}, {\"type\": \"scatter\", \"marker\": {\"color\": \"white\"}, \"name\": \"\", \"x\": [\"2019-05-29T14:13:16.134000Z\", \"2019-05-29T14:22:05.375000Z\"], \"y\": [20, 20]}, {\"type\": \"scatter\", \"marker\": {\"color\": \"white\"}, \"name\": \"\", \"x\": [\"2019-05-29T14:10:29.206000Z\", \"2019-05-29T14:19:28.235000Z\"], \"y\": [18, 18]}, {\"type\": \"scatter\", \"marker\": {\"color\": \"white\"}, \"name\": \"\", \"x\": [\"2019-05-29T13:57:23.191000Z\", \"2019-05-29T14:06:30.778000Z\"], \"y\": [21, 21]}, {\"type\": \"scatter\", \"marker\": {\"color\": \"white\"}, \"name\": \"\", \"x\": [\"2019-05-29T13:42:51.655000Z\", \"2019-05-29T13:50:51.547000Z\"], \"y\": [20, 20]}, {\"type\": \"scatter\", \"marker\": {\"color\": \"white\"}, \"name\": \"\", \"x\": [\"2019-05-29T13:42:16.654000Z\", \"2019-05-29T13:50:31.366000Z\"], \"y\": [21, 21]}, {\"type\": \"scatter\", \"marker\": {\"color\": \"white\"}, \"name\": \"\", \"x\": [\"2019-05-29T13:41:43.955000Z\", \"2019-05-29T13:50:02.334000Z\"], \"y\": [19, 19]}, {\"type\": \"scatter\", \"marker\": {\"color\": \"white\"}, \"name\": \"\", \"x\": [\"2019-05-29T13:40:31.039000Z\", \"2019-05-29T13:49:08.040000Z\"], \"y\": [18, 18]}, {\"type\": \"scatter\", \"marker\": {\"color\": \"white\"}, \"name\": \"\", \"x\": [\"2019-05-29T13:27:12.982000Z\", \"2019-05-29T13:35:43.848000Z\"], \"y\": [21, 21]}, {\"type\": \"scatter\", \"marker\": {\"color\": \"white\"}, \"name\": \"\", \"x\": [\"2019-05-29T13:12:45.143000Z\", \"2019-05-29T13:22:00.923000Z\"], \"y\": [20, 20]}, {\"type\": \"scatter\", \"marker\": {\"color\": \"white\"}, \"name\": \"\", \"x\": [\"2019-05-29T13:12:09.074000Z\", \"2019-05-29T13:21:58.432000Z\"], \"y\": [21, 21]}, {\"type\": \"scatter\", \"marker\": {\"color\": \"white\"}, \"name\": \"\", \"x\": [\"2019-05-29T13:10:25.694000Z\", \"2019-05-29T13:19:56.944000Z\"], \"y\": [18, 18]}, {\"type\": \"scatter\", \"marker\": {\"color\": \"white\"}, \"name\": \"\", \"x\": [\"2019-05-29T13:00:51.706000Z\", \"2019-05-29T13:24:57.478000Z\"], \"y\": [2, 2]}, {\"type\": \"scatter\", \"marker\": {\"color\": \"white\"}, \"name\": \"\", \"x\": [\"2019-05-29T12:57:21.774000Z\", \"2019-05-29T16:09:47.414000Z\"], \"y\": [17, 17]}, {\"type\": \"scatter\", \"marker\": {\"color\": \"white\"}, \"name\": \"\", \"x\": [\"2019-05-29T12:56:21.805000Z\", \"2019-05-29T13:01:17.870000Z\"], \"y\": [21, 21]}, {\"type\": \"scatter\", \"marker\": {\"color\": \"white\"}, \"name\": \"\", \"x\": [\"2019-05-29T12:47:38.269000Z\", \"2019-05-29T13:11:18.748000Z\"], \"y\": [7, 7]}, {\"type\": \"scatter\", \"marker\": {\"color\": \"white\"}, \"name\": \"\", \"x\": [\"2019-05-29T12:44:05.867000Z\", \"2019-05-29T12:56:19.638000Z\"], \"y\": [6, 6]}, {\"type\": \"scatter\", \"marker\": {\"color\": \"white\"}, \"name\": \"\", \"x\": [\"2019-05-29T12:42:23.799000Z\", \"2019-05-29T12:56:15.612000Z\"], \"y\": [20, 20]}, {\"type\": \"scatter\", \"marker\": {\"color\": \"white\"}, \"name\": \"\", \"x\": [\"2019-05-29T12:41:22.476000Z\", \"2019-05-29T12:56:20.962000Z\"], \"y\": [18, 18]}, {\"type\": \"scatter\", \"marker\": {\"color\": \"white\"}, \"name\": \"\", \"x\": [\"2019-05-29T12:41:17.610000Z\", \"2019-05-29T12:56:04.640000Z\"], \"y\": [19, 19]}, {\"type\": \"scatter\", \"marker\": {\"color\": \"white\"}, \"name\": \"\", \"x\": [\"2019-05-29T12:40:13.430000Z\", \"2019-05-29T12:55:00.261000Z\"], \"y\": [21, 21]}, {\"type\": \"scatter\", \"marker\": {\"color\": \"white\"}, \"name\": \"\", \"x\": [\"2019-05-29T12:22:19.154000Z\", \"2019-05-29T12:30:57.690000Z\"], \"y\": [21, 21]}, {\"type\": \"scatter\", \"marker\": {\"color\": \"white\"}, \"name\": \"\", \"x\": [\"2019-05-29T12:12:13.384000Z\", \"2019-05-29T12:19:48.799000Z\"], \"y\": [20, 20]}, {\"type\": \"scatter\", \"marker\": {\"color\": \"white\"}, \"name\": \"\", \"x\": [\"2019-05-29T12:10:34.970000Z\", \"2019-05-29T12:18:45.704000Z\"], \"y\": [18, 18]}, {\"type\": \"scatter\", \"marker\": {\"color\": \"white\"}, \"name\": \"\", \"x\": [\"2019-05-29T12:06:49.419000Z\", \"2019-05-29T12:15:04.619000Z\"], \"y\": [21, 21]}, {\"type\": \"scatter\", \"marker\": {\"color\": \"white\"}, \"name\": \"\", \"x\": [\"2019-05-29T12:01:18.581000Z\", \"2019-05-29T12:11:31.530000Z\"], \"y\": [3, 3]}, {\"type\": \"scatter\", \"marker\": {\"color\": \"white\"}, \"name\": \"\", \"x\": [\"2019-05-29T12:00:47.289000Z\", \"2019-05-29T12:32:24.708000Z\"], \"y\": [10, 10]}, {\"type\": \"scatter\", \"marker\": {\"color\": \"white\"}, \"name\": \"\", \"x\": [\"2019-05-29T11:51:39.601000Z\", \"2019-05-29T11:59:42.673000Z\"], \"y\": [21, 21]}, {\"type\": \"scatter\", \"marker\": {\"color\": \"white\"}, \"name\": \"\", \"x\": [\"2019-05-29T11:41:59.868000Z\", \"2019-05-29T11:49:33.929000Z\"], \"y\": [20, 20]}, {\"type\": \"scatter\", \"marker\": {\"color\": \"white\"}, \"name\": \"\", \"x\": [\"2019-05-29T11:40:28.477000Z\", \"2019-05-29T11:48:33.831000Z\"], \"y\": [18, 18]}, {\"type\": \"scatter\", \"marker\": {\"color\": \"white\"}, \"name\": \"\", \"x\": [\"2019-05-29T11:40:28.443000Z\", \"2019-05-29T11:48:28.968000Z\"], \"y\": [19, 19]}, {\"type\": \"scatter\", \"marker\": {\"color\": \"white\"}, \"name\": \"\", \"x\": [\"2019-05-29T11:36:27.509000Z\", \"2019-05-29T11:44:06.704000Z\"], \"y\": [21, 21]}, {\"type\": \"scatter\", \"marker\": {\"color\": \"white\"}, \"name\": \"\", \"x\": [\"2019-05-29T11:24:35.532000Z\", \"2019-05-29T11:41:17.906000Z\"], \"y\": [17, 17]}, {\"type\": \"scatter\", \"marker\": {\"color\": \"white\"}, \"name\": \"\", \"x\": [\"2019-05-29T11:21:05.381000Z\", \"2019-05-29T11:28:38.100000Z\"], \"y\": [21, 21]}, {\"type\": \"scatter\", \"marker\": {\"color\": \"white\"}, \"name\": \"\", \"x\": [\"2019-05-29T11:11:43.804000Z\", \"2019-05-29T11:19:51.375000Z\"], \"y\": [20, 20]}, {\"type\": \"scatter\", \"marker\": {\"color\": \"white\"}, \"name\": \"\", \"x\": [\"2019-05-29T11:10:15.376000Z\", \"2019-05-29T11:18:36.993000Z\"], \"y\": [18, 18]}, {\"type\": \"scatter\", \"marker\": {\"color\": \"white\"}, \"name\": \"\", \"x\": [\"2019-05-29T11:05:45.311000Z\", \"2019-05-29T11:13:22.170000Z\"], \"y\": [21, 21]}, {\"type\": \"scatter\", \"marker\": {\"color\": \"white\"}, \"name\": \"\", \"x\": [\"2019-05-29T10:50:14.905000Z\", \"2019-05-29T10:58:10.173000Z\"], \"y\": [21, 21]}, {\"type\": \"scatter\", \"marker\": {\"color\": \"white\"}, \"name\": \"\", \"x\": [\"2019-05-29T10:41:21.975000Z\", \"2019-05-29T10:49:40.227000Z\"], \"y\": [20, 20]}, {\"type\": \"scatter\", \"marker\": {\"color\": \"white\"}, \"name\": \"\", \"x\": [\"2019-05-29T10:40:22.811000Z\", \"2019-05-29T10:48:17.624000Z\"], \"y\": [18, 18]}, {\"type\": \"scatter\", \"marker\": {\"color\": \"white\"}, \"name\": \"\", \"x\": [\"2019-05-29T10:40:21.848000Z\", \"2019-05-29T10:47:52.418000Z\"], \"y\": [19, 19]}, {\"type\": \"scatter\", \"marker\": {\"color\": \"white\"}, \"name\": \"\", \"x\": [\"2019-05-29T10:34:51.136000Z\", \"2019-05-29T10:43:06.016000Z\"], \"y\": [21, 21]}, {\"type\": \"scatter\", \"marker\": {\"color\": \"white\"}, \"name\": \"\", \"x\": [\"2019-05-29T10:19:49.128000Z\", \"2019-05-29T10:28:03.159000Z\"], \"y\": [21, 21]}, {\"type\": \"scatter\", \"marker\": {\"color\": \"white\"}, \"name\": \"\", \"x\": [\"2019-05-29T10:18:37.177000Z\", \"2019-05-29T10:26:21.468000Z\"], \"y\": [11, 11]}, {\"type\": \"scatter\", \"marker\": {\"color\": \"white\"}, \"name\": \"\", \"x\": [\"2019-05-29T10:11:10.661000Z\", \"2019-05-29T10:18:21.704000Z\"], \"y\": [20, 20]}, {\"type\": \"scatter\", \"marker\": {\"color\": \"white\"}, \"name\": \"\", \"x\": [\"2019-05-29T10:10:14.345000Z\", \"2019-05-29T10:17:39.029000Z\"], \"y\": [18, 18]}, {\"type\": \"scatter\", \"marker\": {\"color\": \"white\"}, \"name\": \"\", \"x\": [\"2019-05-29T10:04:41.818000Z\", \"2019-05-29T10:12:28.552000Z\"], \"y\": [21, 21]}, {\"type\": \"scatter\", \"marker\": {\"color\": \"white\"}, \"name\": \"\", \"x\": [\"2019-05-29T09:54:21.463000Z\", \"2019-05-29T10:14:12.887000Z\"], \"y\": [8, 8]}, {\"type\": \"scatter\", \"marker\": {\"color\": \"white\"}, \"name\": \"\", \"x\": [\"2019-05-29T09:49:24.684000Z\", \"2019-05-29T09:57:25.634000Z\"], \"y\": [21, 21]}, {\"type\": \"scatter\", \"marker\": {\"color\": \"white\"}, \"name\": \"\", \"x\": [\"2019-05-29T09:45:48.923000Z\", \"2019-05-29T10:05:19.724000Z\"], \"y\": [7, 7]}, {\"type\": \"scatter\", \"marker\": {\"color\": \"white\"}, \"name\": \"\", \"x\": [\"2019-05-29T09:43:17.437000Z\", \"2019-05-29T09:56:54.242000Z\"], \"y\": [6, 6]}, {\"type\": \"scatter\", \"marker\": {\"color\": \"white\"}, \"name\": \"\", \"x\": [\"2019-05-29T09:41:01.378000Z\", \"2019-05-29T09:49:28.326000Z\"], \"y\": [20, 20]}, {\"type\": \"scatter\", \"marker\": {\"color\": \"white\"}, \"name\": \"\", \"x\": [\"2019-05-29T09:40:30.117000Z\", \"2019-05-29T09:49:00.130000Z\"], \"y\": [18, 18]}, {\"type\": \"scatter\", \"marker\": {\"color\": \"white\"}, \"name\": \"\", \"x\": [\"2019-05-29T09:39:52.316000Z\", \"2019-05-29T09:47:57.352000Z\"], \"y\": [19, 19]}, {\"type\": \"scatter\", \"marker\": {\"color\": \"white\"}, \"name\": \"\", \"x\": [\"2019-05-29T09:33:51.124000Z\", \"2019-05-29T09:41:50.628000Z\"], \"y\": [21, 21]}, {\"type\": \"scatter\", \"marker\": {\"color\": \"white\"}, \"name\": \"\", \"x\": [\"2019-05-29T09:18:24.431000Z\", \"2019-05-29T09:25:44.111000Z\"], \"y\": [21, 21]}, {\"type\": \"scatter\", \"marker\": {\"color\": \"white\"}, \"name\": \"\", \"x\": [\"2019-05-29T09:14:54.767000Z\", \"2019-05-29T10:03:17.593000Z\"], \"y\": [4, 4]}, {\"type\": \"scatter\", \"marker\": {\"color\": \"white\"}, \"name\": \"\", \"x\": [\"2019-05-29T09:14:50.495000Z\", \"2019-05-29T09:15:50.785000Z\"], \"y\": [5, 5]}, {\"type\": \"scatter\", \"marker\": {\"color\": \"white\"}, \"name\": \"\", \"x\": [\"2019-05-29T09:10:50.947000Z\", \"2019-05-29T09:18:36.276000Z\"], \"y\": [20, 20]}, {\"type\": \"scatter\", \"marker\": {\"color\": \"white\"}, \"name\": \"\", \"x\": [\"2019-05-29T09:10:20.591000Z\", \"2019-05-29T09:18:27.813000Z\"], \"y\": [18, 18]}, {\"type\": \"scatter\", \"marker\": {\"color\": \"white\"}, \"name\": \"\", \"x\": [\"2019-05-29T09:02:53.189000Z\", \"2019-05-29T09:11:06.302000Z\"], \"y\": [21, 21]}, {\"type\": \"scatter\", \"marker\": {\"color\": \"white\"}, \"name\": \"\", \"x\": [\"2019-05-29T08:47:26.196000Z\", \"2019-05-29T08:54:54.393000Z\"], \"y\": [21, 21]}, {\"type\": \"scatter\", \"marker\": {\"color\": \"white\"}, \"name\": \"\", \"x\": [\"2019-05-29T08:40:39.561000Z\", \"2019-05-29T08:49:13.594000Z\"], \"y\": [20, 20]}, {\"type\": \"scatter\", \"marker\": {\"color\": \"white\"}, \"name\": \"\", \"x\": [\"2019-05-29T08:40:09.821000Z\", \"2019-05-29T08:47:44.027000Z\"], \"y\": [18, 18]}, {\"type\": \"scatter\", \"marker\": {\"color\": \"white\"}, \"name\": \"\", \"x\": [\"2019-05-29T08:39:39.537000Z\", \"2019-05-29T08:48:09.622000Z\"], \"y\": [19, 19]}, {\"type\": \"scatter\", \"marker\": {\"color\": \"white\"}, \"name\": \"\", \"x\": [\"2019-05-29T08:32:09.585000Z\", \"2019-05-29T08:39:40.060000Z\"], \"y\": [21, 21]}, {\"type\": \"scatter\", \"marker\": {\"color\": \"white\"}, \"name\": \"\", \"x\": [\"2019-05-29T08:24:09.420000Z\", \"2019-05-29T08:42:01.913000Z\"], \"y\": [17, 17]}, {\"type\": \"scatter\", \"marker\": {\"color\": \"white\"}, \"name\": \"\", \"x\": [\"2019-05-29T08:17:05.209000Z\", \"2019-05-29T08:24:30.638000Z\"], \"y\": [21, 21]}, {\"type\": \"scatter\", \"marker\": {\"color\": \"white\"}, \"name\": \"\", \"x\": [\"2019-05-29T08:10:35.308000Z\", \"2019-05-29T08:18:11.215000Z\"], \"y\": [20, 20]}, {\"type\": \"scatter\", \"marker\": {\"color\": \"white\"}, \"name\": \"\", \"x\": [\"2019-05-29T08:10:04.814000Z\", \"2019-05-29T08:18:00.720000Z\"], \"y\": [18, 18]}, {\"type\": \"scatter\", \"marker\": {\"color\": \"white\"}, \"name\": \"\", \"x\": [\"2019-05-29T08:01:35.475000Z\", \"2019-05-29T08:10:26.137000Z\"], \"y\": [21, 21]}, {\"type\": \"scatter\", \"marker\": {\"color\": \"white\"}, \"name\": \"\", \"x\": [\"2019-05-29T07:56:53.115000Z\", \"2019-05-29T08:42:08.808000Z\"], \"y\": [17, 17]}, {\"type\": \"scatter\", \"marker\": {\"color\": \"white\"}, \"name\": \"\", \"x\": [\"2019-05-29T07:46:21.779000Z\", \"2019-05-29T07:53:44.567000Z\"], \"y\": [21, 21]}, {\"type\": \"scatter\", \"marker\": {\"color\": \"white\"}, \"name\": \"\", \"x\": [\"2019-05-29T07:46:21.773000Z\", \"2019-05-29T07:47:08.199000Z\"], \"y\": [1, 1]}, {\"type\": \"scatter\", \"marker\": {\"color\": \"white\"}, \"name\": \"\", \"x\": [\"2019-05-29T07:40:21.737000Z\", \"2019-05-29T07:47:33.218000Z\"], \"y\": [20, 20]}, {\"type\": \"scatter\", \"marker\": {\"color\": \"white\"}, \"name\": \"\", \"x\": [\"2019-05-29T07:40:21.729000Z\", \"2019-05-29T07:47:42.972000Z\"], \"y\": [18, 18]}, {\"type\": \"scatter\", \"marker\": {\"color\": \"white\"}, \"name\": \"\", \"x\": [\"2019-05-29T07:39:22.390000Z\", \"2019-05-29T07:46:36.618000Z\"], \"y\": [19, 19]}, {\"type\": \"scatter\", \"marker\": {\"color\": \"white\"}, \"name\": \"\", \"x\": [\"2019-05-29T07:30:51.865000Z\", \"2019-05-29T07:38:07.312000Z\"], \"y\": [21, 21]}, {\"type\": \"scatter\", \"marker\": {\"color\": \"white\"}, \"name\": \"\", \"x\": [\"2019-05-29T07:15:42.528000Z\", \"2019-05-29T07:22:55.534000Z\"], \"y\": [21, 21]}, {\"type\": \"scatter\", \"marker\": {\"color\": \"white\"}, \"name\": \"\", \"x\": [\"2019-05-29T07:10:12.732000Z\", \"2019-05-29T07:18:00.351000Z\"], \"y\": [18, 18]}, {\"type\": \"scatter\", \"marker\": {\"color\": \"white\"}, \"name\": \"\", \"x\": [\"2019-05-29T07:10:12.525000Z\", \"2019-05-29T07:17:19.672000Z\"], \"y\": [20, 20]}, {\"type\": \"scatter\", \"marker\": {\"color\": \"white\"}, \"name\": \"\", \"x\": [\"2019-05-29T07:00:53.896000Z\", \"2019-05-29T07:31:04.430000Z\"], \"y\": [10, 10]}, {\"type\": \"scatter\", \"marker\": {\"color\": \"white\"}, \"name\": \"\", \"x\": [\"2019-05-29T07:00:25.820000Z\", \"2019-05-29T07:07:43.222000Z\"], \"y\": [21, 21]}, {\"type\": \"scatter\", \"marker\": {\"color\": \"white\"}, \"name\": \"\", \"x\": [\"2019-05-29T07:00:23.896000Z\", \"2019-05-29T07:25:50.711000Z\"], \"y\": [2, 2]}, {\"type\": \"scatter\", \"marker\": {\"color\": \"white\"}, \"name\": \"\", \"x\": [\"2019-05-29T06:45:09.580000Z\", \"2019-05-29T06:52:21.611000Z\"], \"y\": [21, 21]}, {\"type\": \"scatter\", \"marker\": {\"color\": \"white\"}, \"name\": \"\", \"x\": [\"2019-05-29T06:45:09.413000Z\", \"2019-05-29T07:02:31.129000Z\"], \"y\": [7, 7]}, {\"type\": \"scatter\", \"marker\": {\"color\": \"white\"}, \"name\": \"\", \"x\": [\"2019-05-29T06:42:39.042000Z\", \"2019-05-29T06:49:39.981000Z\"], \"y\": [6, 6]}, {\"type\": \"scatter\", \"marker\": {\"color\": \"white\"}, \"name\": \"\", \"x\": [\"2019-05-29T06:40:09.510000Z\", \"2019-05-29T06:47:25.035000Z\"], \"y\": [20, 20]}, {\"type\": \"scatter\", \"marker\": {\"color\": \"white\"}, \"name\": \"\", \"x\": [\"2019-05-29T06:40:09.502000Z\", \"2019-05-29T06:47:43.988000Z\"], \"y\": [18, 18]}, {\"type\": \"scatter\", \"marker\": {\"color\": \"white\"}, \"name\": \"\", \"x\": [\"2019-05-29T06:39:09.251000Z\", \"2019-05-29T06:46:07.144000Z\"], \"y\": [19, 19]}, {\"type\": \"scatter\", \"marker\": {\"color\": \"white\"}, \"name\": \"\", \"x\": [\"2019-05-29T06:29:39.489000Z\", \"2019-05-29T06:36:48.528000Z\"], \"y\": [21, 21]}, {\"type\": \"scatter\", \"marker\": {\"color\": \"white\"}, \"name\": \"\", \"x\": [\"2019-05-29T06:14:09.073000Z\", \"2019-05-29T06:21:38.634000Z\"], \"y\": [21, 21]}, {\"type\": \"scatter\", \"marker\": {\"color\": \"white\"}, \"name\": \"\", \"x\": [\"2019-05-29T06:10:09.196000Z\", \"2019-05-29T06:17:29.622000Z\"], \"y\": [18, 18]}, {\"type\": \"scatter\", \"marker\": {\"color\": \"white\"}, \"name\": \"\", \"x\": [\"2019-05-29T06:09:39.301000Z\", \"2019-05-29T06:16:54.762000Z\"], \"y\": [20, 20]}, {\"type\": \"scatter\", \"marker\": {\"color\": \"white\"}, \"name\": \"\", \"x\": [\"2019-05-29T06:01:10.253000Z\", \"2019-05-29T06:14:26.672000Z\"], \"y\": [3, 3]}, {\"type\": \"scatter\", \"marker\": {\"color\": \"white\"}, \"name\": \"\", \"x\": [\"2019-05-29T05:58:39.017000Z\", \"2019-05-29T06:05:58.404000Z\"], \"y\": [21, 21]}, {\"type\": \"scatter\", \"marker\": {\"color\": \"white\"}, \"name\": \"\", \"x\": [\"2019-05-29T05:43:09.344000Z\", \"2019-05-29T05:50:24.028000Z\"], \"y\": [21, 21]}, {\"type\": \"scatter\", \"marker\": {\"color\": \"white\"}, \"name\": \"\", \"x\": [\"2019-05-29T05:40:09.336000Z\", \"2019-05-29T05:47:50.637000Z\"], \"y\": [18, 18]}, {\"type\": \"scatter\", \"marker\": {\"color\": \"white\"}, \"name\": \"\", \"x\": [\"2019-05-29T05:39:09.358000Z\", \"2019-05-29T05:46:21.752000Z\"], \"y\": [20, 20]}, {\"type\": \"scatter\", \"marker\": {\"color\": \"white\"}, \"name\": \"\", \"x\": [\"2019-05-29T05:38:39.321000Z\", \"2019-05-29T05:45:54.508000Z\"], \"y\": [19, 19]}, {\"type\": \"scatter\", \"marker\": {\"color\": \"white\"}, \"name\": \"\", \"x\": [\"2019-05-29T05:27:39.180000Z\", \"2019-05-29T05:34:55.840000Z\"], \"y\": [21, 21]}, {\"type\": \"scatter\", \"marker\": {\"color\": \"white\"}, \"name\": \"\", \"x\": [\"2019-05-29T05:23:39.167000Z\", \"2019-05-29T05:41:02.365000Z\"], \"y\": [17, 17]}, {\"type\": \"scatter\", \"marker\": {\"color\": \"white\"}, \"name\": \"\", \"x\": [\"2019-05-29T05:12:08.847000Z\", \"2019-05-29T05:19:12.735000Z\"], \"y\": [21, 21]}, {\"type\": \"scatter\", \"marker\": {\"color\": \"white\"}, \"name\": \"\", \"x\": [\"2019-05-29T05:10:08.993000Z\", \"2019-05-29T05:17:33.761000Z\"], \"y\": [18, 18]}, {\"type\": \"scatter\", \"marker\": {\"color\": \"white\"}, \"name\": \"\", \"x\": [\"2019-05-29T05:08:39.224000Z\", \"2019-05-29T05:15:48.966000Z\"], \"y\": [20, 20]}, {\"type\": \"scatter\", \"marker\": {\"color\": \"white\"}, \"name\": \"\", \"x\": [\"2019-05-29T04:56:52.598000Z\", \"2019-05-29T05:04:14.860000Z\"], \"y\": [21, 21]}, {\"type\": \"scatter\", \"marker\": {\"color\": \"white\"}, \"name\": \"\", \"x\": [\"2019-05-29T04:41:45.253000Z\", \"2019-05-29T04:48:52.661000Z\"], \"y\": [21, 21]}, {\"type\": \"scatter\", \"marker\": {\"color\": \"white\"}, \"name\": \"\", \"x\": [\"2019-05-29T04:40:15.853000Z\", \"2019-05-29T04:48:00.386000Z\"], \"y\": [18, 18]}, {\"type\": \"scatter\", \"marker\": {\"color\": \"white\"}, \"name\": \"\", \"x\": [\"2019-05-29T04:38:16.311000Z\", \"2019-05-29T04:45:49.822000Z\"], \"y\": [20, 20]}, {\"type\": \"scatter\", \"marker\": {\"color\": \"white\"}, \"name\": \"\", \"x\": [\"2019-05-29T04:38:15.360000Z\", \"2019-05-29T04:45:33.816000Z\"], \"y\": [19, 19]}, {\"type\": \"scatter\", \"marker\": {\"color\": \"white\"}, \"name\": \"\", \"x\": [\"2019-05-29T04:26:15.179000Z\", \"2019-05-29T04:33:24.116000Z\"], \"y\": [21, 21]}, {\"type\": \"scatter\", \"marker\": {\"color\": \"white\"}, \"name\": \"\", \"x\": [\"2019-05-29T04:10:45.150000Z\", \"2019-05-29T04:17:49.081000Z\"], \"y\": [21, 21]}, {\"type\": \"scatter\", \"marker\": {\"color\": \"white\"}, \"name\": \"\", \"x\": [\"2019-05-29T04:10:15.139000Z\", \"2019-05-29T04:17:42.699000Z\"], \"y\": [18, 18]}, {\"type\": \"scatter\", \"marker\": {\"color\": \"white\"}, \"name\": \"\", \"x\": [\"2019-05-29T04:07:45.163000Z\", \"2019-05-29T04:14:54.145000Z\"], \"y\": [20, 20]}, {\"type\": \"scatter\", \"marker\": {\"color\": \"white\"}, \"name\": \"\", \"x\": [\"2019-05-29T03:55:15.426000Z\", \"2019-05-29T04:02:29.237000Z\"], \"y\": [21, 21]}, {\"type\": \"scatter\", \"marker\": {\"color\": \"white\"}, \"name\": \"\", \"x\": [\"2019-05-29T03:54:15.058000Z\", \"2019-05-29T04:14:43.433000Z\"], \"y\": [8, 8]}, {\"type\": \"scatter\", \"marker\": {\"color\": \"white\"}, \"name\": \"\", \"x\": [\"2019-05-29T03:44:47.539000Z\", \"2019-05-29T04:03:47.678000Z\"], \"y\": [7, 7]}, {\"type\": \"scatter\", \"marker\": {\"color\": \"white\"}, \"name\": \"\", \"x\": [\"2019-05-29T03:42:15.770000Z\", \"2019-05-29T03:49:38.492000Z\"], \"y\": [6, 6]}, {\"type\": \"scatter\", \"marker\": {\"color\": \"white\"}, \"name\": \"\", \"x\": [\"2019-05-29T03:40:15.837000Z\", \"2019-05-29T03:48:21.007000Z\"], \"y\": [18, 18]}, {\"type\": \"scatter\", \"marker\": {\"color\": \"white\"}, \"name\": \"\", \"x\": [\"2019-05-29T03:39:45.557000Z\", \"2019-05-29T03:47:02.949000Z\"], \"y\": [21, 21]}, {\"type\": \"scatter\", \"marker\": {\"color\": \"white\"}, \"name\": \"\", \"x\": [\"2019-05-29T03:37:45.354000Z\", \"2019-05-29T03:45:04.341000Z\"], \"y\": [19, 19]}, {\"type\": \"scatter\", \"marker\": {\"color\": \"white\"}, \"name\": \"\", \"x\": [\"2019-05-29T03:37:16.176000Z\", \"2019-05-29T03:44:16.312000Z\"], \"y\": [20, 20]}, {\"type\": \"scatter\", \"marker\": {\"color\": \"white\"}, \"name\": \"\", \"x\": [\"2019-05-29T03:24:16.217000Z\", \"2019-05-29T03:31:47.325000Z\"], \"y\": [21, 21]}, {\"type\": \"scatter\", \"marker\": {\"color\": \"white\"}, \"name\": \"\", \"x\": [\"2019-05-29T03:14:45.326000Z\", \"2019-05-29T03:15:56.941000Z\"], \"y\": [5, 5]}, {\"type\": \"scatter\", \"marker\": {\"color\": \"white\"}, \"name\": \"\", \"x\": [\"2019-05-29T03:10:15.379000Z\", \"2019-05-29T03:17:51.825000Z\"], \"y\": [18, 18]}, {\"type\": \"scatter\", \"marker\": {\"color\": \"white\"}, \"name\": \"\", \"x\": [\"2019-05-29T03:08:46.178000Z\", \"2019-05-29T03:15:56.852000Z\"], \"y\": [21, 21]}, {\"type\": \"scatter\", \"marker\": {\"color\": \"white\"}, \"name\": \"\", \"x\": [\"2019-05-29T03:06:45.830000Z\", \"2019-05-29T03:13:52.442000Z\"], \"y\": [20, 20]}, {\"type\": \"scatter\", \"marker\": {\"color\": \"white\"}, \"name\": \"\", \"x\": [\"2019-05-29T02:56:45.254000Z\", \"2019-05-29T03:37:35.841000Z\"], \"y\": [17, 17]}, {\"type\": \"scatter\", \"marker\": {\"color\": \"white\"}, \"name\": \"\", \"x\": [\"2019-05-29T02:53:15.497000Z\", \"2019-05-29T03:00:34.876000Z\"], \"y\": [21, 21]}, {\"type\": \"scatter\", \"marker\": {\"color\": \"white\"}, \"name\": \"\", \"x\": [\"2019-05-29T02:40:15.319000Z\", \"2019-05-29T02:47:58.782000Z\"], \"y\": [18, 18]}, {\"type\": \"scatter\", \"marker\": {\"color\": \"white\"}, \"name\": \"\", \"x\": [\"2019-05-29T02:37:45.375000Z\", \"2019-05-29T02:45:03.490000Z\"], \"y\": [21, 21]}, {\"type\": \"scatter\", \"marker\": {\"color\": \"white\"}, \"name\": \"\", \"x\": [\"2019-05-29T02:37:15.407000Z\", \"2019-05-29T02:44:34.689000Z\"], \"y\": [19, 19]}, {\"type\": \"scatter\", \"marker\": {\"color\": \"white\"}, \"name\": \"\", \"x\": [\"2019-05-29T02:36:16.436000Z\", \"2019-05-29T02:43:19.610000Z\"], \"y\": [20, 20]}, {\"type\": \"scatter\", \"marker\": {\"color\": \"white\"}, \"name\": \"\", \"x\": [\"2019-05-29T02:23:15.230000Z\", \"2019-05-29T03:00:28.026000Z\"], \"y\": [17, 17]}, {\"type\": \"scatter\", \"marker\": {\"color\": \"white\"}, \"name\": \"\", \"x\": [\"2019-05-29T02:22:16.512000Z\", \"2019-05-29T02:29:18.992000Z\"], \"y\": [21, 21]}, {\"type\": \"scatter\", \"marker\": {\"color\": \"white\"}, \"name\": \"\", \"x\": [\"2019-05-29T02:10:15.359000Z\", \"2019-05-29T02:17:55.993000Z\"], \"y\": [18, 18]}, {\"type\": \"scatter\", \"marker\": {\"color\": \"white\"}, \"name\": \"\", \"x\": [\"2019-05-29T02:06:45.701000Z\", \"2019-05-29T02:14:02.057000Z\"], \"y\": [21, 21]}, {\"type\": \"scatter\", \"marker\": {\"color\": \"white\"}, \"name\": \"\", \"x\": [\"2019-05-29T02:05:45.475000Z\", \"2019-05-29T02:13:05.904000Z\"], \"y\": [20, 20]}, {\"type\": \"scatter\", \"marker\": {\"color\": \"white\"}, \"name\": \"\", \"x\": [\"2019-05-29T02:00:47.760000Z\", \"2019-05-29T02:29:31.879000Z\"], \"y\": [10, 10]}, {\"type\": \"scatter\", \"marker\": {\"color\": \"white\"}, \"name\": \"\", \"x\": [\"2019-05-29T01:51:15.358000Z\", \"2019-05-29T01:58:35.847000Z\"], \"y\": [21, 21]}, {\"type\": \"scatter\", \"marker\": {\"color\": \"white\"}, \"name\": \"\", \"x\": [\"2019-05-29T01:40:14.761000Z\", \"2019-05-29T01:47:53.988000Z\"], \"y\": [18, 18]}, {\"type\": \"scatter\", \"marker\": {\"color\": \"white\"}, \"name\": \"\", \"x\": [\"2019-05-29T01:36:45.169000Z\", \"2019-05-29T01:43:44.295000Z\"], \"y\": [19, 19]}, {\"type\": \"scatter\", \"marker\": {\"color\": \"white\"}, \"name\": \"\", \"x\": [\"2019-05-29T01:35:45.957000Z\", \"2019-05-29T01:43:14.010000Z\"], \"y\": [21, 21]}, {\"type\": \"scatter\", \"marker\": {\"color\": \"white\"}, \"name\": \"\", \"x\": [\"2019-05-29T01:35:15.448000Z\", \"2019-05-29T01:42:27.634000Z\"], \"y\": [20, 20]}, {\"type\": \"scatter\", \"marker\": {\"color\": \"white\"}, \"name\": \"\", \"x\": [\"2019-05-29T01:20:15.203000Z\", \"2019-05-29T01:27:28.555000Z\"], \"y\": [21, 21]}, {\"type\": \"scatter\", \"marker\": {\"color\": \"white\"}, \"name\": \"\", \"x\": [\"2019-05-29T01:10:15.062000Z\", \"2019-05-29T01:17:38.485000Z\"], \"y\": [18, 18]}, {\"type\": \"scatter\", \"marker\": {\"color\": \"white\"}, \"name\": \"\", \"x\": [\"2019-05-29T01:04:45.034000Z\", \"2019-05-29T01:12:02.840000Z\"], \"y\": [20, 20]}, {\"type\": \"scatter\", \"marker\": {\"color\": \"white\"}, \"name\": \"\", \"x\": [\"2019-05-29T01:04:44.997000Z\", \"2019-05-29T01:11:56.304000Z\"], \"y\": [21, 21]}, {\"type\": \"scatter\", \"marker\": {\"color\": \"white\"}, \"name\": \"\", \"x\": [\"2019-05-29T01:00:44.957000Z\", \"2019-05-29T01:07:59.931000Z\"], \"y\": [0, 0]}, {\"type\": \"scatter\", \"marker\": {\"color\": \"white\"}, \"name\": \"\", \"x\": [\"2019-05-29T01:00:15.393000Z\", \"2019-05-29T01:19:36.219000Z\"], \"y\": [2, 2]}, {\"type\": \"scatter\", \"marker\": {\"color\": \"white\"}, \"name\": \"\", \"x\": [\"2019-05-29T00:49:14.973000Z\", \"2019-05-29T00:56:52.323000Z\"], \"y\": [21, 21]}, {\"type\": \"scatter\", \"marker\": {\"color\": \"white\"}, \"name\": \"\", \"x\": [\"2019-05-29T00:44:15.017000Z\", \"2019-05-29T01:03:15.558000Z\"], \"y\": [7, 7]}, {\"type\": \"scatter\", \"marker\": {\"color\": \"white\"}, \"name\": \"\", \"x\": [\"2019-05-29T00:41:45.268000Z\", \"2019-05-29T00:54:41.796000Z\"], \"y\": [6, 6]}, {\"type\": \"scatter\", \"marker\": {\"color\": \"white\"}, \"name\": \"\", \"x\": [\"2019-05-29T00:40:15.229000Z\", \"2019-05-29T00:47:49.491000Z\"], \"y\": [18, 18]}, {\"type\": \"scatter\", \"marker\": {\"color\": \"white\"}, \"name\": \"\", \"x\": [\"2019-05-29T00:36:15.668000Z\", \"2019-05-29T00:43:26.235000Z\"], \"y\": [19, 19]}, {\"type\": \"scatter\", \"marker\": {\"color\": \"white\"}, \"name\": \"\", \"x\": [\"2019-05-29T00:34:16.965000Z\", \"2019-05-29T00:41:25.467000Z\"], \"y\": [20, 20]}, {\"type\": \"scatter\", \"marker\": {\"color\": \"white\"}, \"name\": \"\", \"x\": [\"2019-05-29T00:33:45.223000Z\", \"2019-05-29T00:41:06.582000Z\"], \"y\": [21, 21]}, {\"type\": \"scatter\", \"marker\": {\"color\": \"white\"}, \"name\": \"\", \"x\": [\"2019-05-29T00:18:15.548000Z\", \"2019-05-29T00:25:41.309000Z\"], \"y\": [21, 21]}, {\"type\": \"scatter\", \"marker\": {\"color\": \"white\"}, \"name\": \"\", \"x\": [\"2019-05-29T00:10:15.230000Z\", \"2019-05-29T00:17:55.589000Z\"], \"y\": [18, 18]}, {\"type\": \"scatter\", \"marker\": {\"color\": \"white\"}, \"name\": \"\", \"x\": [\"2019-05-29T00:04:15.497000Z\", \"2019-05-29T00:11:35.638000Z\"], \"y\": [20, 20]}, {\"type\": \"scatter\", \"marker\": {\"color\": \"white\"}, \"name\": \"\", \"x\": [\"2019-05-29T00:03:13.575000Z\", \"2019-05-29T00:10:36.859000Z\"], \"y\": [21, 21]}, {\"type\": \"scatter\", \"marker\": {\"color\": \"white\"}, \"name\": \"\", \"x\": [\"2019-05-29T00:01:15.384000Z\", \"2019-05-29T00:10:50.299000Z\"], \"y\": [3, 3]}], {\"width\": 900, \"showlegend\": false, \"shapes\": [{\"line\": {\"width\": 0}, \"xref\": \"x\", \"type\": \"rect\", \"fillcolor\": \"rgb(31, 119, 180)\", \"x1\": \"2019-05-30T00:03:22.140000Z\", \"x0\": \"2019-05-29T23:55:38.106000Z\", \"y0\": 20.8, \"y1\": 21.2, \"opacity\": 1, \"yref\": \"y\"}, {\"line\": {\"width\": 0}, \"xref\": \"x\", \"type\": \"rect\", \"fillcolor\": \"rgb(255, 127, 14)\", \"x1\": \"2019-05-29T23:56:08.024000Z\", \"x0\": \"2019-05-29T23:49:07.513000Z\", \"y0\": 19.8, \"y1\": 20.2, \"opacity\": 1, \"yref\": \"y\"}, {\"line\": {\"width\": 0}, \"xref\": \"x\", \"type\": \"rect\", \"fillcolor\": \"rgb(44, 160, 44)\", \"x1\": \"2019-05-29T23:51:58.914000Z\", \"x0\": \"2019-05-29T23:44:38.121000Z\", \"y0\": 18.8, \"y1\": 19.2, \"opacity\": 1, \"yref\": \"y\"}, {\"line\": {\"width\": 0}, \"xref\": \"x\", \"type\": \"rect\", \"fillcolor\": \"rgb(214, 39, 40)\", \"x1\": \"2019-05-29T23:47:18.188000Z\", \"x0\": \"2019-05-29T23:40:07.889000Z\", \"y0\": 20.8, \"y1\": 21.2, \"opacity\": 1, \"yref\": \"y\"}, {\"line\": {\"width\": 0}, \"xref\": \"x\", \"type\": \"rect\", \"fillcolor\": \"rgb(148, 103, 189)\", \"x1\": \"2019-05-29T23:48:02.724000Z\", \"x0\": \"2019-05-29T23:40:07.382000Z\", \"y0\": 17.8, \"y1\": 18.2, \"opacity\": 1, \"yref\": \"y\"}, {\"line\": {\"width\": 0}, \"xref\": \"x\", \"type\": \"rect\", \"fillcolor\": \"rgb(140, 86, 75)\", \"x1\": \"2019-05-29T23:41:31.206000Z\", \"x0\": \"2019-05-29T23:25:37.502000Z\", \"y0\": 16.8, \"y1\": 17.2, \"opacity\": 1, \"yref\": \"y\"}, {\"line\": {\"width\": 0}, \"xref\": \"x\", \"type\": \"rect\", \"fillcolor\": \"rgb(227, 119, 194)\", \"x1\": \"2019-05-29T23:31:30.095000Z\", \"x0\": \"2019-05-29T23:24:37.490000Z\", \"y0\": 20.8, \"y1\": 21.2, \"opacity\": 1, \"yref\": \"y\"}, {\"line\": {\"width\": 0}, \"xref\": \"x\", \"type\": \"rect\", \"fillcolor\": \"rgb(127, 127, 127)\", \"x1\": \"2019-05-29T23:25:47.528000Z\", \"x0\": \"2019-05-29T23:18:37.667000Z\", \"y0\": 19.8, \"y1\": 20.2, \"opacity\": 1, \"yref\": \"y\"}, {\"line\": {\"width\": 0}, \"xref\": \"x\", \"type\": \"rect\", \"fillcolor\": \"rgb(188, 189, 34)\", \"x1\": \"2019-05-29T23:18:08.058000Z\", \"x0\": \"2019-05-29T23:10:26.735000Z\", \"y0\": 17.8, \"y1\": 18.2, \"opacity\": 1, \"yref\": \"y\"}, {\"line\": {\"width\": 0}, \"xref\": \"x\", \"type\": \"rect\", \"fillcolor\": \"rgb(23, 190, 207)\", \"x1\": \"2019-05-29T23:16:43.766000Z\", \"x0\": \"2019-05-29T23:09:27.799000Z\", \"y0\": 20.8, \"y1\": 21.2, \"opacity\": 1, \"yref\": \"y\"}, {\"line\": {\"width\": 0}, \"xref\": \"x\", \"type\": \"rect\", \"fillcolor\": \"rgb(31, 119, 180)\", \"x1\": \"2019-05-29T23:14:08.110000Z\", \"x0\": \"2019-05-29T23:01:11.969000Z\", \"y0\": 15.8, \"y1\": 16.2, \"opacity\": 1, \"yref\": \"y\"}, {\"line\": {\"width\": 0}, \"xref\": \"x\", \"type\": \"rect\", \"fillcolor\": \"rgb(255, 127, 14)\", \"x1\": \"2019-05-29T23:08:26.085000Z\", \"x0\": \"2019-05-29T23:01:11.690000Z\", \"y0\": 14.8, \"y1\": 15.2, \"opacity\": 1, \"yref\": \"y\"}, {\"line\": {\"width\": 0}, \"xref\": \"x\", \"type\": \"rect\", \"fillcolor\": \"rgb(44, 160, 44)\", \"x1\": \"2019-05-29T23:19:33.341000Z\", \"x0\": \"2019-05-29T23:01:11.647000Z\", \"y0\": 13.8, \"y1\": 14.2, \"opacity\": 1, \"yref\": \"y\"}, {\"line\": {\"width\": 0}, \"xref\": \"x\", \"type\": \"rect\", \"fillcolor\": \"rgb(214, 39, 40)\", \"x1\": \"2019-05-29T23:02:44.818000Z\", \"x0\": \"2019-05-29T23:00:42.793000Z\", \"y0\": 12.8, \"y1\": 13.2, \"opacity\": 1, \"yref\": \"y\"}, {\"line\": {\"width\": 0}, \"xref\": \"x\", \"type\": \"rect\", \"fillcolor\": \"rgb(148, 103, 189)\", \"x1\": \"2019-05-29T23:08:05.251000Z\", \"x0\": \"2019-05-29T23:00:42.153000Z\", \"y0\": 11.8, \"y1\": 12.2, \"opacity\": 1, \"yref\": \"y\"}, {\"line\": {\"width\": 0}, \"xref\": \"x\", \"type\": \"rect\", \"fillcolor\": \"rgb(140, 86, 75)\", \"x1\": \"2019-05-29T23:08:07.735000Z\", \"x0\": \"2019-05-29T23:00:41.999000Z\", \"y0\": 10.8, \"y1\": 11.2, \"opacity\": 1, \"yref\": \"y\"}, {\"line\": {\"width\": 0}, \"xref\": \"x\", \"type\": \"rect\", \"fillcolor\": \"rgb(227, 119, 194)\", \"x1\": \"2019-05-29T23:45:00.138000Z\", \"x0\": \"2019-05-29T22:58:25.658000Z\", \"y0\": 16.8, \"y1\": 17.2, \"opacity\": 1, \"yref\": \"y\"}, {\"line\": {\"width\": 0}, \"xref\": \"x\", \"type\": \"rect\", \"fillcolor\": \"rgb(127, 127, 127)\", \"x1\": \"2019-05-29T23:01:05.235000Z\", \"x0\": \"2019-05-29T22:53:55.955000Z\", \"y0\": 20.8, \"y1\": 21.2, \"opacity\": 1, \"yref\": \"y\"}, {\"line\": {\"width\": 0}, \"xref\": \"x\", \"type\": \"rect\", \"fillcolor\": \"rgb(188, 189, 34)\", \"x1\": \"2019-05-29T22:55:36.297000Z\", \"x0\": \"2019-05-29T22:48:25.346000Z\", \"y0\": 19.8, \"y1\": 20.2, \"opacity\": 1, \"yref\": \"y\"}, {\"line\": {\"width\": 0}, \"xref\": \"x\", \"type\": \"rect\", \"fillcolor\": \"rgb(23, 190, 207)\", \"x1\": \"2019-05-29T22:51:42.391000Z\", \"x0\": \"2019-05-29T22:44:26.416000Z\", \"y0\": 18.8, \"y1\": 19.2, \"opacity\": 1, \"yref\": \"y\"}, {\"line\": {\"width\": 0}, \"xref\": \"x\", \"type\": \"rect\", \"fillcolor\": \"rgb(31, 119, 180)\", \"x1\": \"2019-05-29T22:48:08.365000Z\", \"x0\": \"2019-05-29T22:40:20.361000Z\", \"y0\": 17.8, \"y1\": 18.2, \"opacity\": 1, \"yref\": \"y\"}, {\"line\": {\"width\": 0}, \"xref\": \"x\", \"type\": \"rect\", \"fillcolor\": \"rgb(255, 127, 14)\", \"x1\": \"2019-05-29T22:46:07.279000Z\", \"x0\": \"2019-05-29T22:38:49.877000Z\", \"y0\": 20.8, \"y1\": 21.2, \"opacity\": 1, \"yref\": \"y\"}, {\"line\": {\"width\": 0}, \"xref\": \"x\", \"type\": \"rect\", \"fillcolor\": \"rgb(44, 160, 44)\", \"x1\": \"2019-05-29T22:31:21.307000Z\", \"x0\": \"2019-05-29T22:23:28.856000Z\", \"y0\": 20.8, \"y1\": 21.2, \"opacity\": 1, \"yref\": \"y\"}, {\"line\": {\"width\": 0}, \"xref\": \"x\", \"type\": \"rect\", \"fillcolor\": \"rgb(214, 39, 40)\", \"x1\": \"2019-05-29T22:26:10.778000Z\", \"x0\": \"2019-05-29T22:18:20.571000Z\", \"y0\": 19.8, \"y1\": 20.2, \"opacity\": 1, \"yref\": \"y\"}, {\"line\": {\"width\": 0}, \"xref\": \"x\", \"type\": \"rect\", \"fillcolor\": \"rgb(148, 103, 189)\", \"x1\": \"2019-05-29T22:18:13.468000Z\", \"x0\": \"2019-05-29T22:10:03.810000Z\", \"y0\": 17.8, \"y1\": 18.2, \"opacity\": 1, \"yref\": \"y\"}, {\"line\": {\"width\": 0}, \"xref\": \"x\", \"type\": \"rect\", \"fillcolor\": \"rgb(140, 86, 75)\", \"x1\": \"2019-05-29T22:16:22.500000Z\", \"x0\": \"2019-05-29T22:08:11.456000Z\", \"y0\": 20.8, \"y1\": 21.2, \"opacity\": 1, \"yref\": \"y\"}, {\"line\": {\"width\": 0}, \"xref\": \"x\", \"type\": \"rect\", \"fillcolor\": \"rgb(227, 119, 194)\", \"x1\": \"2019-05-29T22:38:17.510000Z\", \"x0\": \"2019-05-29T22:00:43.346000Z\", \"y0\": 9.8, \"y1\": 10.2, \"opacity\": 1, \"yref\": \"y\"}, {\"line\": {\"width\": 0}, \"xref\": \"x\", \"type\": \"rect\", \"fillcolor\": \"rgb(127, 127, 127)\", \"x1\": \"2019-05-29T22:20:21.966000Z\", \"x0\": \"2019-05-29T22:00:43.295000Z\", \"y0\": 8.8, \"y1\": 9.2, \"opacity\": 1, \"yref\": \"y\"}, {\"line\": {\"width\": 0}, \"xref\": \"x\", \"type\": \"rect\", \"fillcolor\": \"rgb(188, 189, 34)\", \"x1\": \"2019-05-29T22:19:59.233000Z\", \"x0\": \"2019-05-29T21:54:43.055000Z\", \"y0\": 7.8, \"y1\": 8.2, \"opacity\": 1, \"yref\": \"y\"}, {\"line\": {\"width\": 0}, \"xref\": \"x\", \"type\": \"rect\", \"fillcolor\": \"rgb(23, 190, 207)\", \"x1\": \"2019-05-29T21:59:51.592000Z\", \"x0\": \"2019-05-29T21:52:43.244000Z\", \"y0\": 20.8, \"y1\": 21.2, \"opacity\": 1, \"yref\": \"y\"}, {\"line\": {\"width\": 0}, \"xref\": \"x\", \"type\": \"rect\", \"fillcolor\": \"rgb(31, 119, 180)\", \"x1\": \"2019-05-29T22:05:56.389000Z\", \"x0\": \"2019-05-29T21:48:13.326000Z\", \"y0\": 6.8, \"y1\": 7.2, \"opacity\": 1, \"yref\": \"y\"}, {\"line\": {\"width\": 0}, \"xref\": \"x\", \"type\": \"rect\", \"fillcolor\": \"rgb(255, 127, 14)\", \"x1\": \"2019-05-29T21:54:56.759000Z\", \"x0\": \"2019-05-29T21:47:42.992000Z\", \"y0\": 19.8, \"y1\": 20.2, \"opacity\": 1, \"yref\": \"y\"}, {\"line\": {\"width\": 0}, \"xref\": \"x\", \"type\": \"rect\", \"fillcolor\": \"rgb(44, 160, 44)\", \"x1\": \"2019-05-29T21:57:10.373000Z\", \"x0\": \"2019-05-29T21:44:42.752000Z\", \"y0\": 5.8, \"y1\": 6.2, \"opacity\": 1, \"yref\": \"y\"}, {\"line\": {\"width\": 0}, \"xref\": \"x\", \"type\": \"rect\", \"fillcolor\": \"rgb(214, 39, 40)\", \"x1\": \"2019-05-29T21:51:31.945000Z\", \"x0\": \"2019-05-29T21:44:13.163000Z\", \"y0\": 18.8, \"y1\": 19.2, \"opacity\": 1, \"yref\": \"y\"}, {\"line\": {\"width\": 0}, \"xref\": \"x\", \"type\": \"rect\", \"fillcolor\": \"rgb(148, 103, 189)\", \"x1\": \"2019-05-29T21:48:00.662000Z\", \"x0\": \"2019-05-29T21:40:13.364000Z\", \"y0\": 17.8, \"y1\": 18.2, \"opacity\": 1, \"yref\": \"y\"}, {\"line\": {\"width\": 0}, \"xref\": \"x\", \"type\": \"rect\", \"fillcolor\": \"rgb(140, 86, 75)\", \"x1\": \"2019-05-29T21:44:26.092000Z\", \"x0\": \"2019-05-29T21:37:15.802000Z\", \"y0\": 20.8, \"y1\": 21.2, \"opacity\": 1, \"yref\": \"y\"}, {\"line\": {\"width\": 0}, \"xref\": \"x\", \"type\": \"rect\", \"fillcolor\": \"rgb(227, 119, 194)\", \"x1\": \"2019-05-29T21:29:34.106000Z\", \"x0\": \"2019-05-29T21:22:10.452000Z\", \"y0\": 20.8, \"y1\": 21.2, \"opacity\": 1, \"yref\": \"y\"}, {\"line\": {\"width\": 0}, \"xref\": \"x\", \"type\": \"rect\", \"fillcolor\": \"rgb(127, 127, 127)\", \"x1\": \"2019-05-29T21:25:09.409000Z\", \"x0\": \"2019-05-29T21:17:37.891000Z\", \"y0\": 19.8, \"y1\": 20.2, \"opacity\": 1, \"yref\": \"y\"}, {\"line\": {\"width\": 0}, \"xref\": \"x\", \"type\": \"rect\", \"fillcolor\": \"rgb(188, 189, 34)\", \"x1\": \"2019-05-29T21:16:10.341000Z\", \"x0\": \"2019-05-29T21:15:08.295000Z\", \"y0\": 4.8, \"y1\": 5.2, \"opacity\": 1, \"yref\": \"y\"}, {\"line\": {\"width\": 0}, \"xref\": \"x\", \"type\": \"rect\", \"fillcolor\": \"rgb(23, 190, 207)\", \"x1\": \"2019-05-29T21:18:11.425000Z\", \"x0\": \"2019-05-29T21:10:09.191000Z\", \"y0\": 17.8, \"y1\": 18.2, \"opacity\": 1, \"yref\": \"y\"}, {\"line\": {\"width\": 0}, \"xref\": \"x\", \"type\": \"rect\", \"fillcolor\": \"rgb(31, 119, 180)\", \"x1\": \"2019-05-29T21:14:23.257000Z\", \"x0\": \"2019-05-29T21:07:08.492000Z\", \"y0\": 20.8, \"y1\": 21.2, \"opacity\": 1, \"yref\": \"y\"}, {\"line\": {\"width\": 0}, \"xref\": \"x\", \"type\": \"rect\", \"fillcolor\": \"rgb(255, 127, 14)\", \"x1\": \"2019-05-29T20:59:31.612000Z\", \"x0\": \"2019-05-29T20:52:05.038000Z\", \"y0\": 20.8, \"y1\": 21.2, \"opacity\": 1, \"yref\": \"y\"}, {\"line\": {\"width\": 0}, \"xref\": \"x\", \"type\": \"rect\", \"fillcolor\": \"rgb(44, 160, 44)\", \"x1\": \"2019-05-29T20:54:58.644000Z\", \"x0\": \"2019-05-29T20:47:32.882000Z\", \"y0\": 19.8, \"y1\": 20.2, \"opacity\": 1, \"yref\": \"y\"}, {\"line\": {\"width\": 0}, \"xref\": \"x\", \"type\": \"rect\", \"fillcolor\": \"rgb(214, 39, 40)\", \"x1\": \"2019-05-29T20:51:21.153000Z\", \"x0\": \"2019-05-29T20:44:02.020000Z\", \"y0\": 18.8, \"y1\": 19.2, \"opacity\": 1, \"yref\": \"y\"}, {\"line\": {\"width\": 0}, \"xref\": \"x\", \"type\": \"rect\", \"fillcolor\": \"rgb(148, 103, 189)\", \"x1\": \"2019-05-29T20:47:36.394000Z\", \"x0\": \"2019-05-29T20:40:01.256000Z\", \"y0\": 17.8, \"y1\": 18.2, \"opacity\": 1, \"yref\": \"y\"}, {\"line\": {\"width\": 0}, \"xref\": \"x\", \"type\": \"rect\", \"fillcolor\": \"rgb(140, 86, 75)\", \"x1\": \"2019-05-29T20:44:29.318000Z\", \"x0\": \"2019-05-29T20:37:01.198000Z\", \"y0\": 20.8, \"y1\": 21.2, \"opacity\": 1, \"yref\": \"y\"}, {\"line\": {\"width\": 0}, \"xref\": \"x\", \"type\": \"rect\", \"fillcolor\": \"rgb(227, 119, 194)\", \"x1\": \"2019-05-29T20:42:28.218000Z\", \"x0\": \"2019-05-29T20:25:34.387000Z\", \"y0\": 16.8, \"y1\": 17.2, \"opacity\": 1, \"yref\": \"y\"}, {\"line\": {\"width\": 0}, \"xref\": \"x\", \"type\": \"rect\", \"fillcolor\": \"rgb(127, 127, 127)\", \"x1\": \"2019-05-29T20:28:40.538000Z\", \"x0\": \"2019-05-29T20:21:34.587000Z\", \"y0\": 20.8, \"y1\": 21.2, \"opacity\": 1, \"yref\": \"y\"}, {\"line\": {\"width\": 0}, \"xref\": \"x\", \"type\": \"rect\", \"fillcolor\": \"rgb(188, 189, 34)\", \"x1\": \"2019-05-29T20:24:18.492000Z\", \"x0\": \"2019-05-29T20:17:04.587000Z\", \"y0\": 19.8, \"y1\": 20.2, \"opacity\": 1, \"yref\": \"y\"}, {\"line\": {\"width\": 0}, \"xref\": \"x\", \"type\": \"rect\", \"fillcolor\": \"rgb(23, 190, 207)\", \"x1\": \"2019-05-29T20:17:29.640000Z\", \"x0\": \"2019-05-29T20:10:02.488000Z\", \"y0\": 17.8, \"y1\": 18.2, \"opacity\": 1, \"yref\": \"y\"}, {\"line\": {\"width\": 0}, \"xref\": \"x\", \"type\": \"rect\", \"fillcolor\": \"rgb(31, 119, 180)\", \"x1\": \"2019-05-29T20:13:44.445000Z\", \"x0\": \"2019-05-29T20:06:32.745000Z\", \"y0\": 20.8, \"y1\": 21.2, \"opacity\": 1, \"yref\": \"y\"}, {\"line\": {\"width\": 0}, \"xref\": \"x\", \"type\": \"rect\", \"fillcolor\": \"rgb(255, 127, 14)\", \"x1\": \"2019-05-29T20:49:33.081000Z\", \"x0\": \"2019-05-29T20:00:32.450000Z\", \"y0\": 3.8, \"y1\": 4.2, \"opacity\": 1, \"yref\": \"y\"}, {\"line\": {\"width\": 0}, \"xref\": \"x\", \"type\": \"rect\", \"fillcolor\": \"rgb(44, 160, 44)\", \"x1\": \"2019-05-29T19:58:21.778000Z\", \"x0\": \"2019-05-29T19:51:02.287000Z\", \"y0\": 20.8, \"y1\": 21.2, \"opacity\": 1, \"yref\": \"y\"}, {\"line\": {\"width\": 0}, \"xref\": \"x\", \"type\": \"rect\", \"fillcolor\": \"rgb(214, 39, 40)\", \"x1\": \"2019-05-29T19:54:12.469000Z\", \"x0\": \"2019-05-29T19:47:01.757000Z\", \"y0\": 19.8, \"y1\": 20.2, \"opacity\": 1, \"yref\": \"y\"}, {\"line\": {\"width\": 0}, \"xref\": \"x\", \"type\": \"rect\", \"fillcolor\": \"rgb(148, 103, 189)\", \"x1\": \"2019-05-29T19:50:50.011000Z\", \"x0\": \"2019-05-29T19:43:32.295000Z\", \"y0\": 18.8, \"y1\": 19.2, \"opacity\": 1, \"yref\": \"y\"}, {\"line\": {\"width\": 0}, \"xref\": \"x\", \"type\": \"rect\", \"fillcolor\": \"rgb(140, 86, 75)\", \"x1\": \"2019-05-29T19:48:09.056000Z\", \"x0\": \"2019-05-29T19:40:02.430000Z\", \"y0\": 17.8, \"y1\": 18.2, \"opacity\": 1, \"yref\": \"y\"}, {\"line\": {\"width\": 0}, \"xref\": \"x\", \"type\": \"rect\", \"fillcolor\": \"rgb(227, 119, 194)\", \"x1\": \"2019-05-29T19:43:28.606000Z\", \"x0\": \"2019-05-29T19:35:32.247000Z\", \"y0\": 20.8, \"y1\": 21.2, \"opacity\": 1, \"yref\": \"y\"}, {\"line\": {\"width\": 0}, \"xref\": \"x\", \"type\": \"rect\", \"fillcolor\": \"rgb(127, 127, 127)\", \"x1\": \"2019-05-29T19:26:58.143000Z\", \"x0\": \"2019-05-29T19:20:01.800000Z\", \"y0\": 20.8, \"y1\": 21.2, \"opacity\": 1, \"yref\": \"y\"}, {\"line\": {\"width\": 0}, \"xref\": \"x\", \"type\": \"rect\", \"fillcolor\": \"rgb(188, 189, 34)\", \"x1\": \"2019-05-29T19:24:03.939000Z\", \"x0\": \"2019-05-29T19:16:31.780000Z\", \"y0\": 19.8, \"y1\": 20.2, \"opacity\": 1, \"yref\": \"y\"}, {\"line\": {\"width\": 0}, \"xref\": \"x\", \"type\": \"rect\", \"fillcolor\": \"rgb(23, 190, 207)\", \"x1\": \"2019-05-29T19:17:31.178000Z\", \"x0\": \"2019-05-29T19:10:01.669000Z\", \"y0\": 17.8, \"y1\": 18.2, \"opacity\": 1, \"yref\": \"y\"}, {\"line\": {\"width\": 0}, \"xref\": \"x\", \"type\": \"rect\", \"fillcolor\": \"rgb(31, 119, 180)\", \"x1\": \"2019-05-29T19:11:36.597000Z\", \"x0\": \"2019-05-29T19:04:31.790000Z\", \"y0\": 20.8, \"y1\": 21.2, \"opacity\": 1, \"yref\": \"y\"}, {\"line\": {\"width\": 0}, \"xref\": \"x\", \"type\": \"rect\", \"fillcolor\": \"rgb(255, 127, 14)\", \"x1\": \"2019-05-29T18:56:25.212000Z\", \"x0\": \"2019-05-29T18:49:01.821000Z\", \"y0\": 20.8, \"y1\": 21.2, \"opacity\": 1, \"yref\": \"y\"}, {\"line\": {\"width\": 0}, \"xref\": \"x\", \"type\": \"rect\", \"fillcolor\": \"rgb(44, 160, 44)\", \"x1\": \"2019-05-29T19:05:38.671000Z\", \"x0\": \"2019-05-29T18:48:01.505000Z\", \"y0\": 6.8, \"y1\": 7.2, \"opacity\": 1, \"yref\": \"y\"}, {\"line\": {\"width\": 0}, \"xref\": \"x\", \"type\": \"rect\", \"fillcolor\": \"rgb(214, 39, 40)\", \"x1\": \"2019-05-29T18:53:20.950000Z\", \"x0\": \"2019-05-29T18:46:01.567000Z\", \"y0\": 19.8, \"y1\": 20.2, \"opacity\": 1, \"yref\": \"y\"}, {\"line\": {\"width\": 0}, \"xref\": \"x\", \"type\": \"rect\", \"fillcolor\": \"rgb(148, 103, 189)\", \"x1\": \"2019-05-29T18:51:40.358000Z\", \"x0\": \"2019-05-29T18:44:31.718000Z\", \"y0\": 5.8, \"y1\": 6.2, \"opacity\": 1, \"yref\": \"y\"}, {\"line\": {\"width\": 0}, \"xref\": \"x\", \"type\": \"rect\", \"fillcolor\": \"rgb(140, 86, 75)\", \"x1\": \"2019-05-29T18:50:11.681000Z\", \"x0\": \"2019-05-29T18:43:01.736000Z\", \"y0\": 18.8, \"y1\": 19.2, \"opacity\": 1, \"yref\": \"y\"}, {\"line\": {\"width\": 0}, \"xref\": \"x\", \"type\": \"rect\", \"fillcolor\": \"rgb(227, 119, 194)\", \"x1\": \"2019-05-29T18:47:39.786000Z\", \"x0\": \"2019-05-29T18:40:01.313000Z\", \"y0\": 17.8, \"y1\": 18.2, \"opacity\": 1, \"yref\": \"y\"}, {\"line\": {\"width\": 0}, \"xref\": \"x\", \"type\": \"rect\", \"fillcolor\": \"rgb(127, 127, 127)\", \"x1\": \"2019-05-29T18:40:43.054000Z\", \"x0\": \"2019-05-29T18:33:31.531000Z\", \"y0\": 20.8, \"y1\": 21.2, \"opacity\": 1, \"yref\": \"y\"}, {\"line\": {\"width\": 0}, \"xref\": \"x\", \"type\": \"rect\", \"fillcolor\": \"rgb(188, 189, 34)\", \"x1\": \"2019-05-29T18:25:43.344000Z\", \"x0\": \"2019-05-29T18:18:20.805000Z\", \"y0\": 20.8, \"y1\": 21.2, \"opacity\": 1, \"yref\": \"y\"}, {\"line\": {\"width\": 0}, \"xref\": \"x\", \"type\": \"rect\", \"fillcolor\": \"rgb(23, 190, 207)\", \"x1\": \"2019-05-29T18:23:08.598000Z\", \"x0\": \"2019-05-29T18:15:50.641000Z\", \"y0\": 19.8, \"y1\": 20.2, \"opacity\": 1, \"yref\": \"y\"}, {\"line\": {\"width\": 0}, \"xref\": \"x\", \"type\": \"rect\", \"fillcolor\": \"rgb(31, 119, 180)\", \"x1\": \"2019-05-29T18:18:08.776000Z\", \"x0\": \"2019-05-29T18:10:28.470000Z\", \"y0\": 17.8, \"y1\": 18.2, \"opacity\": 1, \"yref\": \"y\"}, {\"line\": {\"width\": 0}, \"xref\": \"x\", \"type\": \"rect\", \"fillcolor\": \"rgb(255, 127, 14)\", \"x1\": \"2019-05-29T18:10:20.431000Z\", \"x0\": \"2019-05-29T18:02:57.790000Z\", \"y0\": 20.8, \"y1\": 21.2, \"opacity\": 1, \"yref\": \"y\"}, {\"line\": {\"width\": 0}, \"xref\": \"x\", \"type\": \"rect\", \"fillcolor\": \"rgb(44, 160, 44)\", \"x1\": \"2019-05-29T18:09:34.604000Z\", \"x0\": \"2019-05-29T18:00:57.385000Z\", \"y0\": 2.8, \"y1\": 3.2, \"opacity\": 1, \"yref\": \"y\"}, {\"line\": {\"width\": 0}, \"xref\": \"x\", \"type\": \"rect\", \"fillcolor\": \"rgb(214, 39, 40)\", \"x1\": \"2019-05-29T18:47:59.919000Z\", \"x0\": \"2019-05-29T17:57:58.139000Z\", \"y0\": 16.8, \"y1\": 17.2, \"opacity\": 1, \"yref\": \"y\"}, {\"line\": {\"width\": 0}, \"xref\": \"x\", \"type\": \"rect\", \"fillcolor\": \"rgb(148, 103, 189)\", \"x1\": \"2019-05-29T17:54:56.144000Z\", \"x0\": \"2019-05-29T17:47:40.238000Z\", \"y0\": 20.8, \"y1\": 21.2, \"opacity\": 1, \"yref\": \"y\"}, {\"line\": {\"width\": 0}, \"xref\": \"x\", \"type\": \"rect\", \"fillcolor\": \"rgb(140, 86, 75)\", \"x1\": \"2019-05-29T17:52:56.787000Z\", \"x0\": \"2019-05-29T17:45:33.339000Z\", \"y0\": 19.8, \"y1\": 20.2, \"opacity\": 1, \"yref\": \"y\"}, {\"line\": {\"width\": 0}, \"xref\": \"x\", \"type\": \"rect\", \"fillcolor\": \"rgb(227, 119, 194)\", \"x1\": \"2019-05-29T17:50:05.888000Z\", \"x0\": \"2019-05-29T17:42:33.994000Z\", \"y0\": 18.8, \"y1\": 19.2, \"opacity\": 1, \"yref\": \"y\"}, {\"line\": {\"width\": 0}, \"xref\": \"x\", \"type\": \"rect\", \"fillcolor\": \"rgb(127, 127, 127)\", \"x1\": \"2019-05-29T17:47:44.378000Z\", \"x0\": \"2019-05-29T17:40:04.662000Z\", \"y0\": 17.8, \"y1\": 18.2, \"opacity\": 1, \"yref\": \"y\"}, {\"line\": {\"width\": 0}, \"xref\": \"x\", \"type\": \"rect\", \"fillcolor\": \"rgb(188, 189, 34)\", \"x1\": \"2019-05-29T17:41:18.443000Z\", \"x0\": \"2019-05-29T17:32:33.421000Z\", \"y0\": 20.8, \"y1\": 21.2, \"opacity\": 1, \"yref\": \"y\"}, {\"line\": {\"width\": 0}, \"xref\": \"x\", \"type\": \"rect\", \"fillcolor\": \"rgb(23, 190, 207)\", \"x1\": \"2019-05-29T17:43:28.778000Z\", \"x0\": \"2019-05-29T17:25:17.151000Z\", \"y0\": 16.8, \"y1\": 17.2, \"opacity\": 1, \"yref\": \"y\"}, {\"line\": {\"width\": 0}, \"xref\": \"x\", \"type\": \"rect\", \"fillcolor\": \"rgb(31, 119, 180)\", \"x1\": \"2019-05-29T17:25:02.324000Z\", \"x0\": \"2019-05-29T17:17:18.507000Z\", \"y0\": 20.8, \"y1\": 21.2, \"opacity\": 1, \"yref\": \"y\"}, {\"line\": {\"width\": 0}, \"xref\": \"x\", \"type\": \"rect\", \"fillcolor\": \"rgb(255, 127, 14)\", \"x1\": \"2019-05-29T17:22:52.325000Z\", \"x0\": \"2019-05-29T17:15:17.817000Z\", \"y0\": 19.8, \"y1\": 20.2, \"opacity\": 1, \"yref\": \"y\"}, {\"line\": {\"width\": 0}, \"xref\": \"x\", \"type\": \"rect\", \"fillcolor\": \"rgb(44, 160, 44)\", \"x1\": \"2019-05-29T17:18:13.033000Z\", \"x0\": \"2019-05-29T17:10:05.708000Z\", \"y0\": 17.8, \"y1\": 18.2, \"opacity\": 1, \"yref\": \"y\"}, {\"line\": {\"width\": 0}, \"xref\": \"x\", \"type\": \"rect\", \"fillcolor\": \"rgb(214, 39, 40)\", \"x1\": \"2019-05-29T17:09:36.700000Z\", \"x0\": \"2019-05-29T17:01:56.513000Z\", \"y0\": 20.8, \"y1\": 21.2, \"opacity\": 1, \"yref\": \"y\"}, {\"line\": {\"width\": 0}, \"xref\": \"x\", \"type\": \"rect\", \"fillcolor\": \"rgb(148, 103, 189)\", \"x1\": \"2019-05-29T17:35:34.432000Z\", \"x0\": \"2019-05-29T17:00:53.489000Z\", \"y0\": 9.8, \"y1\": 10.2, \"opacity\": 1, \"yref\": \"y\"}, {\"line\": {\"width\": 0}, \"xref\": \"x\", \"type\": \"rect\", \"fillcolor\": \"rgb(140, 86, 75)\", \"x1\": \"2019-05-29T16:54:38.334000Z\", \"x0\": \"2019-05-29T16:46:47.006000Z\", \"y0\": 20.8, \"y1\": 21.2, \"opacity\": 1, \"yref\": \"y\"}, {\"line\": {\"width\": 0}, \"xref\": \"x\", \"type\": \"rect\", \"fillcolor\": \"rgb(227, 119, 194)\", \"x1\": \"2019-05-29T16:52:28.580000Z\", \"x0\": \"2019-05-29T16:44:41.770000Z\", \"y0\": 19.8, \"y1\": 20.2, \"opacity\": 1, \"yref\": \"y\"}, {\"line\": {\"width\": 0}, \"xref\": \"x\", \"type\": \"rect\", \"fillcolor\": \"rgb(127, 127, 127)\", \"x1\": \"2019-05-29T16:50:20.351000Z\", \"x0\": \"2019-05-29T16:42:30.627000Z\", \"y0\": 18.8, \"y1\": 19.2, \"opacity\": 1, \"yref\": \"y\"}, {\"line\": {\"width\": 0}, \"xref\": \"x\", \"type\": \"rect\", \"fillcolor\": \"rgb(188, 189, 34)\", \"x1\": \"2019-05-29T16:48:24.453000Z\", \"x0\": \"2019-05-29T16:40:15.563000Z\", \"y0\": 17.8, \"y1\": 18.2, \"opacity\": 1, \"yref\": \"y\"}, {\"line\": {\"width\": 0}, \"xref\": \"x\", \"type\": \"rect\", \"fillcolor\": \"rgb(23, 190, 207)\", \"x1\": \"2019-05-29T16:39:55.747000Z\", \"x0\": \"2019-05-29T16:31:34.117000Z\", \"y0\": 20.8, \"y1\": 21.2, \"opacity\": 1, \"yref\": \"y\"}, {\"line\": {\"width\": 0}, \"xref\": \"x\", \"type\": \"rect\", \"fillcolor\": \"rgb(31, 119, 180)\", \"x1\": \"2019-05-29T16:24:29.736000Z\", \"x0\": \"2019-05-29T16:16:14.340000Z\", \"y0\": 20.8, \"y1\": 21.2, \"opacity\": 1, \"yref\": \"y\"}, {\"line\": {\"width\": 0}, \"xref\": \"x\", \"type\": \"rect\", \"fillcolor\": \"rgb(255, 127, 14)\", \"x1\": \"2019-05-29T16:21:58.514000Z\", \"x0\": \"2019-05-29T16:14:18.272000Z\", \"y0\": 19.8, \"y1\": 20.2, \"opacity\": 1, \"yref\": \"y\"}, {\"line\": {\"width\": 0}, \"xref\": \"x\", \"type\": \"rect\", \"fillcolor\": \"rgb(44, 160, 44)\", \"x1\": \"2019-05-29T16:19:57.543000Z\", \"x0\": \"2019-05-29T16:10:25.422000Z\", \"y0\": 17.8, \"y1\": 18.2, \"opacity\": 1, \"yref\": \"y\"}, {\"line\": {\"width\": 0}, \"xref\": \"x\", \"type\": \"rect\", \"fillcolor\": \"rgb(214, 39, 40)\", \"x1\": \"2019-05-29T16:08:00.092000Z\", \"x0\": \"2019-05-29T16:00:17.888000Z\", \"y0\": 20.8, \"y1\": 21.2, \"opacity\": 1, \"yref\": \"y\"}, {\"line\": {\"width\": 0}, \"xref\": \"x\", \"type\": \"rect\", \"fillcolor\": \"rgb(148, 103, 189)\", \"x1\": \"2019-05-29T16:15:54.507000Z\", \"x0\": \"2019-05-29T15:54:34.428000Z\", \"y0\": 7.8, \"y1\": 8.2, \"opacity\": 1, \"yref\": \"y\"}, {\"line\": {\"width\": 0}, \"xref\": \"x\", \"type\": \"rect\", \"fillcolor\": \"rgb(140, 86, 75)\", \"x1\": \"2019-05-29T16:04:49.654000Z\", \"x0\": \"2019-05-29T15:47:40.920000Z\", \"y0\": 6.8, \"y1\": 7.2, \"opacity\": 1, \"yref\": \"y\"}, {\"line\": {\"width\": 0}, \"xref\": \"x\", \"type\": \"rect\", \"fillcolor\": \"rgb(227, 119, 194)\", \"x1\": \"2019-05-29T15:52:52.364000Z\", \"x0\": \"2019-05-29T15:45:11.010000Z\", \"y0\": 20.8, \"y1\": 21.2, \"opacity\": 1, \"yref\": \"y\"}, {\"line\": {\"width\": 0}, \"xref\": \"x\", \"type\": \"rect\", \"fillcolor\": \"rgb(127, 127, 127)\", \"x1\": \"2019-05-29T15:51:45.474000Z\", \"x0\": \"2019-05-29T15:44:09.288000Z\", \"y0\": 19.8, \"y1\": 20.2, \"opacity\": 1, \"yref\": \"y\"}, {\"line\": {\"width\": 0}, \"xref\": \"x\", \"type\": \"rect\", \"fillcolor\": \"rgb(188, 189, 34)\", \"x1\": \"2019-05-29T15:52:17.860000Z\", \"x0\": \"2019-05-29T15:44:08.809000Z\", \"y0\": 5.8, \"y1\": 6.2, \"opacity\": 1, \"yref\": \"y\"}, {\"line\": {\"width\": 0}, \"xref\": \"x\", \"type\": \"rect\", \"fillcolor\": \"rgb(23, 190, 207)\", \"x1\": \"2019-05-29T15:50:16.193000Z\", \"x0\": \"2019-05-29T15:42:07.602000Z\", \"y0\": 18.8, \"y1\": 19.2, \"opacity\": 1, \"yref\": \"y\"}, {\"line\": {\"width\": 0}, \"xref\": \"x\", \"type\": \"rect\", \"fillcolor\": \"rgb(31, 119, 180)\", \"x1\": \"2019-05-29T15:48:48.836000Z\", \"x0\": \"2019-05-29T15:40:05.860000Z\", \"y0\": 17.8, \"y1\": 18.2, \"opacity\": 1, \"yref\": \"y\"}, {\"line\": {\"width\": 0}, \"xref\": \"x\", \"type\": \"rect\", \"fillcolor\": \"rgb(255, 127, 14)\", \"x1\": \"2019-05-29T15:37:40.665000Z\", \"x0\": \"2019-05-29T15:29:50.808000Z\", \"y0\": 20.8, \"y1\": 21.2, \"opacity\": 1, \"yref\": \"y\"}, {\"line\": {\"width\": 0}, \"xref\": \"x\", \"type\": \"rect\", \"fillcolor\": \"rgb(44, 160, 44)\", \"x1\": \"2019-05-29T15:16:35.808000Z\", \"x0\": \"2019-05-29T15:15:05.975000Z\", \"y0\": 4.8, \"y1\": 5.2, \"opacity\": 1, \"yref\": \"y\"}, {\"line\": {\"width\": 0}, \"xref\": \"x\", \"type\": \"rect\", \"fillcolor\": \"rgb(214, 39, 40)\", \"x1\": \"2019-05-29T15:22:41.798000Z\", \"x0\": \"2019-05-29T15:14:37.371000Z\", \"y0\": 20.8, \"y1\": 21.2, \"opacity\": 1, \"yref\": \"y\"}, {\"line\": {\"width\": 0}, \"xref\": \"x\", \"type\": \"rect\", \"fillcolor\": \"rgb(148, 103, 189)\", \"x1\": \"2019-05-29T15:21:49.446000Z\", \"x0\": \"2019-05-29T15:13:46.017000Z\", \"y0\": 19.8, \"y1\": 20.2, \"opacity\": 1, \"yref\": \"y\"}, {\"line\": {\"width\": 0}, \"xref\": \"x\", \"type\": \"rect\", \"fillcolor\": \"rgb(140, 86, 75)\", \"x1\": \"2019-05-29T15:18:40Z\", \"x0\": \"2019-05-29T15:10:05.465000Z\", \"y0\": 17.8, \"y1\": 18.2, \"opacity\": 1, \"yref\": \"y\"}, {\"line\": {\"width\": 0}, \"xref\": \"x\", \"type\": \"rect\", \"fillcolor\": \"rgb(227, 119, 194)\", \"x1\": \"2019-05-29T15:08:39.432000Z\", \"x0\": \"2019-05-29T14:58:59.100000Z\", \"y0\": 20.8, \"y1\": 21.2, \"opacity\": 1, \"yref\": \"y\"}, {\"line\": {\"width\": 0}, \"xref\": \"x\", \"type\": \"rect\", \"fillcolor\": \"rgb(127, 127, 127)\", \"x1\": \"2019-05-29T14:52:50.658000Z\", \"x0\": \"2019-05-29T14:43:53.147000Z\", \"y0\": 20.8, \"y1\": 21.2, \"opacity\": 1, \"yref\": \"y\"}, {\"line\": {\"width\": 0}, \"xref\": \"x\", \"type\": \"rect\", \"fillcolor\": \"rgb(188, 189, 34)\", \"x1\": \"2019-05-29T14:51:58.491000Z\", \"x0\": \"2019-05-29T14:43:21.739000Z\", \"y0\": 19.8, \"y1\": 20.2, \"opacity\": 1, \"yref\": \"y\"}, {\"line\": {\"width\": 0}, \"xref\": \"x\", \"type\": \"rect\", \"fillcolor\": \"rgb(23, 190, 207)\", \"x1\": \"2019-05-29T14:51:25.202000Z\", \"x0\": \"2019-05-29T14:41:50.659000Z\", \"y0\": 18.8, \"y1\": 19.2, \"opacity\": 1, \"yref\": \"y\"}, {\"line\": {\"width\": 0}, \"xref\": \"x\", \"type\": \"rect\", \"fillcolor\": \"rgb(31, 119, 180)\", \"x1\": \"2019-05-29T14:50:58.218000Z\", \"x0\": \"2019-05-29T14:40:12.625000Z\", \"y0\": 17.8, \"y1\": 18.2, \"opacity\": 1, \"yref\": \"y\"}, {\"line\": {\"width\": 0}, \"xref\": \"x\", \"type\": \"rect\", \"fillcolor\": \"rgb(255, 127, 14)\", \"x1\": \"2019-05-29T14:37:46.466000Z\", \"x0\": \"2019-05-29T14:28:40.035000Z\", \"y0\": 20.8, \"y1\": 21.2, \"opacity\": 1, \"yref\": \"y\"}, {\"line\": {\"width\": 0}, \"xref\": \"x\", \"type\": \"rect\", \"fillcolor\": \"rgb(44, 160, 44)\", \"x1\": \"2019-05-29T14:41:36.054000Z\", \"x0\": \"2019-05-29T14:24:44.860000Z\", \"y0\": 16.8, \"y1\": 17.2, \"opacity\": 1, \"yref\": \"y\"}, {\"line\": {\"width\": 0}, \"xref\": \"x\", \"type\": \"rect\", \"fillcolor\": \"rgb(214, 39, 40)\", \"x1\": \"2019-05-29T14:21:51.170000Z\", \"x0\": \"2019-05-29T14:13:31.758000Z\", \"y0\": 20.8, \"y1\": 21.2, \"opacity\": 1, \"yref\": \"y\"}, {\"line\": {\"width\": 0}, \"xref\": \"x\", \"type\": \"rect\", \"fillcolor\": \"rgb(148, 103, 189)\", \"x1\": \"2019-05-29T14:22:05.375000Z\", \"x0\": \"2019-05-29T14:13:16.134000Z\", \"y0\": 19.8, \"y1\": 20.2, \"opacity\": 1, \"yref\": \"y\"}, {\"line\": {\"width\": 0}, \"xref\": \"x\", \"type\": \"rect\", \"fillcolor\": \"rgb(140, 86, 75)\", \"x1\": \"2019-05-29T14:19:28.235000Z\", \"x0\": \"2019-05-29T14:10:29.206000Z\", \"y0\": 17.8, \"y1\": 18.2, \"opacity\": 1, \"yref\": \"y\"}, {\"line\": {\"width\": 0}, \"xref\": \"x\", \"type\": \"rect\", \"fillcolor\": \"rgb(227, 119, 194)\", \"x1\": \"2019-05-29T14:06:30.778000Z\", \"x0\": \"2019-05-29T13:57:23.191000Z\", \"y0\": 20.8, \"y1\": 21.2, \"opacity\": 1, \"yref\": \"y\"}, {\"line\": {\"width\": 0}, \"xref\": \"x\", \"type\": \"rect\", \"fillcolor\": \"rgb(127, 127, 127)\", \"x1\": \"2019-05-29T13:50:51.547000Z\", \"x0\": \"2019-05-29T13:42:51.655000Z\", \"y0\": 19.8, \"y1\": 20.2, \"opacity\": 1, \"yref\": \"y\"}, {\"line\": {\"width\": 0}, \"xref\": \"x\", \"type\": \"rect\", \"fillcolor\": \"rgb(188, 189, 34)\", \"x1\": \"2019-05-29T13:50:31.366000Z\", \"x0\": \"2019-05-29T13:42:16.654000Z\", \"y0\": 20.8, \"y1\": 21.2, \"opacity\": 1, \"yref\": \"y\"}, {\"line\": {\"width\": 0}, \"xref\": \"x\", \"type\": \"rect\", \"fillcolor\": \"rgb(23, 190, 207)\", \"x1\": \"2019-05-29T13:50:02.334000Z\", \"x0\": \"2019-05-29T13:41:43.955000Z\", \"y0\": 18.8, \"y1\": 19.2, \"opacity\": 1, \"yref\": \"y\"}, {\"line\": {\"width\": 0}, \"xref\": \"x\", \"type\": \"rect\", \"fillcolor\": \"rgb(31, 119, 180)\", \"x1\": \"2019-05-29T13:49:08.040000Z\", \"x0\": \"2019-05-29T13:40:31.039000Z\", \"y0\": 17.8, \"y1\": 18.2, \"opacity\": 1, \"yref\": \"y\"}, {\"line\": {\"width\": 0}, \"xref\": \"x\", \"type\": \"rect\", \"fillcolor\": \"rgb(255, 127, 14)\", \"x1\": \"2019-05-29T13:35:43.848000Z\", \"x0\": \"2019-05-29T13:27:12.982000Z\", \"y0\": 20.8, \"y1\": 21.2, \"opacity\": 1, \"yref\": \"y\"}, {\"line\": {\"width\": 0}, \"xref\": \"x\", \"type\": \"rect\", \"fillcolor\": \"rgb(44, 160, 44)\", \"x1\": \"2019-05-29T13:22:00.923000Z\", \"x0\": \"2019-05-29T13:12:45.143000Z\", \"y0\": 19.8, \"y1\": 20.2, \"opacity\": 1, \"yref\": \"y\"}, {\"line\": {\"width\": 0}, \"xref\": \"x\", \"type\": \"rect\", \"fillcolor\": \"rgb(214, 39, 40)\", \"x1\": \"2019-05-29T13:21:58.432000Z\", \"x0\": \"2019-05-29T13:12:09.074000Z\", \"y0\": 20.8, \"y1\": 21.2, \"opacity\": 1, \"yref\": \"y\"}, {\"line\": {\"width\": 0}, \"xref\": \"x\", \"type\": \"rect\", \"fillcolor\": \"rgb(148, 103, 189)\", \"x1\": \"2019-05-29T13:19:56.944000Z\", \"x0\": \"2019-05-29T13:10:25.694000Z\", \"y0\": 17.8, \"y1\": 18.2, \"opacity\": 1, \"yref\": \"y\"}, {\"line\": {\"width\": 0}, \"xref\": \"x\", \"type\": \"rect\", \"fillcolor\": \"rgb(140, 86, 75)\", \"x1\": \"2019-05-29T13:24:57.478000Z\", \"x0\": \"2019-05-29T13:00:51.706000Z\", \"y0\": 1.8, \"y1\": 2.2, \"opacity\": 1, \"yref\": \"y\"}, {\"line\": {\"width\": 0}, \"xref\": \"x\", \"type\": \"rect\", \"fillcolor\": \"rgb(227, 119, 194)\", \"x1\": \"2019-05-29T16:09:47.414000Z\", \"x0\": \"2019-05-29T12:57:21.774000Z\", \"y0\": 16.8, \"y1\": 17.2, \"opacity\": 1, \"yref\": \"y\"}, {\"line\": {\"width\": 0}, \"xref\": \"x\", \"type\": \"rect\", \"fillcolor\": \"rgb(127, 127, 127)\", \"x1\": \"2019-05-29T13:01:17.870000Z\", \"x0\": \"2019-05-29T12:56:21.805000Z\", \"y0\": 20.8, \"y1\": 21.2, \"opacity\": 1, \"yref\": \"y\"}, {\"line\": {\"width\": 0}, \"xref\": \"x\", \"type\": \"rect\", \"fillcolor\": \"rgb(188, 189, 34)\", \"x1\": \"2019-05-29T13:11:18.748000Z\", \"x0\": \"2019-05-29T12:47:38.269000Z\", \"y0\": 6.8, \"y1\": 7.2, \"opacity\": 1, \"yref\": \"y\"}, {\"line\": {\"width\": 0}, \"xref\": \"x\", \"type\": \"rect\", \"fillcolor\": \"rgb(23, 190, 207)\", \"x1\": \"2019-05-29T12:56:19.638000Z\", \"x0\": \"2019-05-29T12:44:05.867000Z\", \"y0\": 5.8, \"y1\": 6.2, \"opacity\": 1, \"yref\": \"y\"}, {\"line\": {\"width\": 0}, \"xref\": \"x\", \"type\": \"rect\", \"fillcolor\": \"rgb(31, 119, 180)\", \"x1\": \"2019-05-29T12:56:15.612000Z\", \"x0\": \"2019-05-29T12:42:23.799000Z\", \"y0\": 19.8, \"y1\": 20.2, \"opacity\": 1, \"yref\": \"y\"}, {\"line\": {\"width\": 0}, \"xref\": \"x\", \"type\": \"rect\", \"fillcolor\": \"rgb(255, 127, 14)\", \"x1\": \"2019-05-29T12:56:20.962000Z\", \"x0\": \"2019-05-29T12:41:22.476000Z\", \"y0\": 17.8, \"y1\": 18.2, \"opacity\": 1, \"yref\": \"y\"}, {\"line\": {\"width\": 0}, \"xref\": \"x\", \"type\": \"rect\", \"fillcolor\": \"rgb(44, 160, 44)\", \"x1\": \"2019-05-29T12:56:04.640000Z\", \"x0\": \"2019-05-29T12:41:17.610000Z\", \"y0\": 18.8, \"y1\": 19.2, \"opacity\": 1, \"yref\": \"y\"}, {\"line\": {\"width\": 0}, \"xref\": \"x\", \"type\": \"rect\", \"fillcolor\": \"rgb(214, 39, 40)\", \"x1\": \"2019-05-29T12:55:00.261000Z\", \"x0\": \"2019-05-29T12:40:13.430000Z\", \"y0\": 20.8, \"y1\": 21.2, \"opacity\": 1, \"yref\": \"y\"}, {\"line\": {\"width\": 0}, \"xref\": \"x\", \"type\": \"rect\", \"fillcolor\": \"rgb(148, 103, 189)\", \"x1\": \"2019-05-29T12:30:57.690000Z\", \"x0\": \"2019-05-29T12:22:19.154000Z\", \"y0\": 20.8, \"y1\": 21.2, \"opacity\": 1, \"yref\": \"y\"}, {\"line\": {\"width\": 0}, \"xref\": \"x\", \"type\": \"rect\", \"fillcolor\": \"rgb(140, 86, 75)\", \"x1\": \"2019-05-29T12:19:48.799000Z\", \"x0\": \"2019-05-29T12:12:13.384000Z\", \"y0\": 19.8, \"y1\": 20.2, \"opacity\": 1, \"yref\": \"y\"}, {\"line\": {\"width\": 0}, \"xref\": \"x\", \"type\": \"rect\", \"fillcolor\": \"rgb(227, 119, 194)\", \"x1\": \"2019-05-29T12:18:45.704000Z\", \"x0\": \"2019-05-29T12:10:34.970000Z\", \"y0\": 17.8, \"y1\": 18.2, \"opacity\": 1, \"yref\": \"y\"}, {\"line\": {\"width\": 0}, \"xref\": \"x\", \"type\": \"rect\", \"fillcolor\": \"rgb(127, 127, 127)\", \"x1\": \"2019-05-29T12:15:04.619000Z\", \"x0\": \"2019-05-29T12:06:49.419000Z\", \"y0\": 20.8, \"y1\": 21.2, \"opacity\": 1, \"yref\": \"y\"}, {\"line\": {\"width\": 0}, \"xref\": \"x\", \"type\": \"rect\", \"fillcolor\": \"rgb(188, 189, 34)\", \"x1\": \"2019-05-29T12:11:31.530000Z\", \"x0\": \"2019-05-29T12:01:18.581000Z\", \"y0\": 2.8, \"y1\": 3.2, \"opacity\": 1, \"yref\": \"y\"}, {\"line\": {\"width\": 0}, \"xref\": \"x\", \"type\": \"rect\", \"fillcolor\": \"rgb(23, 190, 207)\", \"x1\": \"2019-05-29T12:32:24.708000Z\", \"x0\": \"2019-05-29T12:00:47.289000Z\", \"y0\": 9.8, \"y1\": 10.2, \"opacity\": 1, \"yref\": \"y\"}, {\"line\": {\"width\": 0}, \"xref\": \"x\", \"type\": \"rect\", \"fillcolor\": \"rgb(31, 119, 180)\", \"x1\": \"2019-05-29T11:59:42.673000Z\", \"x0\": \"2019-05-29T11:51:39.601000Z\", \"y0\": 20.8, \"y1\": 21.2, \"opacity\": 1, \"yref\": \"y\"}, {\"line\": {\"width\": 0}, \"xref\": \"x\", \"type\": \"rect\", \"fillcolor\": \"rgb(255, 127, 14)\", \"x1\": \"2019-05-29T11:49:33.929000Z\", \"x0\": \"2019-05-29T11:41:59.868000Z\", \"y0\": 19.8, \"y1\": 20.2, \"opacity\": 1, \"yref\": \"y\"}, {\"line\": {\"width\": 0}, \"xref\": \"x\", \"type\": \"rect\", \"fillcolor\": \"rgb(44, 160, 44)\", \"x1\": \"2019-05-29T11:48:33.831000Z\", \"x0\": \"2019-05-29T11:40:28.477000Z\", \"y0\": 17.8, \"y1\": 18.2, \"opacity\": 1, \"yref\": \"y\"}, {\"line\": {\"width\": 0}, \"xref\": \"x\", \"type\": \"rect\", \"fillcolor\": \"rgb(214, 39, 40)\", \"x1\": \"2019-05-29T11:48:28.968000Z\", \"x0\": \"2019-05-29T11:40:28.443000Z\", \"y0\": 18.8, \"y1\": 19.2, \"opacity\": 1, \"yref\": \"y\"}, {\"line\": {\"width\": 0}, \"xref\": \"x\", \"type\": \"rect\", \"fillcolor\": \"rgb(148, 103, 189)\", \"x1\": \"2019-05-29T11:44:06.704000Z\", \"x0\": \"2019-05-29T11:36:27.509000Z\", \"y0\": 20.8, \"y1\": 21.2, \"opacity\": 1, \"yref\": \"y\"}, {\"line\": {\"width\": 0}, \"xref\": \"x\", \"type\": \"rect\", \"fillcolor\": \"rgb(140, 86, 75)\", \"x1\": \"2019-05-29T11:41:17.906000Z\", \"x0\": \"2019-05-29T11:24:35.532000Z\", \"y0\": 16.8, \"y1\": 17.2, \"opacity\": 1, \"yref\": \"y\"}, {\"line\": {\"width\": 0}, \"xref\": \"x\", \"type\": \"rect\", \"fillcolor\": \"rgb(227, 119, 194)\", \"x1\": \"2019-05-29T11:28:38.100000Z\", \"x0\": \"2019-05-29T11:21:05.381000Z\", \"y0\": 20.8, \"y1\": 21.2, \"opacity\": 1, \"yref\": \"y\"}, {\"line\": {\"width\": 0}, \"xref\": \"x\", \"type\": \"rect\", \"fillcolor\": \"rgb(127, 127, 127)\", \"x1\": \"2019-05-29T11:19:51.375000Z\", \"x0\": \"2019-05-29T11:11:43.804000Z\", \"y0\": 19.8, \"y1\": 20.2, \"opacity\": 1, \"yref\": \"y\"}, {\"line\": {\"width\": 0}, \"xref\": \"x\", \"type\": \"rect\", \"fillcolor\": \"rgb(188, 189, 34)\", \"x1\": \"2019-05-29T11:18:36.993000Z\", \"x0\": \"2019-05-29T11:10:15.376000Z\", \"y0\": 17.8, \"y1\": 18.2, \"opacity\": 1, \"yref\": \"y\"}, {\"line\": {\"width\": 0}, \"xref\": \"x\", \"type\": \"rect\", \"fillcolor\": \"rgb(23, 190, 207)\", \"x1\": \"2019-05-29T11:13:22.170000Z\", \"x0\": \"2019-05-29T11:05:45.311000Z\", \"y0\": 20.8, \"y1\": 21.2, \"opacity\": 1, \"yref\": \"y\"}, {\"line\": {\"width\": 0}, \"xref\": \"x\", \"type\": \"rect\", \"fillcolor\": \"rgb(31, 119, 180)\", \"x1\": \"2019-05-29T10:58:10.173000Z\", \"x0\": \"2019-05-29T10:50:14.905000Z\", \"y0\": 20.8, \"y1\": 21.2, \"opacity\": 1, \"yref\": \"y\"}, {\"line\": {\"width\": 0}, \"xref\": \"x\", \"type\": \"rect\", \"fillcolor\": \"rgb(255, 127, 14)\", \"x1\": \"2019-05-29T10:49:40.227000Z\", \"x0\": \"2019-05-29T10:41:21.975000Z\", \"y0\": 19.8, \"y1\": 20.2, \"opacity\": 1, \"yref\": \"y\"}, {\"line\": {\"width\": 0}, \"xref\": \"x\", \"type\": \"rect\", \"fillcolor\": \"rgb(44, 160, 44)\", \"x1\": \"2019-05-29T10:48:17.624000Z\", \"x0\": \"2019-05-29T10:40:22.811000Z\", \"y0\": 17.8, \"y1\": 18.2, \"opacity\": 1, \"yref\": \"y\"}, {\"line\": {\"width\": 0}, \"xref\": \"x\", \"type\": \"rect\", \"fillcolor\": \"rgb(214, 39, 40)\", \"x1\": \"2019-05-29T10:47:52.418000Z\", \"x0\": \"2019-05-29T10:40:21.848000Z\", \"y0\": 18.8, \"y1\": 19.2, \"opacity\": 1, \"yref\": \"y\"}, {\"line\": {\"width\": 0}, \"xref\": \"x\", \"type\": \"rect\", \"fillcolor\": \"rgb(148, 103, 189)\", \"x1\": \"2019-05-29T10:43:06.016000Z\", \"x0\": \"2019-05-29T10:34:51.136000Z\", \"y0\": 20.8, \"y1\": 21.2, \"opacity\": 1, \"yref\": \"y\"}, {\"line\": {\"width\": 0}, \"xref\": \"x\", \"type\": \"rect\", \"fillcolor\": \"rgb(140, 86, 75)\", \"x1\": \"2019-05-29T10:28:03.159000Z\", \"x0\": \"2019-05-29T10:19:49.128000Z\", \"y0\": 20.8, \"y1\": 21.2, \"opacity\": 1, \"yref\": \"y\"}, {\"line\": {\"width\": 0}, \"xref\": \"x\", \"type\": \"rect\", \"fillcolor\": \"rgb(227, 119, 194)\", \"x1\": \"2019-05-29T10:26:21.468000Z\", \"x0\": \"2019-05-29T10:18:37.177000Z\", \"y0\": 10.8, \"y1\": 11.2, \"opacity\": 1, \"yref\": \"y\"}, {\"line\": {\"width\": 0}, \"xref\": \"x\", \"type\": \"rect\", \"fillcolor\": \"rgb(127, 127, 127)\", \"x1\": \"2019-05-29T10:18:21.704000Z\", \"x0\": \"2019-05-29T10:11:10.661000Z\", \"y0\": 19.8, \"y1\": 20.2, \"opacity\": 1, \"yref\": \"y\"}, {\"line\": {\"width\": 0}, \"xref\": \"x\", \"type\": \"rect\", \"fillcolor\": \"rgb(188, 189, 34)\", \"x1\": \"2019-05-29T10:17:39.029000Z\", \"x0\": \"2019-05-29T10:10:14.345000Z\", \"y0\": 17.8, \"y1\": 18.2, \"opacity\": 1, \"yref\": \"y\"}, {\"line\": {\"width\": 0}, \"xref\": \"x\", \"type\": \"rect\", \"fillcolor\": \"rgb(23, 190, 207)\", \"x1\": \"2019-05-29T10:12:28.552000Z\", \"x0\": \"2019-05-29T10:04:41.818000Z\", \"y0\": 20.8, \"y1\": 21.2, \"opacity\": 1, \"yref\": \"y\"}, {\"line\": {\"width\": 0}, \"xref\": \"x\", \"type\": \"rect\", \"fillcolor\": \"rgb(31, 119, 180)\", \"x1\": \"2019-05-29T10:14:12.887000Z\", \"x0\": \"2019-05-29T09:54:21.463000Z\", \"y0\": 7.8, \"y1\": 8.2, \"opacity\": 1, \"yref\": \"y\"}, {\"line\": {\"width\": 0}, \"xref\": \"x\", \"type\": \"rect\", \"fillcolor\": \"rgb(255, 127, 14)\", \"x1\": \"2019-05-29T09:57:25.634000Z\", \"x0\": \"2019-05-29T09:49:24.684000Z\", \"y0\": 20.8, \"y1\": 21.2, \"opacity\": 1, \"yref\": \"y\"}, {\"line\": {\"width\": 0}, \"xref\": \"x\", \"type\": \"rect\", \"fillcolor\": \"rgb(44, 160, 44)\", \"x1\": \"2019-05-29T10:05:19.724000Z\", \"x0\": \"2019-05-29T09:45:48.923000Z\", \"y0\": 6.8, \"y1\": 7.2, \"opacity\": 1, \"yref\": \"y\"}, {\"line\": {\"width\": 0}, \"xref\": \"x\", \"type\": \"rect\", \"fillcolor\": \"rgb(214, 39, 40)\", \"x1\": \"2019-05-29T09:56:54.242000Z\", \"x0\": \"2019-05-29T09:43:17.437000Z\", \"y0\": 5.8, \"y1\": 6.2, \"opacity\": 1, \"yref\": \"y\"}, {\"line\": {\"width\": 0}, \"xref\": \"x\", \"type\": \"rect\", \"fillcolor\": \"rgb(148, 103, 189)\", \"x1\": \"2019-05-29T09:49:28.326000Z\", \"x0\": \"2019-05-29T09:41:01.378000Z\", \"y0\": 19.8, \"y1\": 20.2, \"opacity\": 1, \"yref\": \"y\"}, {\"line\": {\"width\": 0}, \"xref\": \"x\", \"type\": \"rect\", \"fillcolor\": \"rgb(140, 86, 75)\", \"x1\": \"2019-05-29T09:49:00.130000Z\", \"x0\": \"2019-05-29T09:40:30.117000Z\", \"y0\": 17.8, \"y1\": 18.2, \"opacity\": 1, \"yref\": \"y\"}, {\"line\": {\"width\": 0}, \"xref\": \"x\", \"type\": \"rect\", \"fillcolor\": \"rgb(227, 119, 194)\", \"x1\": \"2019-05-29T09:47:57.352000Z\", \"x0\": \"2019-05-29T09:39:52.316000Z\", \"y0\": 18.8, \"y1\": 19.2, \"opacity\": 1, \"yref\": \"y\"}, {\"line\": {\"width\": 0}, \"xref\": \"x\", \"type\": \"rect\", \"fillcolor\": \"rgb(127, 127, 127)\", \"x1\": \"2019-05-29T09:41:50.628000Z\", \"x0\": \"2019-05-29T09:33:51.124000Z\", \"y0\": 20.8, \"y1\": 21.2, \"opacity\": 1, \"yref\": \"y\"}, {\"line\": {\"width\": 0}, \"xref\": \"x\", \"type\": \"rect\", \"fillcolor\": \"rgb(188, 189, 34)\", \"x1\": \"2019-05-29T09:25:44.111000Z\", \"x0\": \"2019-05-29T09:18:24.431000Z\", \"y0\": 20.8, \"y1\": 21.2, \"opacity\": 1, \"yref\": \"y\"}, {\"line\": {\"width\": 0}, \"xref\": \"x\", \"type\": \"rect\", \"fillcolor\": \"rgb(23, 190, 207)\", \"x1\": \"2019-05-29T10:03:17.593000Z\", \"x0\": \"2019-05-29T09:14:54.767000Z\", \"y0\": 3.8, \"y1\": 4.2, \"opacity\": 1, \"yref\": \"y\"}, {\"line\": {\"width\": 0}, \"xref\": \"x\", \"type\": \"rect\", \"fillcolor\": \"rgb(31, 119, 180)\", \"x1\": \"2019-05-29T09:15:50.785000Z\", \"x0\": \"2019-05-29T09:14:50.495000Z\", \"y0\": 4.8, \"y1\": 5.2, \"opacity\": 1, \"yref\": \"y\"}, {\"line\": {\"width\": 0}, \"xref\": \"x\", \"type\": \"rect\", \"fillcolor\": \"rgb(255, 127, 14)\", \"x1\": \"2019-05-29T09:18:36.276000Z\", \"x0\": \"2019-05-29T09:10:50.947000Z\", \"y0\": 19.8, \"y1\": 20.2, \"opacity\": 1, \"yref\": \"y\"}, {\"line\": {\"width\": 0}, \"xref\": \"x\", \"type\": \"rect\", \"fillcolor\": \"rgb(44, 160, 44)\", \"x1\": \"2019-05-29T09:18:27.813000Z\", \"x0\": \"2019-05-29T09:10:20.591000Z\", \"y0\": 17.8, \"y1\": 18.2, \"opacity\": 1, \"yref\": \"y\"}, {\"line\": {\"width\": 0}, \"xref\": \"x\", \"type\": \"rect\", \"fillcolor\": \"rgb(214, 39, 40)\", \"x1\": \"2019-05-29T09:11:06.302000Z\", \"x0\": \"2019-05-29T09:02:53.189000Z\", \"y0\": 20.8, \"y1\": 21.2, \"opacity\": 1, \"yref\": \"y\"}, {\"line\": {\"width\": 0}, \"xref\": \"x\", \"type\": \"rect\", \"fillcolor\": \"rgb(148, 103, 189)\", \"x1\": \"2019-05-29T08:54:54.393000Z\", \"x0\": \"2019-05-29T08:47:26.196000Z\", \"y0\": 20.8, \"y1\": 21.2, \"opacity\": 1, \"yref\": \"y\"}, {\"line\": {\"width\": 0}, \"xref\": \"x\", \"type\": \"rect\", \"fillcolor\": \"rgb(140, 86, 75)\", \"x1\": \"2019-05-29T08:49:13.594000Z\", \"x0\": \"2019-05-29T08:40:39.561000Z\", \"y0\": 19.8, \"y1\": 20.2, \"opacity\": 1, \"yref\": \"y\"}, {\"line\": {\"width\": 0}, \"xref\": \"x\", \"type\": \"rect\", \"fillcolor\": \"rgb(227, 119, 194)\", \"x1\": \"2019-05-29T08:47:44.027000Z\", \"x0\": \"2019-05-29T08:40:09.821000Z\", \"y0\": 17.8, \"y1\": 18.2, \"opacity\": 1, \"yref\": \"y\"}, {\"line\": {\"width\": 0}, \"xref\": \"x\", \"type\": \"rect\", \"fillcolor\": \"rgb(127, 127, 127)\", \"x1\": \"2019-05-29T08:48:09.622000Z\", \"x0\": \"2019-05-29T08:39:39.537000Z\", \"y0\": 18.8, \"y1\": 19.2, \"opacity\": 1, \"yref\": \"y\"}, {\"line\": {\"width\": 0}, \"xref\": \"x\", \"type\": \"rect\", \"fillcolor\": \"rgb(188, 189, 34)\", \"x1\": \"2019-05-29T08:39:40.060000Z\", \"x0\": \"2019-05-29T08:32:09.585000Z\", \"y0\": 20.8, \"y1\": 21.2, \"opacity\": 1, \"yref\": \"y\"}, {\"line\": {\"width\": 0}, \"xref\": \"x\", \"type\": \"rect\", \"fillcolor\": \"rgb(23, 190, 207)\", \"x1\": \"2019-05-29T08:42:01.913000Z\", \"x0\": \"2019-05-29T08:24:09.420000Z\", \"y0\": 16.8, \"y1\": 17.2, \"opacity\": 1, \"yref\": \"y\"}, {\"line\": {\"width\": 0}, \"xref\": \"x\", \"type\": \"rect\", \"fillcolor\": \"rgb(31, 119, 180)\", \"x1\": \"2019-05-29T08:24:30.638000Z\", \"x0\": \"2019-05-29T08:17:05.209000Z\", \"y0\": 20.8, \"y1\": 21.2, \"opacity\": 1, \"yref\": \"y\"}, {\"line\": {\"width\": 0}, \"xref\": \"x\", \"type\": \"rect\", \"fillcolor\": \"rgb(255, 127, 14)\", \"x1\": \"2019-05-29T08:18:11.215000Z\", \"x0\": \"2019-05-29T08:10:35.308000Z\", \"y0\": 19.8, \"y1\": 20.2, \"opacity\": 1, \"yref\": \"y\"}, {\"line\": {\"width\": 0}, \"xref\": \"x\", \"type\": \"rect\", \"fillcolor\": \"rgb(44, 160, 44)\", \"x1\": \"2019-05-29T08:18:00.720000Z\", \"x0\": \"2019-05-29T08:10:04.814000Z\", \"y0\": 17.8, \"y1\": 18.2, \"opacity\": 1, \"yref\": \"y\"}, {\"line\": {\"width\": 0}, \"xref\": \"x\", \"type\": \"rect\", \"fillcolor\": \"rgb(214, 39, 40)\", \"x1\": \"2019-05-29T08:10:26.137000Z\", \"x0\": \"2019-05-29T08:01:35.475000Z\", \"y0\": 20.8, \"y1\": 21.2, \"opacity\": 1, \"yref\": \"y\"}, {\"line\": {\"width\": 0}, \"xref\": \"x\", \"type\": \"rect\", \"fillcolor\": \"rgb(148, 103, 189)\", \"x1\": \"2019-05-29T08:42:08.808000Z\", \"x0\": \"2019-05-29T07:56:53.115000Z\", \"y0\": 16.8, \"y1\": 17.2, \"opacity\": 1, \"yref\": \"y\"}, {\"line\": {\"width\": 0}, \"xref\": \"x\", \"type\": \"rect\", \"fillcolor\": \"rgb(140, 86, 75)\", \"x1\": \"2019-05-29T07:53:44.567000Z\", \"x0\": \"2019-05-29T07:46:21.779000Z\", \"y0\": 20.8, \"y1\": 21.2, \"opacity\": 1, \"yref\": \"y\"}, {\"line\": {\"width\": 0}, \"xref\": \"x\", \"type\": \"rect\", \"fillcolor\": \"rgb(227, 119, 194)\", \"x1\": \"2019-05-29T07:47:08.199000Z\", \"x0\": \"2019-05-29T07:46:21.773000Z\", \"y0\": 0.8, \"y1\": 1.2, \"opacity\": 1, \"yref\": \"y\"}, {\"line\": {\"width\": 0}, \"xref\": \"x\", \"type\": \"rect\", \"fillcolor\": \"rgb(127, 127, 127)\", \"x1\": \"2019-05-29T07:47:33.218000Z\", \"x0\": \"2019-05-29T07:40:21.737000Z\", \"y0\": 19.8, \"y1\": 20.2, \"opacity\": 1, \"yref\": \"y\"}, {\"line\": {\"width\": 0}, \"xref\": \"x\", \"type\": \"rect\", \"fillcolor\": \"rgb(188, 189, 34)\", \"x1\": \"2019-05-29T07:47:42.972000Z\", \"x0\": \"2019-05-29T07:40:21.729000Z\", \"y0\": 17.8, \"y1\": 18.2, \"opacity\": 1, \"yref\": \"y\"}, {\"line\": {\"width\": 0}, \"xref\": \"x\", \"type\": \"rect\", \"fillcolor\": \"rgb(23, 190, 207)\", \"x1\": \"2019-05-29T07:46:36.618000Z\", \"x0\": \"2019-05-29T07:39:22.390000Z\", \"y0\": 18.8, \"y1\": 19.2, \"opacity\": 1, \"yref\": \"y\"}, {\"line\": {\"width\": 0}, \"xref\": \"x\", \"type\": \"rect\", \"fillcolor\": \"rgb(31, 119, 180)\", \"x1\": \"2019-05-29T07:38:07.312000Z\", \"x0\": \"2019-05-29T07:30:51.865000Z\", \"y0\": 20.8, \"y1\": 21.2, \"opacity\": 1, \"yref\": \"y\"}, {\"line\": {\"width\": 0}, \"xref\": \"x\", \"type\": \"rect\", \"fillcolor\": \"rgb(255, 127, 14)\", \"x1\": \"2019-05-29T07:22:55.534000Z\", \"x0\": \"2019-05-29T07:15:42.528000Z\", \"y0\": 20.8, \"y1\": 21.2, \"opacity\": 1, \"yref\": \"y\"}, {\"line\": {\"width\": 0}, \"xref\": \"x\", \"type\": \"rect\", \"fillcolor\": \"rgb(44, 160, 44)\", \"x1\": \"2019-05-29T07:18:00.351000Z\", \"x0\": \"2019-05-29T07:10:12.732000Z\", \"y0\": 17.8, \"y1\": 18.2, \"opacity\": 1, \"yref\": \"y\"}, {\"line\": {\"width\": 0}, \"xref\": \"x\", \"type\": \"rect\", \"fillcolor\": \"rgb(214, 39, 40)\", \"x1\": \"2019-05-29T07:17:19.672000Z\", \"x0\": \"2019-05-29T07:10:12.525000Z\", \"y0\": 19.8, \"y1\": 20.2, \"opacity\": 1, \"yref\": \"y\"}, {\"line\": {\"width\": 0}, \"xref\": \"x\", \"type\": \"rect\", \"fillcolor\": \"rgb(148, 103, 189)\", \"x1\": \"2019-05-29T07:31:04.430000Z\", \"x0\": \"2019-05-29T07:00:53.896000Z\", \"y0\": 9.8, \"y1\": 10.2, \"opacity\": 1, \"yref\": \"y\"}, {\"line\": {\"width\": 0}, \"xref\": \"x\", \"type\": \"rect\", \"fillcolor\": \"rgb(140, 86, 75)\", \"x1\": \"2019-05-29T07:07:43.222000Z\", \"x0\": \"2019-05-29T07:00:25.820000Z\", \"y0\": 20.8, \"y1\": 21.2, \"opacity\": 1, \"yref\": \"y\"}, {\"line\": {\"width\": 0}, \"xref\": \"x\", \"type\": \"rect\", \"fillcolor\": \"rgb(227, 119, 194)\", \"x1\": \"2019-05-29T07:25:50.711000Z\", \"x0\": \"2019-05-29T07:00:23.896000Z\", \"y0\": 1.8, \"y1\": 2.2, \"opacity\": 1, \"yref\": \"y\"}, {\"line\": {\"width\": 0}, \"xref\": \"x\", \"type\": \"rect\", \"fillcolor\": \"rgb(127, 127, 127)\", \"x1\": \"2019-05-29T06:52:21.611000Z\", \"x0\": \"2019-05-29T06:45:09.580000Z\", \"y0\": 20.8, \"y1\": 21.2, \"opacity\": 1, \"yref\": \"y\"}, {\"line\": {\"width\": 0}, \"xref\": \"x\", \"type\": \"rect\", \"fillcolor\": \"rgb(188, 189, 34)\", \"x1\": \"2019-05-29T07:02:31.129000Z\", \"x0\": \"2019-05-29T06:45:09.413000Z\", \"y0\": 6.8, \"y1\": 7.2, \"opacity\": 1, \"yref\": \"y\"}, {\"line\": {\"width\": 0}, \"xref\": \"x\", \"type\": \"rect\", \"fillcolor\": \"rgb(23, 190, 207)\", \"x1\": \"2019-05-29T06:49:39.981000Z\", \"x0\": \"2019-05-29T06:42:39.042000Z\", \"y0\": 5.8, \"y1\": 6.2, \"opacity\": 1, \"yref\": \"y\"}, {\"line\": {\"width\": 0}, \"xref\": \"x\", \"type\": \"rect\", \"fillcolor\": \"rgb(31, 119, 180)\", \"x1\": \"2019-05-29T06:47:25.035000Z\", \"x0\": \"2019-05-29T06:40:09.510000Z\", \"y0\": 19.8, \"y1\": 20.2, \"opacity\": 1, \"yref\": \"y\"}, {\"line\": {\"width\": 0}, \"xref\": \"x\", \"type\": \"rect\", \"fillcolor\": \"rgb(255, 127, 14)\", \"x1\": \"2019-05-29T06:47:43.988000Z\", \"x0\": \"2019-05-29T06:40:09.502000Z\", \"y0\": 17.8, \"y1\": 18.2, \"opacity\": 1, \"yref\": \"y\"}, {\"line\": {\"width\": 0}, \"xref\": \"x\", \"type\": \"rect\", \"fillcolor\": \"rgb(44, 160, 44)\", \"x1\": \"2019-05-29T06:46:07.144000Z\", \"x0\": \"2019-05-29T06:39:09.251000Z\", \"y0\": 18.8, \"y1\": 19.2, \"opacity\": 1, \"yref\": \"y\"}, {\"line\": {\"width\": 0}, \"xref\": \"x\", \"type\": \"rect\", \"fillcolor\": \"rgb(214, 39, 40)\", \"x1\": \"2019-05-29T06:36:48.528000Z\", \"x0\": \"2019-05-29T06:29:39.489000Z\", \"y0\": 20.8, \"y1\": 21.2, \"opacity\": 1, \"yref\": \"y\"}, {\"line\": {\"width\": 0}, \"xref\": \"x\", \"type\": \"rect\", \"fillcolor\": \"rgb(148, 103, 189)\", \"x1\": \"2019-05-29T06:21:38.634000Z\", \"x0\": \"2019-05-29T06:14:09.073000Z\", \"y0\": 20.8, \"y1\": 21.2, \"opacity\": 1, \"yref\": \"y\"}, {\"line\": {\"width\": 0}, \"xref\": \"x\", \"type\": \"rect\", \"fillcolor\": \"rgb(140, 86, 75)\", \"x1\": \"2019-05-29T06:17:29.622000Z\", \"x0\": \"2019-05-29T06:10:09.196000Z\", \"y0\": 17.8, \"y1\": 18.2, \"opacity\": 1, \"yref\": \"y\"}, {\"line\": {\"width\": 0}, \"xref\": \"x\", \"type\": \"rect\", \"fillcolor\": \"rgb(227, 119, 194)\", \"x1\": \"2019-05-29T06:16:54.762000Z\", \"x0\": \"2019-05-29T06:09:39.301000Z\", \"y0\": 19.8, \"y1\": 20.2, \"opacity\": 1, \"yref\": \"y\"}, {\"line\": {\"width\": 0}, \"xref\": \"x\", \"type\": \"rect\", \"fillcolor\": \"rgb(127, 127, 127)\", \"x1\": \"2019-05-29T06:14:26.672000Z\", \"x0\": \"2019-05-29T06:01:10.253000Z\", \"y0\": 2.8, \"y1\": 3.2, \"opacity\": 1, \"yref\": \"y\"}, {\"line\": {\"width\": 0}, \"xref\": \"x\", \"type\": \"rect\", \"fillcolor\": \"rgb(188, 189, 34)\", \"x1\": \"2019-05-29T06:05:58.404000Z\", \"x0\": \"2019-05-29T05:58:39.017000Z\", \"y0\": 20.8, \"y1\": 21.2, \"opacity\": 1, \"yref\": \"y\"}, {\"line\": {\"width\": 0}, \"xref\": \"x\", \"type\": \"rect\", \"fillcolor\": \"rgb(23, 190, 207)\", \"x1\": \"2019-05-29T05:50:24.028000Z\", \"x0\": \"2019-05-29T05:43:09.344000Z\", \"y0\": 20.8, \"y1\": 21.2, \"opacity\": 1, \"yref\": \"y\"}, {\"line\": {\"width\": 0}, \"xref\": \"x\", \"type\": \"rect\", \"fillcolor\": \"rgb(31, 119, 180)\", \"x1\": \"2019-05-29T05:47:50.637000Z\", \"x0\": \"2019-05-29T05:40:09.336000Z\", \"y0\": 17.8, \"y1\": 18.2, \"opacity\": 1, \"yref\": \"y\"}, {\"line\": {\"width\": 0}, \"xref\": \"x\", \"type\": \"rect\", \"fillcolor\": \"rgb(255, 127, 14)\", \"x1\": \"2019-05-29T05:46:21.752000Z\", \"x0\": \"2019-05-29T05:39:09.358000Z\", \"y0\": 19.8, \"y1\": 20.2, \"opacity\": 1, \"yref\": \"y\"}, {\"line\": {\"width\": 0}, \"xref\": \"x\", \"type\": \"rect\", \"fillcolor\": \"rgb(44, 160, 44)\", \"x1\": \"2019-05-29T05:45:54.508000Z\", \"x0\": \"2019-05-29T05:38:39.321000Z\", \"y0\": 18.8, \"y1\": 19.2, \"opacity\": 1, \"yref\": \"y\"}, {\"line\": {\"width\": 0}, \"xref\": \"x\", \"type\": \"rect\", \"fillcolor\": \"rgb(214, 39, 40)\", \"x1\": \"2019-05-29T05:34:55.840000Z\", \"x0\": \"2019-05-29T05:27:39.180000Z\", \"y0\": 20.8, \"y1\": 21.2, \"opacity\": 1, \"yref\": \"y\"}, {\"line\": {\"width\": 0}, \"xref\": \"x\", \"type\": \"rect\", \"fillcolor\": \"rgb(148, 103, 189)\", \"x1\": \"2019-05-29T05:41:02.365000Z\", \"x0\": \"2019-05-29T05:23:39.167000Z\", \"y0\": 16.8, \"y1\": 17.2, \"opacity\": 1, \"yref\": \"y\"}, {\"line\": {\"width\": 0}, \"xref\": \"x\", \"type\": \"rect\", \"fillcolor\": \"rgb(140, 86, 75)\", \"x1\": \"2019-05-29T05:19:12.735000Z\", \"x0\": \"2019-05-29T05:12:08.847000Z\", \"y0\": 20.8, \"y1\": 21.2, \"opacity\": 1, \"yref\": \"y\"}, {\"line\": {\"width\": 0}, \"xref\": \"x\", \"type\": \"rect\", \"fillcolor\": \"rgb(227, 119, 194)\", \"x1\": \"2019-05-29T05:17:33.761000Z\", \"x0\": \"2019-05-29T05:10:08.993000Z\", \"y0\": 17.8, \"y1\": 18.2, \"opacity\": 1, \"yref\": \"y\"}, {\"line\": {\"width\": 0}, \"xref\": \"x\", \"type\": \"rect\", \"fillcolor\": \"rgb(127, 127, 127)\", \"x1\": \"2019-05-29T05:15:48.966000Z\", \"x0\": \"2019-05-29T05:08:39.224000Z\", \"y0\": 19.8, \"y1\": 20.2, \"opacity\": 1, \"yref\": \"y\"}, {\"line\": {\"width\": 0}, \"xref\": \"x\", \"type\": \"rect\", \"fillcolor\": \"rgb(188, 189, 34)\", \"x1\": \"2019-05-29T05:04:14.860000Z\", \"x0\": \"2019-05-29T04:56:52.598000Z\", \"y0\": 20.8, \"y1\": 21.2, \"opacity\": 1, \"yref\": \"y\"}, {\"line\": {\"width\": 0}, \"xref\": \"x\", \"type\": \"rect\", \"fillcolor\": \"rgb(23, 190, 207)\", \"x1\": \"2019-05-29T04:48:52.661000Z\", \"x0\": \"2019-05-29T04:41:45.253000Z\", \"y0\": 20.8, \"y1\": 21.2, \"opacity\": 1, \"yref\": \"y\"}, {\"line\": {\"width\": 0}, \"xref\": \"x\", \"type\": \"rect\", \"fillcolor\": \"rgb(31, 119, 180)\", \"x1\": \"2019-05-29T04:48:00.386000Z\", \"x0\": \"2019-05-29T04:40:15.853000Z\", \"y0\": 17.8, \"y1\": 18.2, \"opacity\": 1, \"yref\": \"y\"}, {\"line\": {\"width\": 0}, \"xref\": \"x\", \"type\": \"rect\", \"fillcolor\": \"rgb(255, 127, 14)\", \"x1\": \"2019-05-29T04:45:49.822000Z\", \"x0\": \"2019-05-29T04:38:16.311000Z\", \"y0\": 19.8, \"y1\": 20.2, \"opacity\": 1, \"yref\": \"y\"}, {\"line\": {\"width\": 0}, \"xref\": \"x\", \"type\": \"rect\", \"fillcolor\": \"rgb(44, 160, 44)\", \"x1\": \"2019-05-29T04:45:33.816000Z\", \"x0\": \"2019-05-29T04:38:15.360000Z\", \"y0\": 18.8, \"y1\": 19.2, \"opacity\": 1, \"yref\": \"y\"}, {\"line\": {\"width\": 0}, \"xref\": \"x\", \"type\": \"rect\", \"fillcolor\": \"rgb(214, 39, 40)\", \"x1\": \"2019-05-29T04:33:24.116000Z\", \"x0\": \"2019-05-29T04:26:15.179000Z\", \"y0\": 20.8, \"y1\": 21.2, \"opacity\": 1, \"yref\": \"y\"}, {\"line\": {\"width\": 0}, \"xref\": \"x\", \"type\": \"rect\", \"fillcolor\": \"rgb(148, 103, 189)\", \"x1\": \"2019-05-29T04:17:49.081000Z\", \"x0\": \"2019-05-29T04:10:45.150000Z\", \"y0\": 20.8, \"y1\": 21.2, \"opacity\": 1, \"yref\": \"y\"}, {\"line\": {\"width\": 0}, \"xref\": \"x\", \"type\": \"rect\", \"fillcolor\": \"rgb(140, 86, 75)\", \"x1\": \"2019-05-29T04:17:42.699000Z\", \"x0\": \"2019-05-29T04:10:15.139000Z\", \"y0\": 17.8, \"y1\": 18.2, \"opacity\": 1, \"yref\": \"y\"}, {\"line\": {\"width\": 0}, \"xref\": \"x\", \"type\": \"rect\", \"fillcolor\": \"rgb(227, 119, 194)\", \"x1\": \"2019-05-29T04:14:54.145000Z\", \"x0\": \"2019-05-29T04:07:45.163000Z\", \"y0\": 19.8, \"y1\": 20.2, \"opacity\": 1, \"yref\": \"y\"}, {\"line\": {\"width\": 0}, \"xref\": \"x\", \"type\": \"rect\", \"fillcolor\": \"rgb(127, 127, 127)\", \"x1\": \"2019-05-29T04:02:29.237000Z\", \"x0\": \"2019-05-29T03:55:15.426000Z\", \"y0\": 20.8, \"y1\": 21.2, \"opacity\": 1, \"yref\": \"y\"}, {\"line\": {\"width\": 0}, \"xref\": \"x\", \"type\": \"rect\", \"fillcolor\": \"rgb(188, 189, 34)\", \"x1\": \"2019-05-29T04:14:43.433000Z\", \"x0\": \"2019-05-29T03:54:15.058000Z\", \"y0\": 7.8, \"y1\": 8.2, \"opacity\": 1, \"yref\": \"y\"}, {\"line\": {\"width\": 0}, \"xref\": \"x\", \"type\": \"rect\", \"fillcolor\": \"rgb(23, 190, 207)\", \"x1\": \"2019-05-29T04:03:47.678000Z\", \"x0\": \"2019-05-29T03:44:47.539000Z\", \"y0\": 6.8, \"y1\": 7.2, \"opacity\": 1, \"yref\": \"y\"}, {\"line\": {\"width\": 0}, \"xref\": \"x\", \"type\": \"rect\", \"fillcolor\": \"rgb(31, 119, 180)\", \"x1\": \"2019-05-29T03:49:38.492000Z\", \"x0\": \"2019-05-29T03:42:15.770000Z\", \"y0\": 5.8, \"y1\": 6.2, \"opacity\": 1, \"yref\": \"y\"}, {\"line\": {\"width\": 0}, \"xref\": \"x\", \"type\": \"rect\", \"fillcolor\": \"rgb(255, 127, 14)\", \"x1\": \"2019-05-29T03:48:21.007000Z\", \"x0\": \"2019-05-29T03:40:15.837000Z\", \"y0\": 17.8, \"y1\": 18.2, \"opacity\": 1, \"yref\": \"y\"}, {\"line\": {\"width\": 0}, \"xref\": \"x\", \"type\": \"rect\", \"fillcolor\": \"rgb(44, 160, 44)\", \"x1\": \"2019-05-29T03:47:02.949000Z\", \"x0\": \"2019-05-29T03:39:45.557000Z\", \"y0\": 20.8, \"y1\": 21.2, \"opacity\": 1, \"yref\": \"y\"}, {\"line\": {\"width\": 0}, \"xref\": \"x\", \"type\": \"rect\", \"fillcolor\": \"rgb(214, 39, 40)\", \"x1\": \"2019-05-29T03:45:04.341000Z\", \"x0\": \"2019-05-29T03:37:45.354000Z\", \"y0\": 18.8, \"y1\": 19.2, \"opacity\": 1, \"yref\": \"y\"}, {\"line\": {\"width\": 0}, \"xref\": \"x\", \"type\": \"rect\", \"fillcolor\": \"rgb(148, 103, 189)\", \"x1\": \"2019-05-29T03:44:16.312000Z\", \"x0\": \"2019-05-29T03:37:16.176000Z\", \"y0\": 19.8, \"y1\": 20.2, \"opacity\": 1, \"yref\": \"y\"}, {\"line\": {\"width\": 0}, \"xref\": \"x\", \"type\": \"rect\", \"fillcolor\": \"rgb(140, 86, 75)\", \"x1\": \"2019-05-29T03:31:47.325000Z\", \"x0\": \"2019-05-29T03:24:16.217000Z\", \"y0\": 20.8, \"y1\": 21.2, \"opacity\": 1, \"yref\": \"y\"}, {\"line\": {\"width\": 0}, \"xref\": \"x\", \"type\": \"rect\", \"fillcolor\": \"rgb(227, 119, 194)\", \"x1\": \"2019-05-29T03:15:56.941000Z\", \"x0\": \"2019-05-29T03:14:45.326000Z\", \"y0\": 4.8, \"y1\": 5.2, \"opacity\": 1, \"yref\": \"y\"}, {\"line\": {\"width\": 0}, \"xref\": \"x\", \"type\": \"rect\", \"fillcolor\": \"rgb(127, 127, 127)\", \"x1\": \"2019-05-29T03:17:51.825000Z\", \"x0\": \"2019-05-29T03:10:15.379000Z\", \"y0\": 17.8, \"y1\": 18.2, \"opacity\": 1, \"yref\": \"y\"}, {\"line\": {\"width\": 0}, \"xref\": \"x\", \"type\": \"rect\", \"fillcolor\": \"rgb(188, 189, 34)\", \"x1\": \"2019-05-29T03:15:56.852000Z\", \"x0\": \"2019-05-29T03:08:46.178000Z\", \"y0\": 20.8, \"y1\": 21.2, \"opacity\": 1, \"yref\": \"y\"}, {\"line\": {\"width\": 0}, \"xref\": \"x\", \"type\": \"rect\", \"fillcolor\": \"rgb(23, 190, 207)\", \"x1\": \"2019-05-29T03:13:52.442000Z\", \"x0\": \"2019-05-29T03:06:45.830000Z\", \"y0\": 19.8, \"y1\": 20.2, \"opacity\": 1, \"yref\": \"y\"}, {\"line\": {\"width\": 0}, \"xref\": \"x\", \"type\": \"rect\", \"fillcolor\": \"rgb(31, 119, 180)\", \"x1\": \"2019-05-29T03:37:35.841000Z\", \"x0\": \"2019-05-29T02:56:45.254000Z\", \"y0\": 16.8, \"y1\": 17.2, \"opacity\": 1, \"yref\": \"y\"}, {\"line\": {\"width\": 0}, \"xref\": \"x\", \"type\": \"rect\", \"fillcolor\": \"rgb(255, 127, 14)\", \"x1\": \"2019-05-29T03:00:34.876000Z\", \"x0\": \"2019-05-29T02:53:15.497000Z\", \"y0\": 20.8, \"y1\": 21.2, \"opacity\": 1, \"yref\": \"y\"}, {\"line\": {\"width\": 0}, \"xref\": \"x\", \"type\": \"rect\", \"fillcolor\": \"rgb(44, 160, 44)\", \"x1\": \"2019-05-29T02:47:58.782000Z\", \"x0\": \"2019-05-29T02:40:15.319000Z\", \"y0\": 17.8, \"y1\": 18.2, \"opacity\": 1, \"yref\": \"y\"}, {\"line\": {\"width\": 0}, \"xref\": \"x\", \"type\": \"rect\", \"fillcolor\": \"rgb(214, 39, 40)\", \"x1\": \"2019-05-29T02:45:03.490000Z\", \"x0\": \"2019-05-29T02:37:45.375000Z\", \"y0\": 20.8, \"y1\": 21.2, \"opacity\": 1, \"yref\": \"y\"}, {\"line\": {\"width\": 0}, \"xref\": \"x\", \"type\": \"rect\", \"fillcolor\": \"rgb(148, 103, 189)\", \"x1\": \"2019-05-29T02:44:34.689000Z\", \"x0\": \"2019-05-29T02:37:15.407000Z\", \"y0\": 18.8, \"y1\": 19.2, \"opacity\": 1, \"yref\": \"y\"}, {\"line\": {\"width\": 0}, \"xref\": \"x\", \"type\": \"rect\", \"fillcolor\": \"rgb(140, 86, 75)\", \"x1\": \"2019-05-29T02:43:19.610000Z\", \"x0\": \"2019-05-29T02:36:16.436000Z\", \"y0\": 19.8, \"y1\": 20.2, \"opacity\": 1, \"yref\": \"y\"}, {\"line\": {\"width\": 0}, \"xref\": \"x\", \"type\": \"rect\", \"fillcolor\": \"rgb(227, 119, 194)\", \"x1\": \"2019-05-29T03:00:28.026000Z\", \"x0\": \"2019-05-29T02:23:15.230000Z\", \"y0\": 16.8, \"y1\": 17.2, \"opacity\": 1, \"yref\": \"y\"}, {\"line\": {\"width\": 0}, \"xref\": \"x\", \"type\": \"rect\", \"fillcolor\": \"rgb(127, 127, 127)\", \"x1\": \"2019-05-29T02:29:18.992000Z\", \"x0\": \"2019-05-29T02:22:16.512000Z\", \"y0\": 20.8, \"y1\": 21.2, \"opacity\": 1, \"yref\": \"y\"}, {\"line\": {\"width\": 0}, \"xref\": \"x\", \"type\": \"rect\", \"fillcolor\": \"rgb(188, 189, 34)\", \"x1\": \"2019-05-29T02:17:55.993000Z\", \"x0\": \"2019-05-29T02:10:15.359000Z\", \"y0\": 17.8, \"y1\": 18.2, \"opacity\": 1, \"yref\": \"y\"}, {\"line\": {\"width\": 0}, \"xref\": \"x\", \"type\": \"rect\", \"fillcolor\": \"rgb(23, 190, 207)\", \"x1\": \"2019-05-29T02:14:02.057000Z\", \"x0\": \"2019-05-29T02:06:45.701000Z\", \"y0\": 20.8, \"y1\": 21.2, \"opacity\": 1, \"yref\": \"y\"}, {\"line\": {\"width\": 0}, \"xref\": \"x\", \"type\": \"rect\", \"fillcolor\": \"rgb(31, 119, 180)\", \"x1\": \"2019-05-29T02:13:05.904000Z\", \"x0\": \"2019-05-29T02:05:45.475000Z\", \"y0\": 19.8, \"y1\": 20.2, \"opacity\": 1, \"yref\": \"y\"}, {\"line\": {\"width\": 0}, \"xref\": \"x\", \"type\": \"rect\", \"fillcolor\": \"rgb(255, 127, 14)\", \"x1\": \"2019-05-29T02:29:31.879000Z\", \"x0\": \"2019-05-29T02:00:47.760000Z\", \"y0\": 9.8, \"y1\": 10.2, \"opacity\": 1, \"yref\": \"y\"}, {\"line\": {\"width\": 0}, \"xref\": \"x\", \"type\": \"rect\", \"fillcolor\": \"rgb(44, 160, 44)\", \"x1\": \"2019-05-29T01:58:35.847000Z\", \"x0\": \"2019-05-29T01:51:15.358000Z\", \"y0\": 20.8, \"y1\": 21.2, \"opacity\": 1, \"yref\": \"y\"}, {\"line\": {\"width\": 0}, \"xref\": \"x\", \"type\": \"rect\", \"fillcolor\": \"rgb(214, 39, 40)\", \"x1\": \"2019-05-29T01:47:53.988000Z\", \"x0\": \"2019-05-29T01:40:14.761000Z\", \"y0\": 17.8, \"y1\": 18.2, \"opacity\": 1, \"yref\": \"y\"}, {\"line\": {\"width\": 0}, \"xref\": \"x\", \"type\": \"rect\", \"fillcolor\": \"rgb(148, 103, 189)\", \"x1\": \"2019-05-29T01:43:44.295000Z\", \"x0\": \"2019-05-29T01:36:45.169000Z\", \"y0\": 18.8, \"y1\": 19.2, \"opacity\": 1, \"yref\": \"y\"}, {\"line\": {\"width\": 0}, \"xref\": \"x\", \"type\": \"rect\", \"fillcolor\": \"rgb(140, 86, 75)\", \"x1\": \"2019-05-29T01:43:14.010000Z\", \"x0\": \"2019-05-29T01:35:45.957000Z\", \"y0\": 20.8, \"y1\": 21.2, \"opacity\": 1, \"yref\": \"y\"}, {\"line\": {\"width\": 0}, \"xref\": \"x\", \"type\": \"rect\", \"fillcolor\": \"rgb(227, 119, 194)\", \"x1\": \"2019-05-29T01:42:27.634000Z\", \"x0\": \"2019-05-29T01:35:15.448000Z\", \"y0\": 19.8, \"y1\": 20.2, \"opacity\": 1, \"yref\": \"y\"}, {\"line\": {\"width\": 0}, \"xref\": \"x\", \"type\": \"rect\", \"fillcolor\": \"rgb(127, 127, 127)\", \"x1\": \"2019-05-29T01:27:28.555000Z\", \"x0\": \"2019-05-29T01:20:15.203000Z\", \"y0\": 20.8, \"y1\": 21.2, \"opacity\": 1, \"yref\": \"y\"}, {\"line\": {\"width\": 0}, \"xref\": \"x\", \"type\": \"rect\", \"fillcolor\": \"rgb(188, 189, 34)\", \"x1\": \"2019-05-29T01:17:38.485000Z\", \"x0\": \"2019-05-29T01:10:15.062000Z\", \"y0\": 17.8, \"y1\": 18.2, \"opacity\": 1, \"yref\": \"y\"}, {\"line\": {\"width\": 0}, \"xref\": \"x\", \"type\": \"rect\", \"fillcolor\": \"rgb(23, 190, 207)\", \"x1\": \"2019-05-29T01:12:02.840000Z\", \"x0\": \"2019-05-29T01:04:45.034000Z\", \"y0\": 19.8, \"y1\": 20.2, \"opacity\": 1, \"yref\": \"y\"}, {\"line\": {\"width\": 0}, \"xref\": \"x\", \"type\": \"rect\", \"fillcolor\": \"rgb(31, 119, 180)\", \"x1\": \"2019-05-29T01:11:56.304000Z\", \"x0\": \"2019-05-29T01:04:44.997000Z\", \"y0\": 20.8, \"y1\": 21.2, \"opacity\": 1, \"yref\": \"y\"}, {\"line\": {\"width\": 0}, \"xref\": \"x\", \"type\": \"rect\", \"fillcolor\": \"rgb(255, 127, 14)\", \"x1\": \"2019-05-29T01:07:59.931000Z\", \"x0\": \"2019-05-29T01:00:44.957000Z\", \"y0\": -0.2, \"y1\": 0.2, \"opacity\": 1, \"yref\": \"y\"}, {\"line\": {\"width\": 0}, \"xref\": \"x\", \"type\": \"rect\", \"fillcolor\": \"rgb(44, 160, 44)\", \"x1\": \"2019-05-29T01:19:36.219000Z\", \"x0\": \"2019-05-29T01:00:15.393000Z\", \"y0\": 1.8, \"y1\": 2.2, \"opacity\": 1, \"yref\": \"y\"}, {\"line\": {\"width\": 0}, \"xref\": \"x\", \"type\": \"rect\", \"fillcolor\": \"rgb(214, 39, 40)\", \"x1\": \"2019-05-29T00:56:52.323000Z\", \"x0\": \"2019-05-29T00:49:14.973000Z\", \"y0\": 20.8, \"y1\": 21.2, \"opacity\": 1, \"yref\": \"y\"}, {\"line\": {\"width\": 0}, \"xref\": \"x\", \"type\": \"rect\", \"fillcolor\": \"rgb(148, 103, 189)\", \"x1\": \"2019-05-29T01:03:15.558000Z\", \"x0\": \"2019-05-29T00:44:15.017000Z\", \"y0\": 6.8, \"y1\": 7.2, \"opacity\": 1, \"yref\": \"y\"}, {\"line\": {\"width\": 0}, \"xref\": \"x\", \"type\": \"rect\", \"fillcolor\": \"rgb(140, 86, 75)\", \"x1\": \"2019-05-29T00:54:41.796000Z\", \"x0\": \"2019-05-29T00:41:45.268000Z\", \"y0\": 5.8, \"y1\": 6.2, \"opacity\": 1, \"yref\": \"y\"}, {\"line\": {\"width\": 0}, \"xref\": \"x\", \"type\": \"rect\", \"fillcolor\": \"rgb(227, 119, 194)\", \"x1\": \"2019-05-29T00:47:49.491000Z\", \"x0\": \"2019-05-29T00:40:15.229000Z\", \"y0\": 17.8, \"y1\": 18.2, \"opacity\": 1, \"yref\": \"y\"}, {\"line\": {\"width\": 0}, \"xref\": \"x\", \"type\": \"rect\", \"fillcolor\": \"rgb(127, 127, 127)\", \"x1\": \"2019-05-29T00:43:26.235000Z\", \"x0\": \"2019-05-29T00:36:15.668000Z\", \"y0\": 18.8, \"y1\": 19.2, \"opacity\": 1, \"yref\": \"y\"}, {\"line\": {\"width\": 0}, \"xref\": \"x\", \"type\": \"rect\", \"fillcolor\": \"rgb(188, 189, 34)\", \"x1\": \"2019-05-29T00:41:25.467000Z\", \"x0\": \"2019-05-29T00:34:16.965000Z\", \"y0\": 19.8, \"y1\": 20.2, \"opacity\": 1, \"yref\": \"y\"}, {\"line\": {\"width\": 0}, \"xref\": \"x\", \"type\": \"rect\", \"fillcolor\": \"rgb(23, 190, 207)\", \"x1\": \"2019-05-29T00:41:06.582000Z\", \"x0\": \"2019-05-29T00:33:45.223000Z\", \"y0\": 20.8, \"y1\": 21.2, \"opacity\": 1, \"yref\": \"y\"}, {\"line\": {\"width\": 0}, \"xref\": \"x\", \"type\": \"rect\", \"fillcolor\": \"rgb(31, 119, 180)\", \"x1\": \"2019-05-29T00:25:41.309000Z\", \"x0\": \"2019-05-29T00:18:15.548000Z\", \"y0\": 20.8, \"y1\": 21.2, \"opacity\": 1, \"yref\": \"y\"}, {\"line\": {\"width\": 0}, \"xref\": \"x\", \"type\": \"rect\", \"fillcolor\": \"rgb(255, 127, 14)\", \"x1\": \"2019-05-29T00:17:55.589000Z\", \"x0\": \"2019-05-29T00:10:15.230000Z\", \"y0\": 17.8, \"y1\": 18.2, \"opacity\": 1, \"yref\": \"y\"}, {\"line\": {\"width\": 0}, \"xref\": \"x\", \"type\": \"rect\", \"fillcolor\": \"rgb(44, 160, 44)\", \"x1\": \"2019-05-29T00:11:35.638000Z\", \"x0\": \"2019-05-29T00:04:15.497000Z\", \"y0\": 19.8, \"y1\": 20.2, \"opacity\": 1, \"yref\": \"y\"}, {\"line\": {\"width\": 0}, \"xref\": \"x\", \"type\": \"rect\", \"fillcolor\": \"rgb(214, 39, 40)\", \"x1\": \"2019-05-29T00:10:36.859000Z\", \"x0\": \"2019-05-29T00:03:13.575000Z\", \"y0\": 20.8, \"y1\": 21.2, \"opacity\": 1, \"yref\": \"y\"}, {\"line\": {\"width\": 0}, \"xref\": \"x\", \"type\": \"rect\", \"fillcolor\": \"rgb(148, 103, 189)\", \"x1\": \"2019-05-29T00:10:50.299000Z\", \"x0\": \"2019-05-29T00:01:15.384000Z\", \"y0\": 2.8, \"y1\": 3.2, \"opacity\": 1, \"yref\": \"y\"}], \"xaxis\": {\"zeroline\": false, \"showgrid\": false, \"rangeselector\": {\"buttons\": [{\"label\": \"1w\", \"step\": \"day\", \"stepmode\": \"backward\", \"count\": 7}, {\"label\": \"1m\", \"step\": \"month\", \"stepmode\": \"backward\", \"count\": 1}, {\"label\": \"6m\", \"step\": \"month\", \"stepmode\": \"backward\", \"count\": 6}, {\"label\": \"YTD\", \"step\": \"year\", \"stepmode\": \"todate\", \"count\": 1}, {\"label\": \"1y\", \"step\": \"year\", \"stepmode\": \"backward\", \"count\": 1}, {\"step\": \"all\"}]}, \"type\": \"date\"}, \"title\": \"Gantt Chart\", \"height\": 600, \"hovermode\": \"closest\", \"yaxis\": {\"zeroline\": false, \"automargin\": true, \"range\": [-1, 23], \"tickvals\": [0, 1, 2, 3, 4, 5, 6, 7, 8, 9, 10, 11, 12, 13, 14, 15, 16, 17, 18, 19, 20, 21], \"autorange\": false, \"showgrid\": false, \"ticktext\": [\"archive-solomon-imports\", \"promo-events-from-st-to-yt\", \"crm-export-mql\", \"solomon-to-yt\", \"iam-to-yt\", \"crm-leads-to-dyn-table\", \"passport-uid-ba\", \"ba-to-ch\", \"funel-events-to-ch\", \"marketo-export-leads\", \"consumption-dashboard\", \"marketo-export-ya-fill-out-form\", \"marketo-export-ya-click-email\", \"marketo-export-ya-send-email\", \"marketo-export-ya-consumption-daily\", \"marketo-export-ya-open-email\", \"marketo-export-ya-visit-webpage\", \"consumption-daily-cumulative-to-ch\", \"crm-export-sales\", \"crm-suspended-accounts\", \"import-consulting-requests\", \"crm-export-consulting-requests\"]}}, {\"showLink\": true, \"linkText\": \"Export to plot.ly\"})});</script>"
      ],
      "text/vnd.plotly.v1+html": [
       "<div id=\"8636262d-53c2-4bea-9051-493057e506a6\" style=\"height: 600px; width: 900px;\" class=\"plotly-graph-div\"></div><script type=\"text/javascript\">require([\"plotly\"], function(Plotly) { window.PLOTLYENV=window.PLOTLYENV || {};window.PLOTLYENV.BASE_URL=\"https://plot.ly\";Plotly.newPlot(\"8636262d-53c2-4bea-9051-493057e506a6\", [{\"type\": \"scatter\", \"marker\": {\"color\": \"white\"}, \"name\": \"\", \"x\": [\"2019-05-29T23:55:38.106000Z\", \"2019-05-30T00:03:22.140000Z\"], \"y\": [21, 21]}, {\"type\": \"scatter\", \"marker\": {\"color\": \"white\"}, \"name\": \"\", \"x\": [\"2019-05-29T23:49:07.513000Z\", \"2019-05-29T23:56:08.024000Z\"], \"y\": [20, 20]}, {\"type\": \"scatter\", \"marker\": {\"color\": \"white\"}, \"name\": \"\", \"x\": [\"2019-05-29T23:44:38.121000Z\", \"2019-05-29T23:51:58.914000Z\"], \"y\": [19, 19]}, {\"type\": \"scatter\", \"marker\": {\"color\": \"white\"}, \"name\": \"\", \"x\": [\"2019-05-29T23:40:07.889000Z\", \"2019-05-29T23:47:18.188000Z\"], \"y\": [21, 21]}, {\"type\": \"scatter\", \"marker\": {\"color\": \"white\"}, \"name\": \"\", \"x\": [\"2019-05-29T23:40:07.382000Z\", \"2019-05-29T23:48:02.724000Z\"], \"y\": [18, 18]}, {\"type\": \"scatter\", \"marker\": {\"color\": \"white\"}, \"name\": \"\", \"x\": [\"2019-05-29T23:25:37.502000Z\", \"2019-05-29T23:41:31.206000Z\"], \"y\": [17, 17]}, {\"type\": \"scatter\", \"marker\": {\"color\": \"white\"}, \"name\": \"\", \"x\": [\"2019-05-29T23:24:37.490000Z\", \"2019-05-29T23:31:30.095000Z\"], \"y\": [21, 21]}, {\"type\": \"scatter\", \"marker\": {\"color\": \"white\"}, \"name\": \"\", \"x\": [\"2019-05-29T23:18:37.667000Z\", \"2019-05-29T23:25:47.528000Z\"], \"y\": [20, 20]}, {\"type\": \"scatter\", \"marker\": {\"color\": \"white\"}, \"name\": \"\", \"x\": [\"2019-05-29T23:10:26.735000Z\", \"2019-05-29T23:18:08.058000Z\"], \"y\": [18, 18]}, {\"type\": \"scatter\", \"marker\": {\"color\": \"white\"}, \"name\": \"\", \"x\": [\"2019-05-29T23:09:27.799000Z\", \"2019-05-29T23:16:43.766000Z\"], \"y\": [21, 21]}, {\"type\": \"scatter\", \"marker\": {\"color\": \"white\"}, \"name\": \"\", \"x\": [\"2019-05-29T23:01:11.969000Z\", \"2019-05-29T23:14:08.110000Z\"], \"y\": [16, 16]}, {\"type\": \"scatter\", \"marker\": {\"color\": \"white\"}, \"name\": \"\", \"x\": [\"2019-05-29T23:01:11.690000Z\", \"2019-05-29T23:08:26.085000Z\"], \"y\": [15, 15]}, {\"type\": \"scatter\", \"marker\": {\"color\": \"white\"}, \"name\": \"\", \"x\": [\"2019-05-29T23:01:11.647000Z\", \"2019-05-29T23:19:33.341000Z\"], \"y\": [14, 14]}, {\"type\": \"scatter\", \"marker\": {\"color\": \"white\"}, \"name\": \"\", \"x\": [\"2019-05-29T23:00:42.793000Z\", \"2019-05-29T23:02:44.818000Z\"], \"y\": [13, 13]}, {\"type\": \"scatter\", \"marker\": {\"color\": \"white\"}, \"name\": \"\", \"x\": [\"2019-05-29T23:00:42.153000Z\", \"2019-05-29T23:08:05.251000Z\"], \"y\": [12, 12]}, {\"type\": \"scatter\", \"marker\": {\"color\": \"white\"}, \"name\": \"\", \"x\": [\"2019-05-29T23:00:41.999000Z\", \"2019-05-29T23:08:07.735000Z\"], \"y\": [11, 11]}, {\"type\": \"scatter\", \"marker\": {\"color\": \"white\"}, \"name\": \"\", \"x\": [\"2019-05-29T22:58:25.658000Z\", \"2019-05-29T23:45:00.138000Z\"], \"y\": [17, 17]}, {\"type\": \"scatter\", \"marker\": {\"color\": \"white\"}, \"name\": \"\", \"x\": [\"2019-05-29T22:53:55.955000Z\", \"2019-05-29T23:01:05.235000Z\"], \"y\": [21, 21]}, {\"type\": \"scatter\", \"marker\": {\"color\": \"white\"}, \"name\": \"\", \"x\": [\"2019-05-29T22:48:25.346000Z\", \"2019-05-29T22:55:36.297000Z\"], \"y\": [20, 20]}, {\"type\": \"scatter\", \"marker\": {\"color\": \"white\"}, \"name\": \"\", \"x\": [\"2019-05-29T22:44:26.416000Z\", \"2019-05-29T22:51:42.391000Z\"], \"y\": [19, 19]}, {\"type\": \"scatter\", \"marker\": {\"color\": \"white\"}, \"name\": \"\", \"x\": [\"2019-05-29T22:40:20.361000Z\", \"2019-05-29T22:48:08.365000Z\"], \"y\": [18, 18]}, {\"type\": \"scatter\", \"marker\": {\"color\": \"white\"}, \"name\": \"\", \"x\": [\"2019-05-29T22:38:49.877000Z\", \"2019-05-29T22:46:07.279000Z\"], \"y\": [21, 21]}, {\"type\": \"scatter\", \"marker\": {\"color\": \"white\"}, \"name\": \"\", \"x\": [\"2019-05-29T22:23:28.856000Z\", \"2019-05-29T22:31:21.307000Z\"], \"y\": [21, 21]}, {\"type\": \"scatter\", \"marker\": {\"color\": \"white\"}, \"name\": \"\", \"x\": [\"2019-05-29T22:18:20.571000Z\", \"2019-05-29T22:26:10.778000Z\"], \"y\": [20, 20]}, {\"type\": \"scatter\", \"marker\": {\"color\": \"white\"}, \"name\": \"\", \"x\": [\"2019-05-29T22:10:03.810000Z\", \"2019-05-29T22:18:13.468000Z\"], \"y\": [18, 18]}, {\"type\": \"scatter\", \"marker\": {\"color\": \"white\"}, \"name\": \"\", \"x\": [\"2019-05-29T22:08:11.456000Z\", \"2019-05-29T22:16:22.500000Z\"], \"y\": [21, 21]}, {\"type\": \"scatter\", \"marker\": {\"color\": \"white\"}, \"name\": \"\", \"x\": [\"2019-05-29T22:00:43.346000Z\", \"2019-05-29T22:38:17.510000Z\"], \"y\": [10, 10]}, {\"type\": \"scatter\", \"marker\": {\"color\": \"white\"}, \"name\": \"\", \"x\": [\"2019-05-29T22:00:43.295000Z\", \"2019-05-29T22:20:21.966000Z\"], \"y\": [9, 9]}, {\"type\": \"scatter\", \"marker\": {\"color\": \"white\"}, \"name\": \"\", \"x\": [\"2019-05-29T21:54:43.055000Z\", \"2019-05-29T22:19:59.233000Z\"], \"y\": [8, 8]}, {\"type\": \"scatter\", \"marker\": {\"color\": \"white\"}, \"name\": \"\", \"x\": [\"2019-05-29T21:52:43.244000Z\", \"2019-05-29T21:59:51.592000Z\"], \"y\": [21, 21]}, {\"type\": \"scatter\", \"marker\": {\"color\": \"white\"}, \"name\": \"\", \"x\": [\"2019-05-29T21:48:13.326000Z\", \"2019-05-29T22:05:56.389000Z\"], \"y\": [7, 7]}, {\"type\": \"scatter\", \"marker\": {\"color\": \"white\"}, \"name\": \"\", \"x\": [\"2019-05-29T21:47:42.992000Z\", \"2019-05-29T21:54:56.759000Z\"], \"y\": [20, 20]}, {\"type\": \"scatter\", \"marker\": {\"color\": \"white\"}, \"name\": \"\", \"x\": [\"2019-05-29T21:44:42.752000Z\", \"2019-05-29T21:57:10.373000Z\"], \"y\": [6, 6]}, {\"type\": \"scatter\", \"marker\": {\"color\": \"white\"}, \"name\": \"\", \"x\": [\"2019-05-29T21:44:13.163000Z\", \"2019-05-29T21:51:31.945000Z\"], \"y\": [19, 19]}, {\"type\": \"scatter\", \"marker\": {\"color\": \"white\"}, \"name\": \"\", \"x\": [\"2019-05-29T21:40:13.364000Z\", \"2019-05-29T21:48:00.662000Z\"], \"y\": [18, 18]}, {\"type\": \"scatter\", \"marker\": {\"color\": \"white\"}, \"name\": \"\", \"x\": [\"2019-05-29T21:37:15.802000Z\", \"2019-05-29T21:44:26.092000Z\"], \"y\": [21, 21]}, {\"type\": \"scatter\", \"marker\": {\"color\": \"white\"}, \"name\": \"\", \"x\": [\"2019-05-29T21:22:10.452000Z\", \"2019-05-29T21:29:34.106000Z\"], \"y\": [21, 21]}, {\"type\": \"scatter\", \"marker\": {\"color\": \"white\"}, \"name\": \"\", \"x\": [\"2019-05-29T21:17:37.891000Z\", \"2019-05-29T21:25:09.409000Z\"], \"y\": [20, 20]}, {\"type\": \"scatter\", \"marker\": {\"color\": \"white\"}, \"name\": \"\", \"x\": [\"2019-05-29T21:15:08.295000Z\", \"2019-05-29T21:16:10.341000Z\"], \"y\": [5, 5]}, {\"type\": \"scatter\", \"marker\": {\"color\": \"white\"}, \"name\": \"\", \"x\": [\"2019-05-29T21:10:09.191000Z\", \"2019-05-29T21:18:11.425000Z\"], \"y\": [18, 18]}, {\"type\": \"scatter\", \"marker\": {\"color\": \"white\"}, \"name\": \"\", \"x\": [\"2019-05-29T21:07:08.492000Z\", \"2019-05-29T21:14:23.257000Z\"], \"y\": [21, 21]}, {\"type\": \"scatter\", \"marker\": {\"color\": \"white\"}, \"name\": \"\", \"x\": [\"2019-05-29T20:52:05.038000Z\", \"2019-05-29T20:59:31.612000Z\"], \"y\": [21, 21]}, {\"type\": \"scatter\", \"marker\": {\"color\": \"white\"}, \"name\": \"\", \"x\": [\"2019-05-29T20:47:32.882000Z\", \"2019-05-29T20:54:58.644000Z\"], \"y\": [20, 20]}, {\"type\": \"scatter\", \"marker\": {\"color\": \"white\"}, \"name\": \"\", \"x\": [\"2019-05-29T20:44:02.020000Z\", \"2019-05-29T20:51:21.153000Z\"], \"y\": [19, 19]}, {\"type\": \"scatter\", \"marker\": {\"color\": \"white\"}, \"name\": \"\", \"x\": [\"2019-05-29T20:40:01.256000Z\", \"2019-05-29T20:47:36.394000Z\"], \"y\": [18, 18]}, {\"type\": \"scatter\", \"marker\": {\"color\": \"white\"}, \"name\": \"\", \"x\": [\"2019-05-29T20:37:01.198000Z\", \"2019-05-29T20:44:29.318000Z\"], \"y\": [21, 21]}, {\"type\": \"scatter\", \"marker\": {\"color\": \"white\"}, \"name\": \"\", \"x\": [\"2019-05-29T20:25:34.387000Z\", \"2019-05-29T20:42:28.218000Z\"], \"y\": [17, 17]}, {\"type\": \"scatter\", \"marker\": {\"color\": \"white\"}, \"name\": \"\", \"x\": [\"2019-05-29T20:21:34.587000Z\", \"2019-05-29T20:28:40.538000Z\"], \"y\": [21, 21]}, {\"type\": \"scatter\", \"marker\": {\"color\": \"white\"}, \"name\": \"\", \"x\": [\"2019-05-29T20:17:04.587000Z\", \"2019-05-29T20:24:18.492000Z\"], \"y\": [20, 20]}, {\"type\": \"scatter\", \"marker\": {\"color\": \"white\"}, \"name\": \"\", \"x\": [\"2019-05-29T20:10:02.488000Z\", \"2019-05-29T20:17:29.640000Z\"], \"y\": [18, 18]}, {\"type\": \"scatter\", \"marker\": {\"color\": \"white\"}, \"name\": \"\", \"x\": [\"2019-05-29T20:06:32.745000Z\", \"2019-05-29T20:13:44.445000Z\"], \"y\": [21, 21]}, {\"type\": \"scatter\", \"marker\": {\"color\": \"white\"}, \"name\": \"\", \"x\": [\"2019-05-29T20:00:32.450000Z\", \"2019-05-29T20:49:33.081000Z\"], \"y\": [4, 4]}, {\"type\": \"scatter\", \"marker\": {\"color\": \"white\"}, \"name\": \"\", \"x\": [\"2019-05-29T19:51:02.287000Z\", \"2019-05-29T19:58:21.778000Z\"], \"y\": [21, 21]}, {\"type\": \"scatter\", \"marker\": {\"color\": \"white\"}, \"name\": \"\", \"x\": [\"2019-05-29T19:47:01.757000Z\", \"2019-05-29T19:54:12.469000Z\"], \"y\": [20, 20]}, {\"type\": \"scatter\", \"marker\": {\"color\": \"white\"}, \"name\": \"\", \"x\": [\"2019-05-29T19:43:32.295000Z\", \"2019-05-29T19:50:50.011000Z\"], \"y\": [19, 19]}, {\"type\": \"scatter\", \"marker\": {\"color\": \"white\"}, \"name\": \"\", \"x\": [\"2019-05-29T19:40:02.430000Z\", \"2019-05-29T19:48:09.056000Z\"], \"y\": [18, 18]}, {\"type\": \"scatter\", \"marker\": {\"color\": \"white\"}, \"name\": \"\", \"x\": [\"2019-05-29T19:35:32.247000Z\", \"2019-05-29T19:43:28.606000Z\"], \"y\": [21, 21]}, {\"type\": \"scatter\", \"marker\": {\"color\": \"white\"}, \"name\": \"\", \"x\": [\"2019-05-29T19:20:01.800000Z\", \"2019-05-29T19:26:58.143000Z\"], \"y\": [21, 21]}, {\"type\": \"scatter\", \"marker\": {\"color\": \"white\"}, \"name\": \"\", \"x\": [\"2019-05-29T19:16:31.780000Z\", \"2019-05-29T19:24:03.939000Z\"], \"y\": [20, 20]}, {\"type\": \"scatter\", \"marker\": {\"color\": \"white\"}, \"name\": \"\", \"x\": [\"2019-05-29T19:10:01.669000Z\", \"2019-05-29T19:17:31.178000Z\"], \"y\": [18, 18]}, {\"type\": \"scatter\", \"marker\": {\"color\": \"white\"}, \"name\": \"\", \"x\": [\"2019-05-29T19:04:31.790000Z\", \"2019-05-29T19:11:36.597000Z\"], \"y\": [21, 21]}, {\"type\": \"scatter\", \"marker\": {\"color\": \"white\"}, \"name\": \"\", \"x\": [\"2019-05-29T18:49:01.821000Z\", \"2019-05-29T18:56:25.212000Z\"], \"y\": [21, 21]}, {\"type\": \"scatter\", \"marker\": {\"color\": \"white\"}, \"name\": \"\", \"x\": [\"2019-05-29T18:48:01.505000Z\", \"2019-05-29T19:05:38.671000Z\"], \"y\": [7, 7]}, {\"type\": \"scatter\", \"marker\": {\"color\": \"white\"}, \"name\": \"\", \"x\": [\"2019-05-29T18:46:01.567000Z\", \"2019-05-29T18:53:20.950000Z\"], \"y\": [20, 20]}, {\"type\": \"scatter\", \"marker\": {\"color\": \"white\"}, \"name\": \"\", \"x\": [\"2019-05-29T18:44:31.718000Z\", \"2019-05-29T18:51:40.358000Z\"], \"y\": [6, 6]}, {\"type\": \"scatter\", \"marker\": {\"color\": \"white\"}, \"name\": \"\", \"x\": [\"2019-05-29T18:43:01.736000Z\", \"2019-05-29T18:50:11.681000Z\"], \"y\": [19, 19]}, {\"type\": \"scatter\", \"marker\": {\"color\": \"white\"}, \"name\": \"\", \"x\": [\"2019-05-29T18:40:01.313000Z\", \"2019-05-29T18:47:39.786000Z\"], \"y\": [18, 18]}, {\"type\": \"scatter\", \"marker\": {\"color\": \"white\"}, \"name\": \"\", \"x\": [\"2019-05-29T18:33:31.531000Z\", \"2019-05-29T18:40:43.054000Z\"], \"y\": [21, 21]}, {\"type\": \"scatter\", \"marker\": {\"color\": \"white\"}, \"name\": \"\", \"x\": [\"2019-05-29T18:18:20.805000Z\", \"2019-05-29T18:25:43.344000Z\"], \"y\": [21, 21]}, {\"type\": \"scatter\", \"marker\": {\"color\": \"white\"}, \"name\": \"\", \"x\": [\"2019-05-29T18:15:50.641000Z\", \"2019-05-29T18:23:08.598000Z\"], \"y\": [20, 20]}, {\"type\": \"scatter\", \"marker\": {\"color\": \"white\"}, \"name\": \"\", \"x\": [\"2019-05-29T18:10:28.470000Z\", \"2019-05-29T18:18:08.776000Z\"], \"y\": [18, 18]}, {\"type\": \"scatter\", \"marker\": {\"color\": \"white\"}, \"name\": \"\", \"x\": [\"2019-05-29T18:02:57.790000Z\", \"2019-05-29T18:10:20.431000Z\"], \"y\": [21, 21]}, {\"type\": \"scatter\", \"marker\": {\"color\": \"white\"}, \"name\": \"\", \"x\": [\"2019-05-29T18:00:57.385000Z\", \"2019-05-29T18:09:34.604000Z\"], \"y\": [3, 3]}, {\"type\": \"scatter\", \"marker\": {\"color\": \"white\"}, \"name\": \"\", \"x\": [\"2019-05-29T17:57:58.139000Z\", \"2019-05-29T18:47:59.919000Z\"], \"y\": [17, 17]}, {\"type\": \"scatter\", \"marker\": {\"color\": \"white\"}, \"name\": \"\", \"x\": [\"2019-05-29T17:47:40.238000Z\", \"2019-05-29T17:54:56.144000Z\"], \"y\": [21, 21]}, {\"type\": \"scatter\", \"marker\": {\"color\": \"white\"}, \"name\": \"\", \"x\": [\"2019-05-29T17:45:33.339000Z\", \"2019-05-29T17:52:56.787000Z\"], \"y\": [20, 20]}, {\"type\": \"scatter\", \"marker\": {\"color\": \"white\"}, \"name\": \"\", \"x\": [\"2019-05-29T17:42:33.994000Z\", \"2019-05-29T17:50:05.888000Z\"], \"y\": [19, 19]}, {\"type\": \"scatter\", \"marker\": {\"color\": \"white\"}, \"name\": \"\", \"x\": [\"2019-05-29T17:40:04.662000Z\", \"2019-05-29T17:47:44.378000Z\"], \"y\": [18, 18]}, {\"type\": \"scatter\", \"marker\": {\"color\": \"white\"}, \"name\": \"\", \"x\": [\"2019-05-29T17:32:33.421000Z\", \"2019-05-29T17:41:18.443000Z\"], \"y\": [21, 21]}, {\"type\": \"scatter\", \"marker\": {\"color\": \"white\"}, \"name\": \"\", \"x\": [\"2019-05-29T17:25:17.151000Z\", \"2019-05-29T17:43:28.778000Z\"], \"y\": [17, 17]}, {\"type\": \"scatter\", \"marker\": {\"color\": \"white\"}, \"name\": \"\", \"x\": [\"2019-05-29T17:17:18.507000Z\", \"2019-05-29T17:25:02.324000Z\"], \"y\": [21, 21]}, {\"type\": \"scatter\", \"marker\": {\"color\": \"white\"}, \"name\": \"\", \"x\": [\"2019-05-29T17:15:17.817000Z\", \"2019-05-29T17:22:52.325000Z\"], \"y\": [20, 20]}, {\"type\": \"scatter\", \"marker\": {\"color\": \"white\"}, \"name\": \"\", \"x\": [\"2019-05-29T17:10:05.708000Z\", \"2019-05-29T17:18:13.033000Z\"], \"y\": [18, 18]}, {\"type\": \"scatter\", \"marker\": {\"color\": \"white\"}, \"name\": \"\", \"x\": [\"2019-05-29T17:01:56.513000Z\", \"2019-05-29T17:09:36.700000Z\"], \"y\": [21, 21]}, {\"type\": \"scatter\", \"marker\": {\"color\": \"white\"}, \"name\": \"\", \"x\": [\"2019-05-29T17:00:53.489000Z\", \"2019-05-29T17:35:34.432000Z\"], \"y\": [10, 10]}, {\"type\": \"scatter\", \"marker\": {\"color\": \"white\"}, \"name\": \"\", \"x\": [\"2019-05-29T16:46:47.006000Z\", \"2019-05-29T16:54:38.334000Z\"], \"y\": [21, 21]}, {\"type\": \"scatter\", \"marker\": {\"color\": \"white\"}, \"name\": \"\", \"x\": [\"2019-05-29T16:44:41.770000Z\", \"2019-05-29T16:52:28.580000Z\"], \"y\": [20, 20]}, {\"type\": \"scatter\", \"marker\": {\"color\": \"white\"}, \"name\": \"\", \"x\": [\"2019-05-29T16:42:30.627000Z\", \"2019-05-29T16:50:20.351000Z\"], \"y\": [19, 19]}, {\"type\": \"scatter\", \"marker\": {\"color\": \"white\"}, \"name\": \"\", \"x\": [\"2019-05-29T16:40:15.563000Z\", \"2019-05-29T16:48:24.453000Z\"], \"y\": [18, 18]}, {\"type\": \"scatter\", \"marker\": {\"color\": \"white\"}, \"name\": \"\", \"x\": [\"2019-05-29T16:31:34.117000Z\", \"2019-05-29T16:39:55.747000Z\"], \"y\": [21, 21]}, {\"type\": \"scatter\", \"marker\": {\"color\": \"white\"}, \"name\": \"\", \"x\": [\"2019-05-29T16:16:14.340000Z\", \"2019-05-29T16:24:29.736000Z\"], \"y\": [21, 21]}, {\"type\": \"scatter\", \"marker\": {\"color\": \"white\"}, \"name\": \"\", \"x\": [\"2019-05-29T16:14:18.272000Z\", \"2019-05-29T16:21:58.514000Z\"], \"y\": [20, 20]}, {\"type\": \"scatter\", \"marker\": {\"color\": \"white\"}, \"name\": \"\", \"x\": [\"2019-05-29T16:10:25.422000Z\", \"2019-05-29T16:19:57.543000Z\"], \"y\": [18, 18]}, {\"type\": \"scatter\", \"marker\": {\"color\": \"white\"}, \"name\": \"\", \"x\": [\"2019-05-29T16:00:17.888000Z\", \"2019-05-29T16:08:00.092000Z\"], \"y\": [21, 21]}, {\"type\": \"scatter\", \"marker\": {\"color\": \"white\"}, \"name\": \"\", \"x\": [\"2019-05-29T15:54:34.428000Z\", \"2019-05-29T16:15:54.507000Z\"], \"y\": [8, 8]}, {\"type\": \"scatter\", \"marker\": {\"color\": \"white\"}, \"name\": \"\", \"x\": [\"2019-05-29T15:47:40.920000Z\", \"2019-05-29T16:04:49.654000Z\"], \"y\": [7, 7]}, {\"type\": \"scatter\", \"marker\": {\"color\": \"white\"}, \"name\": \"\", \"x\": [\"2019-05-29T15:45:11.010000Z\", \"2019-05-29T15:52:52.364000Z\"], \"y\": [21, 21]}, {\"type\": \"scatter\", \"marker\": {\"color\": \"white\"}, \"name\": \"\", \"x\": [\"2019-05-29T15:44:09.288000Z\", \"2019-05-29T15:51:45.474000Z\"], \"y\": [20, 20]}, {\"type\": \"scatter\", \"marker\": {\"color\": \"white\"}, \"name\": \"\", \"x\": [\"2019-05-29T15:44:08.809000Z\", \"2019-05-29T15:52:17.860000Z\"], \"y\": [6, 6]}, {\"type\": \"scatter\", \"marker\": {\"color\": \"white\"}, \"name\": \"\", \"x\": [\"2019-05-29T15:42:07.602000Z\", \"2019-05-29T15:50:16.193000Z\"], \"y\": [19, 19]}, {\"type\": \"scatter\", \"marker\": {\"color\": \"white\"}, \"name\": \"\", \"x\": [\"2019-05-29T15:40:05.860000Z\", \"2019-05-29T15:48:48.836000Z\"], \"y\": [18, 18]}, {\"type\": \"scatter\", \"marker\": {\"color\": \"white\"}, \"name\": \"\", \"x\": [\"2019-05-29T15:29:50.808000Z\", \"2019-05-29T15:37:40.665000Z\"], \"y\": [21, 21]}, {\"type\": \"scatter\", \"marker\": {\"color\": \"white\"}, \"name\": \"\", \"x\": [\"2019-05-29T15:15:05.975000Z\", \"2019-05-29T15:16:35.808000Z\"], \"y\": [5, 5]}, {\"type\": \"scatter\", \"marker\": {\"color\": \"white\"}, \"name\": \"\", \"x\": [\"2019-05-29T15:14:37.371000Z\", \"2019-05-29T15:22:41.798000Z\"], \"y\": [21, 21]}, {\"type\": \"scatter\", \"marker\": {\"color\": \"white\"}, \"name\": \"\", \"x\": [\"2019-05-29T15:13:46.017000Z\", \"2019-05-29T15:21:49.446000Z\"], \"y\": [20, 20]}, {\"type\": \"scatter\", \"marker\": {\"color\": \"white\"}, \"name\": \"\", \"x\": [\"2019-05-29T15:10:05.465000Z\", \"2019-05-29T15:18:40Z\"], \"y\": [18, 18]}, {\"type\": \"scatter\", \"marker\": {\"color\": \"white\"}, \"name\": \"\", \"x\": [\"2019-05-29T14:58:59.100000Z\", \"2019-05-29T15:08:39.432000Z\"], \"y\": [21, 21]}, {\"type\": \"scatter\", \"marker\": {\"color\": \"white\"}, \"name\": \"\", \"x\": [\"2019-05-29T14:43:53.147000Z\", \"2019-05-29T14:52:50.658000Z\"], \"y\": [21, 21]}, {\"type\": \"scatter\", \"marker\": {\"color\": \"white\"}, \"name\": \"\", \"x\": [\"2019-05-29T14:43:21.739000Z\", \"2019-05-29T14:51:58.491000Z\"], \"y\": [20, 20]}, {\"type\": \"scatter\", \"marker\": {\"color\": \"white\"}, \"name\": \"\", \"x\": [\"2019-05-29T14:41:50.659000Z\", \"2019-05-29T14:51:25.202000Z\"], \"y\": [19, 19]}, {\"type\": \"scatter\", \"marker\": {\"color\": \"white\"}, \"name\": \"\", \"x\": [\"2019-05-29T14:40:12.625000Z\", \"2019-05-29T14:50:58.218000Z\"], \"y\": [18, 18]}, {\"type\": \"scatter\", \"marker\": {\"color\": \"white\"}, \"name\": \"\", \"x\": [\"2019-05-29T14:28:40.035000Z\", \"2019-05-29T14:37:46.466000Z\"], \"y\": [21, 21]}, {\"type\": \"scatter\", \"marker\": {\"color\": \"white\"}, \"name\": \"\", \"x\": [\"2019-05-29T14:24:44.860000Z\", \"2019-05-29T14:41:36.054000Z\"], \"y\": [17, 17]}, {\"type\": \"scatter\", \"marker\": {\"color\": \"white\"}, \"name\": \"\", \"x\": [\"2019-05-29T14:13:31.758000Z\", \"2019-05-29T14:21:51.170000Z\"], \"y\": [21, 21]}, {\"type\": \"scatter\", \"marker\": {\"color\": \"white\"}, \"name\": \"\", \"x\": [\"2019-05-29T14:13:16.134000Z\", \"2019-05-29T14:22:05.375000Z\"], \"y\": [20, 20]}, {\"type\": \"scatter\", \"marker\": {\"color\": \"white\"}, \"name\": \"\", \"x\": [\"2019-05-29T14:10:29.206000Z\", \"2019-05-29T14:19:28.235000Z\"], \"y\": [18, 18]}, {\"type\": \"scatter\", \"marker\": {\"color\": \"white\"}, \"name\": \"\", \"x\": [\"2019-05-29T13:57:23.191000Z\", \"2019-05-29T14:06:30.778000Z\"], \"y\": [21, 21]}, {\"type\": \"scatter\", \"marker\": {\"color\": \"white\"}, \"name\": \"\", \"x\": [\"2019-05-29T13:42:51.655000Z\", \"2019-05-29T13:50:51.547000Z\"], \"y\": [20, 20]}, {\"type\": \"scatter\", \"marker\": {\"color\": \"white\"}, \"name\": \"\", \"x\": [\"2019-05-29T13:42:16.654000Z\", \"2019-05-29T13:50:31.366000Z\"], \"y\": [21, 21]}, {\"type\": \"scatter\", \"marker\": {\"color\": \"white\"}, \"name\": \"\", \"x\": [\"2019-05-29T13:41:43.955000Z\", \"2019-05-29T13:50:02.334000Z\"], \"y\": [19, 19]}, {\"type\": \"scatter\", \"marker\": {\"color\": \"white\"}, \"name\": \"\", \"x\": [\"2019-05-29T13:40:31.039000Z\", \"2019-05-29T13:49:08.040000Z\"], \"y\": [18, 18]}, {\"type\": \"scatter\", \"marker\": {\"color\": \"white\"}, \"name\": \"\", \"x\": [\"2019-05-29T13:27:12.982000Z\", \"2019-05-29T13:35:43.848000Z\"], \"y\": [21, 21]}, {\"type\": \"scatter\", \"marker\": {\"color\": \"white\"}, \"name\": \"\", \"x\": [\"2019-05-29T13:12:45.143000Z\", \"2019-05-29T13:22:00.923000Z\"], \"y\": [20, 20]}, {\"type\": \"scatter\", \"marker\": {\"color\": \"white\"}, \"name\": \"\", \"x\": [\"2019-05-29T13:12:09.074000Z\", \"2019-05-29T13:21:58.432000Z\"], \"y\": [21, 21]}, {\"type\": \"scatter\", \"marker\": {\"color\": \"white\"}, \"name\": \"\", \"x\": [\"2019-05-29T13:10:25.694000Z\", \"2019-05-29T13:19:56.944000Z\"], \"y\": [18, 18]}, {\"type\": \"scatter\", \"marker\": {\"color\": \"white\"}, \"name\": \"\", \"x\": [\"2019-05-29T13:00:51.706000Z\", \"2019-05-29T13:24:57.478000Z\"], \"y\": [2, 2]}, {\"type\": \"scatter\", \"marker\": {\"color\": \"white\"}, \"name\": \"\", \"x\": [\"2019-05-29T12:57:21.774000Z\", \"2019-05-29T16:09:47.414000Z\"], \"y\": [17, 17]}, {\"type\": \"scatter\", \"marker\": {\"color\": \"white\"}, \"name\": \"\", \"x\": [\"2019-05-29T12:56:21.805000Z\", \"2019-05-29T13:01:17.870000Z\"], \"y\": [21, 21]}, {\"type\": \"scatter\", \"marker\": {\"color\": \"white\"}, \"name\": \"\", \"x\": [\"2019-05-29T12:47:38.269000Z\", \"2019-05-29T13:11:18.748000Z\"], \"y\": [7, 7]}, {\"type\": \"scatter\", \"marker\": {\"color\": \"white\"}, \"name\": \"\", \"x\": [\"2019-05-29T12:44:05.867000Z\", \"2019-05-29T12:56:19.638000Z\"], \"y\": [6, 6]}, {\"type\": \"scatter\", \"marker\": {\"color\": \"white\"}, \"name\": \"\", \"x\": [\"2019-05-29T12:42:23.799000Z\", \"2019-05-29T12:56:15.612000Z\"], \"y\": [20, 20]}, {\"type\": \"scatter\", \"marker\": {\"color\": \"white\"}, \"name\": \"\", \"x\": [\"2019-05-29T12:41:22.476000Z\", \"2019-05-29T12:56:20.962000Z\"], \"y\": [18, 18]}, {\"type\": \"scatter\", \"marker\": {\"color\": \"white\"}, \"name\": \"\", \"x\": [\"2019-05-29T12:41:17.610000Z\", \"2019-05-29T12:56:04.640000Z\"], \"y\": [19, 19]}, {\"type\": \"scatter\", \"marker\": {\"color\": \"white\"}, \"name\": \"\", \"x\": [\"2019-05-29T12:40:13.430000Z\", \"2019-05-29T12:55:00.261000Z\"], \"y\": [21, 21]}, {\"type\": \"scatter\", \"marker\": {\"color\": \"white\"}, \"name\": \"\", \"x\": [\"2019-05-29T12:22:19.154000Z\", \"2019-05-29T12:30:57.690000Z\"], \"y\": [21, 21]}, {\"type\": \"scatter\", \"marker\": {\"color\": \"white\"}, \"name\": \"\", \"x\": [\"2019-05-29T12:12:13.384000Z\", \"2019-05-29T12:19:48.799000Z\"], \"y\": [20, 20]}, {\"type\": \"scatter\", \"marker\": {\"color\": \"white\"}, \"name\": \"\", \"x\": [\"2019-05-29T12:10:34.970000Z\", \"2019-05-29T12:18:45.704000Z\"], \"y\": [18, 18]}, {\"type\": \"scatter\", \"marker\": {\"color\": \"white\"}, \"name\": \"\", \"x\": [\"2019-05-29T12:06:49.419000Z\", \"2019-05-29T12:15:04.619000Z\"], \"y\": [21, 21]}, {\"type\": \"scatter\", \"marker\": {\"color\": \"white\"}, \"name\": \"\", \"x\": [\"2019-05-29T12:01:18.581000Z\", \"2019-05-29T12:11:31.530000Z\"], \"y\": [3, 3]}, {\"type\": \"scatter\", \"marker\": {\"color\": \"white\"}, \"name\": \"\", \"x\": [\"2019-05-29T12:00:47.289000Z\", \"2019-05-29T12:32:24.708000Z\"], \"y\": [10, 10]}, {\"type\": \"scatter\", \"marker\": {\"color\": \"white\"}, \"name\": \"\", \"x\": [\"2019-05-29T11:51:39.601000Z\", \"2019-05-29T11:59:42.673000Z\"], \"y\": [21, 21]}, {\"type\": \"scatter\", \"marker\": {\"color\": \"white\"}, \"name\": \"\", \"x\": [\"2019-05-29T11:41:59.868000Z\", \"2019-05-29T11:49:33.929000Z\"], \"y\": [20, 20]}, {\"type\": \"scatter\", \"marker\": {\"color\": \"white\"}, \"name\": \"\", \"x\": [\"2019-05-29T11:40:28.477000Z\", \"2019-05-29T11:48:33.831000Z\"], \"y\": [18, 18]}, {\"type\": \"scatter\", \"marker\": {\"color\": \"white\"}, \"name\": \"\", \"x\": [\"2019-05-29T11:40:28.443000Z\", \"2019-05-29T11:48:28.968000Z\"], \"y\": [19, 19]}, {\"type\": \"scatter\", \"marker\": {\"color\": \"white\"}, \"name\": \"\", \"x\": [\"2019-05-29T11:36:27.509000Z\", \"2019-05-29T11:44:06.704000Z\"], \"y\": [21, 21]}, {\"type\": \"scatter\", \"marker\": {\"color\": \"white\"}, \"name\": \"\", \"x\": [\"2019-05-29T11:24:35.532000Z\", \"2019-05-29T11:41:17.906000Z\"], \"y\": [17, 17]}, {\"type\": \"scatter\", \"marker\": {\"color\": \"white\"}, \"name\": \"\", \"x\": [\"2019-05-29T11:21:05.381000Z\", \"2019-05-29T11:28:38.100000Z\"], \"y\": [21, 21]}, {\"type\": \"scatter\", \"marker\": {\"color\": \"white\"}, \"name\": \"\", \"x\": [\"2019-05-29T11:11:43.804000Z\", \"2019-05-29T11:19:51.375000Z\"], \"y\": [20, 20]}, {\"type\": \"scatter\", \"marker\": {\"color\": \"white\"}, \"name\": \"\", \"x\": [\"2019-05-29T11:10:15.376000Z\", \"2019-05-29T11:18:36.993000Z\"], \"y\": [18, 18]}, {\"type\": \"scatter\", \"marker\": {\"color\": \"white\"}, \"name\": \"\", \"x\": [\"2019-05-29T11:05:45.311000Z\", \"2019-05-29T11:13:22.170000Z\"], \"y\": [21, 21]}, {\"type\": \"scatter\", \"marker\": {\"color\": \"white\"}, \"name\": \"\", \"x\": [\"2019-05-29T10:50:14.905000Z\", \"2019-05-29T10:58:10.173000Z\"], \"y\": [21, 21]}, {\"type\": \"scatter\", \"marker\": {\"color\": \"white\"}, \"name\": \"\", \"x\": [\"2019-05-29T10:41:21.975000Z\", \"2019-05-29T10:49:40.227000Z\"], \"y\": [20, 20]}, {\"type\": \"scatter\", \"marker\": {\"color\": \"white\"}, \"name\": \"\", \"x\": [\"2019-05-29T10:40:22.811000Z\", \"2019-05-29T10:48:17.624000Z\"], \"y\": [18, 18]}, {\"type\": \"scatter\", \"marker\": {\"color\": \"white\"}, \"name\": \"\", \"x\": [\"2019-05-29T10:40:21.848000Z\", \"2019-05-29T10:47:52.418000Z\"], \"y\": [19, 19]}, {\"type\": \"scatter\", \"marker\": {\"color\": \"white\"}, \"name\": \"\", \"x\": [\"2019-05-29T10:34:51.136000Z\", \"2019-05-29T10:43:06.016000Z\"], \"y\": [21, 21]}, {\"type\": \"scatter\", \"marker\": {\"color\": \"white\"}, \"name\": \"\", \"x\": [\"2019-05-29T10:19:49.128000Z\", \"2019-05-29T10:28:03.159000Z\"], \"y\": [21, 21]}, {\"type\": \"scatter\", \"marker\": {\"color\": \"white\"}, \"name\": \"\", \"x\": [\"2019-05-29T10:18:37.177000Z\", \"2019-05-29T10:26:21.468000Z\"], \"y\": [11, 11]}, {\"type\": \"scatter\", \"marker\": {\"color\": \"white\"}, \"name\": \"\", \"x\": [\"2019-05-29T10:11:10.661000Z\", \"2019-05-29T10:18:21.704000Z\"], \"y\": [20, 20]}, {\"type\": \"scatter\", \"marker\": {\"color\": \"white\"}, \"name\": \"\", \"x\": [\"2019-05-29T10:10:14.345000Z\", \"2019-05-29T10:17:39.029000Z\"], \"y\": [18, 18]}, {\"type\": \"scatter\", \"marker\": {\"color\": \"white\"}, \"name\": \"\", \"x\": [\"2019-05-29T10:04:41.818000Z\", \"2019-05-29T10:12:28.552000Z\"], \"y\": [21, 21]}, {\"type\": \"scatter\", \"marker\": {\"color\": \"white\"}, \"name\": \"\", \"x\": [\"2019-05-29T09:54:21.463000Z\", \"2019-05-29T10:14:12.887000Z\"], \"y\": [8, 8]}, {\"type\": \"scatter\", \"marker\": {\"color\": \"white\"}, \"name\": \"\", \"x\": [\"2019-05-29T09:49:24.684000Z\", \"2019-05-29T09:57:25.634000Z\"], \"y\": [21, 21]}, {\"type\": \"scatter\", \"marker\": {\"color\": \"white\"}, \"name\": \"\", \"x\": [\"2019-05-29T09:45:48.923000Z\", \"2019-05-29T10:05:19.724000Z\"], \"y\": [7, 7]}, {\"type\": \"scatter\", \"marker\": {\"color\": \"white\"}, \"name\": \"\", \"x\": [\"2019-05-29T09:43:17.437000Z\", \"2019-05-29T09:56:54.242000Z\"], \"y\": [6, 6]}, {\"type\": \"scatter\", \"marker\": {\"color\": \"white\"}, \"name\": \"\", \"x\": [\"2019-05-29T09:41:01.378000Z\", \"2019-05-29T09:49:28.326000Z\"], \"y\": [20, 20]}, {\"type\": \"scatter\", \"marker\": {\"color\": \"white\"}, \"name\": \"\", \"x\": [\"2019-05-29T09:40:30.117000Z\", \"2019-05-29T09:49:00.130000Z\"], \"y\": [18, 18]}, {\"type\": \"scatter\", \"marker\": {\"color\": \"white\"}, \"name\": \"\", \"x\": [\"2019-05-29T09:39:52.316000Z\", \"2019-05-29T09:47:57.352000Z\"], \"y\": [19, 19]}, {\"type\": \"scatter\", \"marker\": {\"color\": \"white\"}, \"name\": \"\", \"x\": [\"2019-05-29T09:33:51.124000Z\", \"2019-05-29T09:41:50.628000Z\"], \"y\": [21, 21]}, {\"type\": \"scatter\", \"marker\": {\"color\": \"white\"}, \"name\": \"\", \"x\": [\"2019-05-29T09:18:24.431000Z\", \"2019-05-29T09:25:44.111000Z\"], \"y\": [21, 21]}, {\"type\": \"scatter\", \"marker\": {\"color\": \"white\"}, \"name\": \"\", \"x\": [\"2019-05-29T09:14:54.767000Z\", \"2019-05-29T10:03:17.593000Z\"], \"y\": [4, 4]}, {\"type\": \"scatter\", \"marker\": {\"color\": \"white\"}, \"name\": \"\", \"x\": [\"2019-05-29T09:14:50.495000Z\", \"2019-05-29T09:15:50.785000Z\"], \"y\": [5, 5]}, {\"type\": \"scatter\", \"marker\": {\"color\": \"white\"}, \"name\": \"\", \"x\": [\"2019-05-29T09:10:50.947000Z\", \"2019-05-29T09:18:36.276000Z\"], \"y\": [20, 20]}, {\"type\": \"scatter\", \"marker\": {\"color\": \"white\"}, \"name\": \"\", \"x\": [\"2019-05-29T09:10:20.591000Z\", \"2019-05-29T09:18:27.813000Z\"], \"y\": [18, 18]}, {\"type\": \"scatter\", \"marker\": {\"color\": \"white\"}, \"name\": \"\", \"x\": [\"2019-05-29T09:02:53.189000Z\", \"2019-05-29T09:11:06.302000Z\"], \"y\": [21, 21]}, {\"type\": \"scatter\", \"marker\": {\"color\": \"white\"}, \"name\": \"\", \"x\": [\"2019-05-29T08:47:26.196000Z\", \"2019-05-29T08:54:54.393000Z\"], \"y\": [21, 21]}, {\"type\": \"scatter\", \"marker\": {\"color\": \"white\"}, \"name\": \"\", \"x\": [\"2019-05-29T08:40:39.561000Z\", \"2019-05-29T08:49:13.594000Z\"], \"y\": [20, 20]}, {\"type\": \"scatter\", \"marker\": {\"color\": \"white\"}, \"name\": \"\", \"x\": [\"2019-05-29T08:40:09.821000Z\", \"2019-05-29T08:47:44.027000Z\"], \"y\": [18, 18]}, {\"type\": \"scatter\", \"marker\": {\"color\": \"white\"}, \"name\": \"\", \"x\": [\"2019-05-29T08:39:39.537000Z\", \"2019-05-29T08:48:09.622000Z\"], \"y\": [19, 19]}, {\"type\": \"scatter\", \"marker\": {\"color\": \"white\"}, \"name\": \"\", \"x\": [\"2019-05-29T08:32:09.585000Z\", \"2019-05-29T08:39:40.060000Z\"], \"y\": [21, 21]}, {\"type\": \"scatter\", \"marker\": {\"color\": \"white\"}, \"name\": \"\", \"x\": [\"2019-05-29T08:24:09.420000Z\", \"2019-05-29T08:42:01.913000Z\"], \"y\": [17, 17]}, {\"type\": \"scatter\", \"marker\": {\"color\": \"white\"}, \"name\": \"\", \"x\": [\"2019-05-29T08:17:05.209000Z\", \"2019-05-29T08:24:30.638000Z\"], \"y\": [21, 21]}, {\"type\": \"scatter\", \"marker\": {\"color\": \"white\"}, \"name\": \"\", \"x\": [\"2019-05-29T08:10:35.308000Z\", \"2019-05-29T08:18:11.215000Z\"], \"y\": [20, 20]}, {\"type\": \"scatter\", \"marker\": {\"color\": \"white\"}, \"name\": \"\", \"x\": [\"2019-05-29T08:10:04.814000Z\", \"2019-05-29T08:18:00.720000Z\"], \"y\": [18, 18]}, {\"type\": \"scatter\", \"marker\": {\"color\": \"white\"}, \"name\": \"\", \"x\": [\"2019-05-29T08:01:35.475000Z\", \"2019-05-29T08:10:26.137000Z\"], \"y\": [21, 21]}, {\"type\": \"scatter\", \"marker\": {\"color\": \"white\"}, \"name\": \"\", \"x\": [\"2019-05-29T07:56:53.115000Z\", \"2019-05-29T08:42:08.808000Z\"], \"y\": [17, 17]}, {\"type\": \"scatter\", \"marker\": {\"color\": \"white\"}, \"name\": \"\", \"x\": [\"2019-05-29T07:46:21.779000Z\", \"2019-05-29T07:53:44.567000Z\"], \"y\": [21, 21]}, {\"type\": \"scatter\", \"marker\": {\"color\": \"white\"}, \"name\": \"\", \"x\": [\"2019-05-29T07:46:21.773000Z\", \"2019-05-29T07:47:08.199000Z\"], \"y\": [1, 1]}, {\"type\": \"scatter\", \"marker\": {\"color\": \"white\"}, \"name\": \"\", \"x\": [\"2019-05-29T07:40:21.737000Z\", \"2019-05-29T07:47:33.218000Z\"], \"y\": [20, 20]}, {\"type\": \"scatter\", \"marker\": {\"color\": \"white\"}, \"name\": \"\", \"x\": [\"2019-05-29T07:40:21.729000Z\", \"2019-05-29T07:47:42.972000Z\"], \"y\": [18, 18]}, {\"type\": \"scatter\", \"marker\": {\"color\": \"white\"}, \"name\": \"\", \"x\": [\"2019-05-29T07:39:22.390000Z\", \"2019-05-29T07:46:36.618000Z\"], \"y\": [19, 19]}, {\"type\": \"scatter\", \"marker\": {\"color\": \"white\"}, \"name\": \"\", \"x\": [\"2019-05-29T07:30:51.865000Z\", \"2019-05-29T07:38:07.312000Z\"], \"y\": [21, 21]}, {\"type\": \"scatter\", \"marker\": {\"color\": \"white\"}, \"name\": \"\", \"x\": [\"2019-05-29T07:15:42.528000Z\", \"2019-05-29T07:22:55.534000Z\"], \"y\": [21, 21]}, {\"type\": \"scatter\", \"marker\": {\"color\": \"white\"}, \"name\": \"\", \"x\": [\"2019-05-29T07:10:12.732000Z\", \"2019-05-29T07:18:00.351000Z\"], \"y\": [18, 18]}, {\"type\": \"scatter\", \"marker\": {\"color\": \"white\"}, \"name\": \"\", \"x\": [\"2019-05-29T07:10:12.525000Z\", \"2019-05-29T07:17:19.672000Z\"], \"y\": [20, 20]}, {\"type\": \"scatter\", \"marker\": {\"color\": \"white\"}, \"name\": \"\", \"x\": [\"2019-05-29T07:00:53.896000Z\", \"2019-05-29T07:31:04.430000Z\"], \"y\": [10, 10]}, {\"type\": \"scatter\", \"marker\": {\"color\": \"white\"}, \"name\": \"\", \"x\": [\"2019-05-29T07:00:25.820000Z\", \"2019-05-29T07:07:43.222000Z\"], \"y\": [21, 21]}, {\"type\": \"scatter\", \"marker\": {\"color\": \"white\"}, \"name\": \"\", \"x\": [\"2019-05-29T07:00:23.896000Z\", \"2019-05-29T07:25:50.711000Z\"], \"y\": [2, 2]}, {\"type\": \"scatter\", \"marker\": {\"color\": \"white\"}, \"name\": \"\", \"x\": [\"2019-05-29T06:45:09.580000Z\", \"2019-05-29T06:52:21.611000Z\"], \"y\": [21, 21]}, {\"type\": \"scatter\", \"marker\": {\"color\": \"white\"}, \"name\": \"\", \"x\": [\"2019-05-29T06:45:09.413000Z\", \"2019-05-29T07:02:31.129000Z\"], \"y\": [7, 7]}, {\"type\": \"scatter\", \"marker\": {\"color\": \"white\"}, \"name\": \"\", \"x\": [\"2019-05-29T06:42:39.042000Z\", \"2019-05-29T06:49:39.981000Z\"], \"y\": [6, 6]}, {\"type\": \"scatter\", \"marker\": {\"color\": \"white\"}, \"name\": \"\", \"x\": [\"2019-05-29T06:40:09.510000Z\", \"2019-05-29T06:47:25.035000Z\"], \"y\": [20, 20]}, {\"type\": \"scatter\", \"marker\": {\"color\": \"white\"}, \"name\": \"\", \"x\": [\"2019-05-29T06:40:09.502000Z\", \"2019-05-29T06:47:43.988000Z\"], \"y\": [18, 18]}, {\"type\": \"scatter\", \"marker\": {\"color\": \"white\"}, \"name\": \"\", \"x\": [\"2019-05-29T06:39:09.251000Z\", \"2019-05-29T06:46:07.144000Z\"], \"y\": [19, 19]}, {\"type\": \"scatter\", \"marker\": {\"color\": \"white\"}, \"name\": \"\", \"x\": [\"2019-05-29T06:29:39.489000Z\", \"2019-05-29T06:36:48.528000Z\"], \"y\": [21, 21]}, {\"type\": \"scatter\", \"marker\": {\"color\": \"white\"}, \"name\": \"\", \"x\": [\"2019-05-29T06:14:09.073000Z\", \"2019-05-29T06:21:38.634000Z\"], \"y\": [21, 21]}, {\"type\": \"scatter\", \"marker\": {\"color\": \"white\"}, \"name\": \"\", \"x\": [\"2019-05-29T06:10:09.196000Z\", \"2019-05-29T06:17:29.622000Z\"], \"y\": [18, 18]}, {\"type\": \"scatter\", \"marker\": {\"color\": \"white\"}, \"name\": \"\", \"x\": [\"2019-05-29T06:09:39.301000Z\", \"2019-05-29T06:16:54.762000Z\"], \"y\": [20, 20]}, {\"type\": \"scatter\", \"marker\": {\"color\": \"white\"}, \"name\": \"\", \"x\": [\"2019-05-29T06:01:10.253000Z\", \"2019-05-29T06:14:26.672000Z\"], \"y\": [3, 3]}, {\"type\": \"scatter\", \"marker\": {\"color\": \"white\"}, \"name\": \"\", \"x\": [\"2019-05-29T05:58:39.017000Z\", \"2019-05-29T06:05:58.404000Z\"], \"y\": [21, 21]}, {\"type\": \"scatter\", \"marker\": {\"color\": \"white\"}, \"name\": \"\", \"x\": [\"2019-05-29T05:43:09.344000Z\", \"2019-05-29T05:50:24.028000Z\"], \"y\": [21, 21]}, {\"type\": \"scatter\", \"marker\": {\"color\": \"white\"}, \"name\": \"\", \"x\": [\"2019-05-29T05:40:09.336000Z\", \"2019-05-29T05:47:50.637000Z\"], \"y\": [18, 18]}, {\"type\": \"scatter\", \"marker\": {\"color\": \"white\"}, \"name\": \"\", \"x\": [\"2019-05-29T05:39:09.358000Z\", \"2019-05-29T05:46:21.752000Z\"], \"y\": [20, 20]}, {\"type\": \"scatter\", \"marker\": {\"color\": \"white\"}, \"name\": \"\", \"x\": [\"2019-05-29T05:38:39.321000Z\", \"2019-05-29T05:45:54.508000Z\"], \"y\": [19, 19]}, {\"type\": \"scatter\", \"marker\": {\"color\": \"white\"}, \"name\": \"\", \"x\": [\"2019-05-29T05:27:39.180000Z\", \"2019-05-29T05:34:55.840000Z\"], \"y\": [21, 21]}, {\"type\": \"scatter\", \"marker\": {\"color\": \"white\"}, \"name\": \"\", \"x\": [\"2019-05-29T05:23:39.167000Z\", \"2019-05-29T05:41:02.365000Z\"], \"y\": [17, 17]}, {\"type\": \"scatter\", \"marker\": {\"color\": \"white\"}, \"name\": \"\", \"x\": [\"2019-05-29T05:12:08.847000Z\", \"2019-05-29T05:19:12.735000Z\"], \"y\": [21, 21]}, {\"type\": \"scatter\", \"marker\": {\"color\": \"white\"}, \"name\": \"\", \"x\": [\"2019-05-29T05:10:08.993000Z\", \"2019-05-29T05:17:33.761000Z\"], \"y\": [18, 18]}, {\"type\": \"scatter\", \"marker\": {\"color\": \"white\"}, \"name\": \"\", \"x\": [\"2019-05-29T05:08:39.224000Z\", \"2019-05-29T05:15:48.966000Z\"], \"y\": [20, 20]}, {\"type\": \"scatter\", \"marker\": {\"color\": \"white\"}, \"name\": \"\", \"x\": [\"2019-05-29T04:56:52.598000Z\", \"2019-05-29T05:04:14.860000Z\"], \"y\": [21, 21]}, {\"type\": \"scatter\", \"marker\": {\"color\": \"white\"}, \"name\": \"\", \"x\": [\"2019-05-29T04:41:45.253000Z\", \"2019-05-29T04:48:52.661000Z\"], \"y\": [21, 21]}, {\"type\": \"scatter\", \"marker\": {\"color\": \"white\"}, \"name\": \"\", \"x\": [\"2019-05-29T04:40:15.853000Z\", \"2019-05-29T04:48:00.386000Z\"], \"y\": [18, 18]}, {\"type\": \"scatter\", \"marker\": {\"color\": \"white\"}, \"name\": \"\", \"x\": [\"2019-05-29T04:38:16.311000Z\", \"2019-05-29T04:45:49.822000Z\"], \"y\": [20, 20]}, {\"type\": \"scatter\", \"marker\": {\"color\": \"white\"}, \"name\": \"\", \"x\": [\"2019-05-29T04:38:15.360000Z\", \"2019-05-29T04:45:33.816000Z\"], \"y\": [19, 19]}, {\"type\": \"scatter\", \"marker\": {\"color\": \"white\"}, \"name\": \"\", \"x\": [\"2019-05-29T04:26:15.179000Z\", \"2019-05-29T04:33:24.116000Z\"], \"y\": [21, 21]}, {\"type\": \"scatter\", \"marker\": {\"color\": \"white\"}, \"name\": \"\", \"x\": [\"2019-05-29T04:10:45.150000Z\", \"2019-05-29T04:17:49.081000Z\"], \"y\": [21, 21]}, {\"type\": \"scatter\", \"marker\": {\"color\": \"white\"}, \"name\": \"\", \"x\": [\"2019-05-29T04:10:15.139000Z\", \"2019-05-29T04:17:42.699000Z\"], \"y\": [18, 18]}, {\"type\": \"scatter\", \"marker\": {\"color\": \"white\"}, \"name\": \"\", \"x\": [\"2019-05-29T04:07:45.163000Z\", \"2019-05-29T04:14:54.145000Z\"], \"y\": [20, 20]}, {\"type\": \"scatter\", \"marker\": {\"color\": \"white\"}, \"name\": \"\", \"x\": [\"2019-05-29T03:55:15.426000Z\", \"2019-05-29T04:02:29.237000Z\"], \"y\": [21, 21]}, {\"type\": \"scatter\", \"marker\": {\"color\": \"white\"}, \"name\": \"\", \"x\": [\"2019-05-29T03:54:15.058000Z\", \"2019-05-29T04:14:43.433000Z\"], \"y\": [8, 8]}, {\"type\": \"scatter\", \"marker\": {\"color\": \"white\"}, \"name\": \"\", \"x\": [\"2019-05-29T03:44:47.539000Z\", \"2019-05-29T04:03:47.678000Z\"], \"y\": [7, 7]}, {\"type\": \"scatter\", \"marker\": {\"color\": \"white\"}, \"name\": \"\", \"x\": [\"2019-05-29T03:42:15.770000Z\", \"2019-05-29T03:49:38.492000Z\"], \"y\": [6, 6]}, {\"type\": \"scatter\", \"marker\": {\"color\": \"white\"}, \"name\": \"\", \"x\": [\"2019-05-29T03:40:15.837000Z\", \"2019-05-29T03:48:21.007000Z\"], \"y\": [18, 18]}, {\"type\": \"scatter\", \"marker\": {\"color\": \"white\"}, \"name\": \"\", \"x\": [\"2019-05-29T03:39:45.557000Z\", \"2019-05-29T03:47:02.949000Z\"], \"y\": [21, 21]}, {\"type\": \"scatter\", \"marker\": {\"color\": \"white\"}, \"name\": \"\", \"x\": [\"2019-05-29T03:37:45.354000Z\", \"2019-05-29T03:45:04.341000Z\"], \"y\": [19, 19]}, {\"type\": \"scatter\", \"marker\": {\"color\": \"white\"}, \"name\": \"\", \"x\": [\"2019-05-29T03:37:16.176000Z\", \"2019-05-29T03:44:16.312000Z\"], \"y\": [20, 20]}, {\"type\": \"scatter\", \"marker\": {\"color\": \"white\"}, \"name\": \"\", \"x\": [\"2019-05-29T03:24:16.217000Z\", \"2019-05-29T03:31:47.325000Z\"], \"y\": [21, 21]}, {\"type\": \"scatter\", \"marker\": {\"color\": \"white\"}, \"name\": \"\", \"x\": [\"2019-05-29T03:14:45.326000Z\", \"2019-05-29T03:15:56.941000Z\"], \"y\": [5, 5]}, {\"type\": \"scatter\", \"marker\": {\"color\": \"white\"}, \"name\": \"\", \"x\": [\"2019-05-29T03:10:15.379000Z\", \"2019-05-29T03:17:51.825000Z\"], \"y\": [18, 18]}, {\"type\": \"scatter\", \"marker\": {\"color\": \"white\"}, \"name\": \"\", \"x\": [\"2019-05-29T03:08:46.178000Z\", \"2019-05-29T03:15:56.852000Z\"], \"y\": [21, 21]}, {\"type\": \"scatter\", \"marker\": {\"color\": \"white\"}, \"name\": \"\", \"x\": [\"2019-05-29T03:06:45.830000Z\", \"2019-05-29T03:13:52.442000Z\"], \"y\": [20, 20]}, {\"type\": \"scatter\", \"marker\": {\"color\": \"white\"}, \"name\": \"\", \"x\": [\"2019-05-29T02:56:45.254000Z\", \"2019-05-29T03:37:35.841000Z\"], \"y\": [17, 17]}, {\"type\": \"scatter\", \"marker\": {\"color\": \"white\"}, \"name\": \"\", \"x\": [\"2019-05-29T02:53:15.497000Z\", \"2019-05-29T03:00:34.876000Z\"], \"y\": [21, 21]}, {\"type\": \"scatter\", \"marker\": {\"color\": \"white\"}, \"name\": \"\", \"x\": [\"2019-05-29T02:40:15.319000Z\", \"2019-05-29T02:47:58.782000Z\"], \"y\": [18, 18]}, {\"type\": \"scatter\", \"marker\": {\"color\": \"white\"}, \"name\": \"\", \"x\": [\"2019-05-29T02:37:45.375000Z\", \"2019-05-29T02:45:03.490000Z\"], \"y\": [21, 21]}, {\"type\": \"scatter\", \"marker\": {\"color\": \"white\"}, \"name\": \"\", \"x\": [\"2019-05-29T02:37:15.407000Z\", \"2019-05-29T02:44:34.689000Z\"], \"y\": [19, 19]}, {\"type\": \"scatter\", \"marker\": {\"color\": \"white\"}, \"name\": \"\", \"x\": [\"2019-05-29T02:36:16.436000Z\", \"2019-05-29T02:43:19.610000Z\"], \"y\": [20, 20]}, {\"type\": \"scatter\", \"marker\": {\"color\": \"white\"}, \"name\": \"\", \"x\": [\"2019-05-29T02:23:15.230000Z\", \"2019-05-29T03:00:28.026000Z\"], \"y\": [17, 17]}, {\"type\": \"scatter\", \"marker\": {\"color\": \"white\"}, \"name\": \"\", \"x\": [\"2019-05-29T02:22:16.512000Z\", \"2019-05-29T02:29:18.992000Z\"], \"y\": [21, 21]}, {\"type\": \"scatter\", \"marker\": {\"color\": \"white\"}, \"name\": \"\", \"x\": [\"2019-05-29T02:10:15.359000Z\", \"2019-05-29T02:17:55.993000Z\"], \"y\": [18, 18]}, {\"type\": \"scatter\", \"marker\": {\"color\": \"white\"}, \"name\": \"\", \"x\": [\"2019-05-29T02:06:45.701000Z\", \"2019-05-29T02:14:02.057000Z\"], \"y\": [21, 21]}, {\"type\": \"scatter\", \"marker\": {\"color\": \"white\"}, \"name\": \"\", \"x\": [\"2019-05-29T02:05:45.475000Z\", \"2019-05-29T02:13:05.904000Z\"], \"y\": [20, 20]}, {\"type\": \"scatter\", \"marker\": {\"color\": \"white\"}, \"name\": \"\", \"x\": [\"2019-05-29T02:00:47.760000Z\", \"2019-05-29T02:29:31.879000Z\"], \"y\": [10, 10]}, {\"type\": \"scatter\", \"marker\": {\"color\": \"white\"}, \"name\": \"\", \"x\": [\"2019-05-29T01:51:15.358000Z\", \"2019-05-29T01:58:35.847000Z\"], \"y\": [21, 21]}, {\"type\": \"scatter\", \"marker\": {\"color\": \"white\"}, \"name\": \"\", \"x\": [\"2019-05-29T01:40:14.761000Z\", \"2019-05-29T01:47:53.988000Z\"], \"y\": [18, 18]}, {\"type\": \"scatter\", \"marker\": {\"color\": \"white\"}, \"name\": \"\", \"x\": [\"2019-05-29T01:36:45.169000Z\", \"2019-05-29T01:43:44.295000Z\"], \"y\": [19, 19]}, {\"type\": \"scatter\", \"marker\": {\"color\": \"white\"}, \"name\": \"\", \"x\": [\"2019-05-29T01:35:45.957000Z\", \"2019-05-29T01:43:14.010000Z\"], \"y\": [21, 21]}, {\"type\": \"scatter\", \"marker\": {\"color\": \"white\"}, \"name\": \"\", \"x\": [\"2019-05-29T01:35:15.448000Z\", \"2019-05-29T01:42:27.634000Z\"], \"y\": [20, 20]}, {\"type\": \"scatter\", \"marker\": {\"color\": \"white\"}, \"name\": \"\", \"x\": [\"2019-05-29T01:20:15.203000Z\", \"2019-05-29T01:27:28.555000Z\"], \"y\": [21, 21]}, {\"type\": \"scatter\", \"marker\": {\"color\": \"white\"}, \"name\": \"\", \"x\": [\"2019-05-29T01:10:15.062000Z\", \"2019-05-29T01:17:38.485000Z\"], \"y\": [18, 18]}, {\"type\": \"scatter\", \"marker\": {\"color\": \"white\"}, \"name\": \"\", \"x\": [\"2019-05-29T01:04:45.034000Z\", \"2019-05-29T01:12:02.840000Z\"], \"y\": [20, 20]}, {\"type\": \"scatter\", \"marker\": {\"color\": \"white\"}, \"name\": \"\", \"x\": [\"2019-05-29T01:04:44.997000Z\", \"2019-05-29T01:11:56.304000Z\"], \"y\": [21, 21]}, {\"type\": \"scatter\", \"marker\": {\"color\": \"white\"}, \"name\": \"\", \"x\": [\"2019-05-29T01:00:44.957000Z\", \"2019-05-29T01:07:59.931000Z\"], \"y\": [0, 0]}, {\"type\": \"scatter\", \"marker\": {\"color\": \"white\"}, \"name\": \"\", \"x\": [\"2019-05-29T01:00:15.393000Z\", \"2019-05-29T01:19:36.219000Z\"], \"y\": [2, 2]}, {\"type\": \"scatter\", \"marker\": {\"color\": \"white\"}, \"name\": \"\", \"x\": [\"2019-05-29T00:49:14.973000Z\", \"2019-05-29T00:56:52.323000Z\"], \"y\": [21, 21]}, {\"type\": \"scatter\", \"marker\": {\"color\": \"white\"}, \"name\": \"\", \"x\": [\"2019-05-29T00:44:15.017000Z\", \"2019-05-29T01:03:15.558000Z\"], \"y\": [7, 7]}, {\"type\": \"scatter\", \"marker\": {\"color\": \"white\"}, \"name\": \"\", \"x\": [\"2019-05-29T00:41:45.268000Z\", \"2019-05-29T00:54:41.796000Z\"], \"y\": [6, 6]}, {\"type\": \"scatter\", \"marker\": {\"color\": \"white\"}, \"name\": \"\", \"x\": [\"2019-05-29T00:40:15.229000Z\", \"2019-05-29T00:47:49.491000Z\"], \"y\": [18, 18]}, {\"type\": \"scatter\", \"marker\": {\"color\": \"white\"}, \"name\": \"\", \"x\": [\"2019-05-29T00:36:15.668000Z\", \"2019-05-29T00:43:26.235000Z\"], \"y\": [19, 19]}, {\"type\": \"scatter\", \"marker\": {\"color\": \"white\"}, \"name\": \"\", \"x\": [\"2019-05-29T00:34:16.965000Z\", \"2019-05-29T00:41:25.467000Z\"], \"y\": [20, 20]}, {\"type\": \"scatter\", \"marker\": {\"color\": \"white\"}, \"name\": \"\", \"x\": [\"2019-05-29T00:33:45.223000Z\", \"2019-05-29T00:41:06.582000Z\"], \"y\": [21, 21]}, {\"type\": \"scatter\", \"marker\": {\"color\": \"white\"}, \"name\": \"\", \"x\": [\"2019-05-29T00:18:15.548000Z\", \"2019-05-29T00:25:41.309000Z\"], \"y\": [21, 21]}, {\"type\": \"scatter\", \"marker\": {\"color\": \"white\"}, \"name\": \"\", \"x\": [\"2019-05-29T00:10:15.230000Z\", \"2019-05-29T00:17:55.589000Z\"], \"y\": [18, 18]}, {\"type\": \"scatter\", \"marker\": {\"color\": \"white\"}, \"name\": \"\", \"x\": [\"2019-05-29T00:04:15.497000Z\", \"2019-05-29T00:11:35.638000Z\"], \"y\": [20, 20]}, {\"type\": \"scatter\", \"marker\": {\"color\": \"white\"}, \"name\": \"\", \"x\": [\"2019-05-29T00:03:13.575000Z\", \"2019-05-29T00:10:36.859000Z\"], \"y\": [21, 21]}, {\"type\": \"scatter\", \"marker\": {\"color\": \"white\"}, \"name\": \"\", \"x\": [\"2019-05-29T00:01:15.384000Z\", \"2019-05-29T00:10:50.299000Z\"], \"y\": [3, 3]}], {\"width\": 900, \"showlegend\": false, \"shapes\": [{\"line\": {\"width\": 0}, \"xref\": \"x\", \"type\": \"rect\", \"fillcolor\": \"rgb(31, 119, 180)\", \"x1\": \"2019-05-30T00:03:22.140000Z\", \"x0\": \"2019-05-29T23:55:38.106000Z\", \"y0\": 20.8, \"y1\": 21.2, \"opacity\": 1, \"yref\": \"y\"}, {\"line\": {\"width\": 0}, \"xref\": \"x\", \"type\": \"rect\", \"fillcolor\": \"rgb(255, 127, 14)\", \"x1\": \"2019-05-29T23:56:08.024000Z\", \"x0\": \"2019-05-29T23:49:07.513000Z\", \"y0\": 19.8, \"y1\": 20.2, \"opacity\": 1, \"yref\": \"y\"}, {\"line\": {\"width\": 0}, \"xref\": \"x\", \"type\": \"rect\", \"fillcolor\": \"rgb(44, 160, 44)\", \"x1\": \"2019-05-29T23:51:58.914000Z\", \"x0\": \"2019-05-29T23:44:38.121000Z\", \"y0\": 18.8, \"y1\": 19.2, \"opacity\": 1, \"yref\": \"y\"}, {\"line\": {\"width\": 0}, \"xref\": \"x\", \"type\": \"rect\", \"fillcolor\": \"rgb(214, 39, 40)\", \"x1\": \"2019-05-29T23:47:18.188000Z\", \"x0\": \"2019-05-29T23:40:07.889000Z\", \"y0\": 20.8, \"y1\": 21.2, \"opacity\": 1, \"yref\": \"y\"}, {\"line\": {\"width\": 0}, \"xref\": \"x\", \"type\": \"rect\", \"fillcolor\": \"rgb(148, 103, 189)\", \"x1\": \"2019-05-29T23:48:02.724000Z\", \"x0\": \"2019-05-29T23:40:07.382000Z\", \"y0\": 17.8, \"y1\": 18.2, \"opacity\": 1, \"yref\": \"y\"}, {\"line\": {\"width\": 0}, \"xref\": \"x\", \"type\": \"rect\", \"fillcolor\": \"rgb(140, 86, 75)\", \"x1\": \"2019-05-29T23:41:31.206000Z\", \"x0\": \"2019-05-29T23:25:37.502000Z\", \"y0\": 16.8, \"y1\": 17.2, \"opacity\": 1, \"yref\": \"y\"}, {\"line\": {\"width\": 0}, \"xref\": \"x\", \"type\": \"rect\", \"fillcolor\": \"rgb(227, 119, 194)\", \"x1\": \"2019-05-29T23:31:30.095000Z\", \"x0\": \"2019-05-29T23:24:37.490000Z\", \"y0\": 20.8, \"y1\": 21.2, \"opacity\": 1, \"yref\": \"y\"}, {\"line\": {\"width\": 0}, \"xref\": \"x\", \"type\": \"rect\", \"fillcolor\": \"rgb(127, 127, 127)\", \"x1\": \"2019-05-29T23:25:47.528000Z\", \"x0\": \"2019-05-29T23:18:37.667000Z\", \"y0\": 19.8, \"y1\": 20.2, \"opacity\": 1, \"yref\": \"y\"}, {\"line\": {\"width\": 0}, \"xref\": \"x\", \"type\": \"rect\", \"fillcolor\": \"rgb(188, 189, 34)\", \"x1\": \"2019-05-29T23:18:08.058000Z\", \"x0\": \"2019-05-29T23:10:26.735000Z\", \"y0\": 17.8, \"y1\": 18.2, \"opacity\": 1, \"yref\": \"y\"}, {\"line\": {\"width\": 0}, \"xref\": \"x\", \"type\": \"rect\", \"fillcolor\": \"rgb(23, 190, 207)\", \"x1\": \"2019-05-29T23:16:43.766000Z\", \"x0\": \"2019-05-29T23:09:27.799000Z\", \"y0\": 20.8, \"y1\": 21.2, \"opacity\": 1, \"yref\": \"y\"}, {\"line\": {\"width\": 0}, \"xref\": \"x\", \"type\": \"rect\", \"fillcolor\": \"rgb(31, 119, 180)\", \"x1\": \"2019-05-29T23:14:08.110000Z\", \"x0\": \"2019-05-29T23:01:11.969000Z\", \"y0\": 15.8, \"y1\": 16.2, \"opacity\": 1, \"yref\": \"y\"}, {\"line\": {\"width\": 0}, \"xref\": \"x\", \"type\": \"rect\", \"fillcolor\": \"rgb(255, 127, 14)\", \"x1\": \"2019-05-29T23:08:26.085000Z\", \"x0\": \"2019-05-29T23:01:11.690000Z\", \"y0\": 14.8, \"y1\": 15.2, \"opacity\": 1, \"yref\": \"y\"}, {\"line\": {\"width\": 0}, \"xref\": \"x\", \"type\": \"rect\", \"fillcolor\": \"rgb(44, 160, 44)\", \"x1\": \"2019-05-29T23:19:33.341000Z\", \"x0\": \"2019-05-29T23:01:11.647000Z\", \"y0\": 13.8, \"y1\": 14.2, \"opacity\": 1, \"yref\": \"y\"}, {\"line\": {\"width\": 0}, \"xref\": \"x\", \"type\": \"rect\", \"fillcolor\": \"rgb(214, 39, 40)\", \"x1\": \"2019-05-29T23:02:44.818000Z\", \"x0\": \"2019-05-29T23:00:42.793000Z\", \"y0\": 12.8, \"y1\": 13.2, \"opacity\": 1, \"yref\": \"y\"}, {\"line\": {\"width\": 0}, \"xref\": \"x\", \"type\": \"rect\", \"fillcolor\": \"rgb(148, 103, 189)\", \"x1\": \"2019-05-29T23:08:05.251000Z\", \"x0\": \"2019-05-29T23:00:42.153000Z\", \"y0\": 11.8, \"y1\": 12.2, \"opacity\": 1, \"yref\": \"y\"}, {\"line\": {\"width\": 0}, \"xref\": \"x\", \"type\": \"rect\", \"fillcolor\": \"rgb(140, 86, 75)\", \"x1\": \"2019-05-29T23:08:07.735000Z\", \"x0\": \"2019-05-29T23:00:41.999000Z\", \"y0\": 10.8, \"y1\": 11.2, \"opacity\": 1, \"yref\": \"y\"}, {\"line\": {\"width\": 0}, \"xref\": \"x\", \"type\": \"rect\", \"fillcolor\": \"rgb(227, 119, 194)\", \"x1\": \"2019-05-29T23:45:00.138000Z\", \"x0\": \"2019-05-29T22:58:25.658000Z\", \"y0\": 16.8, \"y1\": 17.2, \"opacity\": 1, \"yref\": \"y\"}, {\"line\": {\"width\": 0}, \"xref\": \"x\", \"type\": \"rect\", \"fillcolor\": \"rgb(127, 127, 127)\", \"x1\": \"2019-05-29T23:01:05.235000Z\", \"x0\": \"2019-05-29T22:53:55.955000Z\", \"y0\": 20.8, \"y1\": 21.2, \"opacity\": 1, \"yref\": \"y\"}, {\"line\": {\"width\": 0}, \"xref\": \"x\", \"type\": \"rect\", \"fillcolor\": \"rgb(188, 189, 34)\", \"x1\": \"2019-05-29T22:55:36.297000Z\", \"x0\": \"2019-05-29T22:48:25.346000Z\", \"y0\": 19.8, \"y1\": 20.2, \"opacity\": 1, \"yref\": \"y\"}, {\"line\": {\"width\": 0}, \"xref\": \"x\", \"type\": \"rect\", \"fillcolor\": \"rgb(23, 190, 207)\", \"x1\": \"2019-05-29T22:51:42.391000Z\", \"x0\": \"2019-05-29T22:44:26.416000Z\", \"y0\": 18.8, \"y1\": 19.2, \"opacity\": 1, \"yref\": \"y\"}, {\"line\": {\"width\": 0}, \"xref\": \"x\", \"type\": \"rect\", \"fillcolor\": \"rgb(31, 119, 180)\", \"x1\": \"2019-05-29T22:48:08.365000Z\", \"x0\": \"2019-05-29T22:40:20.361000Z\", \"y0\": 17.8, \"y1\": 18.2, \"opacity\": 1, \"yref\": \"y\"}, {\"line\": {\"width\": 0}, \"xref\": \"x\", \"type\": \"rect\", \"fillcolor\": \"rgb(255, 127, 14)\", \"x1\": \"2019-05-29T22:46:07.279000Z\", \"x0\": \"2019-05-29T22:38:49.877000Z\", \"y0\": 20.8, \"y1\": 21.2, \"opacity\": 1, \"yref\": \"y\"}, {\"line\": {\"width\": 0}, \"xref\": \"x\", \"type\": \"rect\", \"fillcolor\": \"rgb(44, 160, 44)\", \"x1\": \"2019-05-29T22:31:21.307000Z\", \"x0\": \"2019-05-29T22:23:28.856000Z\", \"y0\": 20.8, \"y1\": 21.2, \"opacity\": 1, \"yref\": \"y\"}, {\"line\": {\"width\": 0}, \"xref\": \"x\", \"type\": \"rect\", \"fillcolor\": \"rgb(214, 39, 40)\", \"x1\": \"2019-05-29T22:26:10.778000Z\", \"x0\": \"2019-05-29T22:18:20.571000Z\", \"y0\": 19.8, \"y1\": 20.2, \"opacity\": 1, \"yref\": \"y\"}, {\"line\": {\"width\": 0}, \"xref\": \"x\", \"type\": \"rect\", \"fillcolor\": \"rgb(148, 103, 189)\", \"x1\": \"2019-05-29T22:18:13.468000Z\", \"x0\": \"2019-05-29T22:10:03.810000Z\", \"y0\": 17.8, \"y1\": 18.2, \"opacity\": 1, \"yref\": \"y\"}, {\"line\": {\"width\": 0}, \"xref\": \"x\", \"type\": \"rect\", \"fillcolor\": \"rgb(140, 86, 75)\", \"x1\": \"2019-05-29T22:16:22.500000Z\", \"x0\": \"2019-05-29T22:08:11.456000Z\", \"y0\": 20.8, \"y1\": 21.2, \"opacity\": 1, \"yref\": \"y\"}, {\"line\": {\"width\": 0}, \"xref\": \"x\", \"type\": \"rect\", \"fillcolor\": \"rgb(227, 119, 194)\", \"x1\": \"2019-05-29T22:38:17.510000Z\", \"x0\": \"2019-05-29T22:00:43.346000Z\", \"y0\": 9.8, \"y1\": 10.2, \"opacity\": 1, \"yref\": \"y\"}, {\"line\": {\"width\": 0}, \"xref\": \"x\", \"type\": \"rect\", \"fillcolor\": \"rgb(127, 127, 127)\", \"x1\": \"2019-05-29T22:20:21.966000Z\", \"x0\": \"2019-05-29T22:00:43.295000Z\", \"y0\": 8.8, \"y1\": 9.2, \"opacity\": 1, \"yref\": \"y\"}, {\"line\": {\"width\": 0}, \"xref\": \"x\", \"type\": \"rect\", \"fillcolor\": \"rgb(188, 189, 34)\", \"x1\": \"2019-05-29T22:19:59.233000Z\", \"x0\": \"2019-05-29T21:54:43.055000Z\", \"y0\": 7.8, \"y1\": 8.2, \"opacity\": 1, \"yref\": \"y\"}, {\"line\": {\"width\": 0}, \"xref\": \"x\", \"type\": \"rect\", \"fillcolor\": \"rgb(23, 190, 207)\", \"x1\": \"2019-05-29T21:59:51.592000Z\", \"x0\": \"2019-05-29T21:52:43.244000Z\", \"y0\": 20.8, \"y1\": 21.2, \"opacity\": 1, \"yref\": \"y\"}, {\"line\": {\"width\": 0}, \"xref\": \"x\", \"type\": \"rect\", \"fillcolor\": \"rgb(31, 119, 180)\", \"x1\": \"2019-05-29T22:05:56.389000Z\", \"x0\": \"2019-05-29T21:48:13.326000Z\", \"y0\": 6.8, \"y1\": 7.2, \"opacity\": 1, \"yref\": \"y\"}, {\"line\": {\"width\": 0}, \"xref\": \"x\", \"type\": \"rect\", \"fillcolor\": \"rgb(255, 127, 14)\", \"x1\": \"2019-05-29T21:54:56.759000Z\", \"x0\": \"2019-05-29T21:47:42.992000Z\", \"y0\": 19.8, \"y1\": 20.2, \"opacity\": 1, \"yref\": \"y\"}, {\"line\": {\"width\": 0}, \"xref\": \"x\", \"type\": \"rect\", \"fillcolor\": \"rgb(44, 160, 44)\", \"x1\": \"2019-05-29T21:57:10.373000Z\", \"x0\": \"2019-05-29T21:44:42.752000Z\", \"y0\": 5.8, \"y1\": 6.2, \"opacity\": 1, \"yref\": \"y\"}, {\"line\": {\"width\": 0}, \"xref\": \"x\", \"type\": \"rect\", \"fillcolor\": \"rgb(214, 39, 40)\", \"x1\": \"2019-05-29T21:51:31.945000Z\", \"x0\": \"2019-05-29T21:44:13.163000Z\", \"y0\": 18.8, \"y1\": 19.2, \"opacity\": 1, \"yref\": \"y\"}, {\"line\": {\"width\": 0}, \"xref\": \"x\", \"type\": \"rect\", \"fillcolor\": \"rgb(148, 103, 189)\", \"x1\": \"2019-05-29T21:48:00.662000Z\", \"x0\": \"2019-05-29T21:40:13.364000Z\", \"y0\": 17.8, \"y1\": 18.2, \"opacity\": 1, \"yref\": \"y\"}, {\"line\": {\"width\": 0}, \"xref\": \"x\", \"type\": \"rect\", \"fillcolor\": \"rgb(140, 86, 75)\", \"x1\": \"2019-05-29T21:44:26.092000Z\", \"x0\": \"2019-05-29T21:37:15.802000Z\", \"y0\": 20.8, \"y1\": 21.2, \"opacity\": 1, \"yref\": \"y\"}, {\"line\": {\"width\": 0}, \"xref\": \"x\", \"type\": \"rect\", \"fillcolor\": \"rgb(227, 119, 194)\", \"x1\": \"2019-05-29T21:29:34.106000Z\", \"x0\": \"2019-05-29T21:22:10.452000Z\", \"y0\": 20.8, \"y1\": 21.2, \"opacity\": 1, \"yref\": \"y\"}, {\"line\": {\"width\": 0}, \"xref\": \"x\", \"type\": \"rect\", \"fillcolor\": \"rgb(127, 127, 127)\", \"x1\": \"2019-05-29T21:25:09.409000Z\", \"x0\": \"2019-05-29T21:17:37.891000Z\", \"y0\": 19.8, \"y1\": 20.2, \"opacity\": 1, \"yref\": \"y\"}, {\"line\": {\"width\": 0}, \"xref\": \"x\", \"type\": \"rect\", \"fillcolor\": \"rgb(188, 189, 34)\", \"x1\": \"2019-05-29T21:16:10.341000Z\", \"x0\": \"2019-05-29T21:15:08.295000Z\", \"y0\": 4.8, \"y1\": 5.2, \"opacity\": 1, \"yref\": \"y\"}, {\"line\": {\"width\": 0}, \"xref\": \"x\", \"type\": \"rect\", \"fillcolor\": \"rgb(23, 190, 207)\", \"x1\": \"2019-05-29T21:18:11.425000Z\", \"x0\": \"2019-05-29T21:10:09.191000Z\", \"y0\": 17.8, \"y1\": 18.2, \"opacity\": 1, \"yref\": \"y\"}, {\"line\": {\"width\": 0}, \"xref\": \"x\", \"type\": \"rect\", \"fillcolor\": \"rgb(31, 119, 180)\", \"x1\": \"2019-05-29T21:14:23.257000Z\", \"x0\": \"2019-05-29T21:07:08.492000Z\", \"y0\": 20.8, \"y1\": 21.2, \"opacity\": 1, \"yref\": \"y\"}, {\"line\": {\"width\": 0}, \"xref\": \"x\", \"type\": \"rect\", \"fillcolor\": \"rgb(255, 127, 14)\", \"x1\": \"2019-05-29T20:59:31.612000Z\", \"x0\": \"2019-05-29T20:52:05.038000Z\", \"y0\": 20.8, \"y1\": 21.2, \"opacity\": 1, \"yref\": \"y\"}, {\"line\": {\"width\": 0}, \"xref\": \"x\", \"type\": \"rect\", \"fillcolor\": \"rgb(44, 160, 44)\", \"x1\": \"2019-05-29T20:54:58.644000Z\", \"x0\": \"2019-05-29T20:47:32.882000Z\", \"y0\": 19.8, \"y1\": 20.2, \"opacity\": 1, \"yref\": \"y\"}, {\"line\": {\"width\": 0}, \"xref\": \"x\", \"type\": \"rect\", \"fillcolor\": \"rgb(214, 39, 40)\", \"x1\": \"2019-05-29T20:51:21.153000Z\", \"x0\": \"2019-05-29T20:44:02.020000Z\", \"y0\": 18.8, \"y1\": 19.2, \"opacity\": 1, \"yref\": \"y\"}, {\"line\": {\"width\": 0}, \"xref\": \"x\", \"type\": \"rect\", \"fillcolor\": \"rgb(148, 103, 189)\", \"x1\": \"2019-05-29T20:47:36.394000Z\", \"x0\": \"2019-05-29T20:40:01.256000Z\", \"y0\": 17.8, \"y1\": 18.2, \"opacity\": 1, \"yref\": \"y\"}, {\"line\": {\"width\": 0}, \"xref\": \"x\", \"type\": \"rect\", \"fillcolor\": \"rgb(140, 86, 75)\", \"x1\": \"2019-05-29T20:44:29.318000Z\", \"x0\": \"2019-05-29T20:37:01.198000Z\", \"y0\": 20.8, \"y1\": 21.2, \"opacity\": 1, \"yref\": \"y\"}, {\"line\": {\"width\": 0}, \"xref\": \"x\", \"type\": \"rect\", \"fillcolor\": \"rgb(227, 119, 194)\", \"x1\": \"2019-05-29T20:42:28.218000Z\", \"x0\": \"2019-05-29T20:25:34.387000Z\", \"y0\": 16.8, \"y1\": 17.2, \"opacity\": 1, \"yref\": \"y\"}, {\"line\": {\"width\": 0}, \"xref\": \"x\", \"type\": \"rect\", \"fillcolor\": \"rgb(127, 127, 127)\", \"x1\": \"2019-05-29T20:28:40.538000Z\", \"x0\": \"2019-05-29T20:21:34.587000Z\", \"y0\": 20.8, \"y1\": 21.2, \"opacity\": 1, \"yref\": \"y\"}, {\"line\": {\"width\": 0}, \"xref\": \"x\", \"type\": \"rect\", \"fillcolor\": \"rgb(188, 189, 34)\", \"x1\": \"2019-05-29T20:24:18.492000Z\", \"x0\": \"2019-05-29T20:17:04.587000Z\", \"y0\": 19.8, \"y1\": 20.2, \"opacity\": 1, \"yref\": \"y\"}, {\"line\": {\"width\": 0}, \"xref\": \"x\", \"type\": \"rect\", \"fillcolor\": \"rgb(23, 190, 207)\", \"x1\": \"2019-05-29T20:17:29.640000Z\", \"x0\": \"2019-05-29T20:10:02.488000Z\", \"y0\": 17.8, \"y1\": 18.2, \"opacity\": 1, \"yref\": \"y\"}, {\"line\": {\"width\": 0}, \"xref\": \"x\", \"type\": \"rect\", \"fillcolor\": \"rgb(31, 119, 180)\", \"x1\": \"2019-05-29T20:13:44.445000Z\", \"x0\": \"2019-05-29T20:06:32.745000Z\", \"y0\": 20.8, \"y1\": 21.2, \"opacity\": 1, \"yref\": \"y\"}, {\"line\": {\"width\": 0}, \"xref\": \"x\", \"type\": \"rect\", \"fillcolor\": \"rgb(255, 127, 14)\", \"x1\": \"2019-05-29T20:49:33.081000Z\", \"x0\": \"2019-05-29T20:00:32.450000Z\", \"y0\": 3.8, \"y1\": 4.2, \"opacity\": 1, \"yref\": \"y\"}, {\"line\": {\"width\": 0}, \"xref\": \"x\", \"type\": \"rect\", \"fillcolor\": \"rgb(44, 160, 44)\", \"x1\": \"2019-05-29T19:58:21.778000Z\", \"x0\": \"2019-05-29T19:51:02.287000Z\", \"y0\": 20.8, \"y1\": 21.2, \"opacity\": 1, \"yref\": \"y\"}, {\"line\": {\"width\": 0}, \"xref\": \"x\", \"type\": \"rect\", \"fillcolor\": \"rgb(214, 39, 40)\", \"x1\": \"2019-05-29T19:54:12.469000Z\", \"x0\": \"2019-05-29T19:47:01.757000Z\", \"y0\": 19.8, \"y1\": 20.2, \"opacity\": 1, \"yref\": \"y\"}, {\"line\": {\"width\": 0}, \"xref\": \"x\", \"type\": \"rect\", \"fillcolor\": \"rgb(148, 103, 189)\", \"x1\": \"2019-05-29T19:50:50.011000Z\", \"x0\": \"2019-05-29T19:43:32.295000Z\", \"y0\": 18.8, \"y1\": 19.2, \"opacity\": 1, \"yref\": \"y\"}, {\"line\": {\"width\": 0}, \"xref\": \"x\", \"type\": \"rect\", \"fillcolor\": \"rgb(140, 86, 75)\", \"x1\": \"2019-05-29T19:48:09.056000Z\", \"x0\": \"2019-05-29T19:40:02.430000Z\", \"y0\": 17.8, \"y1\": 18.2, \"opacity\": 1, \"yref\": \"y\"}, {\"line\": {\"width\": 0}, \"xref\": \"x\", \"type\": \"rect\", \"fillcolor\": \"rgb(227, 119, 194)\", \"x1\": \"2019-05-29T19:43:28.606000Z\", \"x0\": \"2019-05-29T19:35:32.247000Z\", \"y0\": 20.8, \"y1\": 21.2, \"opacity\": 1, \"yref\": \"y\"}, {\"line\": {\"width\": 0}, \"xref\": \"x\", \"type\": \"rect\", \"fillcolor\": \"rgb(127, 127, 127)\", \"x1\": \"2019-05-29T19:26:58.143000Z\", \"x0\": \"2019-05-29T19:20:01.800000Z\", \"y0\": 20.8, \"y1\": 21.2, \"opacity\": 1, \"yref\": \"y\"}, {\"line\": {\"width\": 0}, \"xref\": \"x\", \"type\": \"rect\", \"fillcolor\": \"rgb(188, 189, 34)\", \"x1\": \"2019-05-29T19:24:03.939000Z\", \"x0\": \"2019-05-29T19:16:31.780000Z\", \"y0\": 19.8, \"y1\": 20.2, \"opacity\": 1, \"yref\": \"y\"}, {\"line\": {\"width\": 0}, \"xref\": \"x\", \"type\": \"rect\", \"fillcolor\": \"rgb(23, 190, 207)\", \"x1\": \"2019-05-29T19:17:31.178000Z\", \"x0\": \"2019-05-29T19:10:01.669000Z\", \"y0\": 17.8, \"y1\": 18.2, \"opacity\": 1, \"yref\": \"y\"}, {\"line\": {\"width\": 0}, \"xref\": \"x\", \"type\": \"rect\", \"fillcolor\": \"rgb(31, 119, 180)\", \"x1\": \"2019-05-29T19:11:36.597000Z\", \"x0\": \"2019-05-29T19:04:31.790000Z\", \"y0\": 20.8, \"y1\": 21.2, \"opacity\": 1, \"yref\": \"y\"}, {\"line\": {\"width\": 0}, \"xref\": \"x\", \"type\": \"rect\", \"fillcolor\": \"rgb(255, 127, 14)\", \"x1\": \"2019-05-29T18:56:25.212000Z\", \"x0\": \"2019-05-29T18:49:01.821000Z\", \"y0\": 20.8, \"y1\": 21.2, \"opacity\": 1, \"yref\": \"y\"}, {\"line\": {\"width\": 0}, \"xref\": \"x\", \"type\": \"rect\", \"fillcolor\": \"rgb(44, 160, 44)\", \"x1\": \"2019-05-29T19:05:38.671000Z\", \"x0\": \"2019-05-29T18:48:01.505000Z\", \"y0\": 6.8, \"y1\": 7.2, \"opacity\": 1, \"yref\": \"y\"}, {\"line\": {\"width\": 0}, \"xref\": \"x\", \"type\": \"rect\", \"fillcolor\": \"rgb(214, 39, 40)\", \"x1\": \"2019-05-29T18:53:20.950000Z\", \"x0\": \"2019-05-29T18:46:01.567000Z\", \"y0\": 19.8, \"y1\": 20.2, \"opacity\": 1, \"yref\": \"y\"}, {\"line\": {\"width\": 0}, \"xref\": \"x\", \"type\": \"rect\", \"fillcolor\": \"rgb(148, 103, 189)\", \"x1\": \"2019-05-29T18:51:40.358000Z\", \"x0\": \"2019-05-29T18:44:31.718000Z\", \"y0\": 5.8, \"y1\": 6.2, \"opacity\": 1, \"yref\": \"y\"}, {\"line\": {\"width\": 0}, \"xref\": \"x\", \"type\": \"rect\", \"fillcolor\": \"rgb(140, 86, 75)\", \"x1\": \"2019-05-29T18:50:11.681000Z\", \"x0\": \"2019-05-29T18:43:01.736000Z\", \"y0\": 18.8, \"y1\": 19.2, \"opacity\": 1, \"yref\": \"y\"}, {\"line\": {\"width\": 0}, \"xref\": \"x\", \"type\": \"rect\", \"fillcolor\": \"rgb(227, 119, 194)\", \"x1\": \"2019-05-29T18:47:39.786000Z\", \"x0\": \"2019-05-29T18:40:01.313000Z\", \"y0\": 17.8, \"y1\": 18.2, \"opacity\": 1, \"yref\": \"y\"}, {\"line\": {\"width\": 0}, \"xref\": \"x\", \"type\": \"rect\", \"fillcolor\": \"rgb(127, 127, 127)\", \"x1\": \"2019-05-29T18:40:43.054000Z\", \"x0\": \"2019-05-29T18:33:31.531000Z\", \"y0\": 20.8, \"y1\": 21.2, \"opacity\": 1, \"yref\": \"y\"}, {\"line\": {\"width\": 0}, \"xref\": \"x\", \"type\": \"rect\", \"fillcolor\": \"rgb(188, 189, 34)\", \"x1\": \"2019-05-29T18:25:43.344000Z\", \"x0\": \"2019-05-29T18:18:20.805000Z\", \"y0\": 20.8, \"y1\": 21.2, \"opacity\": 1, \"yref\": \"y\"}, {\"line\": {\"width\": 0}, \"xref\": \"x\", \"type\": \"rect\", \"fillcolor\": \"rgb(23, 190, 207)\", \"x1\": \"2019-05-29T18:23:08.598000Z\", \"x0\": \"2019-05-29T18:15:50.641000Z\", \"y0\": 19.8, \"y1\": 20.2, \"opacity\": 1, \"yref\": \"y\"}, {\"line\": {\"width\": 0}, \"xref\": \"x\", \"type\": \"rect\", \"fillcolor\": \"rgb(31, 119, 180)\", \"x1\": \"2019-05-29T18:18:08.776000Z\", \"x0\": \"2019-05-29T18:10:28.470000Z\", \"y0\": 17.8, \"y1\": 18.2, \"opacity\": 1, \"yref\": \"y\"}, {\"line\": {\"width\": 0}, \"xref\": \"x\", \"type\": \"rect\", \"fillcolor\": \"rgb(255, 127, 14)\", \"x1\": \"2019-05-29T18:10:20.431000Z\", \"x0\": \"2019-05-29T18:02:57.790000Z\", \"y0\": 20.8, \"y1\": 21.2, \"opacity\": 1, \"yref\": \"y\"}, {\"line\": {\"width\": 0}, \"xref\": \"x\", \"type\": \"rect\", \"fillcolor\": \"rgb(44, 160, 44)\", \"x1\": \"2019-05-29T18:09:34.604000Z\", \"x0\": \"2019-05-29T18:00:57.385000Z\", \"y0\": 2.8, \"y1\": 3.2, \"opacity\": 1, \"yref\": \"y\"}, {\"line\": {\"width\": 0}, \"xref\": \"x\", \"type\": \"rect\", \"fillcolor\": \"rgb(214, 39, 40)\", \"x1\": \"2019-05-29T18:47:59.919000Z\", \"x0\": \"2019-05-29T17:57:58.139000Z\", \"y0\": 16.8, \"y1\": 17.2, \"opacity\": 1, \"yref\": \"y\"}, {\"line\": {\"width\": 0}, \"xref\": \"x\", \"type\": \"rect\", \"fillcolor\": \"rgb(148, 103, 189)\", \"x1\": \"2019-05-29T17:54:56.144000Z\", \"x0\": \"2019-05-29T17:47:40.238000Z\", \"y0\": 20.8, \"y1\": 21.2, \"opacity\": 1, \"yref\": \"y\"}, {\"line\": {\"width\": 0}, \"xref\": \"x\", \"type\": \"rect\", \"fillcolor\": \"rgb(140, 86, 75)\", \"x1\": \"2019-05-29T17:52:56.787000Z\", \"x0\": \"2019-05-29T17:45:33.339000Z\", \"y0\": 19.8, \"y1\": 20.2, \"opacity\": 1, \"yref\": \"y\"}, {\"line\": {\"width\": 0}, \"xref\": \"x\", \"type\": \"rect\", \"fillcolor\": \"rgb(227, 119, 194)\", \"x1\": \"2019-05-29T17:50:05.888000Z\", \"x0\": \"2019-05-29T17:42:33.994000Z\", \"y0\": 18.8, \"y1\": 19.2, \"opacity\": 1, \"yref\": \"y\"}, {\"line\": {\"width\": 0}, \"xref\": \"x\", \"type\": \"rect\", \"fillcolor\": \"rgb(127, 127, 127)\", \"x1\": \"2019-05-29T17:47:44.378000Z\", \"x0\": \"2019-05-29T17:40:04.662000Z\", \"y0\": 17.8, \"y1\": 18.2, \"opacity\": 1, \"yref\": \"y\"}, {\"line\": {\"width\": 0}, \"xref\": \"x\", \"type\": \"rect\", \"fillcolor\": \"rgb(188, 189, 34)\", \"x1\": \"2019-05-29T17:41:18.443000Z\", \"x0\": \"2019-05-29T17:32:33.421000Z\", \"y0\": 20.8, \"y1\": 21.2, \"opacity\": 1, \"yref\": \"y\"}, {\"line\": {\"width\": 0}, \"xref\": \"x\", \"type\": \"rect\", \"fillcolor\": \"rgb(23, 190, 207)\", \"x1\": \"2019-05-29T17:43:28.778000Z\", \"x0\": \"2019-05-29T17:25:17.151000Z\", \"y0\": 16.8, \"y1\": 17.2, \"opacity\": 1, \"yref\": \"y\"}, {\"line\": {\"width\": 0}, \"xref\": \"x\", \"type\": \"rect\", \"fillcolor\": \"rgb(31, 119, 180)\", \"x1\": \"2019-05-29T17:25:02.324000Z\", \"x0\": \"2019-05-29T17:17:18.507000Z\", \"y0\": 20.8, \"y1\": 21.2, \"opacity\": 1, \"yref\": \"y\"}, {\"line\": {\"width\": 0}, \"xref\": \"x\", \"type\": \"rect\", \"fillcolor\": \"rgb(255, 127, 14)\", \"x1\": \"2019-05-29T17:22:52.325000Z\", \"x0\": \"2019-05-29T17:15:17.817000Z\", \"y0\": 19.8, \"y1\": 20.2, \"opacity\": 1, \"yref\": \"y\"}, {\"line\": {\"width\": 0}, \"xref\": \"x\", \"type\": \"rect\", \"fillcolor\": \"rgb(44, 160, 44)\", \"x1\": \"2019-05-29T17:18:13.033000Z\", \"x0\": \"2019-05-29T17:10:05.708000Z\", \"y0\": 17.8, \"y1\": 18.2, \"opacity\": 1, \"yref\": \"y\"}, {\"line\": {\"width\": 0}, \"xref\": \"x\", \"type\": \"rect\", \"fillcolor\": \"rgb(214, 39, 40)\", \"x1\": \"2019-05-29T17:09:36.700000Z\", \"x0\": \"2019-05-29T17:01:56.513000Z\", \"y0\": 20.8, \"y1\": 21.2, \"opacity\": 1, \"yref\": \"y\"}, {\"line\": {\"width\": 0}, \"xref\": \"x\", \"type\": \"rect\", \"fillcolor\": \"rgb(148, 103, 189)\", \"x1\": \"2019-05-29T17:35:34.432000Z\", \"x0\": \"2019-05-29T17:00:53.489000Z\", \"y0\": 9.8, \"y1\": 10.2, \"opacity\": 1, \"yref\": \"y\"}, {\"line\": {\"width\": 0}, \"xref\": \"x\", \"type\": \"rect\", \"fillcolor\": \"rgb(140, 86, 75)\", \"x1\": \"2019-05-29T16:54:38.334000Z\", \"x0\": \"2019-05-29T16:46:47.006000Z\", \"y0\": 20.8, \"y1\": 21.2, \"opacity\": 1, \"yref\": \"y\"}, {\"line\": {\"width\": 0}, \"xref\": \"x\", \"type\": \"rect\", \"fillcolor\": \"rgb(227, 119, 194)\", \"x1\": \"2019-05-29T16:52:28.580000Z\", \"x0\": \"2019-05-29T16:44:41.770000Z\", \"y0\": 19.8, \"y1\": 20.2, \"opacity\": 1, \"yref\": \"y\"}, {\"line\": {\"width\": 0}, \"xref\": \"x\", \"type\": \"rect\", \"fillcolor\": \"rgb(127, 127, 127)\", \"x1\": \"2019-05-29T16:50:20.351000Z\", \"x0\": \"2019-05-29T16:42:30.627000Z\", \"y0\": 18.8, \"y1\": 19.2, \"opacity\": 1, \"yref\": \"y\"}, {\"line\": {\"width\": 0}, \"xref\": \"x\", \"type\": \"rect\", \"fillcolor\": \"rgb(188, 189, 34)\", \"x1\": \"2019-05-29T16:48:24.453000Z\", \"x0\": \"2019-05-29T16:40:15.563000Z\", \"y0\": 17.8, \"y1\": 18.2, \"opacity\": 1, \"yref\": \"y\"}, {\"line\": {\"width\": 0}, \"xref\": \"x\", \"type\": \"rect\", \"fillcolor\": \"rgb(23, 190, 207)\", \"x1\": \"2019-05-29T16:39:55.747000Z\", \"x0\": \"2019-05-29T16:31:34.117000Z\", \"y0\": 20.8, \"y1\": 21.2, \"opacity\": 1, \"yref\": \"y\"}, {\"line\": {\"width\": 0}, \"xref\": \"x\", \"type\": \"rect\", \"fillcolor\": \"rgb(31, 119, 180)\", \"x1\": \"2019-05-29T16:24:29.736000Z\", \"x0\": \"2019-05-29T16:16:14.340000Z\", \"y0\": 20.8, \"y1\": 21.2, \"opacity\": 1, \"yref\": \"y\"}, {\"line\": {\"width\": 0}, \"xref\": \"x\", \"type\": \"rect\", \"fillcolor\": \"rgb(255, 127, 14)\", \"x1\": \"2019-05-29T16:21:58.514000Z\", \"x0\": \"2019-05-29T16:14:18.272000Z\", \"y0\": 19.8, \"y1\": 20.2, \"opacity\": 1, \"yref\": \"y\"}, {\"line\": {\"width\": 0}, \"xref\": \"x\", \"type\": \"rect\", \"fillcolor\": \"rgb(44, 160, 44)\", \"x1\": \"2019-05-29T16:19:57.543000Z\", \"x0\": \"2019-05-29T16:10:25.422000Z\", \"y0\": 17.8, \"y1\": 18.2, \"opacity\": 1, \"yref\": \"y\"}, {\"line\": {\"width\": 0}, \"xref\": \"x\", \"type\": \"rect\", \"fillcolor\": \"rgb(214, 39, 40)\", \"x1\": \"2019-05-29T16:08:00.092000Z\", \"x0\": \"2019-05-29T16:00:17.888000Z\", \"y0\": 20.8, \"y1\": 21.2, \"opacity\": 1, \"yref\": \"y\"}, {\"line\": {\"width\": 0}, \"xref\": \"x\", \"type\": \"rect\", \"fillcolor\": \"rgb(148, 103, 189)\", \"x1\": \"2019-05-29T16:15:54.507000Z\", \"x0\": \"2019-05-29T15:54:34.428000Z\", \"y0\": 7.8, \"y1\": 8.2, \"opacity\": 1, \"yref\": \"y\"}, {\"line\": {\"width\": 0}, \"xref\": \"x\", \"type\": \"rect\", \"fillcolor\": \"rgb(140, 86, 75)\", \"x1\": \"2019-05-29T16:04:49.654000Z\", \"x0\": \"2019-05-29T15:47:40.920000Z\", \"y0\": 6.8, \"y1\": 7.2, \"opacity\": 1, \"yref\": \"y\"}, {\"line\": {\"width\": 0}, \"xref\": \"x\", \"type\": \"rect\", \"fillcolor\": \"rgb(227, 119, 194)\", \"x1\": \"2019-05-29T15:52:52.364000Z\", \"x0\": \"2019-05-29T15:45:11.010000Z\", \"y0\": 20.8, \"y1\": 21.2, \"opacity\": 1, \"yref\": \"y\"}, {\"line\": {\"width\": 0}, \"xref\": \"x\", \"type\": \"rect\", \"fillcolor\": \"rgb(127, 127, 127)\", \"x1\": \"2019-05-29T15:51:45.474000Z\", \"x0\": \"2019-05-29T15:44:09.288000Z\", \"y0\": 19.8, \"y1\": 20.2, \"opacity\": 1, \"yref\": \"y\"}, {\"line\": {\"width\": 0}, \"xref\": \"x\", \"type\": \"rect\", \"fillcolor\": \"rgb(188, 189, 34)\", \"x1\": \"2019-05-29T15:52:17.860000Z\", \"x0\": \"2019-05-29T15:44:08.809000Z\", \"y0\": 5.8, \"y1\": 6.2, \"opacity\": 1, \"yref\": \"y\"}, {\"line\": {\"width\": 0}, \"xref\": \"x\", \"type\": \"rect\", \"fillcolor\": \"rgb(23, 190, 207)\", \"x1\": \"2019-05-29T15:50:16.193000Z\", \"x0\": \"2019-05-29T15:42:07.602000Z\", \"y0\": 18.8, \"y1\": 19.2, \"opacity\": 1, \"yref\": \"y\"}, {\"line\": {\"width\": 0}, \"xref\": \"x\", \"type\": \"rect\", \"fillcolor\": \"rgb(31, 119, 180)\", \"x1\": \"2019-05-29T15:48:48.836000Z\", \"x0\": \"2019-05-29T15:40:05.860000Z\", \"y0\": 17.8, \"y1\": 18.2, \"opacity\": 1, \"yref\": \"y\"}, {\"line\": {\"width\": 0}, \"xref\": \"x\", \"type\": \"rect\", \"fillcolor\": \"rgb(255, 127, 14)\", \"x1\": \"2019-05-29T15:37:40.665000Z\", \"x0\": \"2019-05-29T15:29:50.808000Z\", \"y0\": 20.8, \"y1\": 21.2, \"opacity\": 1, \"yref\": \"y\"}, {\"line\": {\"width\": 0}, \"xref\": \"x\", \"type\": \"rect\", \"fillcolor\": \"rgb(44, 160, 44)\", \"x1\": \"2019-05-29T15:16:35.808000Z\", \"x0\": \"2019-05-29T15:15:05.975000Z\", \"y0\": 4.8, \"y1\": 5.2, \"opacity\": 1, \"yref\": \"y\"}, {\"line\": {\"width\": 0}, \"xref\": \"x\", \"type\": \"rect\", \"fillcolor\": \"rgb(214, 39, 40)\", \"x1\": \"2019-05-29T15:22:41.798000Z\", \"x0\": \"2019-05-29T15:14:37.371000Z\", \"y0\": 20.8, \"y1\": 21.2, \"opacity\": 1, \"yref\": \"y\"}, {\"line\": {\"width\": 0}, \"xref\": \"x\", \"type\": \"rect\", \"fillcolor\": \"rgb(148, 103, 189)\", \"x1\": \"2019-05-29T15:21:49.446000Z\", \"x0\": \"2019-05-29T15:13:46.017000Z\", \"y0\": 19.8, \"y1\": 20.2, \"opacity\": 1, \"yref\": \"y\"}, {\"line\": {\"width\": 0}, \"xref\": \"x\", \"type\": \"rect\", \"fillcolor\": \"rgb(140, 86, 75)\", \"x1\": \"2019-05-29T15:18:40Z\", \"x0\": \"2019-05-29T15:10:05.465000Z\", \"y0\": 17.8, \"y1\": 18.2, \"opacity\": 1, \"yref\": \"y\"}, {\"line\": {\"width\": 0}, \"xref\": \"x\", \"type\": \"rect\", \"fillcolor\": \"rgb(227, 119, 194)\", \"x1\": \"2019-05-29T15:08:39.432000Z\", \"x0\": \"2019-05-29T14:58:59.100000Z\", \"y0\": 20.8, \"y1\": 21.2, \"opacity\": 1, \"yref\": \"y\"}, {\"line\": {\"width\": 0}, \"xref\": \"x\", \"type\": \"rect\", \"fillcolor\": \"rgb(127, 127, 127)\", \"x1\": \"2019-05-29T14:52:50.658000Z\", \"x0\": \"2019-05-29T14:43:53.147000Z\", \"y0\": 20.8, \"y1\": 21.2, \"opacity\": 1, \"yref\": \"y\"}, {\"line\": {\"width\": 0}, \"xref\": \"x\", \"type\": \"rect\", \"fillcolor\": \"rgb(188, 189, 34)\", \"x1\": \"2019-05-29T14:51:58.491000Z\", \"x0\": \"2019-05-29T14:43:21.739000Z\", \"y0\": 19.8, \"y1\": 20.2, \"opacity\": 1, \"yref\": \"y\"}, {\"line\": {\"width\": 0}, \"xref\": \"x\", \"type\": \"rect\", \"fillcolor\": \"rgb(23, 190, 207)\", \"x1\": \"2019-05-29T14:51:25.202000Z\", \"x0\": \"2019-05-29T14:41:50.659000Z\", \"y0\": 18.8, \"y1\": 19.2, \"opacity\": 1, \"yref\": \"y\"}, {\"line\": {\"width\": 0}, \"xref\": \"x\", \"type\": \"rect\", \"fillcolor\": \"rgb(31, 119, 180)\", \"x1\": \"2019-05-29T14:50:58.218000Z\", \"x0\": \"2019-05-29T14:40:12.625000Z\", \"y0\": 17.8, \"y1\": 18.2, \"opacity\": 1, \"yref\": \"y\"}, {\"line\": {\"width\": 0}, \"xref\": \"x\", \"type\": \"rect\", \"fillcolor\": \"rgb(255, 127, 14)\", \"x1\": \"2019-05-29T14:37:46.466000Z\", \"x0\": \"2019-05-29T14:28:40.035000Z\", \"y0\": 20.8, \"y1\": 21.2, \"opacity\": 1, \"yref\": \"y\"}, {\"line\": {\"width\": 0}, \"xref\": \"x\", \"type\": \"rect\", \"fillcolor\": \"rgb(44, 160, 44)\", \"x1\": \"2019-05-29T14:41:36.054000Z\", \"x0\": \"2019-05-29T14:24:44.860000Z\", \"y0\": 16.8, \"y1\": 17.2, \"opacity\": 1, \"yref\": \"y\"}, {\"line\": {\"width\": 0}, \"xref\": \"x\", \"type\": \"rect\", \"fillcolor\": \"rgb(214, 39, 40)\", \"x1\": \"2019-05-29T14:21:51.170000Z\", \"x0\": \"2019-05-29T14:13:31.758000Z\", \"y0\": 20.8, \"y1\": 21.2, \"opacity\": 1, \"yref\": \"y\"}, {\"line\": {\"width\": 0}, \"xref\": \"x\", \"type\": \"rect\", \"fillcolor\": \"rgb(148, 103, 189)\", \"x1\": \"2019-05-29T14:22:05.375000Z\", \"x0\": \"2019-05-29T14:13:16.134000Z\", \"y0\": 19.8, \"y1\": 20.2, \"opacity\": 1, \"yref\": \"y\"}, {\"line\": {\"width\": 0}, \"xref\": \"x\", \"type\": \"rect\", \"fillcolor\": \"rgb(140, 86, 75)\", \"x1\": \"2019-05-29T14:19:28.235000Z\", \"x0\": \"2019-05-29T14:10:29.206000Z\", \"y0\": 17.8, \"y1\": 18.2, \"opacity\": 1, \"yref\": \"y\"}, {\"line\": {\"width\": 0}, \"xref\": \"x\", \"type\": \"rect\", \"fillcolor\": \"rgb(227, 119, 194)\", \"x1\": \"2019-05-29T14:06:30.778000Z\", \"x0\": \"2019-05-29T13:57:23.191000Z\", \"y0\": 20.8, \"y1\": 21.2, \"opacity\": 1, \"yref\": \"y\"}, {\"line\": {\"width\": 0}, \"xref\": \"x\", \"type\": \"rect\", \"fillcolor\": \"rgb(127, 127, 127)\", \"x1\": \"2019-05-29T13:50:51.547000Z\", \"x0\": \"2019-05-29T13:42:51.655000Z\", \"y0\": 19.8, \"y1\": 20.2, \"opacity\": 1, \"yref\": \"y\"}, {\"line\": {\"width\": 0}, \"xref\": \"x\", \"type\": \"rect\", \"fillcolor\": \"rgb(188, 189, 34)\", \"x1\": \"2019-05-29T13:50:31.366000Z\", \"x0\": \"2019-05-29T13:42:16.654000Z\", \"y0\": 20.8, \"y1\": 21.2, \"opacity\": 1, \"yref\": \"y\"}, {\"line\": {\"width\": 0}, \"xref\": \"x\", \"type\": \"rect\", \"fillcolor\": \"rgb(23, 190, 207)\", \"x1\": \"2019-05-29T13:50:02.334000Z\", \"x0\": \"2019-05-29T13:41:43.955000Z\", \"y0\": 18.8, \"y1\": 19.2, \"opacity\": 1, \"yref\": \"y\"}, {\"line\": {\"width\": 0}, \"xref\": \"x\", \"type\": \"rect\", \"fillcolor\": \"rgb(31, 119, 180)\", \"x1\": \"2019-05-29T13:49:08.040000Z\", \"x0\": \"2019-05-29T13:40:31.039000Z\", \"y0\": 17.8, \"y1\": 18.2, \"opacity\": 1, \"yref\": \"y\"}, {\"line\": {\"width\": 0}, \"xref\": \"x\", \"type\": \"rect\", \"fillcolor\": \"rgb(255, 127, 14)\", \"x1\": \"2019-05-29T13:35:43.848000Z\", \"x0\": \"2019-05-29T13:27:12.982000Z\", \"y0\": 20.8, \"y1\": 21.2, \"opacity\": 1, \"yref\": \"y\"}, {\"line\": {\"width\": 0}, \"xref\": \"x\", \"type\": \"rect\", \"fillcolor\": \"rgb(44, 160, 44)\", \"x1\": \"2019-05-29T13:22:00.923000Z\", \"x0\": \"2019-05-29T13:12:45.143000Z\", \"y0\": 19.8, \"y1\": 20.2, \"opacity\": 1, \"yref\": \"y\"}, {\"line\": {\"width\": 0}, \"xref\": \"x\", \"type\": \"rect\", \"fillcolor\": \"rgb(214, 39, 40)\", \"x1\": \"2019-05-29T13:21:58.432000Z\", \"x0\": \"2019-05-29T13:12:09.074000Z\", \"y0\": 20.8, \"y1\": 21.2, \"opacity\": 1, \"yref\": \"y\"}, {\"line\": {\"width\": 0}, \"xref\": \"x\", \"type\": \"rect\", \"fillcolor\": \"rgb(148, 103, 189)\", \"x1\": \"2019-05-29T13:19:56.944000Z\", \"x0\": \"2019-05-29T13:10:25.694000Z\", \"y0\": 17.8, \"y1\": 18.2, \"opacity\": 1, \"yref\": \"y\"}, {\"line\": {\"width\": 0}, \"xref\": \"x\", \"type\": \"rect\", \"fillcolor\": \"rgb(140, 86, 75)\", \"x1\": \"2019-05-29T13:24:57.478000Z\", \"x0\": \"2019-05-29T13:00:51.706000Z\", \"y0\": 1.8, \"y1\": 2.2, \"opacity\": 1, \"yref\": \"y\"}, {\"line\": {\"width\": 0}, \"xref\": \"x\", \"type\": \"rect\", \"fillcolor\": \"rgb(227, 119, 194)\", \"x1\": \"2019-05-29T16:09:47.414000Z\", \"x0\": \"2019-05-29T12:57:21.774000Z\", \"y0\": 16.8, \"y1\": 17.2, \"opacity\": 1, \"yref\": \"y\"}, {\"line\": {\"width\": 0}, \"xref\": \"x\", \"type\": \"rect\", \"fillcolor\": \"rgb(127, 127, 127)\", \"x1\": \"2019-05-29T13:01:17.870000Z\", \"x0\": \"2019-05-29T12:56:21.805000Z\", \"y0\": 20.8, \"y1\": 21.2, \"opacity\": 1, \"yref\": \"y\"}, {\"line\": {\"width\": 0}, \"xref\": \"x\", \"type\": \"rect\", \"fillcolor\": \"rgb(188, 189, 34)\", \"x1\": \"2019-05-29T13:11:18.748000Z\", \"x0\": \"2019-05-29T12:47:38.269000Z\", \"y0\": 6.8, \"y1\": 7.2, \"opacity\": 1, \"yref\": \"y\"}, {\"line\": {\"width\": 0}, \"xref\": \"x\", \"type\": \"rect\", \"fillcolor\": \"rgb(23, 190, 207)\", \"x1\": \"2019-05-29T12:56:19.638000Z\", \"x0\": \"2019-05-29T12:44:05.867000Z\", \"y0\": 5.8, \"y1\": 6.2, \"opacity\": 1, \"yref\": \"y\"}, {\"line\": {\"width\": 0}, \"xref\": \"x\", \"type\": \"rect\", \"fillcolor\": \"rgb(31, 119, 180)\", \"x1\": \"2019-05-29T12:56:15.612000Z\", \"x0\": \"2019-05-29T12:42:23.799000Z\", \"y0\": 19.8, \"y1\": 20.2, \"opacity\": 1, \"yref\": \"y\"}, {\"line\": {\"width\": 0}, \"xref\": \"x\", \"type\": \"rect\", \"fillcolor\": \"rgb(255, 127, 14)\", \"x1\": \"2019-05-29T12:56:20.962000Z\", \"x0\": \"2019-05-29T12:41:22.476000Z\", \"y0\": 17.8, \"y1\": 18.2, \"opacity\": 1, \"yref\": \"y\"}, {\"line\": {\"width\": 0}, \"xref\": \"x\", \"type\": \"rect\", \"fillcolor\": \"rgb(44, 160, 44)\", \"x1\": \"2019-05-29T12:56:04.640000Z\", \"x0\": \"2019-05-29T12:41:17.610000Z\", \"y0\": 18.8, \"y1\": 19.2, \"opacity\": 1, \"yref\": \"y\"}, {\"line\": {\"width\": 0}, \"xref\": \"x\", \"type\": \"rect\", \"fillcolor\": \"rgb(214, 39, 40)\", \"x1\": \"2019-05-29T12:55:00.261000Z\", \"x0\": \"2019-05-29T12:40:13.430000Z\", \"y0\": 20.8, \"y1\": 21.2, \"opacity\": 1, \"yref\": \"y\"}, {\"line\": {\"width\": 0}, \"xref\": \"x\", \"type\": \"rect\", \"fillcolor\": \"rgb(148, 103, 189)\", \"x1\": \"2019-05-29T12:30:57.690000Z\", \"x0\": \"2019-05-29T12:22:19.154000Z\", \"y0\": 20.8, \"y1\": 21.2, \"opacity\": 1, \"yref\": \"y\"}, {\"line\": {\"width\": 0}, \"xref\": \"x\", \"type\": \"rect\", \"fillcolor\": \"rgb(140, 86, 75)\", \"x1\": \"2019-05-29T12:19:48.799000Z\", \"x0\": \"2019-05-29T12:12:13.384000Z\", \"y0\": 19.8, \"y1\": 20.2, \"opacity\": 1, \"yref\": \"y\"}, {\"line\": {\"width\": 0}, \"xref\": \"x\", \"type\": \"rect\", \"fillcolor\": \"rgb(227, 119, 194)\", \"x1\": \"2019-05-29T12:18:45.704000Z\", \"x0\": \"2019-05-29T12:10:34.970000Z\", \"y0\": 17.8, \"y1\": 18.2, \"opacity\": 1, \"yref\": \"y\"}, {\"line\": {\"width\": 0}, \"xref\": \"x\", \"type\": \"rect\", \"fillcolor\": \"rgb(127, 127, 127)\", \"x1\": \"2019-05-29T12:15:04.619000Z\", \"x0\": \"2019-05-29T12:06:49.419000Z\", \"y0\": 20.8, \"y1\": 21.2, \"opacity\": 1, \"yref\": \"y\"}, {\"line\": {\"width\": 0}, \"xref\": \"x\", \"type\": \"rect\", \"fillcolor\": \"rgb(188, 189, 34)\", \"x1\": \"2019-05-29T12:11:31.530000Z\", \"x0\": \"2019-05-29T12:01:18.581000Z\", \"y0\": 2.8, \"y1\": 3.2, \"opacity\": 1, \"yref\": \"y\"}, {\"line\": {\"width\": 0}, \"xref\": \"x\", \"type\": \"rect\", \"fillcolor\": \"rgb(23, 190, 207)\", \"x1\": \"2019-05-29T12:32:24.708000Z\", \"x0\": \"2019-05-29T12:00:47.289000Z\", \"y0\": 9.8, \"y1\": 10.2, \"opacity\": 1, \"yref\": \"y\"}, {\"line\": {\"width\": 0}, \"xref\": \"x\", \"type\": \"rect\", \"fillcolor\": \"rgb(31, 119, 180)\", \"x1\": \"2019-05-29T11:59:42.673000Z\", \"x0\": \"2019-05-29T11:51:39.601000Z\", \"y0\": 20.8, \"y1\": 21.2, \"opacity\": 1, \"yref\": \"y\"}, {\"line\": {\"width\": 0}, \"xref\": \"x\", \"type\": \"rect\", \"fillcolor\": \"rgb(255, 127, 14)\", \"x1\": \"2019-05-29T11:49:33.929000Z\", \"x0\": \"2019-05-29T11:41:59.868000Z\", \"y0\": 19.8, \"y1\": 20.2, \"opacity\": 1, \"yref\": \"y\"}, {\"line\": {\"width\": 0}, \"xref\": \"x\", \"type\": \"rect\", \"fillcolor\": \"rgb(44, 160, 44)\", \"x1\": \"2019-05-29T11:48:33.831000Z\", \"x0\": \"2019-05-29T11:40:28.477000Z\", \"y0\": 17.8, \"y1\": 18.2, \"opacity\": 1, \"yref\": \"y\"}, {\"line\": {\"width\": 0}, \"xref\": \"x\", \"type\": \"rect\", \"fillcolor\": \"rgb(214, 39, 40)\", \"x1\": \"2019-05-29T11:48:28.968000Z\", \"x0\": \"2019-05-29T11:40:28.443000Z\", \"y0\": 18.8, \"y1\": 19.2, \"opacity\": 1, \"yref\": \"y\"}, {\"line\": {\"width\": 0}, \"xref\": \"x\", \"type\": \"rect\", \"fillcolor\": \"rgb(148, 103, 189)\", \"x1\": \"2019-05-29T11:44:06.704000Z\", \"x0\": \"2019-05-29T11:36:27.509000Z\", \"y0\": 20.8, \"y1\": 21.2, \"opacity\": 1, \"yref\": \"y\"}, {\"line\": {\"width\": 0}, \"xref\": \"x\", \"type\": \"rect\", \"fillcolor\": \"rgb(140, 86, 75)\", \"x1\": \"2019-05-29T11:41:17.906000Z\", \"x0\": \"2019-05-29T11:24:35.532000Z\", \"y0\": 16.8, \"y1\": 17.2, \"opacity\": 1, \"yref\": \"y\"}, {\"line\": {\"width\": 0}, \"xref\": \"x\", \"type\": \"rect\", \"fillcolor\": \"rgb(227, 119, 194)\", \"x1\": \"2019-05-29T11:28:38.100000Z\", \"x0\": \"2019-05-29T11:21:05.381000Z\", \"y0\": 20.8, \"y1\": 21.2, \"opacity\": 1, \"yref\": \"y\"}, {\"line\": {\"width\": 0}, \"xref\": \"x\", \"type\": \"rect\", \"fillcolor\": \"rgb(127, 127, 127)\", \"x1\": \"2019-05-29T11:19:51.375000Z\", \"x0\": \"2019-05-29T11:11:43.804000Z\", \"y0\": 19.8, \"y1\": 20.2, \"opacity\": 1, \"yref\": \"y\"}, {\"line\": {\"width\": 0}, \"xref\": \"x\", \"type\": \"rect\", \"fillcolor\": \"rgb(188, 189, 34)\", \"x1\": \"2019-05-29T11:18:36.993000Z\", \"x0\": \"2019-05-29T11:10:15.376000Z\", \"y0\": 17.8, \"y1\": 18.2, \"opacity\": 1, \"yref\": \"y\"}, {\"line\": {\"width\": 0}, \"xref\": \"x\", \"type\": \"rect\", \"fillcolor\": \"rgb(23, 190, 207)\", \"x1\": \"2019-05-29T11:13:22.170000Z\", \"x0\": \"2019-05-29T11:05:45.311000Z\", \"y0\": 20.8, \"y1\": 21.2, \"opacity\": 1, \"yref\": \"y\"}, {\"line\": {\"width\": 0}, \"xref\": \"x\", \"type\": \"rect\", \"fillcolor\": \"rgb(31, 119, 180)\", \"x1\": \"2019-05-29T10:58:10.173000Z\", \"x0\": \"2019-05-29T10:50:14.905000Z\", \"y0\": 20.8, \"y1\": 21.2, \"opacity\": 1, \"yref\": \"y\"}, {\"line\": {\"width\": 0}, \"xref\": \"x\", \"type\": \"rect\", \"fillcolor\": \"rgb(255, 127, 14)\", \"x1\": \"2019-05-29T10:49:40.227000Z\", \"x0\": \"2019-05-29T10:41:21.975000Z\", \"y0\": 19.8, \"y1\": 20.2, \"opacity\": 1, \"yref\": \"y\"}, {\"line\": {\"width\": 0}, \"xref\": \"x\", \"type\": \"rect\", \"fillcolor\": \"rgb(44, 160, 44)\", \"x1\": \"2019-05-29T10:48:17.624000Z\", \"x0\": \"2019-05-29T10:40:22.811000Z\", \"y0\": 17.8, \"y1\": 18.2, \"opacity\": 1, \"yref\": \"y\"}, {\"line\": {\"width\": 0}, \"xref\": \"x\", \"type\": \"rect\", \"fillcolor\": \"rgb(214, 39, 40)\", \"x1\": \"2019-05-29T10:47:52.418000Z\", \"x0\": \"2019-05-29T10:40:21.848000Z\", \"y0\": 18.8, \"y1\": 19.2, \"opacity\": 1, \"yref\": \"y\"}, {\"line\": {\"width\": 0}, \"xref\": \"x\", \"type\": \"rect\", \"fillcolor\": \"rgb(148, 103, 189)\", \"x1\": \"2019-05-29T10:43:06.016000Z\", \"x0\": \"2019-05-29T10:34:51.136000Z\", \"y0\": 20.8, \"y1\": 21.2, \"opacity\": 1, \"yref\": \"y\"}, {\"line\": {\"width\": 0}, \"xref\": \"x\", \"type\": \"rect\", \"fillcolor\": \"rgb(140, 86, 75)\", \"x1\": \"2019-05-29T10:28:03.159000Z\", \"x0\": \"2019-05-29T10:19:49.128000Z\", \"y0\": 20.8, \"y1\": 21.2, \"opacity\": 1, \"yref\": \"y\"}, {\"line\": {\"width\": 0}, \"xref\": \"x\", \"type\": \"rect\", \"fillcolor\": \"rgb(227, 119, 194)\", \"x1\": \"2019-05-29T10:26:21.468000Z\", \"x0\": \"2019-05-29T10:18:37.177000Z\", \"y0\": 10.8, \"y1\": 11.2, \"opacity\": 1, \"yref\": \"y\"}, {\"line\": {\"width\": 0}, \"xref\": \"x\", \"type\": \"rect\", \"fillcolor\": \"rgb(127, 127, 127)\", \"x1\": \"2019-05-29T10:18:21.704000Z\", \"x0\": \"2019-05-29T10:11:10.661000Z\", \"y0\": 19.8, \"y1\": 20.2, \"opacity\": 1, \"yref\": \"y\"}, {\"line\": {\"width\": 0}, \"xref\": \"x\", \"type\": \"rect\", \"fillcolor\": \"rgb(188, 189, 34)\", \"x1\": \"2019-05-29T10:17:39.029000Z\", \"x0\": \"2019-05-29T10:10:14.345000Z\", \"y0\": 17.8, \"y1\": 18.2, \"opacity\": 1, \"yref\": \"y\"}, {\"line\": {\"width\": 0}, \"xref\": \"x\", \"type\": \"rect\", \"fillcolor\": \"rgb(23, 190, 207)\", \"x1\": \"2019-05-29T10:12:28.552000Z\", \"x0\": \"2019-05-29T10:04:41.818000Z\", \"y0\": 20.8, \"y1\": 21.2, \"opacity\": 1, \"yref\": \"y\"}, {\"line\": {\"width\": 0}, \"xref\": \"x\", \"type\": \"rect\", \"fillcolor\": \"rgb(31, 119, 180)\", \"x1\": \"2019-05-29T10:14:12.887000Z\", \"x0\": \"2019-05-29T09:54:21.463000Z\", \"y0\": 7.8, \"y1\": 8.2, \"opacity\": 1, \"yref\": \"y\"}, {\"line\": {\"width\": 0}, \"xref\": \"x\", \"type\": \"rect\", \"fillcolor\": \"rgb(255, 127, 14)\", \"x1\": \"2019-05-29T09:57:25.634000Z\", \"x0\": \"2019-05-29T09:49:24.684000Z\", \"y0\": 20.8, \"y1\": 21.2, \"opacity\": 1, \"yref\": \"y\"}, {\"line\": {\"width\": 0}, \"xref\": \"x\", \"type\": \"rect\", \"fillcolor\": \"rgb(44, 160, 44)\", \"x1\": \"2019-05-29T10:05:19.724000Z\", \"x0\": \"2019-05-29T09:45:48.923000Z\", \"y0\": 6.8, \"y1\": 7.2, \"opacity\": 1, \"yref\": \"y\"}, {\"line\": {\"width\": 0}, \"xref\": \"x\", \"type\": \"rect\", \"fillcolor\": \"rgb(214, 39, 40)\", \"x1\": \"2019-05-29T09:56:54.242000Z\", \"x0\": \"2019-05-29T09:43:17.437000Z\", \"y0\": 5.8, \"y1\": 6.2, \"opacity\": 1, \"yref\": \"y\"}, {\"line\": {\"width\": 0}, \"xref\": \"x\", \"type\": \"rect\", \"fillcolor\": \"rgb(148, 103, 189)\", \"x1\": \"2019-05-29T09:49:28.326000Z\", \"x0\": \"2019-05-29T09:41:01.378000Z\", \"y0\": 19.8, \"y1\": 20.2, \"opacity\": 1, \"yref\": \"y\"}, {\"line\": {\"width\": 0}, \"xref\": \"x\", \"type\": \"rect\", \"fillcolor\": \"rgb(140, 86, 75)\", \"x1\": \"2019-05-29T09:49:00.130000Z\", \"x0\": \"2019-05-29T09:40:30.117000Z\", \"y0\": 17.8, \"y1\": 18.2, \"opacity\": 1, \"yref\": \"y\"}, {\"line\": {\"width\": 0}, \"xref\": \"x\", \"type\": \"rect\", \"fillcolor\": \"rgb(227, 119, 194)\", \"x1\": \"2019-05-29T09:47:57.352000Z\", \"x0\": \"2019-05-29T09:39:52.316000Z\", \"y0\": 18.8, \"y1\": 19.2, \"opacity\": 1, \"yref\": \"y\"}, {\"line\": {\"width\": 0}, \"xref\": \"x\", \"type\": \"rect\", \"fillcolor\": \"rgb(127, 127, 127)\", \"x1\": \"2019-05-29T09:41:50.628000Z\", \"x0\": \"2019-05-29T09:33:51.124000Z\", \"y0\": 20.8, \"y1\": 21.2, \"opacity\": 1, \"yref\": \"y\"}, {\"line\": {\"width\": 0}, \"xref\": \"x\", \"type\": \"rect\", \"fillcolor\": \"rgb(188, 189, 34)\", \"x1\": \"2019-05-29T09:25:44.111000Z\", \"x0\": \"2019-05-29T09:18:24.431000Z\", \"y0\": 20.8, \"y1\": 21.2, \"opacity\": 1, \"yref\": \"y\"}, {\"line\": {\"width\": 0}, \"xref\": \"x\", \"type\": \"rect\", \"fillcolor\": \"rgb(23, 190, 207)\", \"x1\": \"2019-05-29T10:03:17.593000Z\", \"x0\": \"2019-05-29T09:14:54.767000Z\", \"y0\": 3.8, \"y1\": 4.2, \"opacity\": 1, \"yref\": \"y\"}, {\"line\": {\"width\": 0}, \"xref\": \"x\", \"type\": \"rect\", \"fillcolor\": \"rgb(31, 119, 180)\", \"x1\": \"2019-05-29T09:15:50.785000Z\", \"x0\": \"2019-05-29T09:14:50.495000Z\", \"y0\": 4.8, \"y1\": 5.2, \"opacity\": 1, \"yref\": \"y\"}, {\"line\": {\"width\": 0}, \"xref\": \"x\", \"type\": \"rect\", \"fillcolor\": \"rgb(255, 127, 14)\", \"x1\": \"2019-05-29T09:18:36.276000Z\", \"x0\": \"2019-05-29T09:10:50.947000Z\", \"y0\": 19.8, \"y1\": 20.2, \"opacity\": 1, \"yref\": \"y\"}, {\"line\": {\"width\": 0}, \"xref\": \"x\", \"type\": \"rect\", \"fillcolor\": \"rgb(44, 160, 44)\", \"x1\": \"2019-05-29T09:18:27.813000Z\", \"x0\": \"2019-05-29T09:10:20.591000Z\", \"y0\": 17.8, \"y1\": 18.2, \"opacity\": 1, \"yref\": \"y\"}, {\"line\": {\"width\": 0}, \"xref\": \"x\", \"type\": \"rect\", \"fillcolor\": \"rgb(214, 39, 40)\", \"x1\": \"2019-05-29T09:11:06.302000Z\", \"x0\": \"2019-05-29T09:02:53.189000Z\", \"y0\": 20.8, \"y1\": 21.2, \"opacity\": 1, \"yref\": \"y\"}, {\"line\": {\"width\": 0}, \"xref\": \"x\", \"type\": \"rect\", \"fillcolor\": \"rgb(148, 103, 189)\", \"x1\": \"2019-05-29T08:54:54.393000Z\", \"x0\": \"2019-05-29T08:47:26.196000Z\", \"y0\": 20.8, \"y1\": 21.2, \"opacity\": 1, \"yref\": \"y\"}, {\"line\": {\"width\": 0}, \"xref\": \"x\", \"type\": \"rect\", \"fillcolor\": \"rgb(140, 86, 75)\", \"x1\": \"2019-05-29T08:49:13.594000Z\", \"x0\": \"2019-05-29T08:40:39.561000Z\", \"y0\": 19.8, \"y1\": 20.2, \"opacity\": 1, \"yref\": \"y\"}, {\"line\": {\"width\": 0}, \"xref\": \"x\", \"type\": \"rect\", \"fillcolor\": \"rgb(227, 119, 194)\", \"x1\": \"2019-05-29T08:47:44.027000Z\", \"x0\": \"2019-05-29T08:40:09.821000Z\", \"y0\": 17.8, \"y1\": 18.2, \"opacity\": 1, \"yref\": \"y\"}, {\"line\": {\"width\": 0}, \"xref\": \"x\", \"type\": \"rect\", \"fillcolor\": \"rgb(127, 127, 127)\", \"x1\": \"2019-05-29T08:48:09.622000Z\", \"x0\": \"2019-05-29T08:39:39.537000Z\", \"y0\": 18.8, \"y1\": 19.2, \"opacity\": 1, \"yref\": \"y\"}, {\"line\": {\"width\": 0}, \"xref\": \"x\", \"type\": \"rect\", \"fillcolor\": \"rgb(188, 189, 34)\", \"x1\": \"2019-05-29T08:39:40.060000Z\", \"x0\": \"2019-05-29T08:32:09.585000Z\", \"y0\": 20.8, \"y1\": 21.2, \"opacity\": 1, \"yref\": \"y\"}, {\"line\": {\"width\": 0}, \"xref\": \"x\", \"type\": \"rect\", \"fillcolor\": \"rgb(23, 190, 207)\", \"x1\": \"2019-05-29T08:42:01.913000Z\", \"x0\": \"2019-05-29T08:24:09.420000Z\", \"y0\": 16.8, \"y1\": 17.2, \"opacity\": 1, \"yref\": \"y\"}, {\"line\": {\"width\": 0}, \"xref\": \"x\", \"type\": \"rect\", \"fillcolor\": \"rgb(31, 119, 180)\", \"x1\": \"2019-05-29T08:24:30.638000Z\", \"x0\": \"2019-05-29T08:17:05.209000Z\", \"y0\": 20.8, \"y1\": 21.2, \"opacity\": 1, \"yref\": \"y\"}, {\"line\": {\"width\": 0}, \"xref\": \"x\", \"type\": \"rect\", \"fillcolor\": \"rgb(255, 127, 14)\", \"x1\": \"2019-05-29T08:18:11.215000Z\", \"x0\": \"2019-05-29T08:10:35.308000Z\", \"y0\": 19.8, \"y1\": 20.2, \"opacity\": 1, \"yref\": \"y\"}, {\"line\": {\"width\": 0}, \"xref\": \"x\", \"type\": \"rect\", \"fillcolor\": \"rgb(44, 160, 44)\", \"x1\": \"2019-05-29T08:18:00.720000Z\", \"x0\": \"2019-05-29T08:10:04.814000Z\", \"y0\": 17.8, \"y1\": 18.2, \"opacity\": 1, \"yref\": \"y\"}, {\"line\": {\"width\": 0}, \"xref\": \"x\", \"type\": \"rect\", \"fillcolor\": \"rgb(214, 39, 40)\", \"x1\": \"2019-05-29T08:10:26.137000Z\", \"x0\": \"2019-05-29T08:01:35.475000Z\", \"y0\": 20.8, \"y1\": 21.2, \"opacity\": 1, \"yref\": \"y\"}, {\"line\": {\"width\": 0}, \"xref\": \"x\", \"type\": \"rect\", \"fillcolor\": \"rgb(148, 103, 189)\", \"x1\": \"2019-05-29T08:42:08.808000Z\", \"x0\": \"2019-05-29T07:56:53.115000Z\", \"y0\": 16.8, \"y1\": 17.2, \"opacity\": 1, \"yref\": \"y\"}, {\"line\": {\"width\": 0}, \"xref\": \"x\", \"type\": \"rect\", \"fillcolor\": \"rgb(140, 86, 75)\", \"x1\": \"2019-05-29T07:53:44.567000Z\", \"x0\": \"2019-05-29T07:46:21.779000Z\", \"y0\": 20.8, \"y1\": 21.2, \"opacity\": 1, \"yref\": \"y\"}, {\"line\": {\"width\": 0}, \"xref\": \"x\", \"type\": \"rect\", \"fillcolor\": \"rgb(227, 119, 194)\", \"x1\": \"2019-05-29T07:47:08.199000Z\", \"x0\": \"2019-05-29T07:46:21.773000Z\", \"y0\": 0.8, \"y1\": 1.2, \"opacity\": 1, \"yref\": \"y\"}, {\"line\": {\"width\": 0}, \"xref\": \"x\", \"type\": \"rect\", \"fillcolor\": \"rgb(127, 127, 127)\", \"x1\": \"2019-05-29T07:47:33.218000Z\", \"x0\": \"2019-05-29T07:40:21.737000Z\", \"y0\": 19.8, \"y1\": 20.2, \"opacity\": 1, \"yref\": \"y\"}, {\"line\": {\"width\": 0}, \"xref\": \"x\", \"type\": \"rect\", \"fillcolor\": \"rgb(188, 189, 34)\", \"x1\": \"2019-05-29T07:47:42.972000Z\", \"x0\": \"2019-05-29T07:40:21.729000Z\", \"y0\": 17.8, \"y1\": 18.2, \"opacity\": 1, \"yref\": \"y\"}, {\"line\": {\"width\": 0}, \"xref\": \"x\", \"type\": \"rect\", \"fillcolor\": \"rgb(23, 190, 207)\", \"x1\": \"2019-05-29T07:46:36.618000Z\", \"x0\": \"2019-05-29T07:39:22.390000Z\", \"y0\": 18.8, \"y1\": 19.2, \"opacity\": 1, \"yref\": \"y\"}, {\"line\": {\"width\": 0}, \"xref\": \"x\", \"type\": \"rect\", \"fillcolor\": \"rgb(31, 119, 180)\", \"x1\": \"2019-05-29T07:38:07.312000Z\", \"x0\": \"2019-05-29T07:30:51.865000Z\", \"y0\": 20.8, \"y1\": 21.2, \"opacity\": 1, \"yref\": \"y\"}, {\"line\": {\"width\": 0}, \"xref\": \"x\", \"type\": \"rect\", \"fillcolor\": \"rgb(255, 127, 14)\", \"x1\": \"2019-05-29T07:22:55.534000Z\", \"x0\": \"2019-05-29T07:15:42.528000Z\", \"y0\": 20.8, \"y1\": 21.2, \"opacity\": 1, \"yref\": \"y\"}, {\"line\": {\"width\": 0}, \"xref\": \"x\", \"type\": \"rect\", \"fillcolor\": \"rgb(44, 160, 44)\", \"x1\": \"2019-05-29T07:18:00.351000Z\", \"x0\": \"2019-05-29T07:10:12.732000Z\", \"y0\": 17.8, \"y1\": 18.2, \"opacity\": 1, \"yref\": \"y\"}, {\"line\": {\"width\": 0}, \"xref\": \"x\", \"type\": \"rect\", \"fillcolor\": \"rgb(214, 39, 40)\", \"x1\": \"2019-05-29T07:17:19.672000Z\", \"x0\": \"2019-05-29T07:10:12.525000Z\", \"y0\": 19.8, \"y1\": 20.2, \"opacity\": 1, \"yref\": \"y\"}, {\"line\": {\"width\": 0}, \"xref\": \"x\", \"type\": \"rect\", \"fillcolor\": \"rgb(148, 103, 189)\", \"x1\": \"2019-05-29T07:31:04.430000Z\", \"x0\": \"2019-05-29T07:00:53.896000Z\", \"y0\": 9.8, \"y1\": 10.2, \"opacity\": 1, \"yref\": \"y\"}, {\"line\": {\"width\": 0}, \"xref\": \"x\", \"type\": \"rect\", \"fillcolor\": \"rgb(140, 86, 75)\", \"x1\": \"2019-05-29T07:07:43.222000Z\", \"x0\": \"2019-05-29T07:00:25.820000Z\", \"y0\": 20.8, \"y1\": 21.2, \"opacity\": 1, \"yref\": \"y\"}, {\"line\": {\"width\": 0}, \"xref\": \"x\", \"type\": \"rect\", \"fillcolor\": \"rgb(227, 119, 194)\", \"x1\": \"2019-05-29T07:25:50.711000Z\", \"x0\": \"2019-05-29T07:00:23.896000Z\", \"y0\": 1.8, \"y1\": 2.2, \"opacity\": 1, \"yref\": \"y\"}, {\"line\": {\"width\": 0}, \"xref\": \"x\", \"type\": \"rect\", \"fillcolor\": \"rgb(127, 127, 127)\", \"x1\": \"2019-05-29T06:52:21.611000Z\", \"x0\": \"2019-05-29T06:45:09.580000Z\", \"y0\": 20.8, \"y1\": 21.2, \"opacity\": 1, \"yref\": \"y\"}, {\"line\": {\"width\": 0}, \"xref\": \"x\", \"type\": \"rect\", \"fillcolor\": \"rgb(188, 189, 34)\", \"x1\": \"2019-05-29T07:02:31.129000Z\", \"x0\": \"2019-05-29T06:45:09.413000Z\", \"y0\": 6.8, \"y1\": 7.2, \"opacity\": 1, \"yref\": \"y\"}, {\"line\": {\"width\": 0}, \"xref\": \"x\", \"type\": \"rect\", \"fillcolor\": \"rgb(23, 190, 207)\", \"x1\": \"2019-05-29T06:49:39.981000Z\", \"x0\": \"2019-05-29T06:42:39.042000Z\", \"y0\": 5.8, \"y1\": 6.2, \"opacity\": 1, \"yref\": \"y\"}, {\"line\": {\"width\": 0}, \"xref\": \"x\", \"type\": \"rect\", \"fillcolor\": \"rgb(31, 119, 180)\", \"x1\": \"2019-05-29T06:47:25.035000Z\", \"x0\": \"2019-05-29T06:40:09.510000Z\", \"y0\": 19.8, \"y1\": 20.2, \"opacity\": 1, \"yref\": \"y\"}, {\"line\": {\"width\": 0}, \"xref\": \"x\", \"type\": \"rect\", \"fillcolor\": \"rgb(255, 127, 14)\", \"x1\": \"2019-05-29T06:47:43.988000Z\", \"x0\": \"2019-05-29T06:40:09.502000Z\", \"y0\": 17.8, \"y1\": 18.2, \"opacity\": 1, \"yref\": \"y\"}, {\"line\": {\"width\": 0}, \"xref\": \"x\", \"type\": \"rect\", \"fillcolor\": \"rgb(44, 160, 44)\", \"x1\": \"2019-05-29T06:46:07.144000Z\", \"x0\": \"2019-05-29T06:39:09.251000Z\", \"y0\": 18.8, \"y1\": 19.2, \"opacity\": 1, \"yref\": \"y\"}, {\"line\": {\"width\": 0}, \"xref\": \"x\", \"type\": \"rect\", \"fillcolor\": \"rgb(214, 39, 40)\", \"x1\": \"2019-05-29T06:36:48.528000Z\", \"x0\": \"2019-05-29T06:29:39.489000Z\", \"y0\": 20.8, \"y1\": 21.2, \"opacity\": 1, \"yref\": \"y\"}, {\"line\": {\"width\": 0}, \"xref\": \"x\", \"type\": \"rect\", \"fillcolor\": \"rgb(148, 103, 189)\", \"x1\": \"2019-05-29T06:21:38.634000Z\", \"x0\": \"2019-05-29T06:14:09.073000Z\", \"y0\": 20.8, \"y1\": 21.2, \"opacity\": 1, \"yref\": \"y\"}, {\"line\": {\"width\": 0}, \"xref\": \"x\", \"type\": \"rect\", \"fillcolor\": \"rgb(140, 86, 75)\", \"x1\": \"2019-05-29T06:17:29.622000Z\", \"x0\": \"2019-05-29T06:10:09.196000Z\", \"y0\": 17.8, \"y1\": 18.2, \"opacity\": 1, \"yref\": \"y\"}, {\"line\": {\"width\": 0}, \"xref\": \"x\", \"type\": \"rect\", \"fillcolor\": \"rgb(227, 119, 194)\", \"x1\": \"2019-05-29T06:16:54.762000Z\", \"x0\": \"2019-05-29T06:09:39.301000Z\", \"y0\": 19.8, \"y1\": 20.2, \"opacity\": 1, \"yref\": \"y\"}, {\"line\": {\"width\": 0}, \"xref\": \"x\", \"type\": \"rect\", \"fillcolor\": \"rgb(127, 127, 127)\", \"x1\": \"2019-05-29T06:14:26.672000Z\", \"x0\": \"2019-05-29T06:01:10.253000Z\", \"y0\": 2.8, \"y1\": 3.2, \"opacity\": 1, \"yref\": \"y\"}, {\"line\": {\"width\": 0}, \"xref\": \"x\", \"type\": \"rect\", \"fillcolor\": \"rgb(188, 189, 34)\", \"x1\": \"2019-05-29T06:05:58.404000Z\", \"x0\": \"2019-05-29T05:58:39.017000Z\", \"y0\": 20.8, \"y1\": 21.2, \"opacity\": 1, \"yref\": \"y\"}, {\"line\": {\"width\": 0}, \"xref\": \"x\", \"type\": \"rect\", \"fillcolor\": \"rgb(23, 190, 207)\", \"x1\": \"2019-05-29T05:50:24.028000Z\", \"x0\": \"2019-05-29T05:43:09.344000Z\", \"y0\": 20.8, \"y1\": 21.2, \"opacity\": 1, \"yref\": \"y\"}, {\"line\": {\"width\": 0}, \"xref\": \"x\", \"type\": \"rect\", \"fillcolor\": \"rgb(31, 119, 180)\", \"x1\": \"2019-05-29T05:47:50.637000Z\", \"x0\": \"2019-05-29T05:40:09.336000Z\", \"y0\": 17.8, \"y1\": 18.2, \"opacity\": 1, \"yref\": \"y\"}, {\"line\": {\"width\": 0}, \"xref\": \"x\", \"type\": \"rect\", \"fillcolor\": \"rgb(255, 127, 14)\", \"x1\": \"2019-05-29T05:46:21.752000Z\", \"x0\": \"2019-05-29T05:39:09.358000Z\", \"y0\": 19.8, \"y1\": 20.2, \"opacity\": 1, \"yref\": \"y\"}, {\"line\": {\"width\": 0}, \"xref\": \"x\", \"type\": \"rect\", \"fillcolor\": \"rgb(44, 160, 44)\", \"x1\": \"2019-05-29T05:45:54.508000Z\", \"x0\": \"2019-05-29T05:38:39.321000Z\", \"y0\": 18.8, \"y1\": 19.2, \"opacity\": 1, \"yref\": \"y\"}, {\"line\": {\"width\": 0}, \"xref\": \"x\", \"type\": \"rect\", \"fillcolor\": \"rgb(214, 39, 40)\", \"x1\": \"2019-05-29T05:34:55.840000Z\", \"x0\": \"2019-05-29T05:27:39.180000Z\", \"y0\": 20.8, \"y1\": 21.2, \"opacity\": 1, \"yref\": \"y\"}, {\"line\": {\"width\": 0}, \"xref\": \"x\", \"type\": \"rect\", \"fillcolor\": \"rgb(148, 103, 189)\", \"x1\": \"2019-05-29T05:41:02.365000Z\", \"x0\": \"2019-05-29T05:23:39.167000Z\", \"y0\": 16.8, \"y1\": 17.2, \"opacity\": 1, \"yref\": \"y\"}, {\"line\": {\"width\": 0}, \"xref\": \"x\", \"type\": \"rect\", \"fillcolor\": \"rgb(140, 86, 75)\", \"x1\": \"2019-05-29T05:19:12.735000Z\", \"x0\": \"2019-05-29T05:12:08.847000Z\", \"y0\": 20.8, \"y1\": 21.2, \"opacity\": 1, \"yref\": \"y\"}, {\"line\": {\"width\": 0}, \"xref\": \"x\", \"type\": \"rect\", \"fillcolor\": \"rgb(227, 119, 194)\", \"x1\": \"2019-05-29T05:17:33.761000Z\", \"x0\": \"2019-05-29T05:10:08.993000Z\", \"y0\": 17.8, \"y1\": 18.2, \"opacity\": 1, \"yref\": \"y\"}, {\"line\": {\"width\": 0}, \"xref\": \"x\", \"type\": \"rect\", \"fillcolor\": \"rgb(127, 127, 127)\", \"x1\": \"2019-05-29T05:15:48.966000Z\", \"x0\": \"2019-05-29T05:08:39.224000Z\", \"y0\": 19.8, \"y1\": 20.2, \"opacity\": 1, \"yref\": \"y\"}, {\"line\": {\"width\": 0}, \"xref\": \"x\", \"type\": \"rect\", \"fillcolor\": \"rgb(188, 189, 34)\", \"x1\": \"2019-05-29T05:04:14.860000Z\", \"x0\": \"2019-05-29T04:56:52.598000Z\", \"y0\": 20.8, \"y1\": 21.2, \"opacity\": 1, \"yref\": \"y\"}, {\"line\": {\"width\": 0}, \"xref\": \"x\", \"type\": \"rect\", \"fillcolor\": \"rgb(23, 190, 207)\", \"x1\": \"2019-05-29T04:48:52.661000Z\", \"x0\": \"2019-05-29T04:41:45.253000Z\", \"y0\": 20.8, \"y1\": 21.2, \"opacity\": 1, \"yref\": \"y\"}, {\"line\": {\"width\": 0}, \"xref\": \"x\", \"type\": \"rect\", \"fillcolor\": \"rgb(31, 119, 180)\", \"x1\": \"2019-05-29T04:48:00.386000Z\", \"x0\": \"2019-05-29T04:40:15.853000Z\", \"y0\": 17.8, \"y1\": 18.2, \"opacity\": 1, \"yref\": \"y\"}, {\"line\": {\"width\": 0}, \"xref\": \"x\", \"type\": \"rect\", \"fillcolor\": \"rgb(255, 127, 14)\", \"x1\": \"2019-05-29T04:45:49.822000Z\", \"x0\": \"2019-05-29T04:38:16.311000Z\", \"y0\": 19.8, \"y1\": 20.2, \"opacity\": 1, \"yref\": \"y\"}, {\"line\": {\"width\": 0}, \"xref\": \"x\", \"type\": \"rect\", \"fillcolor\": \"rgb(44, 160, 44)\", \"x1\": \"2019-05-29T04:45:33.816000Z\", \"x0\": \"2019-05-29T04:38:15.360000Z\", \"y0\": 18.8, \"y1\": 19.2, \"opacity\": 1, \"yref\": \"y\"}, {\"line\": {\"width\": 0}, \"xref\": \"x\", \"type\": \"rect\", \"fillcolor\": \"rgb(214, 39, 40)\", \"x1\": \"2019-05-29T04:33:24.116000Z\", \"x0\": \"2019-05-29T04:26:15.179000Z\", \"y0\": 20.8, \"y1\": 21.2, \"opacity\": 1, \"yref\": \"y\"}, {\"line\": {\"width\": 0}, \"xref\": \"x\", \"type\": \"rect\", \"fillcolor\": \"rgb(148, 103, 189)\", \"x1\": \"2019-05-29T04:17:49.081000Z\", \"x0\": \"2019-05-29T04:10:45.150000Z\", \"y0\": 20.8, \"y1\": 21.2, \"opacity\": 1, \"yref\": \"y\"}, {\"line\": {\"width\": 0}, \"xref\": \"x\", \"type\": \"rect\", \"fillcolor\": \"rgb(140, 86, 75)\", \"x1\": \"2019-05-29T04:17:42.699000Z\", \"x0\": \"2019-05-29T04:10:15.139000Z\", \"y0\": 17.8, \"y1\": 18.2, \"opacity\": 1, \"yref\": \"y\"}, {\"line\": {\"width\": 0}, \"xref\": \"x\", \"type\": \"rect\", \"fillcolor\": \"rgb(227, 119, 194)\", \"x1\": \"2019-05-29T04:14:54.145000Z\", \"x0\": \"2019-05-29T04:07:45.163000Z\", \"y0\": 19.8, \"y1\": 20.2, \"opacity\": 1, \"yref\": \"y\"}, {\"line\": {\"width\": 0}, \"xref\": \"x\", \"type\": \"rect\", \"fillcolor\": \"rgb(127, 127, 127)\", \"x1\": \"2019-05-29T04:02:29.237000Z\", \"x0\": \"2019-05-29T03:55:15.426000Z\", \"y0\": 20.8, \"y1\": 21.2, \"opacity\": 1, \"yref\": \"y\"}, {\"line\": {\"width\": 0}, \"xref\": \"x\", \"type\": \"rect\", \"fillcolor\": \"rgb(188, 189, 34)\", \"x1\": \"2019-05-29T04:14:43.433000Z\", \"x0\": \"2019-05-29T03:54:15.058000Z\", \"y0\": 7.8, \"y1\": 8.2, \"opacity\": 1, \"yref\": \"y\"}, {\"line\": {\"width\": 0}, \"xref\": \"x\", \"type\": \"rect\", \"fillcolor\": \"rgb(23, 190, 207)\", \"x1\": \"2019-05-29T04:03:47.678000Z\", \"x0\": \"2019-05-29T03:44:47.539000Z\", \"y0\": 6.8, \"y1\": 7.2, \"opacity\": 1, \"yref\": \"y\"}, {\"line\": {\"width\": 0}, \"xref\": \"x\", \"type\": \"rect\", \"fillcolor\": \"rgb(31, 119, 180)\", \"x1\": \"2019-05-29T03:49:38.492000Z\", \"x0\": \"2019-05-29T03:42:15.770000Z\", \"y0\": 5.8, \"y1\": 6.2, \"opacity\": 1, \"yref\": \"y\"}, {\"line\": {\"width\": 0}, \"xref\": \"x\", \"type\": \"rect\", \"fillcolor\": \"rgb(255, 127, 14)\", \"x1\": \"2019-05-29T03:48:21.007000Z\", \"x0\": \"2019-05-29T03:40:15.837000Z\", \"y0\": 17.8, \"y1\": 18.2, \"opacity\": 1, \"yref\": \"y\"}, {\"line\": {\"width\": 0}, \"xref\": \"x\", \"type\": \"rect\", \"fillcolor\": \"rgb(44, 160, 44)\", \"x1\": \"2019-05-29T03:47:02.949000Z\", \"x0\": \"2019-05-29T03:39:45.557000Z\", \"y0\": 20.8, \"y1\": 21.2, \"opacity\": 1, \"yref\": \"y\"}, {\"line\": {\"width\": 0}, \"xref\": \"x\", \"type\": \"rect\", \"fillcolor\": \"rgb(214, 39, 40)\", \"x1\": \"2019-05-29T03:45:04.341000Z\", \"x0\": \"2019-05-29T03:37:45.354000Z\", \"y0\": 18.8, \"y1\": 19.2, \"opacity\": 1, \"yref\": \"y\"}, {\"line\": {\"width\": 0}, \"xref\": \"x\", \"type\": \"rect\", \"fillcolor\": \"rgb(148, 103, 189)\", \"x1\": \"2019-05-29T03:44:16.312000Z\", \"x0\": \"2019-05-29T03:37:16.176000Z\", \"y0\": 19.8, \"y1\": 20.2, \"opacity\": 1, \"yref\": \"y\"}, {\"line\": {\"width\": 0}, \"xref\": \"x\", \"type\": \"rect\", \"fillcolor\": \"rgb(140, 86, 75)\", \"x1\": \"2019-05-29T03:31:47.325000Z\", \"x0\": \"2019-05-29T03:24:16.217000Z\", \"y0\": 20.8, \"y1\": 21.2, \"opacity\": 1, \"yref\": \"y\"}, {\"line\": {\"width\": 0}, \"xref\": \"x\", \"type\": \"rect\", \"fillcolor\": \"rgb(227, 119, 194)\", \"x1\": \"2019-05-29T03:15:56.941000Z\", \"x0\": \"2019-05-29T03:14:45.326000Z\", \"y0\": 4.8, \"y1\": 5.2, \"opacity\": 1, \"yref\": \"y\"}, {\"line\": {\"width\": 0}, \"xref\": \"x\", \"type\": \"rect\", \"fillcolor\": \"rgb(127, 127, 127)\", \"x1\": \"2019-05-29T03:17:51.825000Z\", \"x0\": \"2019-05-29T03:10:15.379000Z\", \"y0\": 17.8, \"y1\": 18.2, \"opacity\": 1, \"yref\": \"y\"}, {\"line\": {\"width\": 0}, \"xref\": \"x\", \"type\": \"rect\", \"fillcolor\": \"rgb(188, 189, 34)\", \"x1\": \"2019-05-29T03:15:56.852000Z\", \"x0\": \"2019-05-29T03:08:46.178000Z\", \"y0\": 20.8, \"y1\": 21.2, \"opacity\": 1, \"yref\": \"y\"}, {\"line\": {\"width\": 0}, \"xref\": \"x\", \"type\": \"rect\", \"fillcolor\": \"rgb(23, 190, 207)\", \"x1\": \"2019-05-29T03:13:52.442000Z\", \"x0\": \"2019-05-29T03:06:45.830000Z\", \"y0\": 19.8, \"y1\": 20.2, \"opacity\": 1, \"yref\": \"y\"}, {\"line\": {\"width\": 0}, \"xref\": \"x\", \"type\": \"rect\", \"fillcolor\": \"rgb(31, 119, 180)\", \"x1\": \"2019-05-29T03:37:35.841000Z\", \"x0\": \"2019-05-29T02:56:45.254000Z\", \"y0\": 16.8, \"y1\": 17.2, \"opacity\": 1, \"yref\": \"y\"}, {\"line\": {\"width\": 0}, \"xref\": \"x\", \"type\": \"rect\", \"fillcolor\": \"rgb(255, 127, 14)\", \"x1\": \"2019-05-29T03:00:34.876000Z\", \"x0\": \"2019-05-29T02:53:15.497000Z\", \"y0\": 20.8, \"y1\": 21.2, \"opacity\": 1, \"yref\": \"y\"}, {\"line\": {\"width\": 0}, \"xref\": \"x\", \"type\": \"rect\", \"fillcolor\": \"rgb(44, 160, 44)\", \"x1\": \"2019-05-29T02:47:58.782000Z\", \"x0\": \"2019-05-29T02:40:15.319000Z\", \"y0\": 17.8, \"y1\": 18.2, \"opacity\": 1, \"yref\": \"y\"}, {\"line\": {\"width\": 0}, \"xref\": \"x\", \"type\": \"rect\", \"fillcolor\": \"rgb(214, 39, 40)\", \"x1\": \"2019-05-29T02:45:03.490000Z\", \"x0\": \"2019-05-29T02:37:45.375000Z\", \"y0\": 20.8, \"y1\": 21.2, \"opacity\": 1, \"yref\": \"y\"}, {\"line\": {\"width\": 0}, \"xref\": \"x\", \"type\": \"rect\", \"fillcolor\": \"rgb(148, 103, 189)\", \"x1\": \"2019-05-29T02:44:34.689000Z\", \"x0\": \"2019-05-29T02:37:15.407000Z\", \"y0\": 18.8, \"y1\": 19.2, \"opacity\": 1, \"yref\": \"y\"}, {\"line\": {\"width\": 0}, \"xref\": \"x\", \"type\": \"rect\", \"fillcolor\": \"rgb(140, 86, 75)\", \"x1\": \"2019-05-29T02:43:19.610000Z\", \"x0\": \"2019-05-29T02:36:16.436000Z\", \"y0\": 19.8, \"y1\": 20.2, \"opacity\": 1, \"yref\": \"y\"}, {\"line\": {\"width\": 0}, \"xref\": \"x\", \"type\": \"rect\", \"fillcolor\": \"rgb(227, 119, 194)\", \"x1\": \"2019-05-29T03:00:28.026000Z\", \"x0\": \"2019-05-29T02:23:15.230000Z\", \"y0\": 16.8, \"y1\": 17.2, \"opacity\": 1, \"yref\": \"y\"}, {\"line\": {\"width\": 0}, \"xref\": \"x\", \"type\": \"rect\", \"fillcolor\": \"rgb(127, 127, 127)\", \"x1\": \"2019-05-29T02:29:18.992000Z\", \"x0\": \"2019-05-29T02:22:16.512000Z\", \"y0\": 20.8, \"y1\": 21.2, \"opacity\": 1, \"yref\": \"y\"}, {\"line\": {\"width\": 0}, \"xref\": \"x\", \"type\": \"rect\", \"fillcolor\": \"rgb(188, 189, 34)\", \"x1\": \"2019-05-29T02:17:55.993000Z\", \"x0\": \"2019-05-29T02:10:15.359000Z\", \"y0\": 17.8, \"y1\": 18.2, \"opacity\": 1, \"yref\": \"y\"}, {\"line\": {\"width\": 0}, \"xref\": \"x\", \"type\": \"rect\", \"fillcolor\": \"rgb(23, 190, 207)\", \"x1\": \"2019-05-29T02:14:02.057000Z\", \"x0\": \"2019-05-29T02:06:45.701000Z\", \"y0\": 20.8, \"y1\": 21.2, \"opacity\": 1, \"yref\": \"y\"}, {\"line\": {\"width\": 0}, \"xref\": \"x\", \"type\": \"rect\", \"fillcolor\": \"rgb(31, 119, 180)\", \"x1\": \"2019-05-29T02:13:05.904000Z\", \"x0\": \"2019-05-29T02:05:45.475000Z\", \"y0\": 19.8, \"y1\": 20.2, \"opacity\": 1, \"yref\": \"y\"}, {\"line\": {\"width\": 0}, \"xref\": \"x\", \"type\": \"rect\", \"fillcolor\": \"rgb(255, 127, 14)\", \"x1\": \"2019-05-29T02:29:31.879000Z\", \"x0\": \"2019-05-29T02:00:47.760000Z\", \"y0\": 9.8, \"y1\": 10.2, \"opacity\": 1, \"yref\": \"y\"}, {\"line\": {\"width\": 0}, \"xref\": \"x\", \"type\": \"rect\", \"fillcolor\": \"rgb(44, 160, 44)\", \"x1\": \"2019-05-29T01:58:35.847000Z\", \"x0\": \"2019-05-29T01:51:15.358000Z\", \"y0\": 20.8, \"y1\": 21.2, \"opacity\": 1, \"yref\": \"y\"}, {\"line\": {\"width\": 0}, \"xref\": \"x\", \"type\": \"rect\", \"fillcolor\": \"rgb(214, 39, 40)\", \"x1\": \"2019-05-29T01:47:53.988000Z\", \"x0\": \"2019-05-29T01:40:14.761000Z\", \"y0\": 17.8, \"y1\": 18.2, \"opacity\": 1, \"yref\": \"y\"}, {\"line\": {\"width\": 0}, \"xref\": \"x\", \"type\": \"rect\", \"fillcolor\": \"rgb(148, 103, 189)\", \"x1\": \"2019-05-29T01:43:44.295000Z\", \"x0\": \"2019-05-29T01:36:45.169000Z\", \"y0\": 18.8, \"y1\": 19.2, \"opacity\": 1, \"yref\": \"y\"}, {\"line\": {\"width\": 0}, \"xref\": \"x\", \"type\": \"rect\", \"fillcolor\": \"rgb(140, 86, 75)\", \"x1\": \"2019-05-29T01:43:14.010000Z\", \"x0\": \"2019-05-29T01:35:45.957000Z\", \"y0\": 20.8, \"y1\": 21.2, \"opacity\": 1, \"yref\": \"y\"}, {\"line\": {\"width\": 0}, \"xref\": \"x\", \"type\": \"rect\", \"fillcolor\": \"rgb(227, 119, 194)\", \"x1\": \"2019-05-29T01:42:27.634000Z\", \"x0\": \"2019-05-29T01:35:15.448000Z\", \"y0\": 19.8, \"y1\": 20.2, \"opacity\": 1, \"yref\": \"y\"}, {\"line\": {\"width\": 0}, \"xref\": \"x\", \"type\": \"rect\", \"fillcolor\": \"rgb(127, 127, 127)\", \"x1\": \"2019-05-29T01:27:28.555000Z\", \"x0\": \"2019-05-29T01:20:15.203000Z\", \"y0\": 20.8, \"y1\": 21.2, \"opacity\": 1, \"yref\": \"y\"}, {\"line\": {\"width\": 0}, \"xref\": \"x\", \"type\": \"rect\", \"fillcolor\": \"rgb(188, 189, 34)\", \"x1\": \"2019-05-29T01:17:38.485000Z\", \"x0\": \"2019-05-29T01:10:15.062000Z\", \"y0\": 17.8, \"y1\": 18.2, \"opacity\": 1, \"yref\": \"y\"}, {\"line\": {\"width\": 0}, \"xref\": \"x\", \"type\": \"rect\", \"fillcolor\": \"rgb(23, 190, 207)\", \"x1\": \"2019-05-29T01:12:02.840000Z\", \"x0\": \"2019-05-29T01:04:45.034000Z\", \"y0\": 19.8, \"y1\": 20.2, \"opacity\": 1, \"yref\": \"y\"}, {\"line\": {\"width\": 0}, \"xref\": \"x\", \"type\": \"rect\", \"fillcolor\": \"rgb(31, 119, 180)\", \"x1\": \"2019-05-29T01:11:56.304000Z\", \"x0\": \"2019-05-29T01:04:44.997000Z\", \"y0\": 20.8, \"y1\": 21.2, \"opacity\": 1, \"yref\": \"y\"}, {\"line\": {\"width\": 0}, \"xref\": \"x\", \"type\": \"rect\", \"fillcolor\": \"rgb(255, 127, 14)\", \"x1\": \"2019-05-29T01:07:59.931000Z\", \"x0\": \"2019-05-29T01:00:44.957000Z\", \"y0\": -0.2, \"y1\": 0.2, \"opacity\": 1, \"yref\": \"y\"}, {\"line\": {\"width\": 0}, \"xref\": \"x\", \"type\": \"rect\", \"fillcolor\": \"rgb(44, 160, 44)\", \"x1\": \"2019-05-29T01:19:36.219000Z\", \"x0\": \"2019-05-29T01:00:15.393000Z\", \"y0\": 1.8, \"y1\": 2.2, \"opacity\": 1, \"yref\": \"y\"}, {\"line\": {\"width\": 0}, \"xref\": \"x\", \"type\": \"rect\", \"fillcolor\": \"rgb(214, 39, 40)\", \"x1\": \"2019-05-29T00:56:52.323000Z\", \"x0\": \"2019-05-29T00:49:14.973000Z\", \"y0\": 20.8, \"y1\": 21.2, \"opacity\": 1, \"yref\": \"y\"}, {\"line\": {\"width\": 0}, \"xref\": \"x\", \"type\": \"rect\", \"fillcolor\": \"rgb(148, 103, 189)\", \"x1\": \"2019-05-29T01:03:15.558000Z\", \"x0\": \"2019-05-29T00:44:15.017000Z\", \"y0\": 6.8, \"y1\": 7.2, \"opacity\": 1, \"yref\": \"y\"}, {\"line\": {\"width\": 0}, \"xref\": \"x\", \"type\": \"rect\", \"fillcolor\": \"rgb(140, 86, 75)\", \"x1\": \"2019-05-29T00:54:41.796000Z\", \"x0\": \"2019-05-29T00:41:45.268000Z\", \"y0\": 5.8, \"y1\": 6.2, \"opacity\": 1, \"yref\": \"y\"}, {\"line\": {\"width\": 0}, \"xref\": \"x\", \"type\": \"rect\", \"fillcolor\": \"rgb(227, 119, 194)\", \"x1\": \"2019-05-29T00:47:49.491000Z\", \"x0\": \"2019-05-29T00:40:15.229000Z\", \"y0\": 17.8, \"y1\": 18.2, \"opacity\": 1, \"yref\": \"y\"}, {\"line\": {\"width\": 0}, \"xref\": \"x\", \"type\": \"rect\", \"fillcolor\": \"rgb(127, 127, 127)\", \"x1\": \"2019-05-29T00:43:26.235000Z\", \"x0\": \"2019-05-29T00:36:15.668000Z\", \"y0\": 18.8, \"y1\": 19.2, \"opacity\": 1, \"yref\": \"y\"}, {\"line\": {\"width\": 0}, \"xref\": \"x\", \"type\": \"rect\", \"fillcolor\": \"rgb(188, 189, 34)\", \"x1\": \"2019-05-29T00:41:25.467000Z\", \"x0\": \"2019-05-29T00:34:16.965000Z\", \"y0\": 19.8, \"y1\": 20.2, \"opacity\": 1, \"yref\": \"y\"}, {\"line\": {\"width\": 0}, \"xref\": \"x\", \"type\": \"rect\", \"fillcolor\": \"rgb(23, 190, 207)\", \"x1\": \"2019-05-29T00:41:06.582000Z\", \"x0\": \"2019-05-29T00:33:45.223000Z\", \"y0\": 20.8, \"y1\": 21.2, \"opacity\": 1, \"yref\": \"y\"}, {\"line\": {\"width\": 0}, \"xref\": \"x\", \"type\": \"rect\", \"fillcolor\": \"rgb(31, 119, 180)\", \"x1\": \"2019-05-29T00:25:41.309000Z\", \"x0\": \"2019-05-29T00:18:15.548000Z\", \"y0\": 20.8, \"y1\": 21.2, \"opacity\": 1, \"yref\": \"y\"}, {\"line\": {\"width\": 0}, \"xref\": \"x\", \"type\": \"rect\", \"fillcolor\": \"rgb(255, 127, 14)\", \"x1\": \"2019-05-29T00:17:55.589000Z\", \"x0\": \"2019-05-29T00:10:15.230000Z\", \"y0\": 17.8, \"y1\": 18.2, \"opacity\": 1, \"yref\": \"y\"}, {\"line\": {\"width\": 0}, \"xref\": \"x\", \"type\": \"rect\", \"fillcolor\": \"rgb(44, 160, 44)\", \"x1\": \"2019-05-29T00:11:35.638000Z\", \"x0\": \"2019-05-29T00:04:15.497000Z\", \"y0\": 19.8, \"y1\": 20.2, \"opacity\": 1, \"yref\": \"y\"}, {\"line\": {\"width\": 0}, \"xref\": \"x\", \"type\": \"rect\", \"fillcolor\": \"rgb(214, 39, 40)\", \"x1\": \"2019-05-29T00:10:36.859000Z\", \"x0\": \"2019-05-29T00:03:13.575000Z\", \"y0\": 20.8, \"y1\": 21.2, \"opacity\": 1, \"yref\": \"y\"}, {\"line\": {\"width\": 0}, \"xref\": \"x\", \"type\": \"rect\", \"fillcolor\": \"rgb(148, 103, 189)\", \"x1\": \"2019-05-29T00:10:50.299000Z\", \"x0\": \"2019-05-29T00:01:15.384000Z\", \"y0\": 2.8, \"y1\": 3.2, \"opacity\": 1, \"yref\": \"y\"}], \"xaxis\": {\"zeroline\": false, \"showgrid\": false, \"rangeselector\": {\"buttons\": [{\"label\": \"1w\", \"step\": \"day\", \"stepmode\": \"backward\", \"count\": 7}, {\"label\": \"1m\", \"step\": \"month\", \"stepmode\": \"backward\", \"count\": 1}, {\"label\": \"6m\", \"step\": \"month\", \"stepmode\": \"backward\", \"count\": 6}, {\"label\": \"YTD\", \"step\": \"year\", \"stepmode\": \"todate\", \"count\": 1}, {\"label\": \"1y\", \"step\": \"year\", \"stepmode\": \"backward\", \"count\": 1}, {\"step\": \"all\"}]}, \"type\": \"date\"}, \"title\": \"Gantt Chart\", \"height\": 600, \"hovermode\": \"closest\", \"yaxis\": {\"zeroline\": false, \"automargin\": true, \"range\": [-1, 23], \"tickvals\": [0, 1, 2, 3, 4, 5, 6, 7, 8, 9, 10, 11, 12, 13, 14, 15, 16, 17, 18, 19, 20, 21], \"autorange\": false, \"showgrid\": false, \"ticktext\": [\"archive-solomon-imports\", \"promo-events-from-st-to-yt\", \"crm-export-mql\", \"solomon-to-yt\", \"iam-to-yt\", \"crm-leads-to-dyn-table\", \"passport-uid-ba\", \"ba-to-ch\", \"funel-events-to-ch\", \"marketo-export-leads\", \"consumption-dashboard\", \"marketo-export-ya-fill-out-form\", \"marketo-export-ya-click-email\", \"marketo-export-ya-send-email\", \"marketo-export-ya-consumption-daily\", \"marketo-export-ya-open-email\", \"marketo-export-ya-visit-webpage\", \"consumption-daily-cumulative-to-ch\", \"crm-export-sales\", \"crm-suspended-accounts\", \"import-consulting-requests\", \"crm-export-consulting-requests\"]}}, {\"showLink\": true, \"linkText\": \"Export to plot.ly\"})});</script>"
      ]
     },
     "metadata": {},
     "output_type": "display_data"
    }
   ],
   "source": [
    "import plotly.offline as py\n",
    "import plotly.figure_factory as ff\n",
    "\n",
    "py.init_notebook_mode(connected=True)\n",
    "\n",
    "fig = ff.create_gantt(df, group_tasks=True)\n",
    "fig['layout']['yaxis'].update({'automargin': True})\n",
    "py.iplot(fig, filename='gantt-simple-gantt-chart')"
   ]
  },
  {
   "cell_type": "code",
   "execution_count": null,
   "metadata": {},
   "outputs": [],
   "source": []
  }
 ],
 "metadata": {
  "kernelspec": {
   "display_name": "Python 3.5",
   "language": "python",
   "name": "python3"
  },
  "language_info": {
   "codemirror_mode": {
    "name": "ipython",
    "version": 3
   },
   "file_extension": ".py",
   "mimetype": "text/x-python",
   "name": "python",
   "nbconvert_exporter": "python",
   "pygments_lexer": "ipython3",
   "version": "3.5.2"
  }
 },
 "nbformat": 4,
 "nbformat_minor": 2
}
